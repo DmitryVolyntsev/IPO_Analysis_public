{
 "cells": [
  {
   "cell_type": "code",
   "execution_count": 1,
   "metadata": {},
   "outputs": [],
   "source": [
    "import pandas as pd\n",
    "import requests\n",
    "from bs4 import BeautifulSoup\n",
    "from selenium import webdriver\n",
    "from time import sleep\n",
    "\n",
    "from selenium.webdriver.common.by import By\n",
    "from selenium.webdriver.support import expected_conditions as EC\n",
    "from selenium.webdriver.support.ui import WebDriverWait"
   ]
  },
  {
   "cell_type": "code",
   "execution_count": 2,
   "metadata": {},
   "outputs": [],
   "source": [
    "chromedriver = 'C:/Users/Barca/AppData/Local/chromedriver_win32/chromedriver.exe'"
   ]
  },
  {
   "cell_type": "code",
   "execution_count": 8,
   "metadata": {},
   "outputs": [
    {
     "name": "stderr",
     "output_type": "stream",
     "text": [
      "<ipython-input-8-aedcda8b1c5a>:3: DeprecationWarning: use options instead of chrome_options\n",
      "  browser = webdriver.Chrome(executable_path=chromedriver, chrome_options=options)\n"
     ]
    }
   ],
   "source": [
    "options = webdriver.ChromeOptions()\n",
    "#options.add_argument('headless')  #без отображения окна\n",
    "browser = webdriver.Chrome(executable_path=chromedriver, chrome_options=options)"
   ]
  },
  {
   "cell_type": "code",
   "execution_count": 4,
   "metadata": {},
   "outputs": [],
   "source": [
    "df = pd.read_excel('IPO.xlsx', sheet_name = 'company')\n",
    "mylist = df.values.flatten().tolist()\n",
    "s1_list = []\n",
    "pause = WebDriverWait(browser, 3)"
   ]
  },
  {
   "cell_type": "code",
   "execution_count": 5,
   "metadata": {},
   "outputs": [
    {
     "name": "stderr",
     "output_type": "stream",
     "text": [
      "<ipython-input-5-6012be08e13e>:22: DeprecationWarning: use driver.switch_to.window instead\n",
      "  browser.switch_to_window(browser.window_handles[0])\n"
     ]
    }
   ],
   "source": [
    "for value in mylist:\n",
    "    browser.get('https://www.sec.gov/edgar/search/#/dateRange=custom&category=custom&startdt=2017-06-06&enddt=2020-12-06&forms=F-1%252CS-1%252CS-11')\n",
    "    search = browser.find_element_by_id('search')\n",
    "    company = pause.until(EC.visibility_of_element_located((By.ID, \"entity-full-form\")))\n",
    "    company.send_keys(value)\n",
    "    \n",
    "    try:\n",
    "        confirm1 = pause.until(EC.visibility_of_element_located((By.XPATH, \"//table[@id='asdf']/tr\")))\n",
    "        confirm1.click()\n",
    "    except:\n",
    "        print(value, ' is not exist')\n",
    "        \n",
    "    search.click()\n",
    "    \n",
    "    try:\n",
    "        preview = pause.until(EC.visibility_of_element_located((By.XPATH, \"//div[@id='hits']/table/tbody/tr/td/a\")))\n",
    "        preview.click()\n",
    "        s1 = browser.find_element_by_id('open-file')\n",
    "        s1.click()\n",
    "        \n",
    "        browser.close()\n",
    "        browser.switch_to_window(browser.window_handles[0])\n",
    "        s1_url = browser.current_url\n",
    "        #s1_html = browser.page_source\n",
    "        s1_list.append(s1_url)\n",
    "    except:\n",
    "        s1_list.append('no S-1/S-11/F-1 was found')"
   ]
  },
  {
   "cell_type": "code",
   "execution_count": 6,
   "metadata": {},
   "outputs": [
    {
     "data": {
      "text/plain": [
       "['https://www.sec.gov/Archives/edgar/data/0001798100/000104746920004684/a2242306zs-11.htm',\n",
       " 'https://www.sec.gov/Archives/edgar/data/0001786248/000119312520192765/d923206ds11.htm',\n",
       " 'https://www.sec.gov/Archives/edgar/data/0001786117/000119312519294991/d793798ds11a.htm',\n",
       " 'https://www.sec.gov/Archives/edgar/data/0001759774/000121390020017329/fs112020_postalrealty.htm',\n",
       " 'https://www.sec.gov/Archives/edgar/data/0001654595/000110465920012085/tm206941d1_s11a.htm',\n",
       " 'https://www.sec.gov/Archives/edgar/data/0001728951/000119312519070821/d708598ds11.htm',\n",
       " 'https://www.sec.gov/Archives/edgar/data/0001705696/000119312518159401/d542153ds11.htm',\n",
       " 'no S-1/S-11/F-1 was found',\n",
       " 'https://www.sec.gov/Archives/edgar/data/0001455863/000119312518270894/d581012ds11.htm',\n",
       " 'https://www.sec.gov/Archives/edgar/data/0001717307/000110465918001676/a17-22444_9s11a.htm']"
      ]
     },
     "execution_count": 6,
     "metadata": {},
     "output_type": "execute_result"
    }
   ],
   "source": [
    "s1_list"
   ]
  },
  {
   "cell_type": "code",
   "execution_count": 7,
   "metadata": {},
   "outputs": [],
   "source": [
    "output = pd.DataFrame(s1_list)\n",
    "output.to_excel(\"output.xlsx\")"
   ]
  },
  {
   "cell_type": "markdown",
   "metadata": {},
   "source": [
    "Дальше пока не нужно"
   ]
  },
  {
   "cell_type": "code",
   "execution_count": 14,
   "metadata": {},
   "outputs": [],
   "source": [
    "request = requests.get(s1_url)\n",
    "text = request.text #s1_html"
   ]
  },
  {
   "cell_type": "code",
   "execution_count": 11,
   "metadata": {},
   "outputs": [
    {
     "data": {
      "text/plain": [
       "'<!-- single page response EDGAR full text search application using jQuery mobile and an API Gateway / ElasticSearch backend -->\\n<!DOCTYPE html>\\n<html>\\n<head lang=\"en\">\\n    <meta charset=\"UTF-8\">\\n    <meta http-equiv=\"X-UA-Compatible\" content=\"IE=11\">\\n    <meta name=\"viewport\" content=\"width=device-width, initial-scale=1\">\\n    \\n    <title>SEC.gov | EDGAR Full Text Search</title>\\n\\n    <!--CSS files-->\\n    <link  rel=\"stylesheet\" href=\"https://cdnjs.cloudflare.com/ajax/libs/font-awesome/5.12.0/css/all.min.css\" />\\n    <link  rel=\"stylesheet\" href=\"global/js/jquery-ui/jquery-ui.css\" type=\"text/css\" />\\n    <link  rel=\"stylesheet\" href=\"global/css/bootstrap/bootstrap.min.css\" type=\"text/css\" />\\n    <link  rel=\"stylesheet\" href=\"css/edgar_full_text_search.css\" />\\n    <link  rel=\"stylesheet\" href=\"css/efts_media_queries.css\" />\\n    <link  rel=\"stylesheet\" href=\"css/efts_filters.css\"  type=\"text/css\" />\\n    <!-- open source javascript libraries -->\\n    <script type=\"text/javascript\" src=\"global/js/jquery/jquery-3.3.1.min.js\"></script>\\n    <script type=\"text/javascript\" src=\"global/js/jquery-ui/jquery-ui.min.js\"></script>\\n    <script src=\"https://cdnjs.cloudflare.com/ajax/libs/popper.js/1.16.0/umd/popper.min.js\"></script>\\n    <script src=\"global/js/bootstrap/bootstrap.min.js\"></script>\\n\\n    <script type=\"text/javascript\" src=\"global/js/signals/signals.js\"></script>\\n    <script type=\"text/javascript\" src=\"global/js/hasher/hasher.min.js\"></script>\\n    <script src=\"js/edgar_full_text_search.js\"></script>\\n    <!-- Google Tag Manager -->\\n    <noscript><iframe src=\"//www.googletagmanager.com/ns.html?id=GTM-TD3BKV\"\\n                      height=\"0\" width=\"0\" style=\"display:none;visibility:hidden\"></iframe></noscript>\\n    <script type=\"text/javascript\">(function(w,d,s,l,i){w[l]=w[l]||[];w[l].push({\\'gtm.start\\':\\n            new Date().getTime(),event:\\'gtm.js\\'});var f=d.getElementsByTagName(s)[0],\\n        j=d.createElement(s),dl=l!=\\'dataLayer\\'?\\'&l=\\'+l:\\'\\';j.async=true;j.src=\\n        \\'//www.googletagmanager.com/gtm.js?id=\\'+i+dl;f.parentNode.insertBefore(j,f);\\n    })(window,document,\\'script\\',\\'dataLayer\\',\\'GTM-TD3BKV\\');\\n    </script>\\n    <!-- End Google Tag Manager -->\\n</head>\\n<body>\\n<div class=\"justify-content-center align-items-center searching-overlay\" style=\"display:none;\">\\n    <div class=\"spinner-border text-warning\"></div>\\n</div>\\n<div  id=\"search_form\" class=\"efstsearch-form\">\\n    <nav id=\"main-navbar\" class=\"navbar navbar-expand\">\\n        <ul class=\"navbar-nav\">\\n            <li class=\"nav-item\">\\n              <a class=\"nav__sec_link\" href=\"https://www.sec.gov\">\\n\\t\\t            <img src=\"images/edgar-logo-2x.png\" alt=\"\" style=\"height:6.25rem\"/>\\n              </a>\\n            </li>\\n            <li class=\"nav-item\">\\n              <a class=\"nav__sec_link\" href=\"https://www.sec.gov\">\\n\\t\\t            <span class=\"link-text d-inline\">SEC.gov</span>\\n              </a>\\n            </li>\\n            <li class=\"nav-item\">\\n                 <a class=\"nav__link\" href=\"#\" id=\"edgar-short-form\"><span class=\"link-text\">EDGAR</span></a>\\n            </li>\\n        </ul>\\n               \\n        <ul class=\"navbar-nav ml-auto\">\\n            <li class=\"nav-item\">\\n                <a href=\"./efts-faq.html\" class=\"nav__link\" target=\"_blank\" rel=\"noopener noreferrer\">FAQ</a>\\n            </li>\\n            <li class=\"nav-item\">\\n                <a href=\"https://www.sec.gov/edgar/search-and-access\" class=\"nav__link\">Other search tools</a>\\n            </li>\\n        </ul>\\n    </nav>\\n    <h2 class=\"hide-on-full-form container intro\">The new EDGAR advanced search gives you access to the full text of electronic filings since 2001.</h2>\\n\\n\\n    <div id=\"form-container\" class=\"container rounded-lg mb-4 pt-4\">\\n\\n        <form autocomplete=\"off\">\\n            <div class=\"form-group row mb-0\">\\n                <div class=\"col-sm-8\">\\n                    <label for=\"keywords\" class=\"d-none hide-on-short-form\">Document word or phrase</label><button type=\"button\" id=\"help-tips-search_text\" class=\"btn btn-primary btn-circle btn-sm d-none hide-on-short-form\" data-toggle=\"tooltip\" title=\"Search filings for a word or a list of words. A filing must contain all the words to return.  To search for an exact phrase, use double quote, like &quot;fiduciary product&quot;.\">?</button>\\n                    <input id=\"keywords\" type=\"text\" class=\"company form-control border-onfocus d-none hide-on-short-form text-black\" placeholder=\"Keywords to search for in filing documents\" autocomplete=\"off\">\\n                    <div class=\"show-on-validation-error\">\\n                      <span>&nbsp;</span>\\n\\t\\t\\t\\t\\t</div>\\n                    <label id=\"entity\" class=\"d-none hide-on-short-form\">Company name, ticker, CIK number or individual\\'s name</label>\\n                    <input type=\"text\" id=\"entity-full-form\" class=\"entity form-control border-onfocus text-black d-none hide-on-short-form\" placeholder=\"Company name, ticker, CIK number or individual\\'s name\" autocomplete=\"off\">\\n                    <input type=\"text\" id=\"entity-short-form\" class=\"entity form-control border-onfocus text-black hide-on-full-form\" placeholder=\"Search by keyword, ticker, company name, CIK number or individual\\'s name\" autocomplete=\"off\">\\n                    <span class=\"hide-on-full-form float-right pt-1 pb-0 mb-0\"><a href=\"#\" id=\"show-full-search-form\" class=\"text-white\">+ more search options</a></span>\\n                    <div class=\"rel-none container\">\\n                        <div class=\"entity-hints border border-dark border-top-0 rounded-bottom\">\\n                            <table id=\"asdf\" class=\"table table-hover entity-hints\"></table>\\n                        </div>\\n                    </div>\\n                   <div class=\"form-category-group hide-on-short-form d-none\">\\n                        <label for=\"category-select\">Filing category</label>\\n                        <span id=\"show-filing-types\" class=\"browse\" tabindex=\"0\" role=\"link\">Browse filing types</span>\\n                        <div class=\"btn-group form-dropdown-group\" id=\"category-type-grp\">\\n    \\t\\t\\t\\t\\t\\t<button type=\"button\" class=\"btn border-onfocus\" id=\"category-select\" data-toggle=\"dropdown\" data=\"all\" aria-expanded=\"false\">\\n                           \\t\\t <span value=\"all\">View all</span>\\n                                 <i class=\"fas fa-caret-down\"></i>\\n                            </button>                        \\n                        \\t<ul class=\"dropdown-menu\"></ul>\\n                        </div>\\n                    </div>\\n                    \\n                     <div class=\"forms-input-group hide-on-short-form\">\\n                        <label for=\"filing-types\">Filing types</label><span id=\"browse-filing-types\" class=\"forms-input-group browse\" tabindex=\"0\" role=\"link\">Browse filing types</span>\\n                        <div class=\"input-group mb-3\">\\n                            <input  id=\"filing-types\" type=\"text\" class=\"form-control border-onfocus text-black\" placeholder=\"\">\\n                            <div class=\"input-group-append\">\\n                                <button id=\"custom-forms-cancel\" class=\"btn btn-primary\" type=\"button\">cancel</button>\\n                            </div>\\n                        </div>\\n                    </div>\\n                </div>\\n                <div class=\"col-sm-4\">\\n                    <label for=\"date-range-select\" class=\"d-none hide-on-short-form\">Filed date range</label>\\n                    <select name=\"date-range-select\" id=\"date-range-select\" class=\"custom-select border-onfocus d-none hide-on-short-form text-black\" autocomplete=\"off\">\\n                        <option value=\"all\">All (since 2001)</option>\\n                        <option value=\"10y\">Last 10 years</option>\\n                        <option value=\"5y\" selected>Last 5 years</option>\\n                        <option value=\"1y\">Last year</option>\\n                        <option value=\"30d\">Last 30 days</option>\\n                        <option value=\"custom\">Custom</option>\\n                    </select>\\n                    \\n                    <div class=\"mt-2 d-none hide-on-short-form\">\\n                      <div id=\"date-validation-error\" class=\"alert alert-danger d-none\" role=\"alert\"><span><i class=\"fa fa-exclamation-triangle mr-1\"></i>Invalid Date</span></div>\\n\\t\\t\\t\\t\\t</div>\\n\\t\\t\\t\\t\\t\\n\\t\\t\\t\\t\\t<div class=\"row d-none hide-on-short-form filed-date-group\">\\n\\t\\t\\t\\t\\t   <div class=\"col-6\">\\n\\t\\t\\t\\t\\t       <label for=\"date-from\" class=\"hide-on-short-form\">Filed from</label>\\n\\t\\t\\t\\t\\t       <input type=\"text\" id=\"date-from\" class=\"form-control border-onfocus hide-on-short-form text-black\" autocomplete=\"off\">\\n\\t\\t\\t\\t\\t   </div>\\n\\t\\t\\t\\t\\t   <div class=\"col-6\">\\n\\t\\t\\t\\t\\t       <label for=\"date-to\" class=\"hide-on-short-form\">Filed to</label>\\n\\t\\t\\t\\t\\t       <input type=\"text\" id=\"date-to\" class=\"form-control border-onfocus hide-on-short-form text-black\" autocomplete=\"off\">\\n\\t\\t\\t\\t\\t   </div>\\t\\t\\t\\t\\t  \\n\\t\\t\\t\\t\\t</div>\\t\\t\\t\\t\\t  \\n\\t\\t\\t\\t\\t\\n                    <div class=\"btn-group d-none hide-on-short-form\">\\n                        <button type=\"button\" class=\"btn dropdown-toggle\" id=\"location-type\" data-toggle=\"dropdown\" data=\"located\">\\n                            Principal executive offices in\\n                        </button>\\n                        <div class=\"dropdown-menu\">\\n                            <a class=\"dropdown-item location-type-option\" href=\"#\" id=\"located\">Principal executive offices in</a>\\n                            <a class=\"dropdown-item location-type-option\" href=\"#\" id=\"incorporated\">Incorporated in</a>\\n                        </div>\\n                    </div>\\n                    <button type=\"button\" id=\"help-tips-state\" class=\"btn btn-primary btn-circle btn-sm d-none hide-on-short-form\" data-toggle=\"tooltip\" title=\"Search for the primary location associated with a filing.  The location could be a US state or territory, a Canadian province, or a country.\">?</button>\\n                    <div class=\"form-dropdown-group btn-group hide-on-short-form d-none mb-3\" id=\"location-grp\">\\n  \\t\\t\\t\\t\\t\\t<button type=\"button\" class=\"btn border-onfocus\" data-toggle=\"dropdown\" data=\"all\" aria-expanded=\"false\" aria-label=\"Location dropdown\">\\n                         \\t<span id=\"location-selected\" value=\"all\">View all</span>\\n                            <i class=\"fas fa-caret-down\"></i>\\n                        </button>                        \\n                      \\t<ul class=\"dropdown-menu\" role=\"listbox\"></ul>\\n                    </div>\\n                    \\n                    <div class=\"text-right\">\\n\\t                    <div class=\"hide-on-short-form d-none mt-2 mb-3 mr-2\"><a href=\"#\" id=\"show-short-search-form\" class=\"text-white\">- less search options</a></div>\\n\\t                    <div class=\"d-inline-block\">\\n\\t\\t                    <button type=\"submit\" id=\"search\" class=\"btn border-onfocus\">SEARCH</button>\\n\\t    \\t                <button type=\"reset\" id=\"clear\" class=\"btn btn-light\">Clear all</button>\\n\\t                    </div>\\n                    </div>\\n                </div>\\n            </div>\\n        </form>\\n    </div>\\n    <p class=\"hide-on-full-form container intro\">&nbsp;</p>\\n</div>\\n<div id=\"results\" class=\"container mw-100 pt-3 pb-3 p-lg-4 sr-only\">\\n    <div id=\"no-results-grid\" class=\"row mt-3 mb-4 sr-only\">\\n        <div class=\"col-sm-12\" role=\"alert\">\\n\\t    \\t<h4 class=\"text-center\"></h4>\\n\\t    </div>\\n\\t</div>\\n    <div id=\"results-grid\" class=\"row sr-only\">\\n        <div id=\"facets\" class=\"col-md-4 col-lg-3\">\\n           <div class=\"filters\">\\n\\t\\t\\t\\t<div class=\"filter-group\">\\n\\t\\t\\t\\t\\t<div id=\"entity_facet_filter\" class=\"entity-filter-group d-inline-block\">\\n\\t\\t\\t\\t\\t</div>\\n\\t\\t\\t\\t\\t<div id=\"location_facet_filter\" class=\"location-filter-group d-inline-block\">\\n\\t\\t\\t\\t\\t</div>\\n\\t\\t\\t\\t\\t<div id=\"formtype_facet_filter\" class=\"formtype-filter-group d-inline-block\">\\n\\t\\t\\t\\t\\t</div>\\n\\t\\t\\t\\t</div>\\n\\t\\t\\t</div>\\n            <h4  class=\"facets-header\">Refine search results by:</h4>\\n            <!--Accordion wrapper-->\\n            <div class=\"accordion md-accordion\" id=\"accordionEx\" role=\"tablist\" aria-multiselectable=\"true\">\\n                <!-- Accordion card -->\\n                <div id=\"entity_filter\" class=\"card facet\">\\n                    <!-- Card header -->\\n                    <div class=\"card-header\" role=\"tab\">\\n                        <a class=\"collapsed\" data-toggle=\"collapse\" data-parent=\"#accordionEx\" href=\"#collapseOne1\" aria-expanded=\"true\"\\n                           aria-controls=\"collapseOne1\">\\n                            <h5 class=\"mb-0\">\\n                                Entity <i class=\"fas fa-angle-up rotate-icon\"></i>\\n                            </h5>\\n                        </a>\\n                    </div>\\n\\n                    <!-- Card body -->\\n                    <div id=\"collapseOne1\" class=\"collapse\" role=\"tabpanel\" aria-labelledby=\"headingOne1\" data-parent=\"#accordionEx\">\\n                        <div class=\"card-body facets\"></div>\\n                    </div>\\n                </div>\\n\\n                <!-- Accordion card -->\\n                <div id=\"form_filter\" class=\"card facet\">\\n\\n                    <!-- Card header -->\\n                    <div class=\"card-header\" role=\"tab\" id=\"headingTwo2\">\\n                        <a class=\"collapsed\" data-toggle=\"collapse\" data-parent=\"#accordionEx\" href=\"#collapseTwo2\"\\n                           aria-expanded=\"false\" aria-controls=\"collapseTwo2\">\\n                            <h5 class=\"mb-0\">\\n                                Form <i class=\"fas fa-angle-up rotate-icon\"></i>\\n                            </h5>\\n                        </a>\\n                    </div>\\n\\n                    <!-- Card body -->\\n                    <div id=\"collapseTwo2\" class=\"collapse\" role=\"tabpanel\" aria-labelledby=\"headingTwo2\" data-parent=\"#accordionEx\">\\n                        <div class=\"card-body facets\"></div>\\n                    </div>\\n\\n                </div>\\n\\n                <!-- Accordion card -->\\n                <div id=\"inc_states_filter\" class=\"card facet\" data-location-type=\"incorporated\">\\n\\n                    <!-- Card header -->\\n                    <div class=\"card-header\" role=\"tab\" id=\"headingThree3\">\\n                        <a class=\"collapsed\" data-toggle=\"collapse\" data-parent=\"#accordionEx\" href=\"#collapseThree3\" aria-expanded=\"false\" aria-controls=\"collapseThree3\">\\n                            <h5 class=\"mb-0\">\\n                                Incorporated in <i class=\"fas fa-angle-up rotate-icon\"></i>\\n                            </h5>\\n                        </a>\\n                    </div>\\n\\n                    <!-- Card body -->\\n                    <div id=\"collapseThree3\" class=\"collapse\" role=\"tabpanel\" aria-labelledby=\"headingThree3\"\\n                         data-parent=\"#accordionEx\">\\n                        <div class=\"card-body facets\"></div>\\n                    </div>\\n\\n                </div>\\n                <!-- Accordion card -->\\n\\n\\n                <!-- Accordion card -->\\n                <div id=\"biz_states_filter\" class=\"card facet\" data-location-type=\"located\">\\n\\n                    <!-- Card header -->\\n                    <div class=\"card-header\" role=\"tab\" id=\"headingFour4\">\\n                        <a class=\"collapsed\" data-toggle=\"collapse\" data-parent=\"#accordionEx\" href=\"#collapseFour4\" aria-expanded=\"false\" aria-controls=\"collapseFour4\">\\n                            <h5 class=\"mb-0\">\\n                                Principal executive offices located in <i class=\"fas fa-angle-up rotate-icon\"></i>\\n                            </h5>\\n                        </a>\\n                    </div>\\n\\n                    <!-- Card body -->\\n                    <div id=\"collapseFour4\" class=\"collapse\" role=\"tabpanel\" aria-labelledby=\"headingFour4\"\\n                         data-parent=\"#accordionEx\">\\n                        <div class=\"card-body facets\"></div>\\n                    </div>\\n\\n                </div>\\n                <!-- Accordion card -->\\n\\n            </div>\\n            <!-- Accordion wrapper -->\\n            <div class=\"m-3\">\\n                <i>Click headings to show top filters.<br>\\n                    Document counts shown in <span class=\"badge badge-secondary\">#</span></i>\\n            </div>\\n        </div>\\n        <div id=\"hits\" class=\"col-md-8 col-lg-9\">\\n            <div id=\"show-result-count\" role=\"alert\" class=\"mb-4\">\\n            \\t<h5 style=\"font-weight:500\"></h5>\\n            </div>\\n            <div id=\"select-result-columns\" class=\"mb-3\">\\n                <fieldset>\\n                    <legend><h6 style=\"font-weight:bold\">Show Columns</h6></legend>\\n\\t                <div class=\"form-check form-check-inline show-columns-checkbox\">\\n\\t\\t\\t\\t\\t  <input class=\"form-check-input\" type=\"checkbox\" id=\"col-filed\" value=\"filed\">\\n\\t\\t\\t\\t\\t  <label class=\"form-check-label\" for=\"col-filed\">Filed</label>\\n\\t\\t\\t\\t    </div>\\n\\t\\t\\t\\t\\t<div class=\"form-check form-check-inline show-columns-checkbox\">\\n\\t\\t\\t\\t\\t  <input class=\"form-check-input\" type=\"checkbox\" id=\"col-enddate\" value=\"enddate\">\\n\\t\\t\\t\\t\\t  <label class=\"form-check-label\" for=\"col-enddate\">Reporting for</label>\\n\\t\\t\\t\\t\\t</div>\\n\\t\\t\\t\\t\\t<div class=\"form-check form-check-inline show-columns-checkbox\">\\n\\t\\t\\t\\t\\t  <input class=\"form-check-input\" type=\"checkbox\" id=\"col-cik\" value=\"cik\">\\n\\t\\t\\t\\t\\t  <label class=\"form-check-label\" for=\"col-cik\">CIK</label>\\n\\t\\t\\t\\t\\t</div>\\n\\t\\t\\t\\t\\t<div class=\"form-check form-check-inline show-columns-checkbox\">\\n\\t\\t\\t\\t\\t  <input class=\"form-check-input\" type=\"checkbox\" id=\"col-located\" value=\"located\">\\n\\t\\t\\t\\t\\t  <label class=\"form-check-label\" for=\"col-located\">Located</label>\\n\\t\\t\\t\\t\\t</div>\\n\\t\\t\\t\\t\\t<div class=\"form-check form-check-inline show-columns-checkbox\">\\n\\t\\t\\t\\t\\t  <input class=\"form-check-input\" type=\"checkbox\" id=\"col-incorporated\" value=\"incorporated\">\\n\\t\\t\\t\\t\\t  <label class=\"form-check-label\" for=\"col-incorporated\">Incorporated</label>\\n\\t\\t\\t\\t\\t</div>\\n\\t\\t\\t\\t\\t<div class=\"form-check form-check-inline show-columns-checkbox\">\\n\\t\\t\\t\\t\\t  <input class=\"form-check-input\" type=\"checkbox\" id=\"col-file-num\" value=\"file-num\">\\n\\t\\t\\t\\t\\t  <label class=\"form-check-label\" for=\"col-file-num\">File number</label>\\n\\t\\t\\t\\t\\t</div>\\n\\t\\t\\t\\t\\t<div class=\"form-check form-check-inline show-columns-checkbox\">\\n\\t\\t\\t\\t\\t  <input class=\"form-check-input\" type=\"checkbox\" id=\"col-film-num\" value=\"film-num\">\\n\\t\\t\\t\\t\\t  <label class=\"form-check-label\" for=\"col-film-num\">Film number</label>\\n\\t\\t\\t\\t\\t</div>\\n\\t\\t\\t\\t</fieldset>\\n            </div>\\n            <table class=\"table\">\\n                <thead>\\n                 <tr>\\n                    <th id=\"filetype\" class=\"filetype\">Form &amp; File</th>\\n                    <th class=\"filed\">Filed</th>\\n                    <th class=\"enddate\">Reporting for</th>\\n                    <th class=\"entity-name\">Filing entity/person</th>\\n                    <th class=\"cik\">CIK</th>\\n                    <th class=\"located\">Located</th>\\n                    <th class=\"incorporated\">Incorporated</th>\\n                    <th class=\"file-num\">File number</th>\\n                    <th class=\"film-num\">Film number</th>\\n                 </tr>\\n                </thead>\\n                <tbody>\\n                </tbody>\\n            </table>\\n            <nav id=\"results-pagination\" aria-label=\"Search Results Pagination\" class=\"mt-5 mb-1\">\\n       \\t       <ul class=\"pagination justify-content-center\">\\n       \\t          <li class=\"page-item disabled\"><a class=\"page-link\" data-value=\"previousPage\" href=\"#\">Previous page</a></li>\\n       \\t          <li class=\"page-item active\"><a class=\"page-link\" data-value=\"1\" href=\"#\" aria-label=\"Page 1 results\">1</a></li>\\n       \\t          <li class=\"page-item\"><a class=\"page-link\" data-value=\"2\" href=\"#\" aria-label=\"Page 2 results\">2</a></li>\\n       \\t          <li class=\"page-item\"><a class=\"page-link\" data-value=\"3\" href=\"#\" aria-label=\"Page 3 results\">3</a></li>\\n       \\t          <li class=\"page-item\"><a class=\"page-link\" data-value=\"4\" href=\"#\" aria-label=\"Page 4 results\">4</a></li>\\n       \\t          <li class=\"page-item\"><a class=\"page-link\" data-value=\"5\" href=\"#\" aria-label=\"Page 5 results\">5</a></li>\\n       \\t          <li class=\"page-item\"><a class=\"page-link\" data-value=\"6\" href=\"#\" aria-label=\"Page 6 results\">6</a></li>\\n       \\t          <li class=\"page-item\"><a class=\"page-link\" data-value=\"7\" href=\"#\" aria-label=\"Page 7 results\">7</a></li>\\n       \\t          <li class=\"page-item\"><a class=\"page-link\" data-value=\"8\" href=\"#\" aria-label=\"Page 8 results\">8</a></li>\\n       \\t          <li class=\"page-item\"><a class=\"page-link\" data-value=\"9\" href=\"#\" aria-label=\"Page 9 results\">9</a></li>\\n       \\t          <li class=\"page-item\"><a class=\"page-link\" data-value=\"10\" href=\"#\" aria-label=\"Page 10 results\">10</a></li>\\n       \\t          <li class=\"page-item\"><a class=\"page-link\" data-value=\"nextPage\" href=\"#\">Next page</a></li>\\n       \\t       </ul>\\n            </nav>\\n        </div>\\n    </div>\\n</div>\\n<footer class=\"py-4 w-100 navbar navbar-expand-sm float-bottom\">\\n    <div class=\"container-md\">\\n        <nav role=\"navigation\" aria-labelledby=\"block-secgov-footer-menu\" id=\"block-secgov-footer\">\\n            <ul id=\"section-menu\" class=\"menu mx-auto\">\\n                <li class=\"menu__item is-active is-leaf leaf item-accessibility\">\\n                    <a href=\"https://www.sec.gov/disability/sec_access.htm\" class=\"menu__link\" data-drupal-link-system-path=\"node/111766\">Accessibility</a>\\n                </li>\\n                <li class=\"menu__item is-active is-leaf leaf item-budget-&amp;-performance\">\\n                    <a href=\"https://www.sec.gov/about/offices/ofm/ofm-documents.htm\" class=\"menu__link\" data-drupal-link-system-path=\"node/111606\">Budget &amp; Performance</a>\\n                </li>\\n                <li class=\"menu__item is-active is-leaf leaf item-careers\">\\n                    <a href=\"https://www.sec.gov/careers\" class=\"menu__link\" data-drupal-link-system-path=\"node/41311\">Careers</a>\\n                </li>\\n                <li class=\"menu__item is-active is-leaf leaf item-contact\">\\n                    <a href=\"https://www.sec.gov/contact-information/sec-directory\" class=\"menu__link\" data-drupal-link-system-path=\"node/102846\">Contact</a>\\n                </li>\\n                <li class=\"menu__item is-active is-leaf leaf item-contracts\">\\n                    <a href=\"https://www.sec.gov/page/oacqsectionlanding\" class=\"menu__link\" data-drupal-link-system-path=\"node/3841\">Contracts</a>\\n                </li>\\n                <li class=\"menu__item is-active is-leaf leaf item-data\">\\n                    <a href=\"https://www.sec.gov/sec-data-resources\" class=\"menu__link\" data-drupal-link-system-path=\"node/191566\">Data</a>\\n                </li>\\n                <li class=\"menu__item is-active is-leaf leaf item-foia\">\\n                    <a href=\"https://www.sec.gov/page/office-foia-services\" class=\"menu__link\" data-drupal-link-system-path=\"node/41166\">FOIA</a>\\n                </li>\\n                <li class=\"menu__item is-active is-leaf leaf item-inspector-general\">\\n                    <a href=\"https://www.sec.gov/oig\" class=\"menu__link\" data-drupal-link-system-path=\"node/41456\">Inspector General</a>\\n                </li>\\n                <li class=\"menu__item is-active is-leaf leaf item-investor.gov\">\\n                    <a href=\"https://www.investor.gov/\" class=\"menu__link\">Investor.gov</a>\\n                </li>\\n                <li class=\"menu__item is-active is-leaf leaf item-no-fear-act-&amp;-eeo-data\">\\n                    <a href=\"https://www.sec.gov/page/eeosectionlanding\" class=\"menu__link\" data-drupal-link-system-path=\"node/3781\">No FEAR Act &amp; EEO Data</a>\\n                </li>\\n                <li class=\"menu__item is-active is-leaf leaf item-ombudsman\">\\n                    <a href=\"https://www.sec.gov/ombudsman\" class=\"menu__link\">Ombudsman</a>\\n                </li>\\n                <li class=\"menu__item is-active is-leaf leaf item-plain-writing\">\\n                    <a href=\"https://www.sec.gov/plainwriting.shtml\" class=\"menu__link\" data-drupal-link-system-path=\"node/111701\">Plain Writing</a>\\n                </li>\\n                <li class=\"menu__item is-active is-leaf leaf item-privacy\">\\n                    <a href=\"https://www.sec.gov/privacy.htm\" class=\"menu__link\" data-drupal-link-system-path=\"node/111706\">Privacy</a>\\n                </li>\\n                <li class=\"menu__item is-active is-leaf leaf item-related-sites\">\\n                     <a href=\"https://www.sec.gov/links\" class=\"menu__link\" data-drupal-link-system-path=\"node/100276\">Related Sites</a>\\n                </li>\\n                <li class=\"menu__item is-active is-leaf leaf item-site-map\">\\n                    <a href=\"https://www.sec.gov/sitemap.shtml\" class=\"menu__link\" data-drupal-link-system-path=\"node/111831\">Site Map</a>\\n                </li>\\n                <li class=\"menu__item is-active is-leaf leaf item-usa.gov\">\\n                    <a href=\"https://www.usa.gov/\" class=\"menu__link\">USA.gov</a>\\n                </li>\\n                <li class=\"menu__item is-active is-leaf leaf item-votes\">\\n                    <a href=\"https://www.sec.gov/about/commission-votes.shtml\" class=\"menu__link\" data-drupal-link-system-path=\"node/111231\">Votes</a>\\n                </li>               \\n                <li class=\"menu__item is-active is-leaf leaf item-vulnerability-disclosure-policy\">\\n                    <a href=\"https://www.sec.gov/vulnerability-disclosure-policy\" title=\"Vulnerability Disclosure Policy\" class=\"menu__link\">Vulnerability Disclosure Policy</a>\\n                </li>\\n                <li class=\"menu__item is-active is-leaf leaf item-whistleblower-protection\">\\n                    <a href=\"https://www.sec.gov/whistleblower\" class=\"menu__link\" data-drupal-link-system-path=\"node/99851\">Whistleblower Protection</a>\\n                </li>\\n            </ul>\\n        </nav>\\n    </div>\\n</footer>\\n<div class=\"modal\" id=\"previewer\" role=\"dialog\">\\n    <div class=\"modal-dialog\">\\n        <div class=\"modal-content mx-auto\">\\n\\n            <!-- Modal Header -->\\n            <div class=\"modal-header border border-0\">\\n                <h4 class=\"modal-title mx-auto\">\\n                    Finding <strong>users keywords</strong> in <span class=\"modal-file-name\">filename.html</span>\\n                    <span id=\"find-counter-wrapper\"><button type=\"button\" id=\"highlight-previous\" class=\"btn btn-primary btn-sm m-sm-1\">&#8249; Previous</button> <span class=\"find-counter\">1 of 1x2</span> <button type=\"button\" id=\"highlight-next\" class=\"btn btn-primary btn-sm m-sm-2\">Next &#8250;</button></span>\\n                </h4><button type=\"button\" class=\"close\" data-dismiss=\"modal\" aria-label=\"Close\">&times;</button>\\n            </div>\\n\\n            <!-- Modal body -->\\n            <div class=\"modal-body\">\\n               <div id=\"preview-status\" role=\"alert\"></div>               \\n               <div id=\"document\" style=\"width:100%;height:50vh\"></div>\\n            </div>\\n\\n            <!-- Modal footer -->\\n            <div class=\"modal-footer border border-0\">\\n                <a id=\"open-file\" target=\"_blank\"><button type=\"button\" class=\"btn btn-warning\">Open document</button></a>\\n                <a id=\"open-submission\" target=\"_blank\"><button type=\"button\" class=\"btn btn-warning\">Open filing</button></a>\\n                <button type=\"button\" class=\"btn btn-light btn-outline-dark\" data-dismiss=\"modal\">Close</button>\\n            </div>\\n\\n        </div>\\n    </div>\\n</div>\\n\\n<div class=\"modal\" id=\"forms-browser\" role=\"dialog\">\\n    <div class=\"modal-dialog  h-100 w-100\">\\n        <div class=\"modal-content h-75 w-75 mx-auto\">\\n\\n            <!-- Modal Header -->\\n            <div class=\"modal-header border border-0\">\\n                 <div>Check forms that you want to search. Use the category select to narrow the choices. </div>\\n                 <div class=\"btn-group pl-2\" id=\"category-filter-grp\" style=\"display:block\">\\n\\t\\t\\t\\t\\t\\t<button type=\"button\" class=\"btn border-onfocus\" id=\"category-filter-btn\" data-toggle=\"dropdown\" data=\"all\" aria-expanded=\"false\">\\n                       \\t\\t <span id=\"category-filter\" value=\"all\" class=\"pr-5\">View all</span>\\n                             <i class=\"fas fa-caret-down\"></i>\\n                        </button>                        \\n                    \\t<ul class=\"dropdown-menu\"></ul>\\n                 </div>                   \\n                <button type=\"button\" class=\"close\" data-dismiss=\"modal\" aria-label=\"Close\">&times;</button>\\n            </div>\\n\\n            <!-- Modal body -->\\n            <div class=\"modal-body\"></div>\\n\\n            <!-- Modal footer -->\\n\\t\\t\\t<div class=\"modal-footer border border-0\">\\n                <div class=\"custom-control custom-checkbox pr-3 pb-1\">\\n                    <input type=\"checkbox\" class=\"custom-control-input\" id=\"check_all_forms\">\\n                    <label class=\"custom-control-label\" for=\"check_all_forms\">check/uncheck all forms</label>\\n                </div>\\n                <button id=\"custom_forms_set\" type=\"button\" class=\"btn btn-warning\" data-dismiss=\"modal\">Filter</button>\\n                <button type=\"button\" class=\"btn btn-light btn-outline-primary cancel\" data-dismiss=\"modal\">Cancel</button>\\n            </div>\\n        </div>\\n    </div>\\n</div>\\n</body>\\n</html>'"
      ]
     },
     "execution_count": 11,
     "metadata": {},
     "output_type": "execute_result"
    }
   ],
   "source": [
    "soup = BeautifulSoup(s1_html) #text\n",
    "multiplicator_list = soup.find('div', {'class': 'profileFilmsList'})\n",
    "film_list"
   ]
  },
  {
   "cell_type": "code",
   "execution_count": 7,
   "metadata": {},
   "outputs": [],
   "source": [
    "with open('test.html', 'w') as output_file:\n",
    "    output_file.write(request.text)"
   ]
  }
 ],
 "metadata": {
  "kernelspec": {
   "display_name": "Python 3 (ipykernel)",
   "language": "python",
   "name": "python3"
  },
  "language_info": {
   "codemirror_mode": {
    "name": "ipython",
    "version": 3
   },
   "file_extension": ".py",
   "mimetype": "text/x-python",
   "name": "python",
   "nbconvert_exporter": "python",
   "pygments_lexer": "ipython3",
   "version": "3.9.13"
  }
 },
 "nbformat": 4,
 "nbformat_minor": 4
}
