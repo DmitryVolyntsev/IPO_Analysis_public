{
 "cells": [
  {
   "cell_type": "code",
   "execution_count": 1,
   "metadata": {},
   "outputs": [],
   "source": [
    "import numpy as np\n",
    "import pandas as pd\n",
    "import matplotlib.pyplot as plt\n",
    "import scipy.stats as st\n",
    "from scipy import interp\n",
    "\n",
    "import seaborn as sns\n",
    "from sklearn.model_selection import train_test_split, GridSearchCV\n",
    "from sklearn.feature_selection import SelectKBest, f_classif\n",
    "from sklearn.preprocessing import StandardScaler, label_binarize, LabelBinarizer\n",
    "from sklearn.metrics import r2_score, f1_score, accuracy_score, roc_auc_score, roc_curve, auc, precision_score, recall_score\n",
    "\n",
    "from sklearn.linear_model import SGDRegressor\n",
    "\n",
    "from sklearn.svm import SVR\n",
    "\n",
    "from sklearn.ensemble import GradientBoostingRegressor\n",
    "\n",
    "from lightgbm import LGBMRegressor\n",
    "\n",
    "import xgboost as xgb\n",
    "from xgboost import XGBRegressor\n",
    "\n",
    "import catboost as cb\n",
    "from catboost import CatBoostRegressor\n",
    "\n",
    "import warnings\n",
    "warnings.simplefilter(action='ignore', category=FutureWarning)\n",
    "pd.set_option('display.max_columns', None)\n",
    "pd.set_option('display.max_colwidth', None)\n",
    "pd.options.mode.chained_assignment = None"
   ]
  },
  {
   "cell_type": "markdown",
   "metadata": {},
   "source": [
    "Корректируем датасет:  \n",
    "1) корректировка используемого в модели значения капитализации и разницы логарифмов между раундами  \n",
    "2) исключение раундов \"без ответа\"  \n",
    "3) приведение дат к нужному формату"
   ]
  },
  {
   "cell_type": "code",
   "execution_count": 2,
   "metadata": {},
   "outputs": [],
   "source": [
    "nan = [np.nan]\n",
    "default_exit_value = 1 #\"капитализация\" мертвой компании в долларах"
   ]
  },
  {
   "cell_type": "code",
   "execution_count": 3,
   "metadata": {},
   "outputs": [
    {
     "data": {
      "text/html": [
       "<div>\n",
       "<style scoped>\n",
       "    .dataframe tbody tr th:only-of-type {\n",
       "        vertical-align: middle;\n",
       "    }\n",
       "\n",
       "    .dataframe tbody tr th {\n",
       "        vertical-align: top;\n",
       "    }\n",
       "\n",
       "    .dataframe thead th {\n",
       "        text-align: right;\n",
       "    }\n",
       "</style>\n",
       "<table border=\"1\" class=\"dataframe\">\n",
       "  <thead>\n",
       "    <tr style=\"text-align: right;\">\n",
       "      <th></th>\n",
       "      <th>funding_round_uuid</th>\n",
       "      <th>company_name</th>\n",
       "      <th>company_uuid</th>\n",
       "      <th>investment_type</th>\n",
       "      <th>announced_on</th>\n",
       "      <th>raised_amount_usd</th>\n",
       "      <th>post_money_valuation_usd</th>\n",
       "      <th>time_from_2009</th>\n",
       "      <th>time_from_start</th>\n",
       "      <th>time_from_previous</th>\n",
       "      <th>top_investor</th>\n",
       "      <th>other_investor</th>\n",
       "      <th>top_investor_count</th>\n",
       "      <th>other_investor_count</th>\n",
       "      <th>top_investor_sum</th>\n",
       "      <th>other_investor_sum</th>\n",
       "      <th>top_investor_rounds</th>\n",
       "      <th>other_investor_rounds</th>\n",
       "      <th>total_sum_raised</th>\n",
       "      <th>total_sum_raised_before</th>\n",
       "    </tr>\n",
       "  </thead>\n",
       "  <tbody>\n",
       "    <tr>\n",
       "      <th>18</th>\n",
       "      <td>e51334dc-6f05-4d37-98f0-27b6914c0564</td>\n",
       "      <td>HeartFlow</td>\n",
       "      <td>0074c110-5dd9-4af1-29a7-cecd2ae1b86c</td>\n",
       "      <td>series_e</td>\n",
       "      <td>2018-02-14</td>\n",
       "      <td>240000000.0</td>\n",
       "      <td>1.500000e+09</td>\n",
       "      <td>3331.0</td>\n",
       "      <td>2858.0</td>\n",
       "      <td>761.0</td>\n",
       "      <td>1.0</td>\n",
       "      <td>1.0</td>\n",
       "      <td>2.0</td>\n",
       "      <td>2.0</td>\n",
       "      <td>2.0</td>\n",
       "      <td>2.0</td>\n",
       "      <td>2.0</td>\n",
       "      <td>2.0</td>\n",
       "      <td>466646417.0</td>\n",
       "      <td>226646417.0</td>\n",
       "    </tr>\n",
       "    <tr>\n",
       "      <th>25</th>\n",
       "      <td>1df8734f-be0d-282d-e099-91be92e85554</td>\n",
       "      <td>Udacity</td>\n",
       "      <td>00d85dac-7a9d-ed45-7f53-1bcac9c7b6f9</td>\n",
       "      <td>series_d</td>\n",
       "      <td>2015-11-11</td>\n",
       "      <td>105000000.0</td>\n",
       "      <td>1.000000e+09</td>\n",
       "      <td>2505.0</td>\n",
       "      <td>1410.0</td>\n",
       "      <td>413.0</td>\n",
       "      <td>1.0</td>\n",
       "      <td>1.0</td>\n",
       "      <td>4.0</td>\n",
       "      <td>7.0</td>\n",
       "      <td>10.0</td>\n",
       "      <td>8.0</td>\n",
       "      <td>4.0</td>\n",
       "      <td>3.0</td>\n",
       "      <td>160000000.0</td>\n",
       "      <td>55000000.0</td>\n",
       "    </tr>\n",
       "    <tr>\n",
       "      <th>39</th>\n",
       "      <td>dc86e493-6cee-9eb3-e558-c66b91f527c3</td>\n",
       "      <td>Sentient Technologies</td>\n",
       "      <td>0104b004-f68f-b66d-1d6b-10e4ff8dec57</td>\n",
       "      <td>series_c</td>\n",
       "      <td>2014-11-24</td>\n",
       "      <td>103600000.0</td>\n",
       "      <td>7.001000e+08</td>\n",
       "      <td>2153.0</td>\n",
       "      <td>2104.0</td>\n",
       "      <td>278.0</td>\n",
       "      <td>1.0</td>\n",
       "      <td>1.0</td>\n",
       "      <td>1.0</td>\n",
       "      <td>11.0</td>\n",
       "      <td>2.0</td>\n",
       "      <td>12.0</td>\n",
       "      <td>2.0</td>\n",
       "      <td>4.0</td>\n",
       "      <td>145380450.0</td>\n",
       "      <td>41780450.0</td>\n",
       "    </tr>\n",
       "    <tr>\n",
       "      <th>40</th>\n",
       "      <td>01f5449f-0ea2-4d4e-bc49-1fe5aac9412f</td>\n",
       "      <td>Sentient Technologies</td>\n",
       "      <td>0104b004-f68f-b66d-1d6b-10e4ff8dec57</td>\n",
       "      <td>series_d</td>\n",
       "      <td>2017-06-30</td>\n",
       "      <td>29000000.0</td>\n",
       "      <td>1.450000e+08</td>\n",
       "      <td>3102.0</td>\n",
       "      <td>3053.0</td>\n",
       "      <td>949.0</td>\n",
       "      <td>0.0</td>\n",
       "      <td>1.0</td>\n",
       "      <td>1.0</td>\n",
       "      <td>11.0</td>\n",
       "      <td>2.0</td>\n",
       "      <td>12.0</td>\n",
       "      <td>2.0</td>\n",
       "      <td>4.0</td>\n",
       "      <td>174380450.0</td>\n",
       "      <td>145380450.0</td>\n",
       "    </tr>\n",
       "    <tr>\n",
       "      <th>70</th>\n",
       "      <td>d398249a-9fa1-55d3-1edb-bb1bb1873850</td>\n",
       "      <td>ALPHAEON Corporation</td>\n",
       "      <td>01816c87-1fcb-c823-75ab-c67735887aad</td>\n",
       "      <td>series_a</td>\n",
       "      <td>2015-01-16</td>\n",
       "      <td>27000015.0</td>\n",
       "      <td>5.270000e+08</td>\n",
       "      <td>2206.0</td>\n",
       "      <td>4.0</td>\n",
       "      <td>4.0</td>\n",
       "      <td>1.0</td>\n",
       "      <td>0.0</td>\n",
       "      <td>1.0</td>\n",
       "      <td>3.0</td>\n",
       "      <td>3.0</td>\n",
       "      <td>3.0</td>\n",
       "      <td>3.0</td>\n",
       "      <td>1.0</td>\n",
       "      <td>27000015.0</td>\n",
       "      <td>0.0</td>\n",
       "    </tr>\n",
       "    <tr>\n",
       "      <th>...</th>\n",
       "      <td>...</td>\n",
       "      <td>...</td>\n",
       "      <td>...</td>\n",
       "      <td>...</td>\n",
       "      <td>...</td>\n",
       "      <td>...</td>\n",
       "      <td>...</td>\n",
       "      <td>...</td>\n",
       "      <td>...</td>\n",
       "      <td>...</td>\n",
       "      <td>...</td>\n",
       "      <td>...</td>\n",
       "      <td>...</td>\n",
       "      <td>...</td>\n",
       "      <td>...</td>\n",
       "      <td>...</td>\n",
       "      <td>...</td>\n",
       "      <td>...</td>\n",
       "      <td>...</td>\n",
       "      <td>...</td>\n",
       "    </tr>\n",
       "    <tr>\n",
       "      <th>15284</th>\n",
       "      <td>8e0b0271-f9f7-12dd-af98-e3dab9c782eb</td>\n",
       "      <td>Essential</td>\n",
       "      <td>fe04b327-09e6-1a5c-6d11-aa40fa54367c</td>\n",
       "      <td>series_b</td>\n",
       "      <td>2017-06-07</td>\n",
       "      <td>300000000.0</td>\n",
       "      <td>9.930000e+08</td>\n",
       "      <td>3079.0</td>\n",
       "      <td>482.0</td>\n",
       "      <td>482.0</td>\n",
       "      <td>1.0</td>\n",
       "      <td>1.0</td>\n",
       "      <td>2.0</td>\n",
       "      <td>5.0</td>\n",
       "      <td>3.0</td>\n",
       "      <td>5.0</td>\n",
       "      <td>2.0</td>\n",
       "      <td>2.0</td>\n",
       "      <td>330000000.0</td>\n",
       "      <td>30000000.0</td>\n",
       "    </tr>\n",
       "    <tr>\n",
       "      <th>15349</th>\n",
       "      <td>f619ba6f-6451-5184-98a4-bf17cabe49e7</td>\n",
       "      <td>Lendio</td>\n",
       "      <td>ff766527-8bc1-a5c1-c89d-a4595cb5f147</td>\n",
       "      <td>series_c</td>\n",
       "      <td>2015-03-24</td>\n",
       "      <td>22000000.0</td>\n",
       "      <td>5.200000e+07</td>\n",
       "      <td>2273.0</td>\n",
       "      <td>1496.0</td>\n",
       "      <td>573.0</td>\n",
       "      <td>1.0</td>\n",
       "      <td>1.0</td>\n",
       "      <td>6.0</td>\n",
       "      <td>5.0</td>\n",
       "      <td>13.0</td>\n",
       "      <td>8.0</td>\n",
       "      <td>4.0</td>\n",
       "      <td>4.0</td>\n",
       "      <td>32500000.0</td>\n",
       "      <td>10500000.0</td>\n",
       "    </tr>\n",
       "    <tr>\n",
       "      <th>15350</th>\n",
       "      <td>39a988f6-cb5b-09d9-78a7-a7b100bff06a</td>\n",
       "      <td>Lendio</td>\n",
       "      <td>ff766527-8bc1-a5c1-c89d-a4595cb5f147</td>\n",
       "      <td>series_d</td>\n",
       "      <td>2016-10-25</td>\n",
       "      <td>19000000.0</td>\n",
       "      <td>9.400000e+07</td>\n",
       "      <td>2854.0</td>\n",
       "      <td>2077.0</td>\n",
       "      <td>581.0</td>\n",
       "      <td>1.0</td>\n",
       "      <td>1.0</td>\n",
       "      <td>6.0</td>\n",
       "      <td>5.0</td>\n",
       "      <td>13.0</td>\n",
       "      <td>8.0</td>\n",
       "      <td>4.0</td>\n",
       "      <td>4.0</td>\n",
       "      <td>51500000.0</td>\n",
       "      <td>32500000.0</td>\n",
       "    </tr>\n",
       "    <tr>\n",
       "      <th>15362</th>\n",
       "      <td>db46bd0b-baad-408d-adbc-e4511feebaf9</td>\n",
       "      <td>LimeBike</td>\n",
       "      <td>ff9936d8-4d83-cb80-0196-809aa51a0e41</td>\n",
       "      <td>series_b</td>\n",
       "      <td>2017-10-16</td>\n",
       "      <td>50000000.0</td>\n",
       "      <td>2.250000e+08</td>\n",
       "      <td>3210.0</td>\n",
       "      <td>215.0</td>\n",
       "      <td>215.0</td>\n",
       "      <td>1.0</td>\n",
       "      <td>1.0</td>\n",
       "      <td>6.0</td>\n",
       "      <td>13.0</td>\n",
       "      <td>8.0</td>\n",
       "      <td>13.0</td>\n",
       "      <td>3.0</td>\n",
       "      <td>4.0</td>\n",
       "      <td>62000000.0</td>\n",
       "      <td>12000000.0</td>\n",
       "    </tr>\n",
       "    <tr>\n",
       "      <th>15386</th>\n",
       "      <td>7f4529b2-3b4c-7275-82ca-3c436e4b2c1e</td>\n",
       "      <td>Checkr</td>\n",
       "      <td>ffe232c5-fcf4-e08e-b43d-c7dd1d5fc32c</td>\n",
       "      <td>series_b</td>\n",
       "      <td>2016-03-23</td>\n",
       "      <td>40000000.0</td>\n",
       "      <td>2.900000e+08</td>\n",
       "      <td>2638.0</td>\n",
       "      <td>616.0</td>\n",
       "      <td>526.0</td>\n",
       "      <td>1.0</td>\n",
       "      <td>1.0</td>\n",
       "      <td>13.0</td>\n",
       "      <td>11.0</td>\n",
       "      <td>20.0</td>\n",
       "      <td>11.0</td>\n",
       "      <td>4.0</td>\n",
       "      <td>3.0</td>\n",
       "      <td>49000000.0</td>\n",
       "      <td>9000000.0</td>\n",
       "    </tr>\n",
       "  </tbody>\n",
       "</table>\n",
       "<p>717 rows × 20 columns</p>\n",
       "</div>"
      ],
      "text/plain": [
       "                         funding_round_uuid           company_name  \\\n",
       "18     e51334dc-6f05-4d37-98f0-27b6914c0564              HeartFlow   \n",
       "25     1df8734f-be0d-282d-e099-91be92e85554                Udacity   \n",
       "39     dc86e493-6cee-9eb3-e558-c66b91f527c3  Sentient Technologies   \n",
       "40     01f5449f-0ea2-4d4e-bc49-1fe5aac9412f  Sentient Technologies   \n",
       "70     d398249a-9fa1-55d3-1edb-bb1bb1873850   ALPHAEON Corporation   \n",
       "...                                     ...                    ...   \n",
       "15284  8e0b0271-f9f7-12dd-af98-e3dab9c782eb              Essential   \n",
       "15349  f619ba6f-6451-5184-98a4-bf17cabe49e7                 Lendio   \n",
       "15350  39a988f6-cb5b-09d9-78a7-a7b100bff06a                 Lendio   \n",
       "15362  db46bd0b-baad-408d-adbc-e4511feebaf9               LimeBike   \n",
       "15386  7f4529b2-3b4c-7275-82ca-3c436e4b2c1e                 Checkr   \n",
       "\n",
       "                               company_uuid investment_type announced_on  \\\n",
       "18     0074c110-5dd9-4af1-29a7-cecd2ae1b86c        series_e   2018-02-14   \n",
       "25     00d85dac-7a9d-ed45-7f53-1bcac9c7b6f9        series_d   2015-11-11   \n",
       "39     0104b004-f68f-b66d-1d6b-10e4ff8dec57        series_c   2014-11-24   \n",
       "40     0104b004-f68f-b66d-1d6b-10e4ff8dec57        series_d   2017-06-30   \n",
       "70     01816c87-1fcb-c823-75ab-c67735887aad        series_a   2015-01-16   \n",
       "...                                     ...             ...          ...   \n",
       "15284  fe04b327-09e6-1a5c-6d11-aa40fa54367c        series_b   2017-06-07   \n",
       "15349  ff766527-8bc1-a5c1-c89d-a4595cb5f147        series_c   2015-03-24   \n",
       "15350  ff766527-8bc1-a5c1-c89d-a4595cb5f147        series_d   2016-10-25   \n",
       "15362  ff9936d8-4d83-cb80-0196-809aa51a0e41        series_b   2017-10-16   \n",
       "15386  ffe232c5-fcf4-e08e-b43d-c7dd1d5fc32c        series_b   2016-03-23   \n",
       "\n",
       "       raised_amount_usd  post_money_valuation_usd  time_from_2009  \\\n",
       "18           240000000.0              1.500000e+09          3331.0   \n",
       "25           105000000.0              1.000000e+09          2505.0   \n",
       "39           103600000.0              7.001000e+08          2153.0   \n",
       "40            29000000.0              1.450000e+08          3102.0   \n",
       "70            27000015.0              5.270000e+08          2206.0   \n",
       "...                  ...                       ...             ...   \n",
       "15284        300000000.0              9.930000e+08          3079.0   \n",
       "15349         22000000.0              5.200000e+07          2273.0   \n",
       "15350         19000000.0              9.400000e+07          2854.0   \n",
       "15362         50000000.0              2.250000e+08          3210.0   \n",
       "15386         40000000.0              2.900000e+08          2638.0   \n",
       "\n",
       "       time_from_start  time_from_previous  top_investor  other_investor  \\\n",
       "18              2858.0               761.0           1.0             1.0   \n",
       "25              1410.0               413.0           1.0             1.0   \n",
       "39              2104.0               278.0           1.0             1.0   \n",
       "40              3053.0               949.0           0.0             1.0   \n",
       "70                 4.0                 4.0           1.0             0.0   \n",
       "...                ...                 ...           ...             ...   \n",
       "15284            482.0               482.0           1.0             1.0   \n",
       "15349           1496.0               573.0           1.0             1.0   \n",
       "15350           2077.0               581.0           1.0             1.0   \n",
       "15362            215.0               215.0           1.0             1.0   \n",
       "15386            616.0               526.0           1.0             1.0   \n",
       "\n",
       "       top_investor_count  other_investor_count  top_investor_sum  \\\n",
       "18                    2.0                   2.0               2.0   \n",
       "25                    4.0                   7.0              10.0   \n",
       "39                    1.0                  11.0               2.0   \n",
       "40                    1.0                  11.0               2.0   \n",
       "70                    1.0                   3.0               3.0   \n",
       "...                   ...                   ...               ...   \n",
       "15284                 2.0                   5.0               3.0   \n",
       "15349                 6.0                   5.0              13.0   \n",
       "15350                 6.0                   5.0              13.0   \n",
       "15362                 6.0                  13.0               8.0   \n",
       "15386                13.0                  11.0              20.0   \n",
       "\n",
       "       other_investor_sum  top_investor_rounds  other_investor_rounds  \\\n",
       "18                    2.0                  2.0                    2.0   \n",
       "25                    8.0                  4.0                    3.0   \n",
       "39                   12.0                  2.0                    4.0   \n",
       "40                   12.0                  2.0                    4.0   \n",
       "70                    3.0                  3.0                    1.0   \n",
       "...                   ...                  ...                    ...   \n",
       "15284                 5.0                  2.0                    2.0   \n",
       "15349                 8.0                  4.0                    4.0   \n",
       "15350                 8.0                  4.0                    4.0   \n",
       "15362                13.0                  3.0                    4.0   \n",
       "15386                11.0                  4.0                    3.0   \n",
       "\n",
       "       total_sum_raised  total_sum_raised_before  \n",
       "18          466646417.0              226646417.0  \n",
       "25          160000000.0               55000000.0  \n",
       "39          145380450.0               41780450.0  \n",
       "40          174380450.0              145380450.0  \n",
       "70           27000015.0                      0.0  \n",
       "...                 ...                      ...  \n",
       "15284       330000000.0               30000000.0  \n",
       "15349        32500000.0               10500000.0  \n",
       "15350        51500000.0               32500000.0  \n",
       "15362        62000000.0               12000000.0  \n",
       "15386        49000000.0                9000000.0  \n",
       "\n",
       "[717 rows x 20 columns]"
      ]
     },
     "execution_count": 3,
     "metadata": {},
     "output_type": "execute_result"
    }
   ],
   "source": [
    "dataset = pd.read_csv('C:/Users/Barca/Desktop/GitHub/IPO_Analysis/model_ver_based_on_2019/valuation_prediction/1_DataPreparation/funding_rounds_with_exits.csv')\n",
    "dataset['raised_amount_usd'] = pd.to_numeric(dataset['raised_amount_usd'], errors='coerce')\n",
    "dataset.loc[dataset['raised_amount_usd'].isin(nan), 'raised_amount_usd'] = 0\n",
    "dataset['post_money_valuation_usd'] = pd.to_numeric(dataset['post_money_valuation_usd'], errors='coerce')\n",
    "dataset.loc[dataset['post_money_valuation_usd'].isin(nan), 'post_money_valuation_usd'] = 0\n",
    "\n",
    "dataset['total_sum_raised'] = dataset.groupby(['company_uuid'])['raised_amount_usd'].transform('cumsum')\n",
    "dataset['total_sum_raised_before'] = dataset.groupby('company_uuid')['total_sum_raised'].shift(1)\n",
    "dataset.loc[dataset['total_sum_raised_before'].isin(nan), 'total_sum_raised_before'] = 0\n",
    "\n",
    "dataset = dataset.loc[(dataset['post_money_valuation_usd'] != 0) & (dataset['raised_amount_usd'] != 0)]\n",
    "dataset"
   ]
  },
  {
   "cell_type": "markdown",
   "metadata": {},
   "source": [
    "### Preprocessing"
   ]
  },
  {
   "cell_type": "markdown",
   "metadata": {},
   "source": [
    "Создаем выборки"
   ]
  },
  {
   "cell_type": "code",
   "execution_count": 4,
   "metadata": {},
   "outputs": [
    {
     "data": {
      "text/plain": [
       "Index(['funding_round_uuid', 'company_name', 'company_uuid', 'investment_type',\n",
       "       'announced_on', 'raised_amount_usd', 'post_money_valuation_usd',\n",
       "       'time_from_2009', 'time_from_start', 'time_from_previous',\n",
       "       'top_investor', 'other_investor', 'top_investor_count',\n",
       "       'other_investor_count', 'top_investor_sum', 'other_investor_sum',\n",
       "       'top_investor_rounds', 'other_investor_rounds', 'total_sum_raised',\n",
       "       'total_sum_raised_before'],\n",
       "      dtype='object')"
      ]
     },
     "execution_count": 4,
     "metadata": {},
     "output_type": "execute_result"
    }
   ],
   "source": [
    "dataset.columns"
   ]
  },
  {
   "cell_type": "code",
   "execution_count": 5,
   "metadata": {},
   "outputs": [],
   "source": [
    "y = dataset[['post_money_valuation_usd']]\n",
    "X = dataset.drop(columns=['funding_round_uuid', 'company_name', 'company_uuid', 'investment_type', 'announced_on', 'post_money_valuation_usd', 'total_sum_raised', 'top_investor', 'other_investor'])\n",
    "\n",
    "X = X[['raised_amount_usd',\n",
    "       'time_from_2009',\n",
    "       'time_from_start',\n",
    "       'time_from_previous',\n",
    "       'total_sum_raised_before',\n",
    "       'top_investor_rounds',\n",
    "       'other_investor_rounds'\n",
    "      ]]"
   ]
  },
  {
   "cell_type": "code",
   "execution_count": 6,
   "metadata": {},
   "outputs": [],
   "source": [
    "# X_send = X.copy()\n",
    "# X_send.columns = ['col1', 'col2', 'col3', 'col4', 'col5', 'col6', 'col7']\n",
    "# X_send.to_csv('X_send_w2.csv', encoding = 'utf-8-sig')\n",
    "# X_send"
   ]
  },
  {
   "cell_type": "code",
   "execution_count": 7,
   "metadata": {},
   "outputs": [],
   "source": [
    "# y_send = y.copy()\n",
    "# y_send.columns = ['answer']\n",
    "# y_send.to_csv('y_send_w2.csv', encoding = 'utf-8-sig')\n",
    "# y_send"
   ]
  },
  {
   "cell_type": "code",
   "execution_count": 8,
   "metadata": {},
   "outputs": [
    {
     "data": {
      "text/plain": [
       "Index(['raised_amount_usd', 'time_from_2009', 'time_from_start',\n",
       "       'time_from_previous', 'total_sum_raised_before', 'top_investor_rounds',\n",
       "       'other_investor_rounds'],\n",
       "      dtype='object')"
      ]
     },
     "execution_count": 8,
     "metadata": {},
     "output_type": "execute_result"
    }
   ],
   "source": [
    "features = X.columns\n",
    "features"
   ]
  },
  {
   "cell_type": "code",
   "execution_count": 9,
   "metadata": {},
   "outputs": [
    {
     "name": "stdout",
     "output_type": "stream",
     "text": [
      "(717, 7)\n"
     ]
    }
   ],
   "source": [
    "X = X.values.astype(np.float) #X = X.to_numpy(dtype=np.float)\n",
    "print(X.shape)"
   ]
  },
  {
   "cell_type": "code",
   "execution_count": 10,
   "metadata": {},
   "outputs": [
    {
     "name": "stdout",
     "output_type": "stream",
     "text": [
      "(717,)\n"
     ]
    }
   ],
   "source": [
    "y = y.values.ravel() #y = y.to_numpy()\n",
    "print(y.shape)"
   ]
  },
  {
   "cell_type": "code",
   "execution_count": 11,
   "metadata": {},
   "outputs": [],
   "source": [
    "X_train, X_test, y_train, y_test = train_test_split(X, y, test_size=0.2, random_state=42)\n",
    "\n",
    "skaler = StandardScaler()\n",
    "X_train_t = skaler.fit_transform(X_train)\n",
    "X_test_t = skaler.transform(X_test)"
   ]
  },
  {
   "cell_type": "code",
   "execution_count": 12,
   "metadata": {},
   "outputs": [],
   "source": [
    "# wave1_acc = []\n",
    "# wave1_PR = []\n",
    "# wave1_RC = []\n",
    "# wave1_features = []"
   ]
  },
  {
   "cell_type": "markdown",
   "metadata": {},
   "source": [
    "### Sklearn SGDRegressor"
   ]
  },
  {
   "cell_type": "code",
   "execution_count": 15,
   "metadata": {},
   "outputs": [
    {
     "data": {
      "text/plain": [
       "{'learning_rate': 'invscaling', 'loss': 'squared_loss', 'penalty': 'l1'}"
      ]
     },
     "execution_count": 15,
     "metadata": {},
     "output_type": "execute_result"
    }
   ],
   "source": [
    "param_grid = {\n",
    "    'loss': ['squared_loss'],\n",
    "    'penalty': ['l2', 'l1', 'elasticnet'],\n",
    "    'learning_rate': ['constant', 'optimal', 'invscaling']\n",
    "}\n",
    "\n",
    "estimator = SGDRegressor()\n",
    "grid_search = GridSearchCV(estimator = estimator, param_grid = param_grid, cv = 5, n_jobs = -1)\n",
    "grid_search.fit(X_train_t, y_train)\n",
    "grid_search.best_params_"
   ]
  },
  {
   "cell_type": "code",
   "execution_count": 18,
   "metadata": {},
   "outputs": [],
   "source": [
    "# acc_array = []\n",
    "# f1_array = []\n",
    "# PR_array = []\n",
    "# RC_array = []\n",
    "# feature_array = []\n",
    "best_grid1 = grid_search.best_estimator_\n",
    "best_grid1.fit(X_train_t, y_train)\n",
    "predicted_labels = best_grid1.predict(X_test_t)\n",
    "#best_grid1.score(y_test, predicted_labels)"
   ]
  },
  {
   "cell_type": "code",
   "execution_count": 19,
   "metadata": {},
   "outputs": [
    {
     "data": {
      "text/plain": [
       "array([3.75000000e+07, 1.40000000e+09, 1.23000000e+08, 1.04000000e+08,\n",
       "       7.30000000e+07, 2.46000000e+10, 1.00000000e+09, 1.00000000e+09,\n",
       "       3.50050000e+08, 1.95599970e+07, 3.45000000e+08, 2.50000000e+09,\n",
       "       7.00000000e+08, 2.54000000e+08, 4.20000000e+09, 1.07900000e+08,\n",
       "       7.50000000e+07, 7.00000000e+08, 5.20000000e+07, 1.10000000e+08,\n",
       "       6.00000000e+08, 4.35000000e+09, 3.05000000e+08, 1.26000000e+08,\n",
       "       2.30000000e+09, 2.50000000e+09, 2.28000000e+08, 4.12000000e+10,\n",
       "       7.00000000e+08, 2.17500000e+08, 1.74510000e+08, 1.09000000e+09,\n",
       "       7.00000000e+08, 1.50000000e+09, 3.20000000e+08, 2.40000000e+08,\n",
       "       6.20000000e+08, 2.00000000e+08, 7.00000000e+08, 1.65000000e+09,\n",
       "       7.50000000e+09, 7.00000000e+08, 1.02000000e+08, 4.25000000e+08,\n",
       "       6.00000000e+08, 1.00000000e+08, 2.50000000e+08, 1.50000000e+08,\n",
       "       1.43000000e+08, 1.60000000e+09, 7.49600000e+08, 5.30000000e+08,\n",
       "       3.00000000e+09, 1.00000000e+09, 1.76000000e+08, 1.15000000e+08,\n",
       "       1.30000000e+08, 1.02500000e+08, 6.00000000e+09, 1.73000000e+07,\n",
       "       2.40000000e+09, 1.10600000e+07, 1.00000000e+10, 5.99549998e+08,\n",
       "       1.40000000e+09, 9.81000000e+08, 5.30000000e+08, 8.30000000e+08,\n",
       "       5.00000000e+07, 5.00000000e+09, 1.09000000e+07, 1.00000000e+09,\n",
       "       1.31600000e+08, 8.50000000e+08, 1.45000000e+08, 3.80000000e+09,\n",
       "       2.03300000e+09, 5.00000000e+08, 1.80000000e+09, 5.70000000e+09,\n",
       "       6.75000000e+08, 9.20000000e+08, 1.09000000e+09, 1.60500000e+09,\n",
       "       1.30000000e+08, 3.00000000e+09, 1.10670000e+10, 1.21500000e+08,\n",
       "       5.36000000e+07, 5.50000000e+09, 5.00000000e+08, 1.30000000e+09,\n",
       "       4.49350000e+09, 1.00000000e+09, 6.25000000e+10, 7.00100000e+08,\n",
       "       3.00000000e+08, 2.00000000e+09, 6.15000000e+08, 9.93000000e+08,\n",
       "       1.15000000e+09, 2.00000000e+08, 5.50000000e+08, 1.30184669e+09,\n",
       "       1.18000000e+08, 6.00000000e+08, 5.00000000e+08, 5.50000000e+08,\n",
       "       1.00000000e+07, 2.55000000e+10, 1.15000000e+10, 1.20000000e+10,\n",
       "       4.00000000e+07, 3.25000000e+09, 1.20000000e+08, 9.75000000e+08,\n",
       "       5.60000000e+09, 5.60000000e+08, 3.37000000e+08, 1.00000000e+10,\n",
       "       2.00000000e+09, 2.00500000e+07, 2.10000000e+07, 3.86300000e+09,\n",
       "       4.90350000e+07, 7.50000000e+08, 7.00000000e+08, 2.62000000e+08,\n",
       "       2.50000000e+08, 1.83333300e+06, 7.60000000e+07, 8.80000000e+07,\n",
       "       3.00000000e+09, 1.49500000e+08, 2.20000000e+08, 8.00000000e+09,\n",
       "       6.00000000e+08, 2.97000000e+08, 9.60000000e+07, 5.50000000e+09,\n",
       "       1.04000000e+09, 5.80000000e+08, 4.00000000e+08, 5.00000000e+08])"
      ]
     },
     "execution_count": 19,
     "metadata": {},
     "output_type": "execute_result"
    }
   ],
   "source": [
    "y_test"
   ]
  },
  {
   "cell_type": "code",
   "execution_count": 20,
   "metadata": {},
   "outputs": [
    {
     "data": {
      "text/plain": [
       "array([-1.05939752e+07,  5.64649678e+09, -2.71538446e+08,  6.83334192e+07,\n",
       "        2.12077471e+09,  1.87377868e+10,  1.42549508e+09,  9.30039091e+08,\n",
       "        3.70285485e+08, -7.69759268e+08,  6.22202072e+08,  1.44536006e+10,\n",
       "        1.68741239e+09,  2.73991082e+09,  6.42282324e+09, -2.93764583e+08,\n",
       "        4.32164534e+07,  8.98047610e+08, -2.85003168e+08, -6.26952187e+08,\n",
       "        1.77025991e+09,  7.44083815e+09, -3.00629100e+08, -2.98847126e+08,\n",
       "        4.81914587e+09,  7.49906072e+09,  1.26530885e+09,  2.46139903e+10,\n",
       "        4.52362151e+08,  4.09960856e+08, -7.94936445e+07,  1.33225489e+09,\n",
       "        1.02598542e+09,  2.64194158e+09, -1.87346045e+08,  6.06798819e+08,\n",
       "        6.99540033e+08, -2.28748021e+08,  7.62905237e+08,  3.33926532e+07,\n",
       "        2.07401271e+10,  2.08956255e+08, -6.03640617e+08, -3.25385346e+07,\n",
       "        4.33378858e+08, -1.96867882e+08,  6.77170520e+08, -4.20994524e+08,\n",
       "       -4.29462088e+08,  2.55010578e+08,  2.49097674e+09,  6.73075285e+08,\n",
       "        4.75087719e+09,  1.96440584e+09, -1.64461929e+08, -4.32686951e+08,\n",
       "        1.21036078e+08, -3.78082363e+08,  7.01933592e+09,  1.45200901e+09,\n",
       "        4.39313636e+09,  7.31321920e+08,  2.26540715e+10,  1.17042776e+09,\n",
       "        4.60028430e+09,  5.69522973e+08,  1.05651920e+08,  1.17620911e+09,\n",
       "       -4.58698627e+08,  4.16581744e+09, -5.60297517e+07,  9.55516477e+08,\n",
       "       -1.50044087e+08,  1.97377378e+09, -2.72746231e+08,  4.13126337e+09,\n",
       "        1.59741112e+10,  4.24577883e+08,  1.56847015e+09,  5.21198392e+09,\n",
       "        9.18990388e+08,  1.43594553e+09,  8.04722082e+08,  8.50239210e+07,\n",
       "        1.98290345e+09,  5.94313974e+09,  9.06314072e+09,  3.20416614e+08,\n",
       "       -3.52480566e+08,  3.76680612e+09, -3.15249955e+08,  2.13720520e+09,\n",
       "        1.13855727e+10,  1.48514850e+09,  7.88046186e+10,  3.66308963e+08,\n",
       "        1.18494747e+06,  2.01552303e+09,  6.80902191e+07,  2.26127678e+09,\n",
       "        2.50039006e+09,  2.23669764e+08,  2.20993604e+09,  1.05079993e+09,\n",
       "       -4.20056982e+08,  1.72381780e+08,  2.19039511e+08,  3.72334949e+08,\n",
       "       -4.19276962e+08,  1.96419614e+10,  3.24667456e+10,  1.04527074e+10,\n",
       "        2.85483334e+08,  2.85019149e+09, -2.93969726e+08,  3.41161050e+09,\n",
       "        3.69572350e+09,  2.47174496e+08, -7.35495526e+07,  6.54821180e+09,\n",
       "        2.90809024e+09, -1.36328586e+08, -3.74997503e+08,  3.01091698e+09,\n",
       "        1.27370212e+08,  9.08551915e+08,  1.90669753e+09, -3.81702386e+07,\n",
       "        4.17737456e+08, -3.04611547e+08,  2.15883015e+09, -5.16758348e+07,\n",
       "        5.09639713e+09, -2.32859315e+08, -6.16176772e+08,  6.71423936e+09,\n",
       "        3.69398351e+08,  2.14861962e+08,  4.65548245e+08,  1.65177440e+10,\n",
       "        1.35662174e+09,  2.48967622e+08, -3.06926116e+06,  6.74608108e+08])"
      ]
     },
     "execution_count": 20,
     "metadata": {},
     "output_type": "execute_result"
    }
   ],
   "source": [
    "predicted_labels"
   ]
  },
  {
   "cell_type": "code",
   "execution_count": 32,
   "metadata": {},
   "outputs": [
    {
     "data": {
      "image/png": "[encoded data removed]",
      "text/plain": [
       "<Figure size 432x288 with 1 Axes>"
      ]
     },
     "metadata": {
      "needs_background": "light"
     },
     "output_type": "display_data"
    }
   ],
   "source": [
    "plt.bar(range(len(features)), best_grid1.feature_importances_)\n",
    "plt.xticks(range(len(features)), features, rotation='vertical')\n",
    "plt.show()"
   ]
  },
  {
   "cell_type": "code",
   "execution_count": 33,
   "metadata": {},
   "outputs": [],
   "source": [
    "wave1_acc.append(np.mean(acc_array))\n",
    "wave1_PR.append(np.mean(PR_array))\n",
    "wave1_RC.append(np.mean(RC_array))\n",
    "wave1_features.append(np.average(feature_array, axis=0))"
   ]
  },
  {
   "cell_type": "markdown",
   "metadata": {},
   "source": [
    "### Sklearn Gradient Boosting"
   ]
  },
  {
   "cell_type": "code",
   "execution_count": 34,
   "metadata": {},
   "outputs": [
    {
     "name": "stdout",
     "output_type": "stream",
     "text": [
      "Fitting 5 folds for each of 1440 candidates, totalling 7200 fits\n"
     ]
    },
    {
     "data": {
      "text/plain": [
       "{'learning_rate': 0.3,\n",
       " 'max_depth': None,\n",
       " 'min_samples_leaf': 2,\n",
       " 'min_samples_split': 10,\n",
       " 'n_estimators': 80}"
      ]
     },
     "execution_count": 34,
     "metadata": {},
     "output_type": "execute_result"
    }
   ],
   "source": [
    "param_grid = {\n",
    "    'learning_rate': [0.01, 0.05, 0.1, 0.3],\n",
    "    'max_depth': [None, 25, 50, 75, 100],\n",
    "    'min_samples_leaf': [1, 2, 3],\n",
    "    'min_samples_split': [2, 5, 10],\n",
    "    'n_estimators': [20, 50, 60, 70, 80, 90, 100, 110]\n",
    "}\n",
    "\n",
    "estimator = GradientBoostingClassifier()\n",
    "grid_search = GridSearchCV(estimator = estimator, param_grid = param_grid, cv = 5, n_jobs = -1, verbose = 2, scoring='accuracy')\n",
    "grid_search.fit(X_train_t, y_train)\n",
    "grid_search.best_params_"
   ]
  },
  {
   "cell_type": "code",
   "execution_count": 35,
   "metadata": {},
   "outputs": [
    {
     "name": "stdout",
     "output_type": "stream",
     "text": [
      "acc = 0.6235897435897435\n",
      "f1 = 0.6131067567600959\n"
     ]
    }
   ],
   "source": [
    "acc_array = []\n",
    "f1_array = []\n",
    "PR_array = []\n",
    "RC_array = []\n",
    "feature_array = []\n",
    "best_grid2 = grid_search.best_estimator_\n",
    "for j in range(10):\n",
    "    best_grid2.fit(X_train_t, y_train)\n",
    "    predicted_labels = best_grid2.predict(X_test_t)\n",
    "    acc = accuracy_score(y_test, predicted_labels)\n",
    "    f1 = f1_score(y_test, predicted_labels, average = 'macro')\n",
    "    PR = precision_score(y_test, predicted_labels, average = 'macro')\n",
    "    RC = recall_score(y_test, predicted_labels, average = 'macro')\n",
    "    acc_array.append(acc)\n",
    "    PR_array.append(PR)\n",
    "    RC_array.append(RC)\n",
    "    f1_array.append(f1)\n",
    "    feature_array.append(best_grid2.feature_importances_)\n",
    "print(f'acc = {np.mean(acc_array)}')\n",
    "print(f'PR = {np.mean(PR_array)}')\n",
    "print(f'RC = {np.mean(RC_array)}')\n",
    "print(f'f1 = {np.mean(f1_array)}')"
   ]
  },
  {
   "cell_type": "code",
   "execution_count": 36,
   "metadata": {},
   "outputs": [
    {
     "data": {
      "image/png": "[encoded data removed]",
      "text/plain": [
       "<Figure size 432x288 with 1 Axes>"
      ]
     },
     "metadata": {
      "needs_background": "light"
     },
     "output_type": "display_data"
    }
   ],
   "source": [
    "plt.bar(range(len(features)), best_grid2.feature_importances_)\n",
    "plt.xticks(range(len(features)), features, rotation='vertical')\n",
    "plt.show()"
   ]
  },
  {
   "cell_type": "code",
   "execution_count": 37,
   "metadata": {},
   "outputs": [],
   "source": [
    "wave1_acc.append(np.mean(acc_array))\n",
    "wave1_PR.append(np.mean(PR_array))\n",
    "wave1_RC.append(np.mean(RC_array))\n",
    "wave1_features.append(np.average(feature_array, axis=0))"
   ]
  },
  {
   "cell_type": "markdown",
   "metadata": {},
   "source": [
    "### XGBoost"
   ]
  },
  {
   "cell_type": "code",
   "execution_count": 38,
   "metadata": {},
   "outputs": [
    {
     "name": "stdout",
     "output_type": "stream",
     "text": [
      "[15:27:55] WARNING: C:/Users/Administrator/workspace/xgboost-win64_release_1.4.0/src/learner.cc:1095: Starting in XGBoost 1.3.0, the default evaluation metric used with the objective 'binary:logistic' was changed from 'error' to 'logloss'. Explicitly set eval_metric if you'd like to restore the old behavior.\n"
     ]
    },
    {
     "name": "stderr",
     "output_type": "stream",
     "text": [
      "C:\\Users\\Barca\\anaconda3\\lib\\site-packages\\xgboost\\sklearn.py:1146: UserWarning: The use of label encoder in XGBClassifier is deprecated and will be removed in a future release. To remove this warning, do the following: 1) Pass option use_label_encoder=False when constructing XGBClassifier object; and 2) Encode your labels (y) as integers starting with 0, i.e. 0, 1, 2, ..., [num_class - 1].\n",
      "  warnings.warn(label_encoder_deprecation_msg, UserWarning)\n"
     ]
    },
    {
     "data": {
      "text/plain": [
       "{'colsample_bytree': 0.5,\n",
       " 'gamma': 0,\n",
       " 'learning_rate': 0.05,\n",
       " 'max_depth': 5,\n",
       " 'reg_lambda': 0,\n",
       " 'scale_pos_weight': 1,\n",
       " 'subsample': 0.8}"
      ]
     },
     "execution_count": 38,
     "metadata": {},
     "output_type": "execute_result"
    }
   ],
   "source": [
    "param_grid = {\n",
    "    \"max_depth\": [3, 4, 5, 7],\n",
    "    \"learning_rate\": [0.1, 0.01, 0.05],\n",
    "    \"gamma\": [0, 0.25, 1],\n",
    "    \"reg_lambda\": [0, 1, 10],\n",
    "    \"scale_pos_weight\": [1, 3, 5],\n",
    "    \"subsample\": [0.8],\n",
    "    \"colsample_bytree\": [0.5],\n",
    "}\n",
    "\n",
    "estimator = XGBClassifier(objective=\"binary:logistic\")\n",
    "grid_search = GridSearchCV(estimator, param_grid, n_jobs=-1, cv=3, scoring=\"accuracy\") #verbose = 2, scoring='accuracy' roc_auc\n",
    "grid_search.fit(X_train_t, y_train)\n",
    "grid_search.best_params_"
   ]
  },
  {
   "cell_type": "code",
   "execution_count": 39,
   "metadata": {},
   "outputs": [
    {
     "data": {
      "text/plain": [
       "0.6688397188397189"
      ]
     },
     "execution_count": 39,
     "metadata": {},
     "output_type": "execute_result"
    }
   ],
   "source": [
    "grid_search.best_score_"
   ]
  },
  {
   "cell_type": "code",
   "execution_count": 40,
   "metadata": {},
   "outputs": [
    {
     "name": "stdout",
     "output_type": "stream",
     "text": [
      "[15:27:55] WARNING: C:/Users/Administrator/workspace/xgboost-win64_release_1.4.0/src/learner.cc:1095: Starting in XGBoost 1.3.0, the default evaluation metric used with the objective 'binary:logistic' was changed from 'error' to 'logloss'. Explicitly set eval_metric if you'd like to restore the old behavior.\n"
     ]
    },
    {
     "data": {
      "text/plain": [
       "XGBClassifier(base_score=0.5, booster='gbtree', colsample_bylevel=1,\n",
       "              colsample_bynode=1, colsample_bytree=0.5, gamma=0, gpu_id=-1,\n",
       "              importance_type='gain', interaction_constraints='',\n",
       "              learning_rate=0.05, max_delta_step=0, max_depth=5,\n",
       "              min_child_weight=1, missing=nan, monotone_constraints='()',\n",
       "              n_estimators=100, n_jobs=12, num_parallel_tree=1, random_state=0,\n",
       "              reg_alpha=0, reg_lambda=0, scale_pos_weight=1, subsample=0.8,\n",
       "              tree_method='exact', validate_parameters=1, verbosity=None)"
      ]
     },
     "execution_count": 40,
     "metadata": {},
     "output_type": "execute_result"
    }
   ],
   "source": [
    "# best_grid3 = grid_search.best_estimator_\n",
    "best_grid3 = XGBClassifier(objective=\"binary:logistic\", **grid_search.best_params_)\n",
    "best_grid3.fit(X_train_t, y_train)"
   ]
  },
  {
   "cell_type": "code",
   "execution_count": 41,
   "metadata": {},
   "outputs": [
    {
     "name": "stdout",
     "output_type": "stream",
     "text": [
      "acc = 0.6461538461538462\n",
      "f1 = 0.6306108442004118\n"
     ]
    }
   ],
   "source": [
    "predicted_labels = best_grid3.predict(X_test_t)\n",
    "\n",
    "roc_auc = roc_auc_score(y_test, predicted_labels)\n",
    "acc = accuracy_score(y_test, predicted_labels)\n",
    "f1 = f1_score(y_test, predicted_labels, average = 'macro')\n",
    "PR = precision_score(y_test, predicted_labels, average = 'macro')\n",
    "RC = recall_score(y_test, predicted_labels, average = 'macro')\n",
    "\n",
    "print(f'acc = {acc}')\n",
    "print(f'PR = {PR}')\n",
    "print(f'RC = {RC}')\n",
    "print(f'f1 = {f1}')"
   ]
  },
  {
   "cell_type": "code",
   "execution_count": 42,
   "metadata": {},
   "outputs": [
    {
     "data": {
      "image/png": "[encoded data removed]",
      "text/plain": [
       "<Figure size 432x288 with 1 Axes>"
      ]
     },
     "metadata": {
      "needs_background": "light"
     },
     "output_type": "display_data"
    }
   ],
   "source": [
    "plt.bar(range(len(features)), best_grid3.feature_importances_)\n",
    "plt.xticks(range(len(features)), features, rotation='vertical')\n",
    "plt.show()"
   ]
  },
  {
   "cell_type": "code",
   "execution_count": 43,
   "metadata": {},
   "outputs": [],
   "source": [
    "wave1_acc.append(acc)\n",
    "wave1_PR.append(PR)\n",
    "wave1_RC.append(RC)\n",
    "wave1_features.append(best_grid3.feature_importances_)"
   ]
  },
  {
   "cell_type": "code",
   "execution_count": 44,
   "metadata": {},
   "outputs": [
    {
     "data": {
      "text/plain": [
       "[0.6430769230769231, 0.6235897435897435, 0.6461538461538462]"
      ]
     },
     "execution_count": 44,
     "metadata": {},
     "output_type": "execute_result"
    }
   ],
   "source": [
    "wave1_acc"
   ]
  },
  {
   "cell_type": "code",
   "execution_count": null,
   "metadata": {},
   "outputs": [],
   "source": [
    "wave1_PR"
   ]
  },
  {
   "cell_type": "code",
   "execution_count": null,
   "metadata": {},
   "outputs": [],
   "source": [
    "wave1_RC"
   ]
  },
  {
   "cell_type": "code",
   "execution_count": 45,
   "metadata": {},
   "outputs": [
    {
     "data": {
      "text/plain": [
       "[array([0.17204931, 0.2114819 , 0.14504606, 0.15061011, 0.14732585,\n",
       "        0.10633672, 0.06715005]),\n",
       " array([0.16960739, 0.24497566, 0.16779687, 0.14501594, 0.12826459,\n",
       "        0.08828855, 0.05605101]),\n",
       " array([0.16286115, 0.180712  , 0.12181314, 0.11438428, 0.11911802,\n",
       "        0.20934844, 0.09176298], dtype=float32)]"
      ]
     },
     "execution_count": 45,
     "metadata": {},
     "output_type": "execute_result"
    }
   ],
   "source": [
    "wave1_features"
   ]
  },
  {
   "cell_type": "code",
   "execution_count": 46,
   "metadata": {},
   "outputs": [
    {
     "data": {
      "text/html": [
       "<div>\n",
       "<style scoped>\n",
       "    .dataframe tbody tr th:only-of-type {\n",
       "        vertical-align: middle;\n",
       "    }\n",
       "\n",
       "    .dataframe tbody tr th {\n",
       "        vertical-align: top;\n",
       "    }\n",
       "\n",
       "    .dataframe thead th {\n",
       "        text-align: right;\n",
       "    }\n",
       "</style>\n",
       "<table border=\"1\" class=\"dataframe\">\n",
       "  <thead>\n",
       "    <tr style=\"text-align: right;\">\n",
       "      <th></th>\n",
       "      <th>Parameter</th>\n",
       "      <th>Random Forest</th>\n",
       "      <th>Gradient Boosting</th>\n",
       "      <th>XGBoost Classifier</th>\n",
       "    </tr>\n",
       "  </thead>\n",
       "  <tbody>\n",
       "    <tr>\n",
       "      <th>0</th>\n",
       "      <td>ACCURACY</td>\n",
       "      <td>0.643077</td>\n",
       "      <td>0.623590</td>\n",
       "      <td>0.646154</td>\n",
       "    </tr>\n",
       "    <tr>\n",
       "      <th>1</th>\n",
       "      <td>valuation</td>\n",
       "      <td>0.172049</td>\n",
       "      <td>0.169607</td>\n",
       "      <td>0.162861</td>\n",
       "    </tr>\n",
       "    <tr>\n",
       "      <th>2</th>\n",
       "      <td>total_sum_raised_before</td>\n",
       "      <td>0.211482</td>\n",
       "      <td>0.244976</td>\n",
       "      <td>0.180712</td>\n",
       "    </tr>\n",
       "    <tr>\n",
       "      <th>3</th>\n",
       "      <td>val_rate</td>\n",
       "      <td>0.145046</td>\n",
       "      <td>0.167797</td>\n",
       "      <td>0.121813</td>\n",
       "    </tr>\n",
       "    <tr>\n",
       "      <th>4</th>\n",
       "      <td>time_from_previous</td>\n",
       "      <td>0.150610</td>\n",
       "      <td>0.145016</td>\n",
       "      <td>0.114384</td>\n",
       "    </tr>\n",
       "    <tr>\n",
       "      <th>5</th>\n",
       "      <td>time_from_start</td>\n",
       "      <td>0.147326</td>\n",
       "      <td>0.128265</td>\n",
       "      <td>0.119118</td>\n",
       "    </tr>\n",
       "    <tr>\n",
       "      <th>6</th>\n",
       "      <td>top_investor_rounds</td>\n",
       "      <td>0.106337</td>\n",
       "      <td>0.088289</td>\n",
       "      <td>0.209348</td>\n",
       "    </tr>\n",
       "    <tr>\n",
       "      <th>7</th>\n",
       "      <td>other_investor_rounds</td>\n",
       "      <td>0.067150</td>\n",
       "      <td>0.056051</td>\n",
       "      <td>0.091763</td>\n",
       "    </tr>\n",
       "  </tbody>\n",
       "</table>\n",
       "</div>"
      ],
      "text/plain": [
       "                 Parameter  Random Forest  Gradient Boosting  \\\n",
       "0                 ACCURACY       0.643077           0.623590   \n",
       "1                valuation       0.172049           0.169607   \n",
       "2  total_sum_raised_before       0.211482           0.244976   \n",
       "3                 val_rate       0.145046           0.167797   \n",
       "4       time_from_previous       0.150610           0.145016   \n",
       "5          time_from_start       0.147326           0.128265   \n",
       "6      top_investor_rounds       0.106337           0.088289   \n",
       "7    other_investor_rounds       0.067150           0.056051   \n",
       "\n",
       "   XGBoost Classifier  \n",
       "0            0.646154  \n",
       "1            0.162861  \n",
       "2            0.180712  \n",
       "3            0.121813  \n",
       "4            0.114384  \n",
       "5            0.119118  \n",
       "6            0.209348  \n",
       "7            0.091763  "
      ]
     },
     "execution_count": 46,
     "metadata": {},
     "output_type": "execute_result"
    }
   ],
   "source": [
    "wave1real_df = pd.DataFrame(list(zip([wave1_acc[0]], [wave1_acc[1]], [wave1_acc[2]])), \n",
    "               columns =['Random Forest', 'Gradient Boosting', 'XGBoost Classifier'])\n",
    "wave1realf_df = pd.DataFrame(list(zip(wave1_features[0], wave1_features[1], wave1_features[2])), \n",
    "               columns =['Random Forest', 'Gradient Boosting', 'XGBoost Classifier'])\n",
    "features = features.insert(0, 'ACCURACY')\n",
    "parameters = pd.DataFrame(list(features), columns =['Parameter'])\n",
    "wave1real_df = wave1real_df.append(wave1realf_df).reset_index(drop=True)\n",
    "wave1real_df = pd.concat([parameters, wave1real_df], axis=1)\n",
    "wave1real_df.to_csv('wave2_results.csv', encoding = 'utf-8-sig')\n",
    "wave1real_df"
   ]
  },
  {
   "cell_type": "code",
   "execution_count": 47,
   "metadata": {},
   "outputs": [],
   "source": [
    "predicted_labels1 = best_grid1.predict(X_DEMO_t)\n",
    "predicted_labels2 = best_grid2.predict(X_DEMO_t)\n",
    "predicted_labels3 = best_grid3.predict(X_DEMO_t)"
   ]
  },
  {
   "cell_type": "code",
   "execution_count": 63,
   "metadata": {},
   "outputs": [
    {
     "data": {
      "text/html": [
       "<div>\n",
       "<style scoped>\n",
       "    .dataframe tbody tr th:only-of-type {\n",
       "        vertical-align: middle;\n",
       "    }\n",
       "\n",
       "    .dataframe tbody tr th {\n",
       "        vertical-align: top;\n",
       "    }\n",
       "\n",
       "    .dataframe thead th {\n",
       "        text-align: right;\n",
       "    }\n",
       "</style>\n",
       "<table border=\"1\" class=\"dataframe\">\n",
       "  <thead>\n",
       "    <tr style=\"text-align: right;\">\n",
       "      <th></th>\n",
       "      <th>company_name</th>\n",
       "      <th>Random_Forest</th>\n",
       "      <th>Gradient_Boosting</th>\n",
       "      <th>XGBoost_Classifier</th>\n",
       "    </tr>\n",
       "  </thead>\n",
       "  <tbody>\n",
       "    <tr>\n",
       "      <th>0</th>\n",
       "      <td>Roblox Corporation</td>\n",
       "      <td>0.0</td>\n",
       "      <td>0.0</td>\n",
       "      <td>1.0</td>\n",
       "    </tr>\n",
       "    <tr>\n",
       "      <th>1</th>\n",
       "      <td>Lemonade</td>\n",
       "      <td>1.0</td>\n",
       "      <td>1.0</td>\n",
       "      <td>1.0</td>\n",
       "    </tr>\n",
       "    <tr>\n",
       "      <th>2</th>\n",
       "      <td>Palantir Technologies</td>\n",
       "      <td>1.0</td>\n",
       "      <td>0.0</td>\n",
       "      <td>1.0</td>\n",
       "    </tr>\n",
       "    <tr>\n",
       "      <th>3</th>\n",
       "      <td>DoorDash</td>\n",
       "      <td>1.0</td>\n",
       "      <td>1.0</td>\n",
       "      <td>1.0</td>\n",
       "    </tr>\n",
       "    <tr>\n",
       "      <th>4</th>\n",
       "      <td>JFrog</td>\n",
       "      <td>0.0</td>\n",
       "      <td>0.0</td>\n",
       "      <td>1.0</td>\n",
       "    </tr>\n",
       "    <tr>\n",
       "      <th>5</th>\n",
       "      <td>Unity Technologies</td>\n",
       "      <td>1.0</td>\n",
       "      <td>1.0</td>\n",
       "      <td>1.0</td>\n",
       "    </tr>\n",
       "    <tr>\n",
       "      <th>6</th>\n",
       "      <td>Sumo Logic</td>\n",
       "      <td>1.0</td>\n",
       "      <td>1.0</td>\n",
       "      <td>1.0</td>\n",
       "    </tr>\n",
       "    <tr>\n",
       "      <th>7</th>\n",
       "      <td>Snowflake Computing</td>\n",
       "      <td>1.0</td>\n",
       "      <td>1.0</td>\n",
       "      <td>1.0</td>\n",
       "    </tr>\n",
       "    <tr>\n",
       "      <th>8</th>\n",
       "      <td>Airbnb</td>\n",
       "      <td>1.0</td>\n",
       "      <td>1.0</td>\n",
       "      <td>1.0</td>\n",
       "    </tr>\n",
       "    <tr>\n",
       "      <th>9</th>\n",
       "      <td>Asana</td>\n",
       "      <td>1.0</td>\n",
       "      <td>1.0</td>\n",
       "      <td>1.0</td>\n",
       "    </tr>\n",
       "  </tbody>\n",
       "</table>\n",
       "</div>"
      ],
      "text/plain": [
       "            company_name  Random_Forest  Gradient_Boosting  XGBoost_Classifier\n",
       "0     Roblox Corporation            0.0                0.0                 1.0\n",
       "1               Lemonade            1.0                1.0                 1.0\n",
       "2  Palantir Technologies            1.0                0.0                 1.0\n",
       "3               DoorDash            1.0                1.0                 1.0\n",
       "4                  JFrog            0.0                0.0                 1.0\n",
       "5     Unity Technologies            1.0                1.0                 1.0\n",
       "6             Sumo Logic            1.0                1.0                 1.0\n",
       "7    Snowflake Computing            1.0                1.0                 1.0\n",
       "8                 Airbnb            1.0                1.0                 1.0\n",
       "9                  Asana            1.0                1.0                 1.0"
      ]
     },
     "execution_count": 63,
     "metadata": {},
     "output_type": "execute_result"
    }
   ],
   "source": [
    "a = pd.DataFrame(list(predicted_labels1), columns =['Random_Forest'])\n",
    "b = pd.DataFrame(list(predicted_labels2), columns =['Gradient_Boosting'])\n",
    "c = pd.DataFrame(list(predicted_labels3), columns =['XGBoost_Classifier'])\n",
    "demo = pd.concat([DEMO_SET[['company_name']].reset_index(drop=True), a, b, c], axis=1)\n",
    "demo.to_csv('forecast_w2.csv', encoding = 'utf-8-sig')\n",
    "demo"
   ]
  },
  {
   "cell_type": "markdown",
   "metadata": {},
   "source": [
    "### На единичных признаках"
   ]
  },
  {
   "cell_type": "code",
   "execution_count": 33,
   "metadata": {},
   "outputs": [
    {
     "data": {
      "text/plain": [
       "Index(['time_from_2009', 'time_from_start', 'time_from_previous',\n",
       "       'top_investor_count', 'other_investor_count', 'top_investor_sum',\n",
       "       'other_investor_sum', 'top_investor_rounds', 'other_investor_rounds',\n",
       "       'total_sum_raised_before', 'valuation', 'log_rate'],\n",
       "      dtype='object')"
      ]
     },
     "execution_count": 33,
     "metadata": {},
     "output_type": "execute_result"
    }
   ],
   "source": [
    "y = dataset[['not_dead']]\n",
    "y = y.values.ravel()\n",
    "X_general = dataset.drop(columns=['class', 'not_dead', 'exit_type', 'funding_round_uuid', 'company_name', 'company_uuid', 'investment_type', 'announced_on', 'raised_amount_usd', 'post_money_valuation_usd', 'exit_date', 'price_usd', 'money_raised_usd', 'interpolated_money_valuation_usd', 'total_sum_raised', 'lnP', 'log_delta', 'top_investor', 'other_investor'])\n",
    "\n",
    "skaler = StandardScaler()\n",
    "param_grid = {\n",
    "    'bootstrap': [True, False], #rf only\n",
    "#    'learning_rate': [0.1, 0.2, 0.3, 0.4, 0.5, 0.6, 0.7, 0.8, 0.9, 1.0], #boosting only\n",
    "    'max_depth': [None, 25, 50, 75, 100],\n",
    "    'min_samples_leaf': [1, 2, 3],\n",
    "    'min_samples_split': [2, 5, 10],\n",
    "    'n_estimators': [10, 20, 30, 40, 50, 60, 70, 80, 90, 100, 110]\n",
    "}\n",
    "estimator = RandomForestClassifier() #0.65-0.71\n",
    "#estimator = GradientBoostingClassifier() #0.6-0.66\n",
    "grid_search = GridSearchCV(estimator = estimator, param_grid = param_grid, cv = 5, n_jobs = -1, verbose = 2, scoring='accuracy')\n",
    "\n",
    "X_general.columns"
   ]
  },
  {
   "cell_type": "code",
   "execution_count": 34,
   "metadata": {},
   "outputs": [
    {
     "name": "stdout",
     "output_type": "stream",
     "text": [
      "Fitting 5 folds for each of 990 candidates, totalling 4950 fits\n"
     ]
    },
    {
     "name": "stderr",
     "output_type": "stream",
     "text": [
      "[Parallel(n_jobs=-1)]: Using backend LokyBackend with 12 concurrent workers.\n",
      "[Parallel(n_jobs=-1)]: Done  17 tasks      | elapsed:    1.8s\n",
      "[Parallel(n_jobs=-1)]: Done 216 tasks      | elapsed:    3.9s\n",
      "[Parallel(n_jobs=-1)]: Done 1028 tasks      | elapsed:   12.0s\n",
      "[Parallel(n_jobs=-1)]: Done 2160 tasks      | elapsed:   23.0s\n",
      "[Parallel(n_jobs=-1)]: Done 3620 tasks      | elapsed:   37.1s\n",
      "[Parallel(n_jobs=-1)]: Done 4950 out of 4950 | elapsed:   50.3s finished\n",
      "[Parallel(n_jobs=-1)]: Using backend LokyBackend with 12 concurrent workers.\n"
     ]
    },
    {
     "name": "stdout",
     "output_type": "stream",
     "text": [
      "Fitting 5 folds for each of 990 candidates, totalling 4950 fits\n"
     ]
    },
    {
     "name": "stderr",
     "output_type": "stream",
     "text": [
      "[Parallel(n_jobs=-1)]: Done  17 tasks      | elapsed:    0.0s\n",
      "[Parallel(n_jobs=-1)]: Done 252 tasks      | elapsed:    2.5s\n",
      "[Parallel(n_jobs=-1)]: Done 658 tasks      | elapsed:    6.6s\n",
      "[Parallel(n_jobs=-1)]: Done 1224 tasks      | elapsed:   12.6s\n",
      "[Parallel(n_jobs=-1)]: Done 1954 tasks      | elapsed:   20.0s\n",
      "[Parallel(n_jobs=-1)]: Done 2844 tasks      | elapsed:   29.0s\n",
      "[Parallel(n_jobs=-1)]: Done 3898 tasks      | elapsed:   39.6s\n",
      "[Parallel(n_jobs=-1)]: Done 4950 out of 4950 | elapsed:   50.3s finished\n"
     ]
    },
    {
     "name": "stdout",
     "output_type": "stream",
     "text": [
      "Fitting 5 folds for each of 990 candidates, totalling 4950 fits\n"
     ]
    },
    {
     "name": "stderr",
     "output_type": "stream",
     "text": [
      "[Parallel(n_jobs=-1)]: Using backend LokyBackend with 12 concurrent workers.\n",
      "[Parallel(n_jobs=-1)]: Done  17 tasks      | elapsed:    0.0s\n",
      "[Parallel(n_jobs=-1)]: Done 252 tasks      | elapsed:    2.5s\n",
      "[Parallel(n_jobs=-1)]: Done 658 tasks      | elapsed:    6.5s\n",
      "[Parallel(n_jobs=-1)]: Done 1224 tasks      | elapsed:   12.2s\n",
      "[Parallel(n_jobs=-1)]: Done 1954 tasks      | elapsed:   19.4s\n",
      "[Parallel(n_jobs=-1)]: Done 2844 tasks      | elapsed:   28.5s\n",
      "[Parallel(n_jobs=-1)]: Done 3898 tasks      | elapsed:   38.6s\n",
      "[Parallel(n_jobs=-1)]: Done 4950 out of 4950 | elapsed:   48.9s finished\n",
      "[Parallel(n_jobs=-1)]: Using backend LokyBackend with 12 concurrent workers.\n"
     ]
    },
    {
     "name": "stdout",
     "output_type": "stream",
     "text": [
      "Fitting 5 folds for each of 990 candidates, totalling 4950 fits\n"
     ]
    },
    {
     "name": "stderr",
     "output_type": "stream",
     "text": [
      "[Parallel(n_jobs=-1)]: Done  17 tasks      | elapsed:    0.0s\n",
      "[Parallel(n_jobs=-1)]: Done 252 tasks      | elapsed:    2.0s\n",
      "[Parallel(n_jobs=-1)]: Done 658 tasks      | elapsed:    5.3s\n",
      "[Parallel(n_jobs=-1)]: Done 1224 tasks      | elapsed:    9.9s\n",
      "[Parallel(n_jobs=-1)]: Done 1954 tasks      | elapsed:   15.9s\n",
      "[Parallel(n_jobs=-1)]: Done 2844 tasks      | elapsed:   22.4s\n",
      "[Parallel(n_jobs=-1)]: Done 3898 tasks      | elapsed:   28.8s\n",
      "[Parallel(n_jobs=-1)]: Done 4950 out of 4950 | elapsed:   35.3s finished\n"
     ]
    },
    {
     "name": "stdout",
     "output_type": "stream",
     "text": [
      "Fitting 5 folds for each of 990 candidates, totalling 4950 fits\n"
     ]
    },
    {
     "name": "stderr",
     "output_type": "stream",
     "text": [
      "[Parallel(n_jobs=-1)]: Using backend LokyBackend with 12 concurrent workers.\n",
      "[Parallel(n_jobs=-1)]: Done  17 tasks      | elapsed:    0.0s\n",
      "[Parallel(n_jobs=-1)]: Done 252 tasks      | elapsed:    2.0s\n",
      "[Parallel(n_jobs=-1)]: Done 658 tasks      | elapsed:    5.5s\n",
      "[Parallel(n_jobs=-1)]: Done 1224 tasks      | elapsed:   10.2s\n",
      "[Parallel(n_jobs=-1)]: Done 1954 tasks      | elapsed:   16.2s\n",
      "[Parallel(n_jobs=-1)]: Done 2844 tasks      | elapsed:   22.9s\n",
      "[Parallel(n_jobs=-1)]: Done 3898 tasks      | elapsed:   29.5s\n",
      "[Parallel(n_jobs=-1)]: Done 4950 out of 4950 | elapsed:   36.5s finished\n"
     ]
    },
    {
     "name": "stdout",
     "output_type": "stream",
     "text": [
      "Fitting 5 folds for each of 990 candidates, totalling 4950 fits\n"
     ]
    },
    {
     "name": "stderr",
     "output_type": "stream",
     "text": [
      "[Parallel(n_jobs=-1)]: Using backend LokyBackend with 12 concurrent workers.\n",
      "[Parallel(n_jobs=-1)]: Done  17 tasks      | elapsed:    0.0s\n",
      "[Parallel(n_jobs=-1)]: Done 252 tasks      | elapsed:    2.1s\n",
      "[Parallel(n_jobs=-1)]: Done 658 tasks      | elapsed:    5.5s\n",
      "[Parallel(n_jobs=-1)]: Done 1224 tasks      | elapsed:   10.1s\n",
      "[Parallel(n_jobs=-1)]: Done 1954 tasks      | elapsed:   16.3s\n",
      "[Parallel(n_jobs=-1)]: Done 2844 tasks      | elapsed:   23.1s\n",
      "[Parallel(n_jobs=-1)]: Done 3898 tasks      | elapsed:   29.9s\n",
      "[Parallel(n_jobs=-1)]: Done 4950 out of 4950 | elapsed:   36.7s finished\n"
     ]
    },
    {
     "name": "stdout",
     "output_type": "stream",
     "text": [
      "Fitting 5 folds for each of 990 candidates, totalling 4950 fits\n"
     ]
    },
    {
     "name": "stderr",
     "output_type": "stream",
     "text": [
      "[Parallel(n_jobs=-1)]: Using backend LokyBackend with 12 concurrent workers.\n",
      "[Parallel(n_jobs=-1)]: Done  17 tasks      | elapsed:    0.0s\n",
      "[Parallel(n_jobs=-1)]: Done 252 tasks      | elapsed:    2.1s\n",
      "[Parallel(n_jobs=-1)]: Done 658 tasks      | elapsed:    5.7s\n",
      "[Parallel(n_jobs=-1)]: Done 1224 tasks      | elapsed:   10.5s\n",
      "[Parallel(n_jobs=-1)]: Done 1954 tasks      | elapsed:   16.6s\n",
      "[Parallel(n_jobs=-1)]: Done 2844 tasks      | elapsed:   23.3s\n",
      "[Parallel(n_jobs=-1)]: Done 3898 tasks      | elapsed:   30.1s\n",
      "[Parallel(n_jobs=-1)]: Done 4950 out of 4950 | elapsed:   36.8s finished\n",
      "[Parallel(n_jobs=-1)]: Using backend LokyBackend with 12 concurrent workers.\n"
     ]
    },
    {
     "name": "stdout",
     "output_type": "stream",
     "text": [
      "Fitting 5 folds for each of 990 candidates, totalling 4950 fits\n"
     ]
    },
    {
     "name": "stderr",
     "output_type": "stream",
     "text": [
      "[Parallel(n_jobs=-1)]: Done  17 tasks      | elapsed:    0.0s\n",
      "[Parallel(n_jobs=-1)]: Done 252 tasks      | elapsed:    2.0s\n",
      "[Parallel(n_jobs=-1)]: Done 658 tasks      | elapsed:    5.3s\n",
      "[Parallel(n_jobs=-1)]: Done 1224 tasks      | elapsed:    9.8s\n",
      "[Parallel(n_jobs=-1)]: Done 1954 tasks      | elapsed:   15.8s\n",
      "[Parallel(n_jobs=-1)]: Done 2844 tasks      | elapsed:   22.3s\n",
      "[Parallel(n_jobs=-1)]: Done 3898 tasks      | elapsed:   28.8s\n",
      "[Parallel(n_jobs=-1)]: Done 4950 out of 4950 | elapsed:   35.3s finished\n"
     ]
    },
    {
     "name": "stdout",
     "output_type": "stream",
     "text": [
      "Fitting 5 folds for each of 990 candidates, totalling 4950 fits\n"
     ]
    },
    {
     "name": "stderr",
     "output_type": "stream",
     "text": [
      "[Parallel(n_jobs=-1)]: Using backend LokyBackend with 12 concurrent workers.\n",
      "[Parallel(n_jobs=-1)]: Done  17 tasks      | elapsed:    0.0s\n",
      "[Parallel(n_jobs=-1)]: Done 252 tasks      | elapsed:    2.0s\n",
      "[Parallel(n_jobs=-1)]: Done 658 tasks      | elapsed:    5.2s\n",
      "[Parallel(n_jobs=-1)]: Done 1224 tasks      | elapsed:    9.8s\n",
      "[Parallel(n_jobs=-1)]: Done 1954 tasks      | elapsed:   15.7s\n",
      "[Parallel(n_jobs=-1)]: Done 2844 tasks      | elapsed:   22.4s\n",
      "[Parallel(n_jobs=-1)]: Done 3898 tasks      | elapsed:   28.8s\n",
      "[Parallel(n_jobs=-1)]: Done 4950 out of 4950 | elapsed:   35.4s finished\n",
      "[Parallel(n_jobs=-1)]: Using backend LokyBackend with 12 concurrent workers.\n"
     ]
    },
    {
     "name": "stdout",
     "output_type": "stream",
     "text": [
      "Fitting 5 folds for each of 990 candidates, totalling 4950 fits\n"
     ]
    },
    {
     "name": "stderr",
     "output_type": "stream",
     "text": [
      "[Parallel(n_jobs=-1)]: Done  17 tasks      | elapsed:    0.0s\n",
      "[Parallel(n_jobs=-1)]: Done 252 tasks      | elapsed:    2.3s\n",
      "[Parallel(n_jobs=-1)]: Done 658 tasks      | elapsed:    6.2s\n",
      "[Parallel(n_jobs=-1)]: Done 1224 tasks      | elapsed:   11.7s\n",
      "[Parallel(n_jobs=-1)]: Done 1954 tasks      | elapsed:   18.8s\n",
      "[Parallel(n_jobs=-1)]: Done 2844 tasks      | elapsed:   27.0s\n",
      "[Parallel(n_jobs=-1)]: Done 3898 tasks      | elapsed:   36.1s\n",
      "[Parallel(n_jobs=-1)]: Done 4950 out of 4950 | elapsed:   45.2s finished\n"
     ]
    },
    {
     "name": "stdout",
     "output_type": "stream",
     "text": [
      "Fitting 5 folds for each of 990 candidates, totalling 4950 fits\n"
     ]
    },
    {
     "name": "stderr",
     "output_type": "stream",
     "text": [
      "[Parallel(n_jobs=-1)]: Using backend LokyBackend with 12 concurrent workers.\n",
      "[Parallel(n_jobs=-1)]: Done  17 tasks      | elapsed:    0.0s\n",
      "[Parallel(n_jobs=-1)]: Done 252 tasks      | elapsed:    2.2s\n",
      "[Parallel(n_jobs=-1)]: Done 658 tasks      | elapsed:    5.8s\n",
      "[Parallel(n_jobs=-1)]: Done 1224 tasks      | elapsed:   11.0s\n",
      "[Parallel(n_jobs=-1)]: Done 1954 tasks      | elapsed:   17.6s\n",
      "[Parallel(n_jobs=-1)]: Done 2844 tasks      | elapsed:   25.4s\n",
      "[Parallel(n_jobs=-1)]: Done 3898 tasks      | elapsed:   33.6s\n",
      "[Parallel(n_jobs=-1)]: Done 4950 out of 4950 | elapsed:   41.8s finished\n"
     ]
    },
    {
     "name": "stdout",
     "output_type": "stream",
     "text": [
      "Fitting 5 folds for each of 990 candidates, totalling 4950 fits\n"
     ]
    },
    {
     "name": "stderr",
     "output_type": "stream",
     "text": [
      "[Parallel(n_jobs=-1)]: Using backend LokyBackend with 12 concurrent workers.\n",
      "[Parallel(n_jobs=-1)]: Done  17 tasks      | elapsed:    0.0s\n",
      "[Parallel(n_jobs=-1)]: Done 252 tasks      | elapsed:    2.6s\n",
      "[Parallel(n_jobs=-1)]: Done 658 tasks      | elapsed:    6.6s\n",
      "[Parallel(n_jobs=-1)]: Done 1224 tasks      | elapsed:   12.4s\n",
      "[Parallel(n_jobs=-1)]: Done 1954 tasks      | elapsed:   19.9s\n",
      "[Parallel(n_jobs=-1)]: Done 2844 tasks      | elapsed:   29.6s\n",
      "[Parallel(n_jobs=-1)]: Done 3898 tasks      | elapsed:   41.2s\n",
      "[Parallel(n_jobs=-1)]: Done 4950 out of 4950 | elapsed:   52.9s finished\n"
     ]
    },
    {
     "name": "stdout",
     "output_type": "stream",
     "text": [
      "                         Accuracy   F-Score\n",
      "time_from_2009           0.561538  0.557030\n",
      "time_from_start          0.503077  0.496843\n",
      "time_from_previous       0.518462  0.507093\n",
      "top_investor_count       0.620513  0.615159\n",
      "other_investor_count     0.584103  0.549638\n",
      "top_investor_sum         0.548718  0.546877\n",
      "other_investor_sum       0.527692  0.507549\n",
      "top_investor_rounds      0.579487  0.526923\n",
      "other_investor_rounds    0.602051  0.559214\n",
      "total_sum_raised_before  0.567179  0.540938\n",
      "valuation                0.601538  0.590419\n",
      "log_rate                 0.480000  0.463055\n"
     ]
    }
   ],
   "source": [
    "mean_acc = []\n",
    "mean_f1 = []\n",
    "features = ['time_from_2009', 'time_from_start', 'time_from_previous',\n",
    "       'top_investor_count', 'other_investor_count', 'top_investor_sum',\n",
    "       'other_investor_sum', 'top_investor_rounds', 'other_investor_rounds',\n",
    "       'total_sum_raised_before', 'valuation', 'val_rate']\n",
    "for i in features:\n",
    "    X = X_general[[i]]\n",
    "    X = X.values.astype(np.float)\n",
    "    X_train, X_test, y_train, y_test = train_test_split(X, y, test_size=0.2)\n",
    "    X_train_t = skaler.fit_transform(X_train)\n",
    "    X_test_t = skaler.transform(X_test)\n",
    "    grid_search.fit(X_train_t, y_train)\n",
    "    best_grid = grid_search.best_estimator_\n",
    "    \n",
    "    acc_array = []\n",
    "    f1_array = []\n",
    "    PR_array = []\n",
    "    RC_array = []\n",
    "    for j in range(10):\n",
    "        best_grid.fit(X_train_t, y_train)\n",
    "        predicted_labels = best_grid.predict(X_test_t)\n",
    "        acc = accuracy_score(y_test, predicted_labels)\n",
    "        f1 = f1_score(y_test, predicted_labels, average = 'macro')\n",
    "        PR = precision_score(y_test, predicted_labels, average = 'macro')\n",
    "        RC = recall_score(y_test, predicted_labels, average = 'macro')\n",
    "        acc_array.append(acc)\n",
    "        PR_array.append(PR)\n",
    "        RC_array.append(RC)\n",
    "        f1_array.append(f1)\n",
    "    mean_acc.append(np.mean(acc_array))\n",
    "    mean_f1.append(np.mean(f1_array))\n",
    "    #print(f'acc on {i} = {np.mean(acc_array)}')\n",
    "    #print(f'f1 on {i} = {np.mean(f1_array)}')\n",
    "mean_acc_f1_df = pd.DataFrame(list(zip(mean_acc, mean_f1)), \n",
    "               columns =['Accuracy', 'F-Score']).set_index([features])\n",
    "print(mean_acc_f1_df)"
   ]
  },
  {
   "cell_type": "code",
   "execution_count": 35,
   "metadata": {},
   "outputs": [
    {
     "data": {
      "text/html": [
       "<div>\n",
       "<style scoped>\n",
       "    .dataframe tbody tr th:only-of-type {\n",
       "        vertical-align: middle;\n",
       "    }\n",
       "\n",
       "    .dataframe tbody tr th {\n",
       "        vertical-align: top;\n",
       "    }\n",
       "\n",
       "    .dataframe thead th {\n",
       "        text-align: right;\n",
       "    }\n",
       "</style>\n",
       "<table border=\"1\" class=\"dataframe\">\n",
       "  <thead>\n",
       "    <tr style=\"text-align: right;\">\n",
       "      <th></th>\n",
       "      <th>Accuracy</th>\n",
       "      <th>F-Score</th>\n",
       "    </tr>\n",
       "  </thead>\n",
       "  <tbody>\n",
       "    <tr>\n",
       "      <th>time_from_2009</th>\n",
       "      <td>0.561538</td>\n",
       "      <td>0.557030</td>\n",
       "    </tr>\n",
       "    <tr>\n",
       "      <th>time_from_start</th>\n",
       "      <td>0.503077</td>\n",
       "      <td>0.496843</td>\n",
       "    </tr>\n",
       "    <tr>\n",
       "      <th>time_from_previous</th>\n",
       "      <td>0.518462</td>\n",
       "      <td>0.507093</td>\n",
       "    </tr>\n",
       "    <tr>\n",
       "      <th>top_investor_count</th>\n",
       "      <td>0.620513</td>\n",
       "      <td>0.615159</td>\n",
       "    </tr>\n",
       "    <tr>\n",
       "      <th>other_investor_count</th>\n",
       "      <td>0.584103</td>\n",
       "      <td>0.549638</td>\n",
       "    </tr>\n",
       "    <tr>\n",
       "      <th>top_investor_sum</th>\n",
       "      <td>0.548718</td>\n",
       "      <td>0.546877</td>\n",
       "    </tr>\n",
       "    <tr>\n",
       "      <th>other_investor_sum</th>\n",
       "      <td>0.527692</td>\n",
       "      <td>0.507549</td>\n",
       "    </tr>\n",
       "    <tr>\n",
       "      <th>top_investor_rounds</th>\n",
       "      <td>0.579487</td>\n",
       "      <td>0.526923</td>\n",
       "    </tr>\n",
       "    <tr>\n",
       "      <th>other_investor_rounds</th>\n",
       "      <td>0.602051</td>\n",
       "      <td>0.559214</td>\n",
       "    </tr>\n",
       "    <tr>\n",
       "      <th>total_sum_raised_before</th>\n",
       "      <td>0.567179</td>\n",
       "      <td>0.540938</td>\n",
       "    </tr>\n",
       "    <tr>\n",
       "      <th>valuation</th>\n",
       "      <td>0.601538</td>\n",
       "      <td>0.590419</td>\n",
       "    </tr>\n",
       "    <tr>\n",
       "      <th>log_rate</th>\n",
       "      <td>0.480000</td>\n",
       "      <td>0.463055</td>\n",
       "    </tr>\n",
       "  </tbody>\n",
       "</table>\n",
       "</div>"
      ],
      "text/plain": [
       "                         Accuracy   F-Score\n",
       "time_from_2009           0.561538  0.557030\n",
       "time_from_start          0.503077  0.496843\n",
       "time_from_previous       0.518462  0.507093\n",
       "top_investor_count       0.620513  0.615159\n",
       "other_investor_count     0.584103  0.549638\n",
       "top_investor_sum         0.548718  0.546877\n",
       "other_investor_sum       0.527692  0.507549\n",
       "top_investor_rounds      0.579487  0.526923\n",
       "other_investor_rounds    0.602051  0.559214\n",
       "total_sum_raised_before  0.567179  0.540938\n",
       "valuation                0.601538  0.590419\n",
       "log_rate                 0.480000  0.463055"
      ]
     },
     "execution_count": 35,
     "metadata": {},
     "output_type": "execute_result"
    }
   ],
   "source": [
    "mean_acc_f1_df"
   ]
  },
  {
   "cell_type": "code",
   "execution_count": 76,
   "metadata": {
    "scrolled": false
   },
   "outputs": [],
   "source": [
    "# acc_train = []\n",
    "# acc_test = []\n",
    "# f1_train = []\n",
    "# f1_test = []\n",
    "# for i in range(1, 101):\n",
    "#     #classifier = LogisticRegression(solver='saga', multi_class='multinomial', max_iter=100, C=0.12, penalty='l1', n_jobs=-1) #меньше 0.6\n",
    "#     #classifier = KNeighborsClassifier(n_neighbors=20, weights='distance', n_jobs =-1) #отвратительное качество\n",
    "#     classifier = DecisionTreeClassifier(max_depth=100) #качество на уровне 0.65-0.7\n",
    "    \n",
    "#     #ensemble_classifier = BaggingClassifier(base_estimator=classifier, n_estimators=i, bootstrap=True, n_jobs=-1)\n",
    "#     ensemble_classifier = RandomForestClassifier(n_estimators=i, n_jobs=-1) #качество на уровне 0.65-0.7\n",
    "#     #ensemble_classifier = GradientBoostingClassifier(n_estimators=i, learning_rate=0.2, max_depth=10) #качество на уровне 0.6-0.7\n",
    "    \n",
    "#     ensemble_classifier.fit(X_train_t, y_train)\n",
    "#     class_names = ensemble_classifier.classes_\n",
    "#     y_train_b = label_binarize(y_train, class_names)\n",
    "#     y_test_b = label_binarize(y_test, class_names)\n",
    "#     y_predict_train_b = label_binarize(ensemble_classifier.predict(X_train_t), class_names)\n",
    "#     y_predict_test_b = label_binarize(ensemble_classifier.predict(X_test_t), class_names)\n",
    "#     acc_train.append(accuracy_score(y_train_b, y_predict_train_b))\n",
    "#     f1_train.append(f1_score(y_train_b, y_predict_train_b, average='weighted'))\n",
    "#     acc_test.append(accuracy_score(y_test_b, y_predict_test_b))\n",
    "#     f1_test.append(f1_score(y_test_b, y_predict_test_b, average='weighted'))\n",
    "\n",
    "# plt.figure(figsize=(7, 7))\n",
    "# plt.plot(np.arange(1, 101), acc_train, label='accuracy train')\n",
    "# plt.plot(np.arange(1, 101), f1_train, label='f1_score train')\n",
    "# plt.plot(np.arange(1, 101), acc_test, label='accuracy test')\n",
    "# plt.plot(np.arange(1, 101), f1_test, label='f1_score test')\n",
    "# plt.xlabel('n_estimators')\n",
    "# plt.ylabel('score')\n",
    "# plt.legend()\n",
    "# plt.grid()\n",
    "# plt.show()"
   ]
  },
  {
   "cell_type": "markdown",
   "metadata": {},
   "source": [
    "### LogReg, kNN, Decision Tree"
   ]
  },
  {
   "cell_type": "code",
   "execution_count": 17,
   "metadata": {},
   "outputs": [],
   "source": [
    "#pg = {'C': np.linspace(0.01, 1, 10), 'penalty': ['l1', 'l2']}\n",
    "#pg = {'n_neighbors': range(1, 21)}\n",
    "#pg = {'max_depth': np.linspace(1, 100, 5)}\n",
    "\n",
    "#classifier = LogisticRegression(solver='saga', multi_class='multinomial', max_iter=1000, n_jobs =-1) #lbfgs\n",
    "#classifier = KNeighborsClassifier(weights='distance')\n",
    "#classifier = DecisionTreeClassifier()\n",
    "\n",
    "#grid_search = GridSearchCV(estimator=classifier, n_jobs = -1, param_grid=pg, cv=5, scoring='accuracy')\n",
    "#grid_search.fit(X_train_t, y_train)\n",
    "\n",
    "#grid_search.best_params_"
   ]
  },
  {
   "cell_type": "code",
   "execution_count": 18,
   "metadata": {},
   "outputs": [],
   "source": [
    "#best_classifier = grid_search.best_estimator_\n",
    "#best_classifier.fit(X_train_t, y_train)"
   ]
  },
  {
   "cell_type": "code",
   "execution_count": 19,
   "metadata": {},
   "outputs": [],
   "source": [
    "#predicted_labels = best_classifier.predict(X_test_t)\n",
    "\n",
    "#acc = accuracy_score(y_test, predicted_labels)\n",
    "#print(f'acc = {acc}')\n",
    "#f1 = f1_score(y_test, predicted_labels, average = 'macro')\n",
    "#print(f'f1 = {f1}')"
   ]
  },
  {
   "cell_type": "code",
   "execution_count": 20,
   "metadata": {},
   "outputs": [],
   "source": [
    "#predict_proba = grid_search.predict_proba(X_test_t)\n",
    "#for i in predict_proba:\n",
    "#    print(i)"
   ]
  },
  {
   "cell_type": "code",
   "execution_count": 21,
   "metadata": {},
   "outputs": [],
   "source": [
    "#class_names = grid_search.best_estimator_.classes_\n",
    "#y_predict = grid_search.predict_proba(X_test_t)\n",
    "\n",
    "##y_test_b = label_binarize(y_test, class_names)\n",
    "#lb = LabelBinarizer()\n",
    "#y_test_b = lb.fit_transform(y_test)\n",
    "#y_test_b = np.hstack((1 - y_test_b, y_test_b))\n",
    "\n",
    "#fpr = dict()\n",
    "#tpr = dict()\n",
    "#roc_auc = dict()\n",
    "#for i in range(len(class_names)):\n",
    "#    fpr[i], tpr[i], _ = roc_curve(y_test_b[:, i], y_predict[:, i])\n",
    "#    roc_auc[i] = auc(fpr[i], tpr[i])\n",
    "    \n",
    "##для микро\n",
    "#fpr['micro'], tpr['micro'], _ = roc_curve(y_test_b.ravel(), y_predict.ravel())\n",
    "#roc_auc['micro'] = auc(fpr['micro'], tpr['micro'])\n",
    "\n",
    "##макро\n",
    "#all_fpr = np.unique(np.concatenate([fpr[i] for i in range(len(class_names))]))\n",
    "#mean_tpr = np.zeros_like(all_fpr)\n",
    "#for i in range(len(class_names)):\n",
    "#    mean_tpr += interp(all_fpr, fpr[i], tpr[i]) \n",
    "#mean_tpr /= len(class_names)\n",
    "#fpr['macro'] = all_fpr\n",
    "#tpr['macro'] = mean_tpr\n",
    "#roc_auc['macro'] = auc(fpr['macro'], tpr['macro'])\n",
    "\n",
    "##графики\n",
    "#plt.figure(figsize=(6,6))\n",
    "#plt.plot(fpr['micro'], tpr['micro'], label='micro, auc = %.3f'%(roc_auc['micro']), linestyle='--')\n",
    "#plt.plot(fpr['macro'], tpr['macro'], label='macro, auc = %.3f'%(roc_auc['macro']), linestyle='--')\n",
    "#for i in range(len(class_names)):\n",
    "#    plt.plot(fpr[i], tpr[i], label='class = %s, auc = %.3f'%(class_names[i], auc(fpr[i], tpr[i])))\n",
    "\n",
    "#plt.title('ROC-Кривая')\n",
    "#plt.xlabel('False Positive Rate')\n",
    "#plt.ylabel('True Positive Rate')\n",
    "#plt.legend()\n",
    "#plt.show()"
   ]
  },
  {
   "cell_type": "markdown",
   "metadata": {},
   "source": [
    "### Сокращение размерности"
   ]
  },
  {
   "cell_type": "code",
   "execution_count": 34,
   "metadata": {},
   "outputs": [],
   "source": [
    "#pca = PCA()\n",
    "#pca.fit(X_train_t)\n",
    "\n",
    "#variance = np.cumsum(pca.explained_variance_ratio_)\n",
    "\n",
    "#plt.figure(figsize=(5,5))\n",
    "#plt.plot(variance)\n",
    "#plt.xlabel('Components')\n",
    "#plt.ylabel('EVR')\n",
    "#plt.plot([0,46],[0.95,0.95])\n",
    "#plt.show()"
   ]
  },
  {
   "cell_type": "code",
   "execution_count": 35,
   "metadata": {},
   "outputs": [],
   "source": [
    "#pca = PCA(n_components=39)\n",
    "\n",
    "#X_train_pca = pca.fit_transform(X_train_t)\n",
    "#X_test_pca = pca.transform(X_test_t)"
   ]
  },
  {
   "cell_type": "code",
   "execution_count": 36,
   "metadata": {},
   "outputs": [],
   "source": [
    "#pg = {'C': np.linspace(0.01, 1, 10), 'penalty': ['l1', 'l2']}\n",
    "#pg = {'n_neighbors': range(1, 31)}\n",
    "#pg = {'max_depth': np.linspace(1, 100, 5)}"
   ]
  },
  {
   "cell_type": "code",
   "execution_count": 37,
   "metadata": {},
   "outputs": [],
   "source": [
    "#classifier = LogisticRegression(solver='saga', multi_class='multinomial', max_iter=100, n_jobs =-1) #lbfgs\n",
    "#classifier = KNeighborsClassifier(weights='distance')\n",
    "#classifier = DecisionTreeClassifier()\n",
    "\n",
    "#grid_search = GridSearchCV(estimator=classifier, n_jobs = -1, param_grid=pg, cv=5, scoring='accuracy')\n",
    "#grid_search.fit(X_train_pca, y_train)\n",
    "\n",
    "#grid_search.best_params_"
   ]
  },
  {
   "cell_type": "code",
   "execution_count": 38,
   "metadata": {},
   "outputs": [],
   "source": [
    "#predicted_labels = grid_search.predict(X_test_pca)\n",
    "\n",
    "#acc = accuracy_score(y_test, predicted_labels)\n",
    "#f1 = f1_score(y_test, predicted_labels, average='weighted')\n",
    "#print('acc = ', acc)\n",
    "#print('f1 = ', f1)"
   ]
  },
  {
   "cell_type": "markdown",
   "metadata": {},
   "source": [
    "### Catboost"
   ]
  },
  {
   "cell_type": "code",
   "execution_count": 63,
   "metadata": {},
   "outputs": [],
   "source": [
    "y = dataset[['not_dead']] #'not_dead' 'exit_type' 'class'\n",
    "X = dataset.drop(columns=['class', 'not_dead', 'exit_type', 'top_investor', 'other_investor', 'total_sum_raised', 'first_last_dif', 'stadia', 'investment_type', 'log_delta', 'price_usd', 'money_raised_usd', 'exp_months_std', 'funding_round_uuid', 'company_name', 'company_uuid', 'announced_on', 'exit_date', 'total_count', 'count_per_round', 'raised_amount_usd', 'post_money_valuation_usd', 'interpolated_money_valuation_usd', 'lnP'])\n",
    "\n",
    "#только признаки команды (образование + опыт)\n",
    "#X = X.drop(columns=['time_from_2009', 'time_from_previous', 'time_from_start', 'top_investor_sum', 'other_investor_sum', 'total_sum_raised_before', 'valuation', 'val_rate'])\n",
    "\n",
    "#только инвестора и раунды\n",
    "X = X[['valuation', 'val_rate', 'total_sum_raised_before', 'time_from_2009', 'time_from_previous', 'time_from_start', 'top_investor_sum', 'other_investor_sum']]\n",
    "\n",
    "X_train, X_test, y_train, y_test = train_test_split(X, y, test_size=0.2, random_state=42)\n",
    "X_train, X_eval, y_train, y_eval = train_test_split(X_train, y_train, test_size=0.2, random_state=42)\n",
    "\n",
    "skaler = StandardScaler()\n",
    "X_train_t = skaler.fit_transform(X_train)\n",
    "X_eval_t = skaler.fit_transform(X_eval)\n",
    "X_test_t = skaler.transform(X_test)"
   ]
  },
  {
   "cell_type": "code",
   "execution_count": 64,
   "metadata": {},
   "outputs": [
    {
     "name": "stdout",
     "output_type": "stream",
     "text": [
      "0:\tlearn: 0.6514671\ttest: 0.6741755\tbest: 0.6741755 (0)\ttotal: 155ms\tremaining: 2m 34s\n",
      "100:\tlearn: 0.0489779\ttest: 0.6215706\tbest: 0.5913487 (16)\ttotal: 1.58s\tremaining: 14.1s\n",
      "200:\tlearn: 0.0177040\ttest: 0.6744059\tbest: 0.5913487 (16)\ttotal: 2.9s\tremaining: 11.6s\n",
      "300:\tlearn: 0.0101371\ttest: 0.7124593\tbest: 0.5913487 (16)\ttotal: 4.2s\tremaining: 9.76s\n",
      "400:\tlearn: 0.0069237\ttest: 0.7399347\tbest: 0.5913487 (16)\ttotal: 5.55s\tremaining: 8.29s\n",
      "500:\tlearn: 0.0053840\ttest: 0.7578491\tbest: 0.5913487 (16)\ttotal: 6.87s\tremaining: 6.84s\n",
      "600:\tlearn: 0.0044076\ttest: 0.7763442\tbest: 0.5913487 (16)\ttotal: 8.21s\tremaining: 5.45s\n",
      "700:\tlearn: 0.0038291\ttest: 0.7896251\tbest: 0.5913487 (16)\ttotal: 9.62s\tremaining: 4.1s\n",
      "800:\tlearn: 0.0033698\ttest: 0.7988073\tbest: 0.5913487 (16)\ttotal: 10.9s\tremaining: 2.72s\n",
      "900:\tlearn: 0.0030590\ttest: 0.8067507\tbest: 0.5913487 (16)\ttotal: 12.3s\tremaining: 1.35s\n",
      "999:\tlearn: 0.0028825\ttest: 0.8127623\tbest: 0.5913487 (16)\ttotal: 13.7s\tremaining: 0us\n",
      "\n",
      "bestTest = 0.5913486676\n",
      "bestIteration = 16\n",
      "\n",
      "Shrink model to first 17 iterations.\n",
      "CatBoost: prediction of not_dead: RMSLE on test = 0.8127623261614878\n"
     ]
    }
   ],
   "source": [
    "model = CatBoostClassifier(has_time=True, iterations=1000, depth=10, learning_rate=0.1, loss_function='CrossEntropy')\n",
    "model.fit(X_train_t, y_train, eval_set=(X_eval_t, y_eval), verbose=100)\n",
    "\n",
    "print ('CatBoost: prediction of %s: RMSLE on test = %s' % ('not_dead', model.evals_result_['validation']['CrossEntropy'][-1]))"
   ]
  },
  {
   "cell_type": "code",
   "execution_count": 65,
   "metadata": {},
   "outputs": [
    {
     "data": {
      "text/plain": [
       "array([1, 1, 0, 0, 1, 0, 0, 1, 1, 1, 0, 1, 1, 1, 0, 1, 0, 1, 0, 0, 1, 1,\n",
       "       1, 1, 1, 0, 1, 1, 0, 1, 0, 1, 1, 1, 1, 0, 1, 1, 0, 1, 1, 0, 1, 1,\n",
       "       1, 1, 1, 1, 1, 1, 1, 0, 1, 0, 0, 1, 0, 1, 1, 0, 1, 1, 0, 1, 1, 0,\n",
       "       1, 0, 1, 1, 1, 1, 1, 1, 1, 1, 0, 1, 0, 0, 0, 1, 0, 1, 1, 1, 0, 1,\n",
       "       1, 1, 1, 0, 1, 0, 0, 0, 0, 0, 0, 1, 0, 0, 1, 1, 1, 1, 1, 1, 1, 1,\n",
       "       1, 0, 1, 0, 1, 1, 0, 1, 0, 0, 1, 1, 1, 1, 0, 0, 0, 0, 1, 0, 0],\n",
       "      dtype=int64)"
      ]
     },
     "execution_count": 65,
     "metadata": {},
     "output_type": "execute_result"
    }
   ],
   "source": [
    "y_pred = model.predict(X_test_t)\n",
    "y_pred"
   ]
  },
  {
   "cell_type": "code",
   "execution_count": 66,
   "metadata": {},
   "outputs": [
    {
     "data": {
      "text/plain": [
       "array([1., 1., 1., 0., 0., 0., 0., 0., 0., 1., 1., 0., 0., 0., 1., 1., 1.,\n",
       "       1., 1., 0., 1., 1., 1., 0., 0., 0., 0., 1., 0., 1., 0., 1., 1., 1.,\n",
       "       0., 0., 0., 1., 1., 0., 1., 1., 1., 1., 0., 1., 0., 1., 1., 1., 1.,\n",
       "       1., 1., 0., 1., 1., 0., 1., 0., 1., 1., 1., 1., 1., 0., 0., 1., 1.,\n",
       "       0., 1., 1., 1., 1., 1., 1., 1., 0., 1., 0., 0., 0., 0., 0., 1., 1.,\n",
       "       1., 0., 1., 1., 1., 0., 0., 1., 1., 0., 0., 1., 0., 0., 1., 1., 0.,\n",
       "       1., 1., 0., 1., 0., 1., 1., 1., 1., 1., 0., 0., 0., 1., 1., 1., 1.,\n",
       "       0., 1., 1., 1., 0., 0., 1., 1., 0., 1., 0., 1.])"
      ]
     },
     "execution_count": 66,
     "metadata": {},
     "output_type": "execute_result"
    }
   ],
   "source": [
    "y_test = y_test.values.ravel()\n",
    "y_test"
   ]
  },
  {
   "cell_type": "code",
   "execution_count": 67,
   "metadata": {},
   "outputs": [
    {
     "name": "stdout",
     "output_type": "stream",
     "text": [
      "\n",
      "CatBoost: prediction of log_delta. Feature importance. Type=PredictionValuesChange\n",
      "  Feature Id  Importances\n",
      "0          6    19.197516\n",
      "1          3    18.696240\n",
      "2          0    17.847655\n",
      "3          7    12.064020\n",
      "4          2     9.962412\n",
      "5          4     8.120351\n",
      "6          5     7.730078\n",
      "7          1     6.381729\n"
     ]
    }
   ],
   "source": [
    "print ('\\nCatBoost: prediction of %s. Feature importance. Type=PredictionValuesChange' % 'log_delta')\n",
    "print (model.get_feature_importance(type=cb.EFstrType.PredictionValuesChange, prettified=True).head(25).to_string())"
   ]
  },
  {
   "cell_type": "code",
   "execution_count": 68,
   "metadata": {},
   "outputs": [
    {
     "data": {
      "text/plain": [
       "0.6564885496183206"
      ]
     },
     "execution_count": 68,
     "metadata": {},
     "output_type": "execute_result"
    }
   ],
   "source": [
    "model.score(X_test_t, y_test)"
   ]
  }
 ],
 "metadata": {
  "kernelspec": {
   "display_name": "Python 3 (ipykernel)",
   "language": "python",
   "name": "python3"
  },
  "language_info": {
   "codemirror_mode": {
    "name": "ipython",
    "version": 3
   },
   "file_extension": ".py",
   "mimetype": "text/x-python",
   "name": "python",
   "nbconvert_exporter": "python",
   "pygments_lexer": "ipython3",
   "version": "3.9.13"
  }
 },
 "nbformat": 4,
 "nbformat_minor": 4
}
