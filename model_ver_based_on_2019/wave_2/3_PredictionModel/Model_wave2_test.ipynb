{
 "cells": [
  {
   "cell_type": "code",
   "execution_count": 1,
   "metadata": {},
   "outputs": [],
   "source": [
    "import numpy as np\n",
    "import pandas as pd\n",
    "import matplotlib.pyplot as plt\n",
    "import scipy.stats as st\n",
    "from scipy import interp\n",
    "import seaborn as sns\n",
    "\n",
    "import sklearn\n",
    "from sklearn.model_selection import train_test_split, GridSearchCV, StratifiedKFold\n",
    "from sklearn.feature_selection import SelectKBest, f_classif\n",
    "from sklearn.decomposition import PCA\n",
    "from sklearn.preprocessing import StandardScaler, label_binarize, LabelBinarizer\n",
    "from sklearn.metrics import r2_score, f1_score, accuracy_score, roc_auc_score, roc_curve, auc, plot_confusion_matrix\n",
    "from sklearn.linear_model import LogisticRegression\n",
    "from sklearn.ensemble import BaggingClassifier, RandomForestClassifier, GradientBoostingClassifier\n",
    "\n",
    "import xgboost as xgb\n",
    "from xgboost import XGBClassifier\n",
    "from xgboost import XGBRFClassifier\n",
    "\n",
    "import lightgbm\n",
    "from lightgbm import LGBMClassifier\n",
    "\n",
    "import catboost as cb\n",
    "from catboost import CatBoostClassifier\n",
    "\n",
    "import warnings\n",
    "warnings.simplefilter(action='ignore', category=FutureWarning)\n",
    "pd.set_option('display.max_columns', None)\n",
    "pd.set_option('display.max_colwidth', None)\n",
    "pd.options.mode.chained_assignment = None"
   ]
  },
  {
   "cell_type": "markdown",
   "metadata": {},
   "source": [
    "### Preprocessing"
   ]
  },
  {
   "cell_type": "markdown",
   "metadata": {},
   "source": [
    "Создаем выборки"
   ]
  },
  {
   "cell_type": "code",
   "execution_count": 2,
   "metadata": {},
   "outputs": [],
   "source": [
    "X = pd.read_csv('C:/Users/Barca/Desktop/GitHub/IPO_Analysis/model_ver_based_on_2019/wave_2/3_PredictionModel/X.csv')\n",
    "y = pd.read_csv('C:/Users/Barca/Desktop/GitHub/IPO_Analysis/model_ver_based_on_2019/wave_2/3_PredictionModel/y.csv')\n",
    "\n",
    "X = X[['val_log',\n",
    "       'sum_raised_log',\n",
    "       'industry',\n",
    "       'val_rate',\n",
    "       'time_from_previous',\n",
    "       'time_from_start',\n",
    "       'top_investor_count',\n",
    "       'other_investor_count',\n",
    "       'Deflator',\n",
    "#       '1dd_unicorn_premium'\n",
    "#       '30dd_unicorn_premium'\n",
    "#       '60dd_unicorn_premium'\n",
    "       '90dd_unicorn_premium'\n",
    "#       'cumsum_add_ritter'\n",
    "#        'Deflator_1M',\n",
    "#        'Deflator_3M',\n",
    "#        'Deflator_6M',\n",
    "#        'Deflator_9M'\n",
    "      ]]\n",
    "\n",
    "features = X.columns\n",
    "features_set = []\n",
    "accuracy_set = []\n",
    "f1_set = []"
   ]
  },
  {
   "cell_type": "code",
   "execution_count": 3,
   "metadata": {},
   "outputs": [],
   "source": [
    "# X_send = X.copy()\n",
    "# X_send.columns = ['col1', 'col2', 'col3', 'col4', 'col5', 'col6', 'col7', 'col8', 'col9']\n",
    "# X_send.to_csv('X_send_w2.csv', encoding = 'utf-8-sig')\n",
    "\n",
    "# y_send = y.copy()\n",
    "# y_send.columns = ['answer']\n",
    "# y_send.to_csv('y_send_w2.csv', encoding = 'utf-8-sig')"
   ]
  },
  {
   "cell_type": "code",
   "execution_count": 4,
   "metadata": {},
   "outputs": [
    {
     "name": "stdout",
     "output_type": "stream",
     "text": [
      "(926, 10)\n",
      "(926,)\n"
     ]
    }
   ],
   "source": [
    "X = X.values.astype(np.float) #X = X.to_numpy(dtype=np.float)\n",
    "y = y.astype(int)\n",
    "y = y.values.ravel() #y = y.to_numpy()\n",
    "print(X.shape)\n",
    "print(y.shape)"
   ]
  },
  {
   "cell_type": "code",
   "execution_count": 5,
   "metadata": {},
   "outputs": [],
   "source": [
    "X_train, X_test, y_train, y_test = train_test_split(X, y, test_size=0.2, stratify=y, random_state=42)\n",
    "\n",
    "skaler = StandardScaler()\n",
    "X_train_t = skaler.fit_transform(X_train)\n",
    "X_test_t = skaler.transform(X_test)"
   ]
  },
  {
   "cell_type": "markdown",
   "metadata": {},
   "source": [
    "### Random Forest"
   ]
  },
  {
   "cell_type": "markdown",
   "metadata": {},
   "source": [
    "Sklearn"
   ]
  },
  {
   "cell_type": "code",
   "execution_count": 6,
   "metadata": {},
   "outputs": [
    {
     "name": "stdout",
     "output_type": "stream",
     "text": [
      "Fitting 5 folds for each of 5292 candidates, totalling 26460 fits\n",
      "0.7896028302536509\n"
     ]
    },
    {
     "data": {
      "text/plain": [
       "{'bootstrap': True,\n",
       " 'criterion': 'log_loss',\n",
       " 'max_depth': 10,\n",
       " 'min_samples_leaf': 7,\n",
       " 'min_samples_split': 10,\n",
       " 'n_estimators': 40}"
      ]
     },
     "execution_count": 6,
     "metadata": {},
     "output_type": "execute_result"
    }
   ],
   "source": [
    "param_grid = {\n",
    "    'bootstrap': [True, False],\n",
    "    'max_depth': [5, 7, 10, 20, 30, 40, 50, 75, 100],\n",
    "    'min_samples_leaf': [3, 4, 5, 7, 10, 12],\n",
    "    'min_samples_split': [5, 7, 10, 12, 15, 17, 20],\n",
    "    'n_estimators': [25, 40, 50, 75, 100, 120, 150],\n",
    "    'criterion': [\"log_loss\"]\n",
    "}\n",
    "\n",
    "estimator = RandomForestClassifier()\n",
    "grid_search = GridSearchCV(estimator = estimator, param_grid = param_grid, cv = StratifiedKFold(n_splits=5, shuffle=True), n_jobs = -1, verbose = 2, scoring='f1')\n",
    "grid_search.fit(X_train_t, y_train)\n",
    "print(grid_search.best_score_)\n",
    "grid_search.best_params_"
   ]
  },
  {
   "cell_type": "code",
   "execution_count": 7,
   "metadata": {},
   "outputs": [
    {
     "name": "stdout",
     "output_type": "stream",
     "text": [
      "acc = 0.771505376344086\n",
      "f1 = 0.7612629955170326\n"
     ]
    }
   ],
   "source": [
    "acc_array = []\n",
    "f1_array = []\n",
    "feature_array = []\n",
    "best_grid1 = grid_search.best_estimator_\n",
    "for j in range(10):\n",
    "    best_grid1.fit(X_train_t, y_train)\n",
    "    predicted_labels = best_grid1.predict(X_test_t)\n",
    "    acc = accuracy_score(y_test, predicted_labels)\n",
    "    f1 = f1_score(y_test, predicted_labels, average = 'macro')\n",
    "    acc_array.append(acc)\n",
    "    f1_array.append(f1)\n",
    "    feature_array.append(best_grid1.feature_importances_)\n",
    "print(f'acc = {np.mean(acc_array)}')\n",
    "print(f'f1 = {np.mean(f1_array)}')"
   ]
  },
  {
   "cell_type": "code",
   "execution_count": 8,
   "metadata": {},
   "outputs": [
    {
     "data": {
      "image/png": "[encoded data removed]",
      "text/plain": [
       "<Figure size 432x288 with 1 Axes>"
      ]
     },
     "metadata": {
      "needs_background": "light"
     },
     "output_type": "display_data"
    }
   ],
   "source": [
    "plt.bar(range(len(features)), best_grid1.feature_importances_)\n",
    "plt.xticks(range(len(features)), features, rotation='vertical')\n",
    "plt.show()"
   ]
  },
  {
   "cell_type": "code",
   "execution_count": 9,
   "metadata": {},
   "outputs": [],
   "source": [
    "accuracy_set.append(np.mean(acc_array))\n",
    "f1_set.append(np.mean(f1_array))\n",
    "features_set.append(np.average(feature_array, axis=0))"
   ]
  },
  {
   "cell_type": "markdown",
   "metadata": {},
   "source": [
    "XGBoost"
   ]
  },
  {
   "cell_type": "code",
   "execution_count": 10,
   "metadata": {},
   "outputs": [
    {
     "name": "stdout",
     "output_type": "stream",
     "text": [
      "Fitting 5 folds for each of 10368 candidates, totalling 51840 fits\n",
      "0.7931837036760637\n"
     ]
    },
    {
     "data": {
      "text/plain": [
       "{'booster': 'gbtree',\n",
       " 'colsample_bytree': 0.5,\n",
       " 'eval_metric': 'logloss',\n",
       " 'gamma': 0,\n",
       " 'learning_rate': 0.01,\n",
       " 'max_depth': 5,\n",
       " 'max_leaves': 3,\n",
       " 'n_estimators': 150,\n",
       " 'objective': 'binary:logistic',\n",
       " 'reg_alpha': 0,\n",
       " 'reg_lambda': 0,\n",
       " 'scale_pos_weight': 1,\n",
       " 'subsample': 0.8}"
      ]
     },
     "execution_count": 10,
     "metadata": {},
     "output_type": "execute_result"
    }
   ],
   "source": [
    "param_grid = {\n",
    "    \"learning_rate\": [0.01, 0.05, 0.1],\n",
    "    \"gamma\": [0, 0.1],\n",
    "    \"reg_alpha\": [0, 0.1],\n",
    "    \"reg_lambda\": [0, 0.1],\n",
    "    \"scale_pos_weight\": [1, 3, 5],\n",
    "    'max_depth': [5, 10, 25, 50, 75, 100],\n",
    "    'max_leaves': [3, 5, 10, 25, 50, 100],\n",
    "    'n_estimators': [50, 100, 120, 150],\n",
    "    'colsample_bytree': [0.5],\n",
    "    'subsample': [0.8],\n",
    "    'booster': ['gbtree'],\n",
    "    'objective': [\"binary:logistic\"],\n",
    "    'eval_metric': [\"logloss\"]\n",
    "}\n",
    "\n",
    "estimator = XGBRFClassifier()\n",
    "grid_search = GridSearchCV(estimator, param_grid, n_jobs=-1, cv=StratifiedKFold(n_splits=5, shuffle=True), verbose = 2, scoring=\"f1\") #, scoring='accuracy' roc_auc\n",
    "grid_search.fit(X_train_t, y_train)\n",
    "print(grid_search.best_score_)\n",
    "grid_search.best_params_"
   ]
  },
  {
   "cell_type": "code",
   "execution_count": 11,
   "metadata": {},
   "outputs": [
    {
     "data": {
      "text/html": [
       "<style>#sk-container-id-1 {color: black;background-color: white;}#sk-container-id-1 pre{padding: 0;}#sk-container-id-1 div.sk-toggleable {background-color: white;}#sk-container-id-1 label.sk-toggleable__label {cursor: pointer;display: block;width: 100%;margin-bottom: 0;padding: 0.3em;box-sizing: border-box;text-align: center;}#sk-container-id-1 label.sk-toggleable__label-arrow:before {content: \"▸\";float: left;margin-right: 0.25em;color: #696969;}#sk-container-id-1 label.sk-toggleable__label-arrow:hover:before {color: black;}#sk-container-id-1 div.sk-estimator:hover label.sk-toggleable__label-arrow:before {color: black;}#sk-container-id-1 div.sk-toggleable__content {max-height: 0;max-width: 0;overflow: hidden;text-align: left;background-color: #f0f8ff;}#sk-container-id-1 div.sk-toggleable__content pre {margin: 0.2em;color: black;border-radius: 0.25em;background-color: #f0f8ff;}#sk-container-id-1 input.sk-toggleable__control:checked~div.sk-toggleable__content {max-height: 200px;max-width: 100%;overflow: auto;}#sk-container-id-1 input.sk-toggleable__control:checked~label.sk-toggleable__label-arrow:before {content: \"▾\";}#sk-container-id-1 div.sk-estimator input.sk-toggleable__control:checked~label.sk-toggleable__label {background-color: #d4ebff;}#sk-container-id-1 div.sk-label input.sk-toggleable__control:checked~label.sk-toggleable__label {background-color: #d4ebff;}#sk-container-id-1 input.sk-hidden--visually {border: 0;clip: rect(1px 1px 1px 1px);clip: rect(1px, 1px, 1px, 1px);height: 1px;margin: -1px;overflow: hidden;padding: 0;position: absolute;width: 1px;}#sk-container-id-1 div.sk-estimator {font-family: monospace;background-color: #f0f8ff;border: 1px dotted black;border-radius: 0.25em;box-sizing: border-box;margin-bottom: 0.5em;}#sk-container-id-1 div.sk-estimator:hover {background-color: #d4ebff;}#sk-container-id-1 div.sk-parallel-item::after {content: \"\";width: 100%;border-bottom: 1px solid gray;flex-grow: 1;}#sk-container-id-1 div.sk-label:hover label.sk-toggleable__label {background-color: #d4ebff;}#sk-container-id-1 div.sk-serial::before {content: \"\";position: absolute;border-left: 1px solid gray;box-sizing: border-box;top: 0;bottom: 0;left: 50%;z-index: 0;}#sk-container-id-1 div.sk-serial {display: flex;flex-direction: column;align-items: center;background-color: white;padding-right: 0.2em;padding-left: 0.2em;position: relative;}#sk-container-id-1 div.sk-item {position: relative;z-index: 1;}#sk-container-id-1 div.sk-parallel {display: flex;align-items: stretch;justify-content: center;background-color: white;position: relative;}#sk-container-id-1 div.sk-item::before, #sk-container-id-1 div.sk-parallel-item::before {content: \"\";position: absolute;border-left: 1px solid gray;box-sizing: border-box;top: 0;bottom: 0;left: 50%;z-index: -1;}#sk-container-id-1 div.sk-parallel-item {display: flex;flex-direction: column;z-index: 1;position: relative;background-color: white;}#sk-container-id-1 div.sk-parallel-item:first-child::after {align-self: flex-end;width: 50%;}#sk-container-id-1 div.sk-parallel-item:last-child::after {align-self: flex-start;width: 50%;}#sk-container-id-1 div.sk-parallel-item:only-child::after {width: 0;}#sk-container-id-1 div.sk-dashed-wrapped {border: 1px dashed gray;margin: 0 0.4em 0.5em 0.4em;box-sizing: border-box;padding-bottom: 0.4em;background-color: white;}#sk-container-id-1 div.sk-label label {font-family: monospace;font-weight: bold;display: inline-block;line-height: 1.2em;}#sk-container-id-1 div.sk-label-container {text-align: center;}#sk-container-id-1 div.sk-container {/* jupyter's `normalize.less` sets `[hidden] { display: none; }` but bootstrap.min.css set `[hidden] { display: none !important; }` so we also need the `!important` here to be able to override the default hidden behavior on the sphinx rendered scikit-learn.org. See: https://github.com/scikit-learn/scikit-learn/issues/21755 */display: inline-block !important;position: relative;}#sk-container-id-1 div.sk-text-repr-fallback {display: none;}</style><div id=\"sk-container-id-1\" class=\"sk-top-container\"><div class=\"sk-text-repr-fallback\"><pre>XGBRFClassifier(base_score=0.5, booster=&#x27;gbtree&#x27;, callbacks=None,\n",
       "                colsample_bylevel=1, colsample_bytree=0.5,\n",
       "                early_stopping_rounds=None, enable_categorical=False,\n",
       "                eval_metric=&#x27;logloss&#x27;, gamma=0, gpu_id=-1,\n",
       "                grow_policy=&#x27;depthwise&#x27;, importance_type=None,\n",
       "                interaction_constraints=&#x27;&#x27;, learning_rate=0.01, max_bin=256,\n",
       "                max_cat_to_onehot=4, max_delta_step=0, max_depth=5,\n",
       "                max_leaves=3, min_child_weight=1, missing=nan,\n",
       "                monotone_constraints=&#x27;()&#x27;, n_estimators=150, n_jobs=0,\n",
       "                num_parallel_tree=150, objective=&#x27;binary:logistic&#x27;,\n",
       "                predictor=&#x27;auto&#x27;, random_state=0, reg_alpha=0, reg_lambda=0, ...)</pre><b>In a Jupyter environment, please rerun this cell to show the HTML representation or trust the notebook. <br />On GitHub, the HTML representation is unable to render, please try loading this page with nbviewer.org.</b></div><div class=\"sk-container\" hidden><div class=\"sk-item\"><div class=\"sk-estimator sk-toggleable\"><input class=\"sk-toggleable__control sk-hidden--visually\" id=\"sk-estimator-id-1\" type=\"checkbox\" checked><label for=\"sk-estimator-id-1\" class=\"sk-toggleable__label sk-toggleable__label-arrow\">XGBRFClassifier</label><div class=\"sk-toggleable__content\"><pre>XGBRFClassifier(base_score=0.5, booster=&#x27;gbtree&#x27;, callbacks=None,\n",
       "                colsample_bylevel=1, colsample_bytree=0.5,\n",
       "                early_stopping_rounds=None, enable_categorical=False,\n",
       "                eval_metric=&#x27;logloss&#x27;, gamma=0, gpu_id=-1,\n",
       "                grow_policy=&#x27;depthwise&#x27;, importance_type=None,\n",
       "                interaction_constraints=&#x27;&#x27;, learning_rate=0.01, max_bin=256,\n",
       "                max_cat_to_onehot=4, max_delta_step=0, max_depth=5,\n",
       "                max_leaves=3, min_child_weight=1, missing=nan,\n",
       "                monotone_constraints=&#x27;()&#x27;, n_estimators=150, n_jobs=0,\n",
       "                num_parallel_tree=150, objective=&#x27;binary:logistic&#x27;,\n",
       "                predictor=&#x27;auto&#x27;, random_state=0, reg_alpha=0, reg_lambda=0, ...)</pre></div></div></div></div></div>"
      ],
      "text/plain": [
       "XGBRFClassifier(base_score=0.5, booster='gbtree', callbacks=None,\n",
       "                colsample_bylevel=1, colsample_bytree=0.5,\n",
       "                early_stopping_rounds=None, enable_categorical=False,\n",
       "                eval_metric='logloss', gamma=0, gpu_id=-1,\n",
       "                grow_policy='depthwise', importance_type=None,\n",
       "                interaction_constraints='', learning_rate=0.01, max_bin=256,\n",
       "                max_cat_to_onehot=4, max_delta_step=0, max_depth=5,\n",
       "                max_leaves=3, min_child_weight=1, missing=nan,\n",
       "                monotone_constraints='()', n_estimators=150, n_jobs=0,\n",
       "                num_parallel_tree=150, objective='binary:logistic',\n",
       "                predictor='auto', random_state=0, reg_alpha=0, reg_lambda=0, ...)"
      ]
     },
     "execution_count": 11,
     "metadata": {},
     "output_type": "execute_result"
    }
   ],
   "source": [
    "#best_grid2 = XGBRFClassifier(booster = 'gbtree', eval_metric = \"logloss\", **grid_search.best_params_)\n",
    "best_grid2 = grid_search.best_estimator_\n",
    "best_grid2.fit(X_train_t, y_train)"
   ]
  },
  {
   "cell_type": "code",
   "execution_count": 12,
   "metadata": {},
   "outputs": [
    {
     "name": "stdout",
     "output_type": "stream",
     "text": [
      "acc = 0.7688172043010753\n",
      "f1 = 0.7544441374228608\n"
     ]
    }
   ],
   "source": [
    "predicted_labels = best_grid2.predict(X_test_t)\n",
    "\n",
    "roc_auc = roc_auc_score(y_test, predicted_labels)\n",
    "acc = accuracy_score(y_test, predicted_labels)\n",
    "f1 = f1_score(y_test, predicted_labels, average = 'macro')\n",
    "\n",
    "print(f'acc = {acc}')\n",
    "print(f'f1 = {f1}')"
   ]
  },
  {
   "cell_type": "code",
   "execution_count": 13,
   "metadata": {},
   "outputs": [
    {
     "data": {
      "image/png": "[encoded data removed]",
      "text/plain": [
       "<Figure size 432x288 with 1 Axes>"
      ]
     },
     "metadata": {
      "needs_background": "light"
     },
     "output_type": "display_data"
    }
   ],
   "source": [
    "plt.bar(range(len(features)), best_grid2.feature_importances_)\n",
    "plt.xticks(range(len(features)), features, rotation='vertical')\n",
    "plt.show()"
   ]
  },
  {
   "cell_type": "code",
   "execution_count": 14,
   "metadata": {},
   "outputs": [],
   "source": [
    "accuracy_set.append(acc)\n",
    "f1_set.append(f1)\n",
    "features_set.append(best_grid2.feature_importances_)"
   ]
  },
  {
   "cell_type": "markdown",
   "metadata": {},
   "source": [
    "### Gradient Boosting"
   ]
  },
  {
   "cell_type": "markdown",
   "metadata": {},
   "source": [
    "Sklearn"
   ]
  },
  {
   "cell_type": "code",
   "execution_count": 15,
   "metadata": {},
   "outputs": [
    {
     "name": "stdout",
     "output_type": "stream",
     "text": [
      "Fitting 5 folds for each of 1152 candidates, totalling 5760 fits\n",
      "0.7351351351351352\n"
     ]
    },
    {
     "data": {
      "text/plain": [
       "{'learning_rate': 0.05,\n",
       " 'max_depth': 25,\n",
       " 'min_samples_leaf': 3,\n",
       " 'min_samples_split': 5,\n",
       " 'n_estimators': 120}"
      ]
     },
     "execution_count": 15,
     "metadata": {},
     "output_type": "execute_result"
    }
   ],
   "source": [
    "param_grid = {\n",
    "    'learning_rate': [0.01, 0.05, 0.1],\n",
    "    'max_depth': [25, 50, 75, 100],\n",
    "    'min_samples_leaf': [3, 5, 7, 10],\n",
    "    'min_samples_split': [5, 10, 12, 15],\n",
    "    'n_estimators': [25, 50, 75, 100, 120, 150]\n",
    "}\n",
    "\n",
    "estimator = GradientBoostingClassifier()\n",
    "grid_search = GridSearchCV(estimator = estimator, param_grid = param_grid, cv = StratifiedKFold(n_splits=5, shuffle=True), n_jobs = -1, verbose = 2, scoring='accuracy')\n",
    "grid_search.fit(X_train_t, y_train)\n",
    "print(grid_search.best_score_)\n",
    "grid_search.best_params_"
   ]
  },
  {
   "cell_type": "code",
   "execution_count": 16,
   "metadata": {},
   "outputs": [
    {
     "name": "stdout",
     "output_type": "stream",
     "text": [
      "acc = 0.7435483870967742\n",
      "f1 = 0.7321045567594873\n"
     ]
    }
   ],
   "source": [
    "acc_array = []\n",
    "f1_array = []\n",
    "feature_array = []\n",
    "best_grid3 = grid_search.best_estimator_\n",
    "for j in range(10):\n",
    "    best_grid3.fit(X_train_t, y_train)\n",
    "    predicted_labels = best_grid3.predict(X_test_t)\n",
    "    acc = accuracy_score(y_test, predicted_labels)\n",
    "    f1 = f1_score(y_test, predicted_labels, average = 'macro')\n",
    "    acc_array.append(acc)\n",
    "    f1_array.append(f1)\n",
    "    feature_array.append(best_grid3.feature_importances_)\n",
    "print(f'acc = {np.mean(acc_array)}')\n",
    "print(f'f1 = {np.mean(f1_array)}')"
   ]
  },
  {
   "cell_type": "code",
   "execution_count": 17,
   "metadata": {},
   "outputs": [
    {
     "data": {
      "image/png": "[encoded data removed]",
      "text/plain": [
       "<Figure size 432x288 with 1 Axes>"
      ]
     },
     "metadata": {
      "needs_background": "light"
     },
     "output_type": "display_data"
    }
   ],
   "source": [
    "plt.bar(range(len(features)), best_grid3.feature_importances_)\n",
    "plt.xticks(range(len(features)), features, rotation='vertical')\n",
    "plt.show()"
   ]
  },
  {
   "cell_type": "code",
   "execution_count": 18,
   "metadata": {},
   "outputs": [],
   "source": [
    "accuracy_set.append(np.mean(acc_array))\n",
    "f1_set.append(np.mean(f1_array))\n",
    "features_set.append(np.average(feature_array, axis=0))"
   ]
  },
  {
   "cell_type": "markdown",
   "metadata": {},
   "source": [
    "XGBoost"
   ]
  },
  {
   "cell_type": "code",
   "execution_count": 19,
   "metadata": {},
   "outputs": [
    {
     "name": "stdout",
     "output_type": "stream",
     "text": [
      "Fitting 5 folds for each of 1620 candidates, totalling 8100 fits\n",
      "0.7888118774916641\n"
     ]
    },
    {
     "data": {
      "text/plain": [
       "{'colsample_bytree': 0.5,\n",
       " 'gamma': 0.25,\n",
       " 'learning_rate': 0.01,\n",
       " 'max_depth': 5,\n",
       " 'n_estimators': 150,\n",
       " 'objective': 'binary:logistic',\n",
       " 'reg_lambda': 1,\n",
       " 'scale_pos_weight': 1,\n",
       " 'subsample': 0.8}"
      ]
     },
     "execution_count": 19,
     "metadata": {},
     "output_type": "execute_result"
    }
   ],
   "source": [
    "param_grid = {\n",
    "    \"max_depth\": [3, 5, 10, 50, 100],\n",
    "    'n_estimators': [50, 100, 120, 150],\n",
    "    \"learning_rate\": [0.1, 0.01, 0.05],\n",
    "    \"gamma\": [0, 0.25, 1],\n",
    "    \"reg_lambda\": [0, 1, 10],\n",
    "    \"scale_pos_weight\": [1, 3, 5],\n",
    "    'objective': [\"binary:logistic\"],\n",
    "    'colsample_bytree': [0.5],\n",
    "    'subsample': [0.8]\n",
    "}\n",
    "\n",
    "estimator = XGBClassifier()\n",
    "grid_search = GridSearchCV(estimator, param_grid, n_jobs=-1, verbose = 2, cv=StratifiedKFold(n_splits=5, shuffle=True), scoring=\"f1\") #scoring='accuracy' roc_auc\n",
    "grid_search.fit(X_train_t, y_train)\n",
    "print(grid_search.best_score_)\n",
    "grid_search.best_params_"
   ]
  },
  {
   "cell_type": "code",
   "execution_count": 20,
   "metadata": {},
   "outputs": [],
   "source": [
    "#pd.DataFrame(grid_search.cv_results_).to_csv('cv_results.csv')"
   ]
  },
  {
   "cell_type": "code",
   "execution_count": 21,
   "metadata": {},
   "outputs": [],
   "source": [
    "# best_grid4 = XGBClassifier(colsample_bytree=0.5, gamma=0.25, learning_rate=0.1, max_depth=4, objective='binary:logistic', reg_lambda=0, scale_pos_weight=1, subsample=0.8)\n",
    "# best_grid4.fit(X_train_t, y_train)\n",
    "# predicted_labels = best_grid4.predict(X_test_t)\n",
    "\n",
    "# roc_auc = roc_auc_score(y_test, predicted_labels)\n",
    "# acc = accuracy_score(y_test, predicted_labels)\n",
    "# f1 = f1_score(y_test, predicted_labels, average = 'macro')\n",
    "# PR = precision_score(y_test, predicted_labels, average = 'macro')\n",
    "# RC = recall_score(y_test, predicted_labels, average = 'macro')\n",
    "\n",
    "# print(f'acc = {acc}')\n",
    "# print(f'PR = {PR}')\n",
    "# print(f'RC = {RC}')\n",
    "# print(f'f1 = {f1}')"
   ]
  },
  {
   "cell_type": "code",
   "execution_count": 22,
   "metadata": {},
   "outputs": [],
   "source": [
    "# sklearn.metrics.plot_confusion_matrix(best_grid4, X_test_t, y_test, xticks_rotation='horizontal', cmap='viridis', colorbar=True, normalize='true')"
   ]
  },
  {
   "cell_type": "code",
   "execution_count": 23,
   "metadata": {},
   "outputs": [],
   "source": [
    "# sklearn.metrics.plot_confusion_matrix(best_grid4, X_train_t, y_train, xticks_rotation='horizontal', cmap='viridis', colorbar=True, normalize='true')"
   ]
  },
  {
   "cell_type": "code",
   "execution_count": 24,
   "metadata": {},
   "outputs": [
    {
     "data": {
      "text/html": [
       "<style>#sk-container-id-2 {color: black;background-color: white;}#sk-container-id-2 pre{padding: 0;}#sk-container-id-2 div.sk-toggleable {background-color: white;}#sk-container-id-2 label.sk-toggleable__label {cursor: pointer;display: block;width: 100%;margin-bottom: 0;padding: 0.3em;box-sizing: border-box;text-align: center;}#sk-container-id-2 label.sk-toggleable__label-arrow:before {content: \"▸\";float: left;margin-right: 0.25em;color: #696969;}#sk-container-id-2 label.sk-toggleable__label-arrow:hover:before {color: black;}#sk-container-id-2 div.sk-estimator:hover label.sk-toggleable__label-arrow:before {color: black;}#sk-container-id-2 div.sk-toggleable__content {max-height: 0;max-width: 0;overflow: hidden;text-align: left;background-color: #f0f8ff;}#sk-container-id-2 div.sk-toggleable__content pre {margin: 0.2em;color: black;border-radius: 0.25em;background-color: #f0f8ff;}#sk-container-id-2 input.sk-toggleable__control:checked~div.sk-toggleable__content {max-height: 200px;max-width: 100%;overflow: auto;}#sk-container-id-2 input.sk-toggleable__control:checked~label.sk-toggleable__label-arrow:before {content: \"▾\";}#sk-container-id-2 div.sk-estimator input.sk-toggleable__control:checked~label.sk-toggleable__label {background-color: #d4ebff;}#sk-container-id-2 div.sk-label input.sk-toggleable__control:checked~label.sk-toggleable__label {background-color: #d4ebff;}#sk-container-id-2 input.sk-hidden--visually {border: 0;clip: rect(1px 1px 1px 1px);clip: rect(1px, 1px, 1px, 1px);height: 1px;margin: -1px;overflow: hidden;padding: 0;position: absolute;width: 1px;}#sk-container-id-2 div.sk-estimator {font-family: monospace;background-color: #f0f8ff;border: 1px dotted black;border-radius: 0.25em;box-sizing: border-box;margin-bottom: 0.5em;}#sk-container-id-2 div.sk-estimator:hover {background-color: #d4ebff;}#sk-container-id-2 div.sk-parallel-item::after {content: \"\";width: 100%;border-bottom: 1px solid gray;flex-grow: 1;}#sk-container-id-2 div.sk-label:hover label.sk-toggleable__label {background-color: #d4ebff;}#sk-container-id-2 div.sk-serial::before {content: \"\";position: absolute;border-left: 1px solid gray;box-sizing: border-box;top: 0;bottom: 0;left: 50%;z-index: 0;}#sk-container-id-2 div.sk-serial {display: flex;flex-direction: column;align-items: center;background-color: white;padding-right: 0.2em;padding-left: 0.2em;position: relative;}#sk-container-id-2 div.sk-item {position: relative;z-index: 1;}#sk-container-id-2 div.sk-parallel {display: flex;align-items: stretch;justify-content: center;background-color: white;position: relative;}#sk-container-id-2 div.sk-item::before, #sk-container-id-2 div.sk-parallel-item::before {content: \"\";position: absolute;border-left: 1px solid gray;box-sizing: border-box;top: 0;bottom: 0;left: 50%;z-index: -1;}#sk-container-id-2 div.sk-parallel-item {display: flex;flex-direction: column;z-index: 1;position: relative;background-color: white;}#sk-container-id-2 div.sk-parallel-item:first-child::after {align-self: flex-end;width: 50%;}#sk-container-id-2 div.sk-parallel-item:last-child::after {align-self: flex-start;width: 50%;}#sk-container-id-2 div.sk-parallel-item:only-child::after {width: 0;}#sk-container-id-2 div.sk-dashed-wrapped {border: 1px dashed gray;margin: 0 0.4em 0.5em 0.4em;box-sizing: border-box;padding-bottom: 0.4em;background-color: white;}#sk-container-id-2 div.sk-label label {font-family: monospace;font-weight: bold;display: inline-block;line-height: 1.2em;}#sk-container-id-2 div.sk-label-container {text-align: center;}#sk-container-id-2 div.sk-container {/* jupyter's `normalize.less` sets `[hidden] { display: none; }` but bootstrap.min.css set `[hidden] { display: none !important; }` so we also need the `!important` here to be able to override the default hidden behavior on the sphinx rendered scikit-learn.org. See: https://github.com/scikit-learn/scikit-learn/issues/21755 */display: inline-block !important;position: relative;}#sk-container-id-2 div.sk-text-repr-fallback {display: none;}</style><div id=\"sk-container-id-2\" class=\"sk-top-container\"><div class=\"sk-text-repr-fallback\"><pre>XGBClassifier(base_score=0.5, booster=&#x27;gbtree&#x27;, callbacks=None,\n",
       "              colsample_bylevel=1, colsample_bynode=1, colsample_bytree=0.5,\n",
       "              early_stopping_rounds=None, enable_categorical=False,\n",
       "              eval_metric=None, gamma=0.25, gpu_id=-1, grow_policy=&#x27;depthwise&#x27;,\n",
       "              importance_type=None, interaction_constraints=&#x27;&#x27;,\n",
       "              learning_rate=0.01, max_bin=256, max_cat_to_onehot=4,\n",
       "              max_delta_step=0, max_depth=5, max_leaves=0, min_child_weight=1,\n",
       "              missing=nan, monotone_constraints=&#x27;()&#x27;, n_estimators=150,\n",
       "              n_jobs=0, num_parallel_tree=1, predictor=&#x27;auto&#x27;, random_state=0,\n",
       "              reg_alpha=0, reg_lambda=1, ...)</pre><b>In a Jupyter environment, please rerun this cell to show the HTML representation or trust the notebook. <br />On GitHub, the HTML representation is unable to render, please try loading this page with nbviewer.org.</b></div><div class=\"sk-container\" hidden><div class=\"sk-item\"><div class=\"sk-estimator sk-toggleable\"><input class=\"sk-toggleable__control sk-hidden--visually\" id=\"sk-estimator-id-2\" type=\"checkbox\" checked><label for=\"sk-estimator-id-2\" class=\"sk-toggleable__label sk-toggleable__label-arrow\">XGBClassifier</label><div class=\"sk-toggleable__content\"><pre>XGBClassifier(base_score=0.5, booster=&#x27;gbtree&#x27;, callbacks=None,\n",
       "              colsample_bylevel=1, colsample_bynode=1, colsample_bytree=0.5,\n",
       "              early_stopping_rounds=None, enable_categorical=False,\n",
       "              eval_metric=None, gamma=0.25, gpu_id=-1, grow_policy=&#x27;depthwise&#x27;,\n",
       "              importance_type=None, interaction_constraints=&#x27;&#x27;,\n",
       "              learning_rate=0.01, max_bin=256, max_cat_to_onehot=4,\n",
       "              max_delta_step=0, max_depth=5, max_leaves=0, min_child_weight=1,\n",
       "              missing=nan, monotone_constraints=&#x27;()&#x27;, n_estimators=150,\n",
       "              n_jobs=0, num_parallel_tree=1, predictor=&#x27;auto&#x27;, random_state=0,\n",
       "              reg_alpha=0, reg_lambda=1, ...)</pre></div></div></div></div></div>"
      ],
      "text/plain": [
       "XGBClassifier(base_score=0.5, booster='gbtree', callbacks=None,\n",
       "              colsample_bylevel=1, colsample_bynode=1, colsample_bytree=0.5,\n",
       "              early_stopping_rounds=None, enable_categorical=False,\n",
       "              eval_metric=None, gamma=0.25, gpu_id=-1, grow_policy='depthwise',\n",
       "              importance_type=None, interaction_constraints='',\n",
       "              learning_rate=0.01, max_bin=256, max_cat_to_onehot=4,\n",
       "              max_delta_step=0, max_depth=5, max_leaves=0, min_child_weight=1,\n",
       "              missing=nan, monotone_constraints='()', n_estimators=150,\n",
       "              n_jobs=0, num_parallel_tree=1, predictor='auto', random_state=0,\n",
       "              reg_alpha=0, reg_lambda=1, ...)"
      ]
     },
     "execution_count": 24,
     "metadata": {},
     "output_type": "execute_result"
    }
   ],
   "source": [
    "#best_grid4 = XGBClassifier(objective=\"binary:logistic\", colsample_bytree = 0.5, subsample = 0.8, **grid_search.best_params_)\n",
    "best_grid4 = grid_search.best_estimator_\n",
    "best_grid4.fit(X_train_t, y_train)"
   ]
  },
  {
   "cell_type": "code",
   "execution_count": 25,
   "metadata": {},
   "outputs": [
    {
     "name": "stdout",
     "output_type": "stream",
     "text": [
      "acc = 0.7741935483870968\n",
      "f1 = 0.760808328230251\n"
     ]
    }
   ],
   "source": [
    "predicted_labels = best_grid4.predict(X_test_t)\n",
    "\n",
    "roc_auc = roc_auc_score(y_test, predicted_labels)\n",
    "acc = accuracy_score(y_test, predicted_labels)\n",
    "f1 = f1_score(y_test, predicted_labels, average = 'macro')\n",
    "\n",
    "print(f'acc = {acc}')\n",
    "print(f'f1 = {f1}')"
   ]
  },
  {
   "cell_type": "code",
   "execution_count": 26,
   "metadata": {},
   "outputs": [
    {
     "data": {
      "image/png": "[encoded data removed]",
      "text/plain": [
       "<Figure size 432x288 with 1 Axes>"
      ]
     },
     "metadata": {
      "needs_background": "light"
     },
     "output_type": "display_data"
    }
   ],
   "source": [
    "plt.bar(range(len(features)), best_grid4.feature_importances_)\n",
    "plt.xticks(range(len(features)), features, rotation='vertical')\n",
    "plt.show()"
   ]
  },
  {
   "cell_type": "code",
   "execution_count": 27,
   "metadata": {},
   "outputs": [],
   "source": [
    "accuracy_set.append(acc)\n",
    "f1_set.append(f1)\n",
    "features_set.append(best_grid4.feature_importances_)"
   ]
  },
  {
   "cell_type": "markdown",
   "metadata": {},
   "source": [
    "LightGBM"
   ]
  },
  {
   "cell_type": "code",
   "execution_count": 28,
   "metadata": {},
   "outputs": [
    {
     "name": "stdout",
     "output_type": "stream",
     "text": [
      "Fitting 5 folds for each of 9720 candidates, totalling 48600 fits\n",
      "0.790050802280448\n"
     ]
    },
    {
     "data": {
      "text/plain": [
       "{'boosting_type': 'gbdt',\n",
       " 'colsample_bytree': 0.5,\n",
       " 'learning_rate': 0.01,\n",
       " 'max_depth': 3,\n",
       " 'metric': 'binary_logloss',\n",
       " 'min_child_samples': 5,\n",
       " 'n_estimators': 100,\n",
       " 'num_leaves': 20,\n",
       " 'objective': 'binary',\n",
       " 'reg_alpha': 0.25,\n",
       " 'reg_lambda': 0.25,\n",
       " 'subsample': 0.8}"
      ]
     },
     "execution_count": 28,
     "metadata": {},
     "output_type": "execute_result"
    }
   ],
   "source": [
    "param_grid = {\n",
    "    \"max_depth\": [3, 4, 5, 7],\n",
    "    \"learning_rate\": [0.01, 0.05, 0.1],\n",
    "    'n_estimators': [25, 50, 75, 100, 120, 150],\n",
    "    \"reg_alpha\": [0, 0.1, 0.25],\n",
    "    \"reg_lambda\": [0, 0.1, 0.25],\n",
    "    \"subsample\": [0.8],\n",
    "    \"colsample_bytree\": [0.5],\n",
    "    \"min_child_samples\": [5, 20, 100],\n",
    "    'num_leaves': [5, 20, 30, 50, 100],\n",
    "    'objective': [\"binary\"],\n",
    "    'metric': ['binary_logloss'],\n",
    "    'boosting_type': ['gbdt']\n",
    "}\n",
    "\n",
    "estimator = LGBMClassifier()\n",
    "grid_search = GridSearchCV(estimator, param_grid, n_jobs=-1, verbose = 2, cv=StratifiedKFold(n_splits=5, shuffle=True), scoring=\"f1\") #scoring='accuracy' roc_auc\n",
    "grid_search.fit(X_train_t, y_train)\n",
    "print(grid_search.best_score_)\n",
    "grid_search.best_params_"
   ]
  },
  {
   "cell_type": "code",
   "execution_count": 29,
   "metadata": {},
   "outputs": [
    {
     "data": {
      "text/html": [
       "<style>#sk-container-id-3 {color: black;background-color: white;}#sk-container-id-3 pre{padding: 0;}#sk-container-id-3 div.sk-toggleable {background-color: white;}#sk-container-id-3 label.sk-toggleable__label {cursor: pointer;display: block;width: 100%;margin-bottom: 0;padding: 0.3em;box-sizing: border-box;text-align: center;}#sk-container-id-3 label.sk-toggleable__label-arrow:before {content: \"▸\";float: left;margin-right: 0.25em;color: #696969;}#sk-container-id-3 label.sk-toggleable__label-arrow:hover:before {color: black;}#sk-container-id-3 div.sk-estimator:hover label.sk-toggleable__label-arrow:before {color: black;}#sk-container-id-3 div.sk-toggleable__content {max-height: 0;max-width: 0;overflow: hidden;text-align: left;background-color: #f0f8ff;}#sk-container-id-3 div.sk-toggleable__content pre {margin: 0.2em;color: black;border-radius: 0.25em;background-color: #f0f8ff;}#sk-container-id-3 input.sk-toggleable__control:checked~div.sk-toggleable__content {max-height: 200px;max-width: 100%;overflow: auto;}#sk-container-id-3 input.sk-toggleable__control:checked~label.sk-toggleable__label-arrow:before {content: \"▾\";}#sk-container-id-3 div.sk-estimator input.sk-toggleable__control:checked~label.sk-toggleable__label {background-color: #d4ebff;}#sk-container-id-3 div.sk-label input.sk-toggleable__control:checked~label.sk-toggleable__label {background-color: #d4ebff;}#sk-container-id-3 input.sk-hidden--visually {border: 0;clip: rect(1px 1px 1px 1px);clip: rect(1px, 1px, 1px, 1px);height: 1px;margin: -1px;overflow: hidden;padding: 0;position: absolute;width: 1px;}#sk-container-id-3 div.sk-estimator {font-family: monospace;background-color: #f0f8ff;border: 1px dotted black;border-radius: 0.25em;box-sizing: border-box;margin-bottom: 0.5em;}#sk-container-id-3 div.sk-estimator:hover {background-color: #d4ebff;}#sk-container-id-3 div.sk-parallel-item::after {content: \"\";width: 100%;border-bottom: 1px solid gray;flex-grow: 1;}#sk-container-id-3 div.sk-label:hover label.sk-toggleable__label {background-color: #d4ebff;}#sk-container-id-3 div.sk-serial::before {content: \"\";position: absolute;border-left: 1px solid gray;box-sizing: border-box;top: 0;bottom: 0;left: 50%;z-index: 0;}#sk-container-id-3 div.sk-serial {display: flex;flex-direction: column;align-items: center;background-color: white;padding-right: 0.2em;padding-left: 0.2em;position: relative;}#sk-container-id-3 div.sk-item {position: relative;z-index: 1;}#sk-container-id-3 div.sk-parallel {display: flex;align-items: stretch;justify-content: center;background-color: white;position: relative;}#sk-container-id-3 div.sk-item::before, #sk-container-id-3 div.sk-parallel-item::before {content: \"\";position: absolute;border-left: 1px solid gray;box-sizing: border-box;top: 0;bottom: 0;left: 50%;z-index: -1;}#sk-container-id-3 div.sk-parallel-item {display: flex;flex-direction: column;z-index: 1;position: relative;background-color: white;}#sk-container-id-3 div.sk-parallel-item:first-child::after {align-self: flex-end;width: 50%;}#sk-container-id-3 div.sk-parallel-item:last-child::after {align-self: flex-start;width: 50%;}#sk-container-id-3 div.sk-parallel-item:only-child::after {width: 0;}#sk-container-id-3 div.sk-dashed-wrapped {border: 1px dashed gray;margin: 0 0.4em 0.5em 0.4em;box-sizing: border-box;padding-bottom: 0.4em;background-color: white;}#sk-container-id-3 div.sk-label label {font-family: monospace;font-weight: bold;display: inline-block;line-height: 1.2em;}#sk-container-id-3 div.sk-label-container {text-align: center;}#sk-container-id-3 div.sk-container {/* jupyter's `normalize.less` sets `[hidden] { display: none; }` but bootstrap.min.css set `[hidden] { display: none !important; }` so we also need the `!important` here to be able to override the default hidden behavior on the sphinx rendered scikit-learn.org. See: https://github.com/scikit-learn/scikit-learn/issues/21755 */display: inline-block !important;position: relative;}#sk-container-id-3 div.sk-text-repr-fallback {display: none;}</style><div id=\"sk-container-id-3\" class=\"sk-top-container\"><div class=\"sk-text-repr-fallback\"><pre>LGBMClassifier(colsample_bytree=0.5, learning_rate=0.01, max_depth=3,\n",
       "               metric=&#x27;binary_logloss&#x27;, min_child_samples=5, num_leaves=20,\n",
       "               objective=&#x27;binary&#x27;, reg_alpha=0.25, reg_lambda=0.25,\n",
       "               subsample=0.8)</pre><b>In a Jupyter environment, please rerun this cell to show the HTML representation or trust the notebook. <br />On GitHub, the HTML representation is unable to render, please try loading this page with nbviewer.org.</b></div><div class=\"sk-container\" hidden><div class=\"sk-item\"><div class=\"sk-estimator sk-toggleable\"><input class=\"sk-toggleable__control sk-hidden--visually\" id=\"sk-estimator-id-3\" type=\"checkbox\" checked><label for=\"sk-estimator-id-3\" class=\"sk-toggleable__label sk-toggleable__label-arrow\">LGBMClassifier</label><div class=\"sk-toggleable__content\"><pre>LGBMClassifier(colsample_bytree=0.5, learning_rate=0.01, max_depth=3,\n",
       "               metric=&#x27;binary_logloss&#x27;, min_child_samples=5, num_leaves=20,\n",
       "               objective=&#x27;binary&#x27;, reg_alpha=0.25, reg_lambda=0.25,\n",
       "               subsample=0.8)</pre></div></div></div></div></div>"
      ],
      "text/plain": [
       "LGBMClassifier(colsample_bytree=0.5, learning_rate=0.01, max_depth=3,\n",
       "               metric='binary_logloss', min_child_samples=5, num_leaves=20,\n",
       "               objective='binary', reg_alpha=0.25, reg_lambda=0.25,\n",
       "               subsample=0.8)"
      ]
     },
     "execution_count": 29,
     "metadata": {},
     "output_type": "execute_result"
    }
   ],
   "source": [
    "#best_grid5 = LGBMClassifier(objective=\"binary\", boosting_type='gbdt', **grid_search.best_params_)\n",
    "best_grid5 = grid_search.best_estimator_\n",
    "best_grid5.fit(X_train_t, y_train)"
   ]
  },
  {
   "cell_type": "code",
   "execution_count": 30,
   "metadata": {},
   "outputs": [
    {
     "name": "stdout",
     "output_type": "stream",
     "text": [
      "acc = 0.7419354838709677\n",
      "f1 = 0.7096774193548387\n"
     ]
    }
   ],
   "source": [
    "predicted_labels = best_grid5.predict(X_test_t)\n",
    "\n",
    "roc_auc = roc_auc_score(y_test, predicted_labels)\n",
    "acc = accuracy_score(y_test, predicted_labels)\n",
    "f1 = f1_score(y_test, predicted_labels, average = 'macro')\n",
    "\n",
    "print(f'acc = {acc}')\n",
    "print(f'f1 = {f1}')"
   ]
  },
  {
   "cell_type": "code",
   "execution_count": 31,
   "metadata": {},
   "outputs": [
    {
     "data": {
      "image/png": "[encoded data removed]",
      "text/plain": [
       "<Figure size 432x288 with 1 Axes>"
      ]
     },
     "metadata": {
      "needs_background": "light"
     },
     "output_type": "display_data"
    }
   ],
   "source": [
    "plt.bar(range(len(features)), best_grid5.feature_importances_)\n",
    "plt.xticks(range(len(features)), features, rotation='vertical')\n",
    "plt.show()"
   ]
  },
  {
   "cell_type": "code",
   "execution_count": 32,
   "metadata": {},
   "outputs": [],
   "source": [
    "accuracy_set.append(acc)\n",
    "f1_set.append(f1)\n",
    "features_set.append(best_grid5.feature_importances_)"
   ]
  },
  {
   "cell_type": "markdown",
   "metadata": {},
   "source": [
    "### Результаты"
   ]
  },
  {
   "cell_type": "code",
   "execution_count": 33,
   "metadata": {},
   "outputs": [
    {
     "data": {
      "text/plain": [
       "[0.771505376344086,\n",
       " 0.7688172043010753,\n",
       " 0.7435483870967742,\n",
       " 0.7741935483870968,\n",
       " 0.7419354838709677]"
      ]
     },
     "execution_count": 33,
     "metadata": {},
     "output_type": "execute_result"
    }
   ],
   "source": [
    "accuracy_set"
   ]
  },
  {
   "cell_type": "code",
   "execution_count": 34,
   "metadata": {},
   "outputs": [
    {
     "data": {
      "text/plain": [
       "[0.7612629955170326,\n",
       " 0.7544441374228608,\n",
       " 0.7321045567594873,\n",
       " 0.760808328230251,\n",
       " 0.7096774193548387]"
      ]
     },
     "execution_count": 34,
     "metadata": {},
     "output_type": "execute_result"
    }
   ],
   "source": [
    "f1_set"
   ]
  },
  {
   "cell_type": "code",
   "execution_count": 35,
   "metadata": {},
   "outputs": [
    {
     "data": {
      "text/plain": [
       "[array([0.10670017, 0.12241197, 0.04367056, 0.06566778, 0.06136515,\n",
       "        0.06710679, 0.08280178, 0.04290671, 0.3253424 , 0.0820267 ]),\n",
       " array([0.09901942, 0.1182257 , 0.08849324, 0.05131216, 0.04255642,\n",
       "        0.04916525, 0.11051004, 0.06853944, 0.29938698, 0.0727914 ],\n",
       "       dtype=float32),\n",
       " array([0.07711532, 0.14544118, 0.04929531, 0.09280425, 0.07655784,\n",
       "        0.10225078, 0.06149375, 0.04482165, 0.27022015, 0.07999977]),\n",
       " array([0.09796594, 0.12196355, 0.09152958, 0.05893192, 0.04921584,\n",
       "        0.05447887, 0.10141748, 0.06597217, 0.28998762, 0.06853705],\n",
       "       dtype=float32),\n",
       " array([64, 75, 69, 24, 21, 29, 78, 45, 76, 68])]"
      ]
     },
     "execution_count": 35,
     "metadata": {},
     "output_type": "execute_result"
    }
   ],
   "source": [
    "features_set"
   ]
  },
  {
   "cell_type": "code",
   "execution_count": 36,
   "metadata": {},
   "outputs": [
    {
     "data": {
      "text/html": [
       "<div>\n",
       "<style scoped>\n",
       "    .dataframe tbody tr th:only-of-type {\n",
       "        vertical-align: middle;\n",
       "    }\n",
       "\n",
       "    .dataframe tbody tr th {\n",
       "        vertical-align: top;\n",
       "    }\n",
       "\n",
       "    .dataframe thead th {\n",
       "        text-align: right;\n",
       "    }\n",
       "</style>\n",
       "<table border=\"1\" class=\"dataframe\">\n",
       "  <thead>\n",
       "    <tr style=\"text-align: right;\">\n",
       "      <th></th>\n",
       "      <th>Parameter</th>\n",
       "      <th>sklearn RF</th>\n",
       "      <th>xgboost RF</th>\n",
       "      <th>sklearn GB</th>\n",
       "      <th>XGBoost GB</th>\n",
       "      <th>LightGBM GB</th>\n",
       "    </tr>\n",
       "  </thead>\n",
       "  <tbody>\n",
       "    <tr>\n",
       "      <th>0</th>\n",
       "      <td>ACCURACY</td>\n",
       "      <td>0.771505</td>\n",
       "      <td>0.768817</td>\n",
       "      <td>0.743548</td>\n",
       "      <td>0.774194</td>\n",
       "      <td>0.741935</td>\n",
       "    </tr>\n",
       "    <tr>\n",
       "      <th>1</th>\n",
       "      <td>F1</td>\n",
       "      <td>0.761263</td>\n",
       "      <td>0.754444</td>\n",
       "      <td>0.732105</td>\n",
       "      <td>0.760808</td>\n",
       "      <td>0.709677</td>\n",
       "    </tr>\n",
       "    <tr>\n",
       "      <th>2</th>\n",
       "      <td>val_log</td>\n",
       "      <td>0.106700</td>\n",
       "      <td>0.099019</td>\n",
       "      <td>0.077115</td>\n",
       "      <td>0.097966</td>\n",
       "      <td>64.000000</td>\n",
       "    </tr>\n",
       "    <tr>\n",
       "      <th>3</th>\n",
       "      <td>sum_raised_log</td>\n",
       "      <td>0.122412</td>\n",
       "      <td>0.118226</td>\n",
       "      <td>0.145441</td>\n",
       "      <td>0.121964</td>\n",
       "      <td>75.000000</td>\n",
       "    </tr>\n",
       "    <tr>\n",
       "      <th>4</th>\n",
       "      <td>industry</td>\n",
       "      <td>0.043671</td>\n",
       "      <td>0.088493</td>\n",
       "      <td>0.049295</td>\n",
       "      <td>0.091530</td>\n",
       "      <td>69.000000</td>\n",
       "    </tr>\n",
       "    <tr>\n",
       "      <th>5</th>\n",
       "      <td>val_rate</td>\n",
       "      <td>0.065668</td>\n",
       "      <td>0.051312</td>\n",
       "      <td>0.092804</td>\n",
       "      <td>0.058932</td>\n",
       "      <td>24.000000</td>\n",
       "    </tr>\n",
       "    <tr>\n",
       "      <th>6</th>\n",
       "      <td>time_from_previous</td>\n",
       "      <td>0.061365</td>\n",
       "      <td>0.042556</td>\n",
       "      <td>0.076558</td>\n",
       "      <td>0.049216</td>\n",
       "      <td>21.000000</td>\n",
       "    </tr>\n",
       "    <tr>\n",
       "      <th>7</th>\n",
       "      <td>time_from_start</td>\n",
       "      <td>0.067107</td>\n",
       "      <td>0.049165</td>\n",
       "      <td>0.102251</td>\n",
       "      <td>0.054479</td>\n",
       "      <td>29.000000</td>\n",
       "    </tr>\n",
       "    <tr>\n",
       "      <th>8</th>\n",
       "      <td>top_investor_count</td>\n",
       "      <td>0.082802</td>\n",
       "      <td>0.110510</td>\n",
       "      <td>0.061494</td>\n",
       "      <td>0.101417</td>\n",
       "      <td>78.000000</td>\n",
       "    </tr>\n",
       "    <tr>\n",
       "      <th>9</th>\n",
       "      <td>other_investor_count</td>\n",
       "      <td>0.042907</td>\n",
       "      <td>0.068539</td>\n",
       "      <td>0.044822</td>\n",
       "      <td>0.065972</td>\n",
       "      <td>45.000000</td>\n",
       "    </tr>\n",
       "    <tr>\n",
       "      <th>10</th>\n",
       "      <td>Deflator</td>\n",
       "      <td>0.325342</td>\n",
       "      <td>0.299387</td>\n",
       "      <td>0.270220</td>\n",
       "      <td>0.289988</td>\n",
       "      <td>76.000000</td>\n",
       "    </tr>\n",
       "    <tr>\n",
       "      <th>11</th>\n",
       "      <td>90dd_unicorn_premium</td>\n",
       "      <td>0.082027</td>\n",
       "      <td>0.072791</td>\n",
       "      <td>0.080000</td>\n",
       "      <td>0.068537</td>\n",
       "      <td>68.000000</td>\n",
       "    </tr>\n",
       "  </tbody>\n",
       "</table>\n",
       "</div>"
      ],
      "text/plain": [
       "               Parameter  sklearn RF  xgboost RF  sklearn GB  XGBoost GB  \\\n",
       "0               ACCURACY    0.771505    0.768817    0.743548    0.774194   \n",
       "1                     F1    0.761263    0.754444    0.732105    0.760808   \n",
       "2                val_log    0.106700    0.099019    0.077115    0.097966   \n",
       "3         sum_raised_log    0.122412    0.118226    0.145441    0.121964   \n",
       "4               industry    0.043671    0.088493    0.049295    0.091530   \n",
       "5               val_rate    0.065668    0.051312    0.092804    0.058932   \n",
       "6     time_from_previous    0.061365    0.042556    0.076558    0.049216   \n",
       "7        time_from_start    0.067107    0.049165    0.102251    0.054479   \n",
       "8     top_investor_count    0.082802    0.110510    0.061494    0.101417   \n",
       "9   other_investor_count    0.042907    0.068539    0.044822    0.065972   \n",
       "10              Deflator    0.325342    0.299387    0.270220    0.289988   \n",
       "11  90dd_unicorn_premium    0.082027    0.072791    0.080000    0.068537   \n",
       "\n",
       "    LightGBM GB  \n",
       "0      0.741935  \n",
       "1      0.709677  \n",
       "2     64.000000  \n",
       "3     75.000000  \n",
       "4     69.000000  \n",
       "5     24.000000  \n",
       "6     21.000000  \n",
       "7     29.000000  \n",
       "8     78.000000  \n",
       "9     45.000000  \n",
       "10    76.000000  \n",
       "11    68.000000  "
      ]
     },
     "execution_count": 36,
     "metadata": {},
     "output_type": "execute_result"
    }
   ],
   "source": [
    "accuracy_df = pd.DataFrame(list(zip([accuracy_set[0]], [accuracy_set[1]], [accuracy_set[2]], [accuracy_set[3]], [accuracy_set[4]])), \n",
    "               columns =['sklearn RF', 'xgboost RF', 'sklearn GB', 'XGBoost GB', 'LightGBM GB'])\n",
    "f1_df = pd.DataFrame(list(zip([f1_set[0]], [f1_set[1]], [f1_set[2]], [f1_set[3]], [f1_set[4]])), \n",
    "               columns =['sklearn RF', 'xgboost RF', 'sklearn GB', 'XGBoost GB', 'LightGBM GB'])\n",
    "features_df = pd.DataFrame(list(zip(features_set[0], features_set[1], features_set[2], features_set[3], features_set[4])), \n",
    "               columns =['sklearn RF', 'xgboost RF', 'sklearn GB', 'XGBoost GB', 'LightGBM GB'])\n",
    "features = features.insert(0, 'ACCURACY')\n",
    "features = features.insert(1, 'F1')\n",
    "parameters = pd.DataFrame(list(features), columns =['Parameter'])\n",
    "accuracy_df = accuracy_df.append(f1_df).reset_index(drop=True)\n",
    "accuracy_df = accuracy_df.append(features_df).reset_index(drop=True)\n",
    "accuracy_df = pd.concat([parameters, accuracy_df], axis=1)\n",
    "accuracy_df.to_csv('results_uni_90dd.csv', encoding = 'utf-8-sig')\n",
    "accuracy_df"
   ]
  },
  {
   "cell_type": "markdown",
   "metadata": {},
   "source": [
    "### На демосетах"
   ]
  },
  {
   "cell_type": "code",
   "execution_count": 7,
   "metadata": {},
   "outputs": [],
   "source": [
    "# X_DEMO = DEMO_SET.drop(columns=['exit_type', 'funding_round_uuid', 'company_name', 'company_uuid', 'investment_type', 'announced_on', 'raised_amount_usd', 'post_money_valuation_usd', 'exit_date', 'price_usd', 'money_raised_usd', 'interpolated_money_valuation_usd', 'total_sum_raised', 'valuation', 'log_delta', 'top_investor', 'other_investor'])\n",
    "# X_DEMO = X_DEMO[['val_log',\n",
    "#         'sum_raised_log',\n",
    "# #        'time_from_2009',\n",
    "#         'val_rate',\n",
    "#         'time_from_previous',\n",
    "#         'time_from_start',\n",
    "#         'top_investor_rounds',\n",
    "#         'other_investor_rounds'\n",
    "#         ]]\n",
    "\n",
    "# X_DEMO = X_DEMO.values.astype(np.float)\n",
    "# X_DEMO_t = skaler.transform(X_DEMO)\n",
    "\n",
    "# X_DEMO2 = DEMO_SET2.drop(columns=['exit_type', 'funding_round_uuid', 'company_name', 'company_uuid', 'investment_type', 'announced_on', 'raised_amount_usd', 'post_money_valuation_usd', 'exit_date', 'price_usd', 'money_raised_usd', 'interpolated_money_valuation_usd', 'total_sum_raised', 'valuation', 'log_delta', 'top_investor', 'other_investor'])\n",
    "# X_DEMO2 = X_DEMO2[['val_log',\n",
    "#         'sum_raised_log',\n",
    "# #        'time_from_2009',\n",
    "#         'val_rate',\n",
    "#         'time_from_previous',\n",
    "#         'time_from_start',\n",
    "#         'top_investor_rounds',\n",
    "#         'other_investor_rounds'\n",
    "#         ]]\n",
    "\n",
    "# X_DEMO2 = X_DEMO2.values.astype(np.float)\n",
    "# X_DEMO2_t = skaler.transform(X_DEMO2)\n",
    "\n",
    "# X_DEMO_ALL = DEMO_SET_ALL.drop(columns=['exit_type', 'funding_round_uuid', 'company_name', 'company_uuid', 'investment_type', 'announced_on', 'raised_amount_usd', 'post_money_valuation_usd', 'exit_date', 'price_usd', 'money_raised_usd', 'interpolated_money_valuation_usd', 'total_sum_raised', 'valuation', 'log_delta', 'top_investor', 'other_investor'])\n",
    "# X_DEMO_ALL = X_DEMO_ALL[['val_log',\n",
    "#         'sum_raised_log',\n",
    "# #        'time_from_2009',\n",
    "#         'val_rate',\n",
    "#         'time_from_previous',\n",
    "#         'time_from_start',\n",
    "#         'top_investor_rounds',\n",
    "#         'other_investor_rounds'\n",
    "#         ]]\n",
    "\n",
    "# X_DEMO_ALL = X_DEMO_ALL.values.astype(np.float)\n",
    "# X_DEMO_ALL_t = skaler.transform(X_DEMO_ALL)"
   ]
  },
  {
   "cell_type": "code",
   "execution_count": 20,
   "metadata": {},
   "outputs": [],
   "source": [
    "# predicted_labels1 = best_grid1.predict(X_DEMO_t)\n",
    "# predicted_labels2 = best_grid2.predict(X_DEMO_t)\n",
    "# predicted_labels3 = best_grid3.predict(X_DEMO_t)"
   ]
  },
  {
   "cell_type": "code",
   "execution_count": 56,
   "metadata": {},
   "outputs": [
    {
     "data": {
      "text/html": [
       "<div>\n",
       "<style scoped>\n",
       "    .dataframe tbody tr th:only-of-type {\n",
       "        vertical-align: middle;\n",
       "    }\n",
       "\n",
       "    .dataframe tbody tr th {\n",
       "        vertical-align: top;\n",
       "    }\n",
       "\n",
       "    .dataframe thead th {\n",
       "        text-align: right;\n",
       "    }\n",
       "</style>\n",
       "<table border=\"1\" class=\"dataframe\">\n",
       "  <thead>\n",
       "    <tr style=\"text-align: right;\">\n",
       "      <th></th>\n",
       "      <th>company_name</th>\n",
       "      <th>Random_Forest</th>\n",
       "      <th>Gradient_Boosting</th>\n",
       "      <th>XGBoost_Classifier</th>\n",
       "    </tr>\n",
       "  </thead>\n",
       "  <tbody>\n",
       "    <tr>\n",
       "      <th>0</th>\n",
       "      <td>Roblox Corporation</td>\n",
       "      <td>0.0</td>\n",
       "      <td>0.0</td>\n",
       "      <td>1.0</td>\n",
       "    </tr>\n",
       "    <tr>\n",
       "      <th>1</th>\n",
       "      <td>Lemonade</td>\n",
       "      <td>1.0</td>\n",
       "      <td>1.0</td>\n",
       "      <td>1.0</td>\n",
       "    </tr>\n",
       "    <tr>\n",
       "      <th>2</th>\n",
       "      <td>Palantir Technologies</td>\n",
       "      <td>1.0</td>\n",
       "      <td>1.0</td>\n",
       "      <td>1.0</td>\n",
       "    </tr>\n",
       "    <tr>\n",
       "      <th>3</th>\n",
       "      <td>DoorDash</td>\n",
       "      <td>1.0</td>\n",
       "      <td>1.0</td>\n",
       "      <td>1.0</td>\n",
       "    </tr>\n",
       "    <tr>\n",
       "      <th>4</th>\n",
       "      <td>JFrog</td>\n",
       "      <td>1.0</td>\n",
       "      <td>0.0</td>\n",
       "      <td>1.0</td>\n",
       "    </tr>\n",
       "    <tr>\n",
       "      <th>5</th>\n",
       "      <td>Unity Technologies</td>\n",
       "      <td>1.0</td>\n",
       "      <td>1.0</td>\n",
       "      <td>1.0</td>\n",
       "    </tr>\n",
       "    <tr>\n",
       "      <th>6</th>\n",
       "      <td>Sumo Logic</td>\n",
       "      <td>1.0</td>\n",
       "      <td>1.0</td>\n",
       "      <td>1.0</td>\n",
       "    </tr>\n",
       "    <tr>\n",
       "      <th>7</th>\n",
       "      <td>Snowflake Computing</td>\n",
       "      <td>1.0</td>\n",
       "      <td>1.0</td>\n",
       "      <td>1.0</td>\n",
       "    </tr>\n",
       "    <tr>\n",
       "      <th>8</th>\n",
       "      <td>Airbnb</td>\n",
       "      <td>1.0</td>\n",
       "      <td>1.0</td>\n",
       "      <td>1.0</td>\n",
       "    </tr>\n",
       "    <tr>\n",
       "      <th>9</th>\n",
       "      <td>Asana</td>\n",
       "      <td>1.0</td>\n",
       "      <td>1.0</td>\n",
       "      <td>1.0</td>\n",
       "    </tr>\n",
       "  </tbody>\n",
       "</table>\n",
       "</div>"
      ],
      "text/plain": [
       "            company_name  Random_Forest  Gradient_Boosting  XGBoost_Classifier\n",
       "0     Roblox Corporation            0.0                0.0                 1.0\n",
       "1               Lemonade            1.0                1.0                 1.0\n",
       "2  Palantir Technologies            1.0                1.0                 1.0\n",
       "3               DoorDash            1.0                1.0                 1.0\n",
       "4                  JFrog            1.0                0.0                 1.0\n",
       "5     Unity Technologies            1.0                1.0                 1.0\n",
       "6             Sumo Logic            1.0                1.0                 1.0\n",
       "7    Snowflake Computing            1.0                1.0                 1.0\n",
       "8                 Airbnb            1.0                1.0                 1.0\n",
       "9                  Asana            1.0                1.0                 1.0"
      ]
     },
     "execution_count": 56,
     "metadata": {},
     "output_type": "execute_result"
    }
   ],
   "source": [
    "a = pd.DataFrame(list(predicted_labels1), columns =['Random_Forest'])\n",
    "b = pd.DataFrame(list(predicted_labels2), columns =['Gradient_Boosting'])\n",
    "c = pd.DataFrame(list(predicted_labels3), columns =['XGBoost_Classifier'])\n",
    "demo = pd.concat([DEMO_SET[['company_name']].reset_index(drop=True), a, b, c], axis=1)\n",
    "#demo.to_csv('forecast_w2.csv', encoding = 'utf-8-sig')\n",
    "demo"
   ]
  },
  {
   "cell_type": "code",
   "execution_count": 21,
   "metadata": {},
   "outputs": [],
   "source": [
    "# predicted_labels1 = best_grid1.predict(X_DEMO2_t)\n",
    "# predicted_labels2 = best_grid2.predict(X_DEMO2_t)\n",
    "# predicted_labels3 = best_grid3.predict(X_DEMO2_t)"
   ]
  },
  {
   "cell_type": "code",
   "execution_count": 58,
   "metadata": {},
   "outputs": [
    {
     "data": {
      "text/html": [
       "<div>\n",
       "<style scoped>\n",
       "    .dataframe tbody tr th:only-of-type {\n",
       "        vertical-align: middle;\n",
       "    }\n",
       "\n",
       "    .dataframe tbody tr th {\n",
       "        vertical-align: top;\n",
       "    }\n",
       "\n",
       "    .dataframe thead th {\n",
       "        text-align: right;\n",
       "    }\n",
       "</style>\n",
       "<table border=\"1\" class=\"dataframe\">\n",
       "  <thead>\n",
       "    <tr style=\"text-align: right;\">\n",
       "      <th></th>\n",
       "      <th>company_name</th>\n",
       "      <th>Random_Forest</th>\n",
       "      <th>Gradient_Boosting</th>\n",
       "      <th>XGBoost_Classifier</th>\n",
       "    </tr>\n",
       "  </thead>\n",
       "  <tbody>\n",
       "    <tr>\n",
       "      <th>0</th>\n",
       "      <td>VertiFlex</td>\n",
       "      <td>1.0</td>\n",
       "      <td>1.0</td>\n",
       "      <td>1.0</td>\n",
       "    </tr>\n",
       "    <tr>\n",
       "      <th>1</th>\n",
       "      <td>mitú</td>\n",
       "      <td>1.0</td>\n",
       "      <td>1.0</td>\n",
       "      <td>1.0</td>\n",
       "    </tr>\n",
       "    <tr>\n",
       "      <th>2</th>\n",
       "      <td>Postmates</td>\n",
       "      <td>1.0</td>\n",
       "      <td>1.0</td>\n",
       "      <td>1.0</td>\n",
       "    </tr>\n",
       "    <tr>\n",
       "      <th>3</th>\n",
       "      <td>Calient Technologies</td>\n",
       "      <td>0.0</td>\n",
       "      <td>1.0</td>\n",
       "      <td>1.0</td>\n",
       "    </tr>\n",
       "    <tr>\n",
       "      <th>4</th>\n",
       "      <td>Kyriba Corporation</td>\n",
       "      <td>1.0</td>\n",
       "      <td>0.0</td>\n",
       "      <td>0.0</td>\n",
       "    </tr>\n",
       "    <tr>\n",
       "      <th>5</th>\n",
       "      <td>Vidyo</td>\n",
       "      <td>0.0</td>\n",
       "      <td>0.0</td>\n",
       "      <td>1.0</td>\n",
       "    </tr>\n",
       "    <tr>\n",
       "      <th>6</th>\n",
       "      <td>littleBits Electronics</td>\n",
       "      <td>1.0</td>\n",
       "      <td>1.0</td>\n",
       "      <td>1.0</td>\n",
       "    </tr>\n",
       "    <tr>\n",
       "      <th>7</th>\n",
       "      <td>Harry's</td>\n",
       "      <td>1.0</td>\n",
       "      <td>1.0</td>\n",
       "      <td>1.0</td>\n",
       "    </tr>\n",
       "    <tr>\n",
       "      <th>8</th>\n",
       "      <td>Numerify</td>\n",
       "      <td>1.0</td>\n",
       "      <td>1.0</td>\n",
       "      <td>1.0</td>\n",
       "    </tr>\n",
       "    <tr>\n",
       "      <th>9</th>\n",
       "      <td>Whistle Sports</td>\n",
       "      <td>1.0</td>\n",
       "      <td>1.0</td>\n",
       "      <td>1.0</td>\n",
       "    </tr>\n",
       "    <tr>\n",
       "      <th>10</th>\n",
       "      <td>Spring Inc</td>\n",
       "      <td>0.0</td>\n",
       "      <td>1.0</td>\n",
       "      <td>1.0</td>\n",
       "    </tr>\n",
       "    <tr>\n",
       "      <th>11</th>\n",
       "      <td>OrthoSensor</td>\n",
       "      <td>0.0</td>\n",
       "      <td>1.0</td>\n",
       "      <td>0.0</td>\n",
       "    </tr>\n",
       "    <tr>\n",
       "      <th>12</th>\n",
       "      <td>Lastline</td>\n",
       "      <td>1.0</td>\n",
       "      <td>1.0</td>\n",
       "      <td>1.0</td>\n",
       "    </tr>\n",
       "    <tr>\n",
       "      <th>13</th>\n",
       "      <td>Nexenta Systems</td>\n",
       "      <td>0.0</td>\n",
       "      <td>0.0</td>\n",
       "      <td>1.0</td>\n",
       "    </tr>\n",
       "    <tr>\n",
       "      <th>14</th>\n",
       "      <td>SmartDrive Systems</td>\n",
       "      <td>1.0</td>\n",
       "      <td>1.0</td>\n",
       "      <td>1.0</td>\n",
       "    </tr>\n",
       "    <tr>\n",
       "      <th>15</th>\n",
       "      <td>Synthorx</td>\n",
       "      <td>1.0</td>\n",
       "      <td>1.0</td>\n",
       "      <td>1.0</td>\n",
       "    </tr>\n",
       "    <tr>\n",
       "      <th>16</th>\n",
       "      <td>GoSpotCheck</td>\n",
       "      <td>0.0</td>\n",
       "      <td>1.0</td>\n",
       "      <td>0.0</td>\n",
       "    </tr>\n",
       "    <tr>\n",
       "      <th>17</th>\n",
       "      <td>Pivot3</td>\n",
       "      <td>1.0</td>\n",
       "      <td>1.0</td>\n",
       "      <td>1.0</td>\n",
       "    </tr>\n",
       "    <tr>\n",
       "      <th>18</th>\n",
       "      <td>Kespry Inc.</td>\n",
       "      <td>0.0</td>\n",
       "      <td>0.0</td>\n",
       "      <td>0.0</td>\n",
       "    </tr>\n",
       "    <tr>\n",
       "      <th>19</th>\n",
       "      <td>Tubi TV</td>\n",
       "      <td>0.0</td>\n",
       "      <td>0.0</td>\n",
       "      <td>0.0</td>\n",
       "    </tr>\n",
       "    <tr>\n",
       "      <th>20</th>\n",
       "      <td>Airware</td>\n",
       "      <td>1.0</td>\n",
       "      <td>1.0</td>\n",
       "      <td>1.0</td>\n",
       "    </tr>\n",
       "  </tbody>\n",
       "</table>\n",
       "</div>"
      ],
      "text/plain": [
       "              company_name  Random_Forest  Gradient_Boosting  \\\n",
       "0                VertiFlex            1.0                1.0   \n",
       "1                     mitú            1.0                1.0   \n",
       "2                Postmates            1.0                1.0   \n",
       "3     Calient Technologies            0.0                1.0   \n",
       "4       Kyriba Corporation            1.0                0.0   \n",
       "5                    Vidyo            0.0                0.0   \n",
       "6   littleBits Electronics            1.0                1.0   \n",
       "7                  Harry's            1.0                1.0   \n",
       "8                 Numerify            1.0                1.0   \n",
       "9           Whistle Sports            1.0                1.0   \n",
       "10              Spring Inc            0.0                1.0   \n",
       "11             OrthoSensor            0.0                1.0   \n",
       "12                Lastline            1.0                1.0   \n",
       "13         Nexenta Systems            0.0                0.0   \n",
       "14      SmartDrive Systems            1.0                1.0   \n",
       "15                Synthorx            1.0                1.0   \n",
       "16             GoSpotCheck            0.0                1.0   \n",
       "17                  Pivot3            1.0                1.0   \n",
       "18             Kespry Inc.            0.0                0.0   \n",
       "19                 Tubi TV            0.0                0.0   \n",
       "20                 Airware            1.0                1.0   \n",
       "\n",
       "    XGBoost_Classifier  \n",
       "0                  1.0  \n",
       "1                  1.0  \n",
       "2                  1.0  \n",
       "3                  1.0  \n",
       "4                  0.0  \n",
       "5                  1.0  \n",
       "6                  1.0  \n",
       "7                  1.0  \n",
       "8                  1.0  \n",
       "9                  1.0  \n",
       "10                 1.0  \n",
       "11                 0.0  \n",
       "12                 1.0  \n",
       "13                 1.0  \n",
       "14                 1.0  \n",
       "15                 1.0  \n",
       "16                 0.0  \n",
       "17                 1.0  \n",
       "18                 0.0  \n",
       "19                 0.0  \n",
       "20                 1.0  "
      ]
     },
     "execution_count": 58,
     "metadata": {},
     "output_type": "execute_result"
    }
   ],
   "source": [
    "a = pd.DataFrame(list(predicted_labels1), columns =['Random_Forest'])\n",
    "b = pd.DataFrame(list(predicted_labels2), columns =['Gradient_Boosting'])\n",
    "c = pd.DataFrame(list(predicted_labels3), columns =['XGBoost_Classifier'])\n",
    "demo = pd.concat([DEMO_SET2[['company_name']].reset_index(drop=True), a, b, c], axis=1)\n",
    "#demo.to_csv('forecast_w2_2.csv', encoding = 'utf-8-sig')\n",
    "demo"
   ]
  },
  {
   "cell_type": "code",
   "execution_count": 22,
   "metadata": {},
   "outputs": [],
   "source": [
    "# predicted_labels1 = best_grid1.predict(X_DEMO_ALL_t)\n",
    "# predicted_labels2 = best_grid2.predict(X_DEMO_ALL_t)\n",
    "# predicted_labels3 = best_grid3.predict(X_DEMO_ALL_t)"
   ]
  },
  {
   "cell_type": "code",
   "execution_count": 60,
   "metadata": {},
   "outputs": [
    {
     "data": {
      "text/html": [
       "<div>\n",
       "<style scoped>\n",
       "    .dataframe tbody tr th:only-of-type {\n",
       "        vertical-align: middle;\n",
       "    }\n",
       "\n",
       "    .dataframe tbody tr th {\n",
       "        vertical-align: top;\n",
       "    }\n",
       "\n",
       "    .dataframe thead th {\n",
       "        text-align: right;\n",
       "    }\n",
       "</style>\n",
       "<table border=\"1\" class=\"dataframe\">\n",
       "  <thead>\n",
       "    <tr style=\"text-align: right;\">\n",
       "      <th></th>\n",
       "      <th>company_name</th>\n",
       "      <th>Random_Forest</th>\n",
       "      <th>Gradient_Boosting</th>\n",
       "      <th>XGBoost_Classifier</th>\n",
       "    </tr>\n",
       "  </thead>\n",
       "  <tbody>\n",
       "    <tr>\n",
       "      <th>0</th>\n",
       "      <td>BioAtla LLC</td>\n",
       "      <td>0.0</td>\n",
       "      <td>0.0</td>\n",
       "      <td>1.0</td>\n",
       "    </tr>\n",
       "    <tr>\n",
       "      <th>1</th>\n",
       "      <td>Lot18</td>\n",
       "      <td>0.0</td>\n",
       "      <td>0.0</td>\n",
       "      <td>0.0</td>\n",
       "    </tr>\n",
       "    <tr>\n",
       "      <th>2</th>\n",
       "      <td>Xcovery</td>\n",
       "      <td>0.0</td>\n",
       "      <td>0.0</td>\n",
       "      <td>0.0</td>\n",
       "    </tr>\n",
       "    <tr>\n",
       "      <th>3</th>\n",
       "      <td>HeartFlow</td>\n",
       "      <td>1.0</td>\n",
       "      <td>1.0</td>\n",
       "      <td>1.0</td>\n",
       "    </tr>\n",
       "    <tr>\n",
       "      <th>4</th>\n",
       "      <td>Udacity</td>\n",
       "      <td>1.0</td>\n",
       "      <td>1.0</td>\n",
       "      <td>1.0</td>\n",
       "    </tr>\n",
       "    <tr>\n",
       "      <th>...</th>\n",
       "      <td>...</td>\n",
       "      <td>...</td>\n",
       "      <td>...</td>\n",
       "      <td>...</td>\n",
       "    </tr>\n",
       "    <tr>\n",
       "      <th>2382</th>\n",
       "      <td>PowerVision</td>\n",
       "      <td>0.0</td>\n",
       "      <td>0.0</td>\n",
       "      <td>0.0</td>\n",
       "    </tr>\n",
       "    <tr>\n",
       "      <th>2383</th>\n",
       "      <td>Sisense</td>\n",
       "      <td>1.0</td>\n",
       "      <td>1.0</td>\n",
       "      <td>1.0</td>\n",
       "    </tr>\n",
       "    <tr>\n",
       "      <th>2384</th>\n",
       "      <td>IlluminOss Medical</td>\n",
       "      <td>0.0</td>\n",
       "      <td>0.0</td>\n",
       "      <td>0.0</td>\n",
       "    </tr>\n",
       "    <tr>\n",
       "      <th>2385</th>\n",
       "      <td>Checkr</td>\n",
       "      <td>1.0</td>\n",
       "      <td>1.0</td>\n",
       "      <td>1.0</td>\n",
       "    </tr>\n",
       "    <tr>\n",
       "      <th>2386</th>\n",
       "      <td>One Medical</td>\n",
       "      <td>1.0</td>\n",
       "      <td>1.0</td>\n",
       "      <td>1.0</td>\n",
       "    </tr>\n",
       "  </tbody>\n",
       "</table>\n",
       "<p>2387 rows × 4 columns</p>\n",
       "</div>"
      ],
      "text/plain": [
       "            company_name  Random_Forest  Gradient_Boosting  XGBoost_Classifier\n",
       "0            BioAtla LLC            0.0                0.0                 1.0\n",
       "1                  Lot18            0.0                0.0                 0.0\n",
       "2                Xcovery            0.0                0.0                 0.0\n",
       "3              HeartFlow            1.0                1.0                 1.0\n",
       "4                Udacity            1.0                1.0                 1.0\n",
       "...                  ...            ...                ...                 ...\n",
       "2382         PowerVision            0.0                0.0                 0.0\n",
       "2383             Sisense            1.0                1.0                 1.0\n",
       "2384  IlluminOss Medical            0.0                0.0                 0.0\n",
       "2385              Checkr            1.0                1.0                 1.0\n",
       "2386         One Medical            1.0                1.0                 1.0\n",
       "\n",
       "[2387 rows x 4 columns]"
      ]
     },
     "execution_count": 60,
     "metadata": {},
     "output_type": "execute_result"
    }
   ],
   "source": [
    "a = pd.DataFrame(list(predicted_labels1), columns =['Random_Forest'])\n",
    "b = pd.DataFrame(list(predicted_labels2), columns =['Gradient_Boosting'])\n",
    "c = pd.DataFrame(list(predicted_labels3), columns =['XGBoost_Classifier'])\n",
    "demo = pd.concat([DEMO_SET_ALL[['company_name']].reset_index(drop=True), a, b, c], axis=1)\n",
    "demo.to_csv('forecast_w2_all.csv', encoding = 'utf-8-sig')\n",
    "demo"
   ]
  },
  {
   "cell_type": "markdown",
   "metadata": {},
   "source": [
    "### На единичных признаках"
   ]
  },
  {
   "cell_type": "code",
   "execution_count": 23,
   "metadata": {},
   "outputs": [],
   "source": [
    "# y = dataset[['not_dead']]\n",
    "# y = y.values.ravel()\n",
    "# X_general = dataset.drop(columns=['class', 'not_dead', 'exit_type', 'funding_round_uuid', 'company_name', 'company_uuid', 'investment_type', 'announced_on', 'raised_amount_usd', 'post_money_valuation_usd', 'exit_date', 'price_usd', 'money_raised_usd', 'interpolated_money_valuation_usd', 'total_sum_raised', 'valuation', 'log_delta', 'top_investor', 'other_investor'])\n",
    "\n",
    "# skaler = StandardScaler()\n",
    "# param_grid = {\n",
    "#     'bootstrap': [True, False], #rf only\n",
    "# #    'learning_rate': [0.1, 0.2, 0.3, 0.4, 0.5, 0.6, 0.7, 0.8, 0.9, 1.0], #boosting only\n",
    "#     'max_depth': [None, 25, 50, 75, 100],\n",
    "#     'min_samples_leaf': [1, 2, 3],\n",
    "#     'min_samples_split': [2, 5, 10],\n",
    "#     'n_estimators': [10, 20, 30, 40, 50, 60, 70, 80, 90, 100, 110]\n",
    "# }\n",
    "# estimator = RandomForestClassifier() #0.65-0.71\n",
    "# #estimator = GradientBoostingClassifier() #0.6-0.66\n",
    "# grid_search = GridSearchCV(estimator = estimator, param_grid = param_grid, cv = 5, n_jobs = -1, verbose = 2, scoring='accuracy')\n",
    "\n",
    "# X_general.columns"
   ]
  },
  {
   "cell_type": "code",
   "execution_count": 24,
   "metadata": {},
   "outputs": [],
   "source": [
    "# mean_acc = []\n",
    "# mean_f1 = []\n",
    "# features = ['time_from_2009', 'time_from_start', 'time_from_previous',\n",
    "#        'top_investor_count', 'other_investor_count', 'top_investor_sum',\n",
    "#        'other_investor_sum', 'top_investor_rounds', 'other_investor_rounds',\n",
    "#        'sum_raised_log', 'val_log', 'val_rate']\n",
    "# for i in features:\n",
    "#     X = X_general[[i]]\n",
    "#     X = X.values.astype(np.float)\n",
    "#     X_train, X_test, y_train, y_test = train_test_split(X, y, test_size=0.2)\n",
    "#     X_train_t = skaler.fit_transform(X_train)\n",
    "#     X_test_t = skaler.transform(X_test)\n",
    "#     grid_search.fit(X_train_t, y_train)\n",
    "#     best_grid = grid_search.best_estimator_\n",
    "    \n",
    "#     acc_array = []\n",
    "#     f1_array = []\n",
    "#     PR_array = []\n",
    "#     RC_array = []\n",
    "#     for j in range(10):\n",
    "#         best_grid.fit(X_train_t, y_train)\n",
    "#         predicted_labels = best_grid.predict(X_test_t)\n",
    "#         acc = accuracy_score(y_test, predicted_labels)\n",
    "#         f1 = f1_score(y_test, predicted_labels, average = 'macro')\n",
    "#         PR = precision_score(y_test, predicted_labels, average = 'macro')\n",
    "#         RC = recall_score(y_test, predicted_labels, average = 'macro')\n",
    "#         acc_array.append(acc)\n",
    "#         PR_array.append(PR)\n",
    "#         RC_array.append(RC)\n",
    "#         f1_array.append(f1)\n",
    "#     mean_acc.append(np.mean(acc_array))\n",
    "#     mean_f1.append(np.mean(f1_array))\n",
    "#     #print(f'acc on {i} = {np.mean(acc_array)}')\n",
    "#     #print(f'f1 on {i} = {np.mean(f1_array)}')\n",
    "# mean_acc_f1_df = pd.DataFrame(list(zip(mean_acc, mean_f1)), \n",
    "#                columns =['Accuracy', 'F-Score']).set_index([features])\n",
    "# print(mean_acc_f1_df)"
   ]
  },
  {
   "cell_type": "code",
   "execution_count": 35,
   "metadata": {},
   "outputs": [
    {
     "data": {
      "text/html": [
       "<div>\n",
       "<style scoped>\n",
       "    .dataframe tbody tr th:only-of-type {\n",
       "        vertical-align: middle;\n",
       "    }\n",
       "\n",
       "    .dataframe tbody tr th {\n",
       "        vertical-align: top;\n",
       "    }\n",
       "\n",
       "    .dataframe thead th {\n",
       "        text-align: right;\n",
       "    }\n",
       "</style>\n",
       "<table border=\"1\" class=\"dataframe\">\n",
       "  <thead>\n",
       "    <tr style=\"text-align: right;\">\n",
       "      <th></th>\n",
       "      <th>Accuracy</th>\n",
       "      <th>F-Score</th>\n",
       "    </tr>\n",
       "  </thead>\n",
       "  <tbody>\n",
       "    <tr>\n",
       "      <th>time_from_2009</th>\n",
       "      <td>0.561538</td>\n",
       "      <td>0.557030</td>\n",
       "    </tr>\n",
       "    <tr>\n",
       "      <th>time_from_start</th>\n",
       "      <td>0.503077</td>\n",
       "      <td>0.496843</td>\n",
       "    </tr>\n",
       "    <tr>\n",
       "      <th>time_from_previous</th>\n",
       "      <td>0.518462</td>\n",
       "      <td>0.507093</td>\n",
       "    </tr>\n",
       "    <tr>\n",
       "      <th>top_investor_count</th>\n",
       "      <td>0.620513</td>\n",
       "      <td>0.615159</td>\n",
       "    </tr>\n",
       "    <tr>\n",
       "      <th>other_investor_count</th>\n",
       "      <td>0.584103</td>\n",
       "      <td>0.549638</td>\n",
       "    </tr>\n",
       "    <tr>\n",
       "      <th>top_investor_sum</th>\n",
       "      <td>0.548718</td>\n",
       "      <td>0.546877</td>\n",
       "    </tr>\n",
       "    <tr>\n",
       "      <th>other_investor_sum</th>\n",
       "      <td>0.527692</td>\n",
       "      <td>0.507549</td>\n",
       "    </tr>\n",
       "    <tr>\n",
       "      <th>top_investor_rounds</th>\n",
       "      <td>0.579487</td>\n",
       "      <td>0.526923</td>\n",
       "    </tr>\n",
       "    <tr>\n",
       "      <th>other_investor_rounds</th>\n",
       "      <td>0.602051</td>\n",
       "      <td>0.559214</td>\n",
       "    </tr>\n",
       "    <tr>\n",
       "      <th>total_sum_raised_before</th>\n",
       "      <td>0.567179</td>\n",
       "      <td>0.540938</td>\n",
       "    </tr>\n",
       "    <tr>\n",
       "      <th>valuation</th>\n",
       "      <td>0.601538</td>\n",
       "      <td>0.590419</td>\n",
       "    </tr>\n",
       "    <tr>\n",
       "      <th>log_rate</th>\n",
       "      <td>0.480000</td>\n",
       "      <td>0.463055</td>\n",
       "    </tr>\n",
       "  </tbody>\n",
       "</table>\n",
       "</div>"
      ],
      "text/plain": [
       "                         Accuracy   F-Score\n",
       "time_from_2009           0.561538  0.557030\n",
       "time_from_start          0.503077  0.496843\n",
       "time_from_previous       0.518462  0.507093\n",
       "top_investor_count       0.620513  0.615159\n",
       "other_investor_count     0.584103  0.549638\n",
       "top_investor_sum         0.548718  0.546877\n",
       "other_investor_sum       0.527692  0.507549\n",
       "top_investor_rounds      0.579487  0.526923\n",
       "other_investor_rounds    0.602051  0.559214\n",
       "total_sum_raised_before  0.567179  0.540938\n",
       "valuation                0.601538  0.590419\n",
       "log_rate                 0.480000  0.463055"
      ]
     },
     "execution_count": 35,
     "metadata": {},
     "output_type": "execute_result"
    }
   ],
   "source": [
    "mean_acc_f1_df"
   ]
  },
  {
   "cell_type": "code",
   "execution_count": 76,
   "metadata": {
    "scrolled": false
   },
   "outputs": [],
   "source": [
    "# acc_train = []\n",
    "# acc_test = []\n",
    "# f1_train = []\n",
    "# f1_test = []\n",
    "# for i in range(1, 101):\n",
    "#     #classifier = LogisticRegression(solver='saga', multi_class='multinomial', max_iter=100, C=0.12, penalty='l1', n_jobs=-1) #меньше 0.6\n",
    "#     #classifier = KNeighborsClassifier(n_neighbors=20, weights='distance', n_jobs =-1) #отвратительное качество\n",
    "#     classifier = DecisionTreeClassifier(max_depth=100) #качество на уровне 0.65-0.7\n",
    "    \n",
    "#     #ensemble_classifier = BaggingClassifier(base_estimator=classifier, n_estimators=i, bootstrap=True, n_jobs=-1)\n",
    "#     ensemble_classifier = RandomForestClassifier(n_estimators=i, n_jobs=-1) #качество на уровне 0.65-0.7\n",
    "#     #ensemble_classifier = GradientBoostingClassifier(n_estimators=i, learning_rate=0.2, max_depth=10) #качество на уровне 0.6-0.7\n",
    "    \n",
    "#     ensemble_classifier.fit(X_train_t, y_train)\n",
    "#     class_names = ensemble_classifier.classes_\n",
    "#     y_train_b = label_binarize(y_train, class_names)\n",
    "#     y_test_b = label_binarize(y_test, class_names)\n",
    "#     y_predict_train_b = label_binarize(ensemble_classifier.predict(X_train_t), class_names)\n",
    "#     y_predict_test_b = label_binarize(ensemble_classifier.predict(X_test_t), class_names)\n",
    "#     acc_train.append(accuracy_score(y_train_b, y_predict_train_b))\n",
    "#     f1_train.append(f1_score(y_train_b, y_predict_train_b, average='weighted'))\n",
    "#     acc_test.append(accuracy_score(y_test_b, y_predict_test_b))\n",
    "#     f1_test.append(f1_score(y_test_b, y_predict_test_b, average='weighted'))\n",
    "\n",
    "# plt.figure(figsize=(7, 7))\n",
    "# plt.plot(np.arange(1, 101), acc_train, label='accuracy train')\n",
    "# plt.plot(np.arange(1, 101), f1_train, label='f1_score train')\n",
    "# plt.plot(np.arange(1, 101), acc_test, label='accuracy test')\n",
    "# plt.plot(np.arange(1, 101), f1_test, label='f1_score test')\n",
    "# plt.xlabel('n_estimators')\n",
    "# plt.ylabel('score')\n",
    "# plt.legend()\n",
    "# plt.grid()\n",
    "# plt.show()"
   ]
  },
  {
   "cell_type": "markdown",
   "metadata": {},
   "source": [
    "### LogReg, kNN, Decision Tree"
   ]
  },
  {
   "cell_type": "code",
   "execution_count": 17,
   "metadata": {},
   "outputs": [],
   "source": [
    "#pg = {'C': np.linspace(0.01, 1, 10), 'penalty': ['l1', 'l2']}\n",
    "#pg = {'n_neighbors': range(1, 21)}\n",
    "#pg = {'max_depth': np.linspace(1, 100, 5)}\n",
    "\n",
    "#classifier = LogisticRegression(solver='saga', multi_class='multinomial', max_iter=1000, n_jobs =-1) #lbfgs\n",
    "#classifier = KNeighborsClassifier(weights='distance')\n",
    "#classifier = DecisionTreeClassifier()\n",
    "\n",
    "#grid_search = GridSearchCV(estimator=classifier, n_jobs = -1, param_grid=pg, cv=5, scoring='accuracy')\n",
    "#grid_search.fit(X_train_t, y_train)\n",
    "\n",
    "#grid_search.best_params_"
   ]
  },
  {
   "cell_type": "code",
   "execution_count": 18,
   "metadata": {},
   "outputs": [],
   "source": [
    "#best_classifier = grid_search.best_estimator_\n",
    "#best_classifier.fit(X_train_t, y_train)"
   ]
  },
  {
   "cell_type": "code",
   "execution_count": 19,
   "metadata": {},
   "outputs": [],
   "source": [
    "#predicted_labels = best_classifier.predict(X_test_t)\n",
    "\n",
    "#acc = accuracy_score(y_test, predicted_labels)\n",
    "#print(f'acc = {acc}')\n",
    "#f1 = f1_score(y_test, predicted_labels, average = 'macro')\n",
    "#print(f'f1 = {f1}')"
   ]
  },
  {
   "cell_type": "code",
   "execution_count": 20,
   "metadata": {},
   "outputs": [],
   "source": [
    "#predict_proba = grid_search.predict_proba(X_test_t)\n",
    "#for i in predict_proba:\n",
    "#    print(i)"
   ]
  },
  {
   "cell_type": "code",
   "execution_count": 21,
   "metadata": {},
   "outputs": [],
   "source": [
    "#class_names = grid_search.best_estimator_.classes_\n",
    "#y_predict = grid_search.predict_proba(X_test_t)\n",
    "\n",
    "##y_test_b = label_binarize(y_test, class_names)\n",
    "#lb = LabelBinarizer()\n",
    "#y_test_b = lb.fit_transform(y_test)\n",
    "#y_test_b = np.hstack((1 - y_test_b, y_test_b))\n",
    "\n",
    "#fpr = dict()\n",
    "#tpr = dict()\n",
    "#roc_auc = dict()\n",
    "#for i in range(len(class_names)):\n",
    "#    fpr[i], tpr[i], _ = roc_curve(y_test_b[:, i], y_predict[:, i])\n",
    "#    roc_auc[i] = auc(fpr[i], tpr[i])\n",
    "    \n",
    "##для микро\n",
    "#fpr['micro'], tpr['micro'], _ = roc_curve(y_test_b.ravel(), y_predict.ravel())\n",
    "#roc_auc['micro'] = auc(fpr['micro'], tpr['micro'])\n",
    "\n",
    "##макро\n",
    "#all_fpr = np.unique(np.concatenate([fpr[i] for i in range(len(class_names))]))\n",
    "#mean_tpr = np.zeros_like(all_fpr)\n",
    "#for i in range(len(class_names)):\n",
    "#    mean_tpr += interp(all_fpr, fpr[i], tpr[i]) \n",
    "#mean_tpr /= len(class_names)\n",
    "#fpr['macro'] = all_fpr\n",
    "#tpr['macro'] = mean_tpr\n",
    "#roc_auc['macro'] = auc(fpr['macro'], tpr['macro'])\n",
    "\n",
    "##графики\n",
    "#plt.figure(figsize=(6,6))\n",
    "#plt.plot(fpr['micro'], tpr['micro'], label='micro, auc = %.3f'%(roc_auc['micro']), linestyle='--')\n",
    "#plt.plot(fpr['macro'], tpr['macro'], label='macro, auc = %.3f'%(roc_auc['macro']), linestyle='--')\n",
    "#for i in range(len(class_names)):\n",
    "#    plt.plot(fpr[i], tpr[i], label='class = %s, auc = %.3f'%(class_names[i], auc(fpr[i], tpr[i])))\n",
    "\n",
    "#plt.title('ROC-Кривая')\n",
    "#plt.xlabel('False Positive Rate')\n",
    "#plt.ylabel('True Positive Rate')\n",
    "#plt.legend()\n",
    "#plt.show()"
   ]
  },
  {
   "cell_type": "markdown",
   "metadata": {},
   "source": [
    "### Сокращение размерности"
   ]
  },
  {
   "cell_type": "code",
   "execution_count": 34,
   "metadata": {},
   "outputs": [],
   "source": [
    "#pca = PCA()\n",
    "#pca.fit(X_train_t)\n",
    "\n",
    "#variance = np.cumsum(pca.explained_variance_ratio_)\n",
    "\n",
    "#plt.figure(figsize=(5,5))\n",
    "#plt.plot(variance)\n",
    "#plt.xlabel('Components')\n",
    "#plt.ylabel('EVR')\n",
    "#plt.plot([0,46],[0.95,0.95])\n",
    "#plt.show()"
   ]
  },
  {
   "cell_type": "code",
   "execution_count": 35,
   "metadata": {},
   "outputs": [],
   "source": [
    "#pca = PCA(n_components=39)\n",
    "\n",
    "#X_train_pca = pca.fit_transform(X_train_t)\n",
    "#X_test_pca = pca.transform(X_test_t)"
   ]
  },
  {
   "cell_type": "code",
   "execution_count": 36,
   "metadata": {},
   "outputs": [],
   "source": [
    "#pg = {'C': np.linspace(0.01, 1, 10), 'penalty': ['l1', 'l2']}\n",
    "#pg = {'n_neighbors': range(1, 31)}\n",
    "#pg = {'max_depth': np.linspace(1, 100, 5)}"
   ]
  },
  {
   "cell_type": "code",
   "execution_count": 37,
   "metadata": {},
   "outputs": [],
   "source": [
    "#classifier = LogisticRegression(solver='saga', multi_class='multinomial', max_iter=100, n_jobs =-1) #lbfgs\n",
    "#classifier = KNeighborsClassifier(weights='distance')\n",
    "#classifier = DecisionTreeClassifier()\n",
    "\n",
    "#grid_search = GridSearchCV(estimator=classifier, n_jobs = -1, param_grid=pg, cv=5, scoring='accuracy')\n",
    "#grid_search.fit(X_train_pca, y_train)\n",
    "\n",
    "#grid_search.best_params_"
   ]
  },
  {
   "cell_type": "code",
   "execution_count": 38,
   "metadata": {},
   "outputs": [],
   "source": [
    "#predicted_labels = grid_search.predict(X_test_pca)\n",
    "\n",
    "#acc = accuracy_score(y_test, predicted_labels)\n",
    "#f1 = f1_score(y_test, predicted_labels, average='weighted')\n",
    "#print('acc = ', acc)\n",
    "#print('f1 = ', f1)"
   ]
  },
  {
   "cell_type": "markdown",
   "metadata": {},
   "source": [
    "### Catboost"
   ]
  },
  {
   "cell_type": "code",
   "execution_count": 63,
   "metadata": {},
   "outputs": [],
   "source": [
    "X_train, X_test, y_train, y_test = train_test_split(X, y, test_size=0.2, random_state=42)\n",
    "X_train, X_eval, y_train, y_eval = train_test_split(X_train, y_train, test_size=0.2, random_state=42)\n",
    "\n",
    "skaler = StandardScaler()\n",
    "X_train_t = skaler.fit_transform(X_train)\n",
    "X_eval_t = skaler.fit_transform(X_eval)\n",
    "X_test_t = skaler.transform(X_test)"
   ]
  },
  {
   "cell_type": "code",
   "execution_count": 64,
   "metadata": {},
   "outputs": [
    {
     "name": "stdout",
     "output_type": "stream",
     "text": [
      "0:\tlearn: 0.6514671\ttest: 0.6741755\tbest: 0.6741755 (0)\ttotal: 155ms\tremaining: 2m 34s\n",
      "100:\tlearn: 0.0489779\ttest: 0.6215706\tbest: 0.5913487 (16)\ttotal: 1.58s\tremaining: 14.1s\n",
      "200:\tlearn: 0.0177040\ttest: 0.6744059\tbest: 0.5913487 (16)\ttotal: 2.9s\tremaining: 11.6s\n",
      "300:\tlearn: 0.0101371\ttest: 0.7124593\tbest: 0.5913487 (16)\ttotal: 4.2s\tremaining: 9.76s\n",
      "400:\tlearn: 0.0069237\ttest: 0.7399347\tbest: 0.5913487 (16)\ttotal: 5.55s\tremaining: 8.29s\n",
      "500:\tlearn: 0.0053840\ttest: 0.7578491\tbest: 0.5913487 (16)\ttotal: 6.87s\tremaining: 6.84s\n",
      "600:\tlearn: 0.0044076\ttest: 0.7763442\tbest: 0.5913487 (16)\ttotal: 8.21s\tremaining: 5.45s\n",
      "700:\tlearn: 0.0038291\ttest: 0.7896251\tbest: 0.5913487 (16)\ttotal: 9.62s\tremaining: 4.1s\n",
      "800:\tlearn: 0.0033698\ttest: 0.7988073\tbest: 0.5913487 (16)\ttotal: 10.9s\tremaining: 2.72s\n",
      "900:\tlearn: 0.0030590\ttest: 0.8067507\tbest: 0.5913487 (16)\ttotal: 12.3s\tremaining: 1.35s\n",
      "999:\tlearn: 0.0028825\ttest: 0.8127623\tbest: 0.5913487 (16)\ttotal: 13.7s\tremaining: 0us\n",
      "\n",
      "bestTest = 0.5913486676\n",
      "bestIteration = 16\n",
      "\n",
      "Shrink model to first 17 iterations.\n",
      "CatBoost: prediction of not_dead: RMSLE on test = 0.8127623261614878\n"
     ]
    }
   ],
   "source": [
    "model = CatBoostClassifier(has_time=True, iterations=1000, depth=10, learning_rate=0.1, loss_function='CrossEntropy')\n",
    "model.fit(X_train_t, y_train, eval_set=(X_eval_t, y_eval), verbose=100)\n",
    "\n",
    "print ('CatBoost: prediction of %s: RMSLE on test = %s' % ('not_dead', model.evals_result_['validation']['CrossEntropy'][-1]))"
   ]
  },
  {
   "cell_type": "code",
   "execution_count": 65,
   "metadata": {},
   "outputs": [
    {
     "data": {
      "text/plain": [
       "array([1, 1, 0, 0, 1, 0, 0, 1, 1, 1, 0, 1, 1, 1, 0, 1, 0, 1, 0, 0, 1, 1,\n",
       "       1, 1, 1, 0, 1, 1, 0, 1, 0, 1, 1, 1, 1, 0, 1, 1, 0, 1, 1, 0, 1, 1,\n",
       "       1, 1, 1, 1, 1, 1, 1, 0, 1, 0, 0, 1, 0, 1, 1, 0, 1, 1, 0, 1, 1, 0,\n",
       "       1, 0, 1, 1, 1, 1, 1, 1, 1, 1, 0, 1, 0, 0, 0, 1, 0, 1, 1, 1, 0, 1,\n",
       "       1, 1, 1, 0, 1, 0, 0, 0, 0, 0, 0, 1, 0, 0, 1, 1, 1, 1, 1, 1, 1, 1,\n",
       "       1, 0, 1, 0, 1, 1, 0, 1, 0, 0, 1, 1, 1, 1, 0, 0, 0, 0, 1, 0, 0],\n",
       "      dtype=int64)"
      ]
     },
     "execution_count": 65,
     "metadata": {},
     "output_type": "execute_result"
    }
   ],
   "source": [
    "y_pred = model.predict(X_test_t)\n",
    "y_pred"
   ]
  },
  {
   "cell_type": "code",
   "execution_count": 66,
   "metadata": {},
   "outputs": [
    {
     "data": {
      "text/plain": [
       "array([1., 1., 1., 0., 0., 0., 0., 0., 0., 1., 1., 0., 0., 0., 1., 1., 1.,\n",
       "       1., 1., 0., 1., 1., 1., 0., 0., 0., 0., 1., 0., 1., 0., 1., 1., 1.,\n",
       "       0., 0., 0., 1., 1., 0., 1., 1., 1., 1., 0., 1., 0., 1., 1., 1., 1.,\n",
       "       1., 1., 0., 1., 1., 0., 1., 0., 1., 1., 1., 1., 1., 0., 0., 1., 1.,\n",
       "       0., 1., 1., 1., 1., 1., 1., 1., 0., 1., 0., 0., 0., 0., 0., 1., 1.,\n",
       "       1., 0., 1., 1., 1., 0., 0., 1., 1., 0., 0., 1., 0., 0., 1., 1., 0.,\n",
       "       1., 1., 0., 1., 0., 1., 1., 1., 1., 1., 0., 0., 0., 1., 1., 1., 1.,\n",
       "       0., 1., 1., 1., 0., 0., 1., 1., 0., 1., 0., 1.])"
      ]
     },
     "execution_count": 66,
     "metadata": {},
     "output_type": "execute_result"
    }
   ],
   "source": [
    "y_test = y_test.values.ravel()\n",
    "y_test"
   ]
  },
  {
   "cell_type": "code",
   "execution_count": 67,
   "metadata": {},
   "outputs": [
    {
     "name": "stdout",
     "output_type": "stream",
     "text": [
      "\n",
      "CatBoost: prediction of log_delta. Feature importance. Type=PredictionValuesChange\n",
      "  Feature Id  Importances\n",
      "0          6    19.197516\n",
      "1          3    18.696240\n",
      "2          0    17.847655\n",
      "3          7    12.064020\n",
      "4          2     9.962412\n",
      "5          4     8.120351\n",
      "6          5     7.730078\n",
      "7          1     6.381729\n"
     ]
    }
   ],
   "source": [
    "print(model.get_feature_importance(type=cb.EFstrType.PredictionValuesChange, prettified=True).head(25).to_string())\n",
    "print(model.score(X_test_t, y_test))"
   ]
  },
  {
   "cell_type": "markdown",
   "metadata": {},
   "source": [
    "### SelectKBest"
   ]
  },
  {
   "cell_type": "code",
   "execution_count": 8,
   "metadata": {},
   "outputs": [],
   "source": [
    "# selector = SelectKBest(f_classif, k='all')\n",
    "# selector.fit(X_train_t, y_train)\n",
    "\n",
    "# #самый большой результат соответствует самому малому значению p-значения(вероятность ошибки)\n",
    "# #поэтому \"переворачиваем\", чтоб самые ценные признаки на графике были максимальными\n",
    "# scores = -np.log10(selector.pvalues_)\n",
    "\n",
    "# plt.bar(range(len(features)), scores)\n",
    "# plt.xticks(range(len(features)), features, rotation='vertical')\n",
    "# plt.show()"
   ]
  }
 ],
 "metadata": {
  "kernelspec": {
   "display_name": "Python 3 (ipykernel)",
   "language": "python",
   "name": "python3"
  },
  "language_info": {
   "codemirror_mode": {
    "name": "ipython",
    "version": 3
   },
   "file_extension": ".py",
   "mimetype": "text/x-python",
   "name": "python",
   "nbconvert_exporter": "python",
   "pygments_lexer": "ipython3",
   "version": "3.9.13"
  }
 },
 "nbformat": 4,
 "nbformat_minor": 4
}
