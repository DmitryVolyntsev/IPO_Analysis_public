{
 "cells": [
  {
   "cell_type": "code",
   "execution_count": 1,
   "metadata": {},
   "outputs": [],
   "source": [
    "import numpy as np\n",
    "import pandas as pd\n",
    "import matplotlib.pyplot as plt\n",
    "import scipy.stats as st\n",
    "from scipy import interp\n",
    "\n",
    "import seaborn as sns\n",
    "from sklearn.model_selection import train_test_split, GridSearchCV\n",
    "from sklearn.feature_selection import SelectKBest, f_classif\n",
    "from sklearn.preprocessing import StandardScaler, label_binarize, LabelBinarizer\n",
    "from sklearn.metrics import r2_score, f1_score, accuracy_score, roc_auc_score, roc_curve, auc, precision_score, recall_score\n",
    "from sklearn.linear_model import LogisticRegression\n",
    "from sklearn.neighbors import KNeighborsClassifier\n",
    "from sklearn.tree import DecisionTreeClassifier\n",
    "from sklearn.decomposition import PCA\n",
    "from sklearn.ensemble import BaggingClassifier, RandomForestClassifier, GradientBoostingClassifier\n",
    "\n",
    "import xgboost as xgb\n",
    "from xgboost import XGBClassifier\n",
    "\n",
    "import catboost as cb\n",
    "from catboost import CatBoostClassifier\n",
    "\n",
    "import warnings\n",
    "warnings.simplefilter(action='ignore', category=FutureWarning)\n",
    "pd.set_option('display.max_columns', None)\n",
    "pd.set_option('display.max_colwidth', None)\n",
    "pd.options.mode.chained_assignment = None"
   ]
  },
  {
   "cell_type": "markdown",
   "metadata": {},
   "source": [
    "Корректируем датасет:  \n",
    "1) корректировка используемого в модели значения капитализации и разницы логарифмов между раундами  \n",
    "2) исключение раундов \"без ответа\"  \n",
    "3) приведение дат к нужному формату"
   ]
  },
  {
   "cell_type": "code",
   "execution_count": 2,
   "metadata": {},
   "outputs": [],
   "source": [
    "nan = [np.nan]\n",
    "default_exit_value = 1 #\"капитализация\" мертвой компании в долларах"
   ]
  },
  {
   "cell_type": "code",
   "execution_count": 3,
   "metadata": {},
   "outputs": [],
   "source": [
    "#wave_2\n",
    "dataset = pd.read_csv('C:/Users/Barca/Desktop/GitHub/IPO_Analysis/model_ver_based_on_2019/wave_2/1_DataPreparation/funding_rounds_with_exits.csv')\n",
    "DEMO_SET = pd.read_csv('C:/Users/Barca/Desktop/GitHub/IPO_Analysis/model_ver_based_on_2019/wave_2/1_DataPreparation/DEMO_SET.csv')"
   ]
  },
  {
   "cell_type": "code",
   "execution_count": 4,
   "metadata": {},
   "outputs": [
    {
     "data": {
      "text/html": [
       "<div>\n",
       "<style scoped>\n",
       "    .dataframe tbody tr th:only-of-type {\n",
       "        vertical-align: middle;\n",
       "    }\n",
       "\n",
       "    .dataframe tbody tr th {\n",
       "        vertical-align: top;\n",
       "    }\n",
       "\n",
       "    .dataframe thead th {\n",
       "        text-align: right;\n",
       "    }\n",
       "</style>\n",
       "<table border=\"1\" class=\"dataframe\">\n",
       "  <thead>\n",
       "    <tr style=\"text-align: right;\">\n",
       "      <th></th>\n",
       "      <th>funding_round_uuid</th>\n",
       "      <th>company_name</th>\n",
       "      <th>company_uuid</th>\n",
       "      <th>investment_type</th>\n",
       "      <th>announced_on</th>\n",
       "      <th>raised_amount_usd</th>\n",
       "      <th>post_money_valuation_usd</th>\n",
       "      <th>exit_date</th>\n",
       "      <th>exit_type</th>\n",
       "      <th>price_usd</th>\n",
       "      <th>money_raised_usd</th>\n",
       "      <th>time_from_start</th>\n",
       "      <th>time_from_previous</th>\n",
       "      <th>category_tag</th>\n",
       "      <th>top_investor</th>\n",
       "      <th>other_investor</th>\n",
       "      <th>top_investor_count</th>\n",
       "      <th>other_investor_count</th>\n",
       "      <th>top_investor_sum</th>\n",
       "      <th>other_investor_sum</th>\n",
       "      <th>top_investor_rounds</th>\n",
       "      <th>other_investor_rounds</th>\n",
       "      <th>interpolated_money_valuation_usd</th>\n",
       "      <th>total_sum_raised</th>\n",
       "      <th>total_sum_raised_before</th>\n",
       "      <th>valuation</th>\n",
       "      <th>not_dead</th>\n",
       "    </tr>\n",
       "  </thead>\n",
       "  <tbody>\n",
       "    <tr>\n",
       "      <th>0</th>\n",
       "      <td>778db45f-e9d1-3f73-86f4-ae4cc79c48ff</td>\n",
       "      <td>Lot18</td>\n",
       "      <td>003d89d4-47dc-e35a-ddf6-eda9940f3ba7</td>\n",
       "      <td>seed</td>\n",
       "      <td>2010-01-01</td>\n",
       "      <td>500000.0</td>\n",
       "      <td>0.0</td>\n",
       "      <td>NaN</td>\n",
       "      <td>dead</td>\n",
       "      <td>NaN</td>\n",
       "      <td>NaN</td>\n",
       "      <td>0.0</td>\n",
       "      <td>0.0</td>\n",
       "      <td>1.0</td>\n",
       "      <td>0.0</td>\n",
       "      <td>0.0</td>\n",
       "      <td>0.0</td>\n",
       "      <td>0.0</td>\n",
       "      <td>0.0</td>\n",
       "      <td>0.0</td>\n",
       "      <td>3.0</td>\n",
       "      <td>1.0</td>\n",
       "      <td>2.000000e+06</td>\n",
       "      <td>500000.0</td>\n",
       "      <td>0.0</td>\n",
       "      <td>2.000000e+06</td>\n",
       "      <td>0.0</td>\n",
       "    </tr>\n",
       "    <tr>\n",
       "      <th>1</th>\n",
       "      <td>fc2c2560-8bb0-90d1-b048-ee9cfc3f301d</td>\n",
       "      <td>Lot18</td>\n",
       "      <td>003d89d4-47dc-e35a-ddf6-eda9940f3ba7</td>\n",
       "      <td>series_a</td>\n",
       "      <td>2010-11-10</td>\n",
       "      <td>3000000.0</td>\n",
       "      <td>0.0</td>\n",
       "      <td>NaN</td>\n",
       "      <td>dead</td>\n",
       "      <td>NaN</td>\n",
       "      <td>NaN</td>\n",
       "      <td>313.0</td>\n",
       "      <td>313.0</td>\n",
       "      <td>1.0</td>\n",
       "      <td>1.0</td>\n",
       "      <td>0.0</td>\n",
       "      <td>3.0</td>\n",
       "      <td>2.0</td>\n",
       "      <td>6.0</td>\n",
       "      <td>2.0</td>\n",
       "      <td>3.0</td>\n",
       "      <td>1.0</td>\n",
       "      <td>1.800000e+07</td>\n",
       "      <td>3500000.0</td>\n",
       "      <td>500000.0</td>\n",
       "      <td>1.800000e+07</td>\n",
       "      <td>0.0</td>\n",
       "    </tr>\n",
       "    <tr>\n",
       "      <th>2</th>\n",
       "      <td>d863a1b9-dda0-284e-3258-fa43a20d305c</td>\n",
       "      <td>Lot18</td>\n",
       "      <td>003d89d4-47dc-e35a-ddf6-eda9940f3ba7</td>\n",
       "      <td>series_b</td>\n",
       "      <td>2011-05-02</td>\n",
       "      <td>10000000.0</td>\n",
       "      <td>0.0</td>\n",
       "      <td>NaN</td>\n",
       "      <td>dead</td>\n",
       "      <td>NaN</td>\n",
       "      <td>NaN</td>\n",
       "      <td>486.0</td>\n",
       "      <td>173.0</td>\n",
       "      <td>1.0</td>\n",
       "      <td>1.0</td>\n",
       "      <td>0.0</td>\n",
       "      <td>3.0</td>\n",
       "      <td>2.0</td>\n",
       "      <td>6.0</td>\n",
       "      <td>2.0</td>\n",
       "      <td>3.0</td>\n",
       "      <td>1.0</td>\n",
       "      <td>6.800000e+07</td>\n",
       "      <td>13500000.0</td>\n",
       "      <td>3500000.0</td>\n",
       "      <td>6.800000e+07</td>\n",
       "      <td>0.0</td>\n",
       "    </tr>\n",
       "    <tr>\n",
       "      <th>3</th>\n",
       "      <td>4c9cb685-ec9a-92ed-64c0-062040d9573e</td>\n",
       "      <td>Lot18</td>\n",
       "      <td>003d89d4-47dc-e35a-ddf6-eda9940f3ba7</td>\n",
       "      <td>series_unknown</td>\n",
       "      <td>2011-08-24</td>\n",
       "      <td>1000000.0</td>\n",
       "      <td>0.0</td>\n",
       "      <td>NaN</td>\n",
       "      <td>dead</td>\n",
       "      <td>NaN</td>\n",
       "      <td>NaN</td>\n",
       "      <td>600.0</td>\n",
       "      <td>114.0</td>\n",
       "      <td>1.0</td>\n",
       "      <td>0.0</td>\n",
       "      <td>1.0</td>\n",
       "      <td>3.0</td>\n",
       "      <td>2.0</td>\n",
       "      <td>6.0</td>\n",
       "      <td>2.0</td>\n",
       "      <td>3.0</td>\n",
       "      <td>1.0</td>\n",
       "      <td>5.000000e+06</td>\n",
       "      <td>14500000.0</td>\n",
       "      <td>13500000.0</td>\n",
       "      <td>5.000000e+06</td>\n",
       "      <td>0.0</td>\n",
       "    </tr>\n",
       "    <tr>\n",
       "      <th>4</th>\n",
       "      <td>1006ef75-d2f2-bac4-5737-dae2075cf616</td>\n",
       "      <td>Lot18</td>\n",
       "      <td>003d89d4-47dc-e35a-ddf6-eda9940f3ba7</td>\n",
       "      <td>series_c</td>\n",
       "      <td>2011-11-04</td>\n",
       "      <td>30000000.0</td>\n",
       "      <td>0.0</td>\n",
       "      <td>NaN</td>\n",
       "      <td>dead</td>\n",
       "      <td>NaN</td>\n",
       "      <td>NaN</td>\n",
       "      <td>672.0</td>\n",
       "      <td>72.0</td>\n",
       "      <td>1.0</td>\n",
       "      <td>1.0</td>\n",
       "      <td>0.0</td>\n",
       "      <td>3.0</td>\n",
       "      <td>2.0</td>\n",
       "      <td>6.0</td>\n",
       "      <td>2.0</td>\n",
       "      <td>3.0</td>\n",
       "      <td>1.0</td>\n",
       "      <td>2.320000e+08</td>\n",
       "      <td>44500000.0</td>\n",
       "      <td>14500000.0</td>\n",
       "      <td>2.320000e+08</td>\n",
       "      <td>0.0</td>\n",
       "    </tr>\n",
       "    <tr>\n",
       "      <th>...</th>\n",
       "      <td>...</td>\n",
       "      <td>...</td>\n",
       "      <td>...</td>\n",
       "      <td>...</td>\n",
       "      <td>...</td>\n",
       "      <td>...</td>\n",
       "      <td>...</td>\n",
       "      <td>...</td>\n",
       "      <td>...</td>\n",
       "      <td>...</td>\n",
       "      <td>...</td>\n",
       "      <td>...</td>\n",
       "      <td>...</td>\n",
       "      <td>...</td>\n",
       "      <td>...</td>\n",
       "      <td>...</td>\n",
       "      <td>...</td>\n",
       "      <td>...</td>\n",
       "      <td>...</td>\n",
       "      <td>...</td>\n",
       "      <td>...</td>\n",
       "      <td>...</td>\n",
       "      <td>...</td>\n",
       "      <td>...</td>\n",
       "      <td>...</td>\n",
       "      <td>...</td>\n",
       "      <td>...</td>\n",
       "    </tr>\n",
       "    <tr>\n",
       "      <th>7562</th>\n",
       "      <td>2067db69-a274-7914-0207-5fb1af6cc7ca</td>\n",
       "      <td>ZS Pharma</td>\n",
       "      <td>ffd3e2ec-f764-6135-4b41-9a861965223d</td>\n",
       "      <td>series_c</td>\n",
       "      <td>2012-10-23</td>\n",
       "      <td>46000000.0</td>\n",
       "      <td>0.0</td>\n",
       "      <td>2014-06-19</td>\n",
       "      <td>ipo</td>\n",
       "      <td>300000000.0</td>\n",
       "      <td>112000000.0</td>\n",
       "      <td>679.0</td>\n",
       "      <td>673.0</td>\n",
       "      <td>2.0</td>\n",
       "      <td>1.0</td>\n",
       "      <td>1.0</td>\n",
       "      <td>5.0</td>\n",
       "      <td>5.0</td>\n",
       "      <td>6.0</td>\n",
       "      <td>10.0</td>\n",
       "      <td>2.0</td>\n",
       "      <td>3.0</td>\n",
       "      <td>3.740000e+08</td>\n",
       "      <td>47987972.0</td>\n",
       "      <td>1987972.0</td>\n",
       "      <td>3.740000e+08</td>\n",
       "      <td>1.0</td>\n",
       "    </tr>\n",
       "    <tr>\n",
       "      <th>7563</th>\n",
       "      <td>602347ee-2d81-7ad3-7f85-d68ea1fb8967</td>\n",
       "      <td>ZS Pharma</td>\n",
       "      <td>ffd3e2ec-f764-6135-4b41-9a861965223d</td>\n",
       "      <td>series_d</td>\n",
       "      <td>2014-03-05</td>\n",
       "      <td>55000000.0</td>\n",
       "      <td>0.0</td>\n",
       "      <td>2014-06-19</td>\n",
       "      <td>ipo</td>\n",
       "      <td>300000000.0</td>\n",
       "      <td>112000000.0</td>\n",
       "      <td>1177.0</td>\n",
       "      <td>498.0</td>\n",
       "      <td>2.0</td>\n",
       "      <td>1.0</td>\n",
       "      <td>1.0</td>\n",
       "      <td>5.0</td>\n",
       "      <td>5.0</td>\n",
       "      <td>6.0</td>\n",
       "      <td>10.0</td>\n",
       "      <td>2.0</td>\n",
       "      <td>3.0</td>\n",
       "      <td>4.560000e+08</td>\n",
       "      <td>102987972.0</td>\n",
       "      <td>47987972.0</td>\n",
       "      <td>4.560000e+08</td>\n",
       "      <td>1.0</td>\n",
       "    </tr>\n",
       "    <tr>\n",
       "      <th>7564</th>\n",
       "      <td>-</td>\n",
       "      <td>ZS Pharma</td>\n",
       "      <td>ffd3e2ec-f764-6135-4b41-9a861965223d</td>\n",
       "      <td>ipo</td>\n",
       "      <td>2014-06-19</td>\n",
       "      <td>112000000.0</td>\n",
       "      <td>300000000.0</td>\n",
       "      <td>2014-06-19</td>\n",
       "      <td>ipo</td>\n",
       "      <td>300000000.0</td>\n",
       "      <td>112000000.0</td>\n",
       "      <td>1283.0</td>\n",
       "      <td>106.0</td>\n",
       "      <td>2.0</td>\n",
       "      <td>0.0</td>\n",
       "      <td>0.0</td>\n",
       "      <td>0.0</td>\n",
       "      <td>0.0</td>\n",
       "      <td>0.0</td>\n",
       "      <td>0.0</td>\n",
       "      <td>2.0</td>\n",
       "      <td>3.0</td>\n",
       "      <td>1.011000e+09</td>\n",
       "      <td>214987972.0</td>\n",
       "      <td>102987972.0</td>\n",
       "      <td>1.011000e+09</td>\n",
       "      <td>1.0</td>\n",
       "    </tr>\n",
       "    <tr>\n",
       "      <th>7565</th>\n",
       "      <td>7792bf54-78d8-7159-329b-41e71e1c8f6b</td>\n",
       "      <td>Powermat Technologies</td>\n",
       "      <td>fff473e3-0f7d-b475-1da2-c9496721f49f</td>\n",
       "      <td>series_c</td>\n",
       "      <td>2011-10-06</td>\n",
       "      <td>80000000.0</td>\n",
       "      <td>0.0</td>\n",
       "      <td>NaN</td>\n",
       "      <td>dead</td>\n",
       "      <td>NaN</td>\n",
       "      <td>NaN</td>\n",
       "      <td>0.0</td>\n",
       "      <td>0.0</td>\n",
       "      <td>1.0</td>\n",
       "      <td>0.0</td>\n",
       "      <td>1.0</td>\n",
       "      <td>0.0</td>\n",
       "      <td>2.0</td>\n",
       "      <td>0.0</td>\n",
       "      <td>2.0</td>\n",
       "      <td>0.0</td>\n",
       "      <td>1.0</td>\n",
       "      <td>6.940000e+08</td>\n",
       "      <td>80000000.0</td>\n",
       "      <td>0.0</td>\n",
       "      <td>6.940000e+08</td>\n",
       "      <td>0.0</td>\n",
       "    </tr>\n",
       "    <tr>\n",
       "      <th>7566</th>\n",
       "      <td>-</td>\n",
       "      <td>Powermat Technologies</td>\n",
       "      <td>fff473e3-0f7d-b475-1da2-c9496721f49f</td>\n",
       "      <td>death</td>\n",
       "      <td>2015-04-03</td>\n",
       "      <td>0.0</td>\n",
       "      <td>0.0</td>\n",
       "      <td>NaN</td>\n",
       "      <td>dead</td>\n",
       "      <td>NaN</td>\n",
       "      <td>NaN</td>\n",
       "      <td>1275.0</td>\n",
       "      <td>1275.0</td>\n",
       "      <td>1.0</td>\n",
       "      <td>0.0</td>\n",
       "      <td>0.0</td>\n",
       "      <td>0.0</td>\n",
       "      <td>0.0</td>\n",
       "      <td>0.0</td>\n",
       "      <td>0.0</td>\n",
       "      <td>0.0</td>\n",
       "      <td>1.0</td>\n",
       "      <td>0.000000e+00</td>\n",
       "      <td>80000000.0</td>\n",
       "      <td>80000000.0</td>\n",
       "      <td>1.000000e+00</td>\n",
       "      <td>0.0</td>\n",
       "    </tr>\n",
       "  </tbody>\n",
       "</table>\n",
       "<p>7567 rows × 27 columns</p>\n",
       "</div>"
      ],
      "text/plain": [
       "                        funding_round_uuid           company_name  \\\n",
       "0     778db45f-e9d1-3f73-86f4-ae4cc79c48ff                  Lot18   \n",
       "1     fc2c2560-8bb0-90d1-b048-ee9cfc3f301d                  Lot18   \n",
       "2     d863a1b9-dda0-284e-3258-fa43a20d305c                  Lot18   \n",
       "3     4c9cb685-ec9a-92ed-64c0-062040d9573e                  Lot18   \n",
       "4     1006ef75-d2f2-bac4-5737-dae2075cf616                  Lot18   \n",
       "...                                    ...                    ...   \n",
       "7562  2067db69-a274-7914-0207-5fb1af6cc7ca              ZS Pharma   \n",
       "7563  602347ee-2d81-7ad3-7f85-d68ea1fb8967              ZS Pharma   \n",
       "7564                                     -              ZS Pharma   \n",
       "7565  7792bf54-78d8-7159-329b-41e71e1c8f6b  Powermat Technologies   \n",
       "7566                                     -  Powermat Technologies   \n",
       "\n",
       "                              company_uuid investment_type announced_on  \\\n",
       "0     003d89d4-47dc-e35a-ddf6-eda9940f3ba7            seed   2010-01-01   \n",
       "1     003d89d4-47dc-e35a-ddf6-eda9940f3ba7        series_a   2010-11-10   \n",
       "2     003d89d4-47dc-e35a-ddf6-eda9940f3ba7        series_b   2011-05-02   \n",
       "3     003d89d4-47dc-e35a-ddf6-eda9940f3ba7  series_unknown   2011-08-24   \n",
       "4     003d89d4-47dc-e35a-ddf6-eda9940f3ba7        series_c   2011-11-04   \n",
       "...                                    ...             ...          ...   \n",
       "7562  ffd3e2ec-f764-6135-4b41-9a861965223d        series_c   2012-10-23   \n",
       "7563  ffd3e2ec-f764-6135-4b41-9a861965223d        series_d   2014-03-05   \n",
       "7564  ffd3e2ec-f764-6135-4b41-9a861965223d             ipo   2014-06-19   \n",
       "7565  fff473e3-0f7d-b475-1da2-c9496721f49f        series_c   2011-10-06   \n",
       "7566  fff473e3-0f7d-b475-1da2-c9496721f49f           death   2015-04-03   \n",
       "\n",
       "      raised_amount_usd  post_money_valuation_usd   exit_date exit_type  \\\n",
       "0              500000.0                       0.0         NaN      dead   \n",
       "1             3000000.0                       0.0         NaN      dead   \n",
       "2            10000000.0                       0.0         NaN      dead   \n",
       "3             1000000.0                       0.0         NaN      dead   \n",
       "4            30000000.0                       0.0         NaN      dead   \n",
       "...                 ...                       ...         ...       ...   \n",
       "7562         46000000.0                       0.0  2014-06-19       ipo   \n",
       "7563         55000000.0                       0.0  2014-06-19       ipo   \n",
       "7564        112000000.0               300000000.0  2014-06-19       ipo   \n",
       "7565         80000000.0                       0.0         NaN      dead   \n",
       "7566                0.0                       0.0         NaN      dead   \n",
       "\n",
       "        price_usd  money_raised_usd  time_from_start  time_from_previous  \\\n",
       "0             NaN               NaN              0.0                 0.0   \n",
       "1             NaN               NaN            313.0               313.0   \n",
       "2             NaN               NaN            486.0               173.0   \n",
       "3             NaN               NaN            600.0               114.0   \n",
       "4             NaN               NaN            672.0                72.0   \n",
       "...           ...               ...              ...                 ...   \n",
       "7562  300000000.0       112000000.0            679.0               673.0   \n",
       "7563  300000000.0       112000000.0           1177.0               498.0   \n",
       "7564  300000000.0       112000000.0           1283.0               106.0   \n",
       "7565          NaN               NaN              0.0                 0.0   \n",
       "7566          NaN               NaN           1275.0              1275.0   \n",
       "\n",
       "      category_tag  top_investor  other_investor  top_investor_count  \\\n",
       "0              1.0           0.0             0.0                 0.0   \n",
       "1              1.0           1.0             0.0                 3.0   \n",
       "2              1.0           1.0             0.0                 3.0   \n",
       "3              1.0           0.0             1.0                 3.0   \n",
       "4              1.0           1.0             0.0                 3.0   \n",
       "...            ...           ...             ...                 ...   \n",
       "7562           2.0           1.0             1.0                 5.0   \n",
       "7563           2.0           1.0             1.0                 5.0   \n",
       "7564           2.0           0.0             0.0                 0.0   \n",
       "7565           1.0           0.0             1.0                 0.0   \n",
       "7566           1.0           0.0             0.0                 0.0   \n",
       "\n",
       "      other_investor_count  top_investor_sum  other_investor_sum  \\\n",
       "0                      0.0               0.0                 0.0   \n",
       "1                      2.0               6.0                 2.0   \n",
       "2                      2.0               6.0                 2.0   \n",
       "3                      2.0               6.0                 2.0   \n",
       "4                      2.0               6.0                 2.0   \n",
       "...                    ...               ...                 ...   \n",
       "7562                   5.0               6.0                10.0   \n",
       "7563                   5.0               6.0                10.0   \n",
       "7564                   0.0               0.0                 0.0   \n",
       "7565                   2.0               0.0                 2.0   \n",
       "7566                   0.0               0.0                 0.0   \n",
       "\n",
       "      top_investor_rounds  other_investor_rounds  \\\n",
       "0                     3.0                    1.0   \n",
       "1                     3.0                    1.0   \n",
       "2                     3.0                    1.0   \n",
       "3                     3.0                    1.0   \n",
       "4                     3.0                    1.0   \n",
       "...                   ...                    ...   \n",
       "7562                  2.0                    3.0   \n",
       "7563                  2.0                    3.0   \n",
       "7564                  2.0                    3.0   \n",
       "7565                  0.0                    1.0   \n",
       "7566                  0.0                    1.0   \n",
       "\n",
       "      interpolated_money_valuation_usd  total_sum_raised  \\\n",
       "0                         2.000000e+06          500000.0   \n",
       "1                         1.800000e+07         3500000.0   \n",
       "2                         6.800000e+07        13500000.0   \n",
       "3                         5.000000e+06        14500000.0   \n",
       "4                         2.320000e+08        44500000.0   \n",
       "...                                ...               ...   \n",
       "7562                      3.740000e+08        47987972.0   \n",
       "7563                      4.560000e+08       102987972.0   \n",
       "7564                      1.011000e+09       214987972.0   \n",
       "7565                      6.940000e+08        80000000.0   \n",
       "7566                      0.000000e+00        80000000.0   \n",
       "\n",
       "      total_sum_raised_before     valuation  not_dead  \n",
       "0                         0.0  2.000000e+06       0.0  \n",
       "1                    500000.0  1.800000e+07       0.0  \n",
       "2                   3500000.0  6.800000e+07       0.0  \n",
       "3                  13500000.0  5.000000e+06       0.0  \n",
       "4                  14500000.0  2.320000e+08       0.0  \n",
       "...                       ...           ...       ...  \n",
       "7562                1987972.0  3.740000e+08       1.0  \n",
       "7563               47987972.0  4.560000e+08       1.0  \n",
       "7564              102987972.0  1.011000e+09       1.0  \n",
       "7565                      0.0  6.940000e+08       0.0  \n",
       "7566               80000000.0  1.000000e+00       0.0  \n",
       "\n",
       "[7567 rows x 27 columns]"
      ]
     },
     "execution_count": 4,
     "metadata": {},
     "output_type": "execute_result"
    }
   ],
   "source": [
    "dataset['raised_amount_usd'] = pd.to_numeric(dataset['raised_amount_usd'], errors='coerce')\n",
    "dataset.loc[dataset['raised_amount_usd'].isin(nan), 'raised_amount_usd'] = 0\n",
    "dataset['interpolated_money_valuation_usd'] = round(dataset['raised_amount_usd'] ** 1.1187, -6) #1.12751583465595\n",
    "dataset['interpolated_money_valuation_usd'] = pd.to_numeric(dataset['interpolated_money_valuation_usd'], errors='coerce')\n",
    "dataset.loc[dataset['interpolated_money_valuation_usd'].isin(nan), 'interpolated_money_valuation_usd'] = 0\n",
    "dataset['post_money_valuation_usd'] = pd.to_numeric(dataset['post_money_valuation_usd'], errors='coerce')\n",
    "dataset.loc[dataset['post_money_valuation_usd'].isin(nan), 'post_money_valuation_usd'] = 0\n",
    "\n",
    "dataset.loc[dataset['time_from_previous'].isin(nan), 'time_from_previous'] = 0\n",
    "dataset['total_sum_raised'] = dataset.groupby(['company_uuid'])['raised_amount_usd'].transform('cumsum')\n",
    "dataset['total_sum_raised_before'] = dataset.groupby('company_uuid')['total_sum_raised'].shift(1)\n",
    "dataset.loc[dataset['total_sum_raised_before'].isin(nan), 'total_sum_raised_before'] = 0\n",
    "\n",
    "dataset['valuation'] = dataset['interpolated_money_valuation_usd']\n",
    "dataset.loc[dataset['valuation'] == 0, 'valuation'] = dataset['post_money_valuation_usd']\n",
    "dataset.loc[dataset['investment_type'] == 'death', 'valuation'] = default_exit_value\n",
    "\n",
    "dataset = dataset.replace('---', np.nan)\n",
    "dataset.loc[(dataset['exit_type'].isin(nan)) | (dataset['exit_type'] == '0'), 'exit_type'] = 'dead'\n",
    "dataset.loc[dataset['exit_type'] == 'dead', 'not_dead'] = 0\n",
    "dataset.loc[dataset['exit_type'].isin(['sold', 'ipo']), 'not_dead'] = 1\n",
    "\n",
    "dataset['announced_on'] = pd.to_datetime(dataset['announced_on'])\n",
    "dataset['time_from_previous'] = pd.to_numeric(dataset['time_from_previous'], errors='coerce')\n",
    "\n",
    "#listColumns = ['top_quantil', 'is_PHD', 'is_Master', 'is_MBA']\n",
    "#for i in listColumns:\n",
    "#    dataset[i] = dataset[i].replace(np.nan, 0)\n",
    "\n",
    "#for i in dataset.columns:\n",
    "#    if i.startswith('EDU_'):\n",
    "#        dataset[i] = pd.to_numeric(dataset[i], errors='coerce')\n",
    "#        dataset.loc[dataset[i] != 0, i] = 1\n",
    "\n",
    "y = dataset.loc[dataset['investment_type'].isin(['ipo', 'sold', 'death'])] #экзиты\n",
    "dataset"
   ]
  },
  {
   "cell_type": "markdown",
   "metadata": {},
   "source": [
    "Разбиваем на классы"
   ]
  },
  {
   "cell_type": "code",
   "execution_count": 5,
   "metadata": {},
   "outputs": [],
   "source": [
    "# y['val_rate'].describe([.5])"
   ]
  },
  {
   "cell_type": "code",
   "execution_count": 6,
   "metadata": {},
   "outputs": [],
   "source": [
    "# y.groupby('investment_type').size()"
   ]
  },
  {
   "cell_type": "markdown",
   "metadata": {},
   "source": [
    "Все, что слева от медианного значения -0.9 - нарвалы (с отрицательной скоростью роста привлеченных средств), справа - носороги (с положительной и околонулевой скоростью роста привлеченных средств)"
   ]
  },
  {
   "cell_type": "code",
   "execution_count": 7,
   "metadata": {},
   "outputs": [
    {
     "data": {
      "text/html": [
       "<div>\n",
       "<style scoped>\n",
       "    .dataframe tbody tr th:only-of-type {\n",
       "        vertical-align: middle;\n",
       "    }\n",
       "\n",
       "    .dataframe tbody tr th {\n",
       "        vertical-align: top;\n",
       "    }\n",
       "\n",
       "    .dataframe thead th {\n",
       "        text-align: right;\n",
       "    }\n",
       "</style>\n",
       "<table border=\"1\" class=\"dataframe\">\n",
       "  <thead>\n",
       "    <tr style=\"text-align: right;\">\n",
       "      <th></th>\n",
       "      <th>funding_round_uuid</th>\n",
       "      <th>company_name</th>\n",
       "      <th>company_uuid</th>\n",
       "      <th>investment_type</th>\n",
       "      <th>announced_on</th>\n",
       "      <th>raised_amount_usd</th>\n",
       "      <th>post_money_valuation_usd</th>\n",
       "      <th>exit_date</th>\n",
       "      <th>exit_type</th>\n",
       "      <th>price_usd</th>\n",
       "      <th>money_raised_usd</th>\n",
       "      <th>time_from_start</th>\n",
       "      <th>time_from_previous</th>\n",
       "      <th>category_tag</th>\n",
       "      <th>top_investor</th>\n",
       "      <th>other_investor</th>\n",
       "      <th>top_investor_count</th>\n",
       "      <th>other_investor_count</th>\n",
       "      <th>top_investor_sum</th>\n",
       "      <th>other_investor_sum</th>\n",
       "      <th>top_investor_rounds</th>\n",
       "      <th>other_investor_rounds</th>\n",
       "      <th>interpolated_money_valuation_usd</th>\n",
       "      <th>total_sum_raised</th>\n",
       "      <th>total_sum_raised_before</th>\n",
       "      <th>valuation</th>\n",
       "      <th>not_dead</th>\n",
       "    </tr>\n",
       "  </thead>\n",
       "  <tbody>\n",
       "    <tr>\n",
       "      <th>4</th>\n",
       "      <td>1006ef75-d2f2-bac4-5737-dae2075cf616</td>\n",
       "      <td>Lot18</td>\n",
       "      <td>003d89d4-47dc-e35a-ddf6-eda9940f3ba7</td>\n",
       "      <td>series_c</td>\n",
       "      <td>2011-11-04</td>\n",
       "      <td>30000000.0</td>\n",
       "      <td>0.0</td>\n",
       "      <td>NaN</td>\n",
       "      <td>dead</td>\n",
       "      <td>NaN</td>\n",
       "      <td>NaN</td>\n",
       "      <td>672.0</td>\n",
       "      <td>72.0</td>\n",
       "      <td>1.0</td>\n",
       "      <td>1.0</td>\n",
       "      <td>0.0</td>\n",
       "      <td>3.0</td>\n",
       "      <td>2.0</td>\n",
       "      <td>6.0</td>\n",
       "      <td>2.0</td>\n",
       "      <td>3.0</td>\n",
       "      <td>1.0</td>\n",
       "      <td>232000000.0</td>\n",
       "      <td>44500000.0</td>\n",
       "      <td>14500000.0</td>\n",
       "      <td>232000000.0</td>\n",
       "      <td>0.0</td>\n",
       "    </tr>\n",
       "    <tr>\n",
       "      <th>9</th>\n",
       "      <td>d17e816a-f9d4-8dde-270f-71d46a10f28e</td>\n",
       "      <td>Xcovery</td>\n",
       "      <td>0041fccf-ebbb-48ad-3091-b94350ef4d7c</td>\n",
       "      <td>private_equity</td>\n",
       "      <td>2014-10-29</td>\n",
       "      <td>20000000.0</td>\n",
       "      <td>0.0</td>\n",
       "      <td>NaN</td>\n",
       "      <td>dead</td>\n",
       "      <td>NaN</td>\n",
       "      <td>NaN</td>\n",
       "      <td>1094.0</td>\n",
       "      <td>194.0</td>\n",
       "      <td>2.0</td>\n",
       "      <td>0.0</td>\n",
       "      <td>1.0</td>\n",
       "      <td>0.0</td>\n",
       "      <td>1.0</td>\n",
       "      <td>0.0</td>\n",
       "      <td>1.0</td>\n",
       "      <td>0.0</td>\n",
       "      <td>1.0</td>\n",
       "      <td>147000000.0</td>\n",
       "      <td>30796170.0</td>\n",
       "      <td>10796170.0</td>\n",
       "      <td>147000000.0</td>\n",
       "      <td>0.0</td>\n",
       "    </tr>\n",
       "    <tr>\n",
       "      <th>13</th>\n",
       "      <td>a9a651a1-7849-9329-e97a-8ce957637b71</td>\n",
       "      <td>CardiAQ Valve Technologies</td>\n",
       "      <td>009e8957-d102-c674-6c9c-98eb11ac8e32</td>\n",
       "      <td>series_b</td>\n",
       "      <td>2012-11-29</td>\n",
       "      <td>37300000.0</td>\n",
       "      <td>0.0</td>\n",
       "      <td>2015-07-10</td>\n",
       "      <td>sold</td>\n",
       "      <td>350000000.0</td>\n",
       "      <td>NaN</td>\n",
       "      <td>1296.0</td>\n",
       "      <td>1052.0</td>\n",
       "      <td>2.0</td>\n",
       "      <td>1.0</td>\n",
       "      <td>0.0</td>\n",
       "      <td>2.0</td>\n",
       "      <td>1.0</td>\n",
       "      <td>2.0</td>\n",
       "      <td>1.0</td>\n",
       "      <td>1.0</td>\n",
       "      <td>1.0</td>\n",
       "      <td>295000000.0</td>\n",
       "      <td>44550000.0</td>\n",
       "      <td>7250000.0</td>\n",
       "      <td>295000000.0</td>\n",
       "      <td>1.0</td>\n",
       "    </tr>\n",
       "    <tr>\n",
       "      <th>20</th>\n",
       "      <td>951e44e7-27c6-b933-eb05-160c03705497</td>\n",
       "      <td>CellBiosciences</td>\n",
       "      <td>00e12273-bfa7-d0ac-25e2-c870ab22c474</td>\n",
       "      <td>series_f</td>\n",
       "      <td>2010-10-14</td>\n",
       "      <td>20000000.0</td>\n",
       "      <td>0.0</td>\n",
       "      <td>2014-06-17</td>\n",
       "      <td>sold</td>\n",
       "      <td>300000000.0</td>\n",
       "      <td>NaN</td>\n",
       "      <td>1747.0</td>\n",
       "      <td>297.0</td>\n",
       "      <td>2.0</td>\n",
       "      <td>1.0</td>\n",
       "      <td>1.0</td>\n",
       "      <td>7.0</td>\n",
       "      <td>4.0</td>\n",
       "      <td>16.0</td>\n",
       "      <td>8.0</td>\n",
       "      <td>4.0</td>\n",
       "      <td>3.0</td>\n",
       "      <td>147000000.0</td>\n",
       "      <td>85249999.0</td>\n",
       "      <td>65249999.0</td>\n",
       "      <td>147000000.0</td>\n",
       "      <td>1.0</td>\n",
       "    </tr>\n",
       "    <tr>\n",
       "      <th>30</th>\n",
       "      <td>fb9fe2de-8074-a467-9ed3-1bd9b2f5c66b</td>\n",
       "      <td>Verdezyne</td>\n",
       "      <td>0133e167-b2b5-b665-c76c-e2a65203263d</td>\n",
       "      <td>series_unknown</td>\n",
       "      <td>2014-03-28</td>\n",
       "      <td>48000000.0</td>\n",
       "      <td>0.0</td>\n",
       "      <td>NaN</td>\n",
       "      <td>dead</td>\n",
       "      <td>NaN</td>\n",
       "      <td>NaN</td>\n",
       "      <td>3200.0</td>\n",
       "      <td>1053.0</td>\n",
       "      <td>3.0</td>\n",
       "      <td>0.0</td>\n",
       "      <td>1.0</td>\n",
       "      <td>0.0</td>\n",
       "      <td>10.0</td>\n",
       "      <td>0.0</td>\n",
       "      <td>25.0</td>\n",
       "      <td>0.0</td>\n",
       "      <td>7.0</td>\n",
       "      <td>392000000.0</td>\n",
       "      <td>69853000.0</td>\n",
       "      <td>21853000.0</td>\n",
       "      <td>392000000.0</td>\n",
       "      <td>0.0</td>\n",
       "    </tr>\n",
       "    <tr>\n",
       "      <th>...</th>\n",
       "      <td>...</td>\n",
       "      <td>...</td>\n",
       "      <td>...</td>\n",
       "      <td>...</td>\n",
       "      <td>...</td>\n",
       "      <td>...</td>\n",
       "      <td>...</td>\n",
       "      <td>...</td>\n",
       "      <td>...</td>\n",
       "      <td>...</td>\n",
       "      <td>...</td>\n",
       "      <td>...</td>\n",
       "      <td>...</td>\n",
       "      <td>...</td>\n",
       "      <td>...</td>\n",
       "      <td>...</td>\n",
       "      <td>...</td>\n",
       "      <td>...</td>\n",
       "      <td>...</td>\n",
       "      <td>...</td>\n",
       "      <td>...</td>\n",
       "      <td>...</td>\n",
       "      <td>...</td>\n",
       "      <td>...</td>\n",
       "      <td>...</td>\n",
       "      <td>...</td>\n",
       "      <td>...</td>\n",
       "    </tr>\n",
       "    <tr>\n",
       "      <th>7549</th>\n",
       "      <td>32ea83d9-9fe1-c480-c503-25eece562607</td>\n",
       "      <td>Aster Data Systems</td>\n",
       "      <td>ff65b5a2-e2f4-1557-b091-e93dfe88873e</td>\n",
       "      <td>series_c</td>\n",
       "      <td>2010-09-22</td>\n",
       "      <td>30000000.0</td>\n",
       "      <td>0.0</td>\n",
       "      <td>2011-03-03</td>\n",
       "      <td>sold</td>\n",
       "      <td>263000000.0</td>\n",
       "      <td>NaN</td>\n",
       "      <td>1786.0</td>\n",
       "      <td>574.0</td>\n",
       "      <td>1.0</td>\n",
       "      <td>1.0</td>\n",
       "      <td>1.0</td>\n",
       "      <td>5.0</td>\n",
       "      <td>4.0</td>\n",
       "      <td>11.0</td>\n",
       "      <td>7.0</td>\n",
       "      <td>4.0</td>\n",
       "      <td>4.0</td>\n",
       "      <td>232000000.0</td>\n",
       "      <td>53000000.0</td>\n",
       "      <td>23000000.0</td>\n",
       "      <td>232000000.0</td>\n",
       "      <td>1.0</td>\n",
       "    </tr>\n",
       "    <tr>\n",
       "      <th>7551</th>\n",
       "      <td>4072b2cf-cbba-d9cc-ec51-3f2c1340b13f</td>\n",
       "      <td>RGM Group</td>\n",
       "      <td>ff78c74d-d49c-6818-efc0-55c369535526</td>\n",
       "      <td>series_unknown</td>\n",
       "      <td>2012-09-19</td>\n",
       "      <td>21000000.0</td>\n",
       "      <td>0.0</td>\n",
       "      <td>NaN</td>\n",
       "      <td>dead</td>\n",
       "      <td>NaN</td>\n",
       "      <td>NaN</td>\n",
       "      <td>0.0</td>\n",
       "      <td>0.0</td>\n",
       "      <td>1.0</td>\n",
       "      <td>0.0</td>\n",
       "      <td>1.0</td>\n",
       "      <td>0.0</td>\n",
       "      <td>1.0</td>\n",
       "      <td>0.0</td>\n",
       "      <td>1.0</td>\n",
       "      <td>0.0</td>\n",
       "      <td>1.0</td>\n",
       "      <td>155000000.0</td>\n",
       "      <td>21000000.0</td>\n",
       "      <td>0.0</td>\n",
       "      <td>155000000.0</td>\n",
       "      <td>0.0</td>\n",
       "    </tr>\n",
       "    <tr>\n",
       "      <th>7558</th>\n",
       "      <td>f46a723f-9820-3fbe-e97f-f5919b2f4a7f</td>\n",
       "      <td>Fisoc</td>\n",
       "      <td>ff7cac81-4ec2-eace-bcb4-faea16a8cf84</td>\n",
       "      <td>series_unknown</td>\n",
       "      <td>2014-04-01</td>\n",
       "      <td>19000000.0</td>\n",
       "      <td>0.0</td>\n",
       "      <td>NaN</td>\n",
       "      <td>dead</td>\n",
       "      <td>NaN</td>\n",
       "      <td>NaN</td>\n",
       "      <td>1391.0</td>\n",
       "      <td>186.0</td>\n",
       "      <td>4.0</td>\n",
       "      <td>1.0</td>\n",
       "      <td>1.0</td>\n",
       "      <td>2.0</td>\n",
       "      <td>2.0</td>\n",
       "      <td>6.0</td>\n",
       "      <td>5.0</td>\n",
       "      <td>4.0</td>\n",
       "      <td>4.0</td>\n",
       "      <td>139000000.0</td>\n",
       "      <td>50178429.0</td>\n",
       "      <td>31178429.0</td>\n",
       "      <td>139000000.0</td>\n",
       "      <td>0.0</td>\n",
       "    </tr>\n",
       "    <tr>\n",
       "      <th>7563</th>\n",
       "      <td>602347ee-2d81-7ad3-7f85-d68ea1fb8967</td>\n",
       "      <td>ZS Pharma</td>\n",
       "      <td>ffd3e2ec-f764-6135-4b41-9a861965223d</td>\n",
       "      <td>series_d</td>\n",
       "      <td>2014-03-05</td>\n",
       "      <td>55000000.0</td>\n",
       "      <td>0.0</td>\n",
       "      <td>2014-06-19</td>\n",
       "      <td>ipo</td>\n",
       "      <td>300000000.0</td>\n",
       "      <td>112000000.0</td>\n",
       "      <td>1177.0</td>\n",
       "      <td>498.0</td>\n",
       "      <td>2.0</td>\n",
       "      <td>1.0</td>\n",
       "      <td>1.0</td>\n",
       "      <td>5.0</td>\n",
       "      <td>5.0</td>\n",
       "      <td>6.0</td>\n",
       "      <td>10.0</td>\n",
       "      <td>2.0</td>\n",
       "      <td>3.0</td>\n",
       "      <td>456000000.0</td>\n",
       "      <td>102987972.0</td>\n",
       "      <td>47987972.0</td>\n",
       "      <td>456000000.0</td>\n",
       "      <td>1.0</td>\n",
       "    </tr>\n",
       "    <tr>\n",
       "      <th>7565</th>\n",
       "      <td>7792bf54-78d8-7159-329b-41e71e1c8f6b</td>\n",
       "      <td>Powermat Technologies</td>\n",
       "      <td>fff473e3-0f7d-b475-1da2-c9496721f49f</td>\n",
       "      <td>series_c</td>\n",
       "      <td>2011-10-06</td>\n",
       "      <td>80000000.0</td>\n",
       "      <td>0.0</td>\n",
       "      <td>NaN</td>\n",
       "      <td>dead</td>\n",
       "      <td>NaN</td>\n",
       "      <td>NaN</td>\n",
       "      <td>0.0</td>\n",
       "      <td>0.0</td>\n",
       "      <td>1.0</td>\n",
       "      <td>0.0</td>\n",
       "      <td>1.0</td>\n",
       "      <td>0.0</td>\n",
       "      <td>2.0</td>\n",
       "      <td>0.0</td>\n",
       "      <td>2.0</td>\n",
       "      <td>0.0</td>\n",
       "      <td>1.0</td>\n",
       "      <td>694000000.0</td>\n",
       "      <td>80000000.0</td>\n",
       "      <td>0.0</td>\n",
       "      <td>694000000.0</td>\n",
       "      <td>0.0</td>\n",
       "    </tr>\n",
       "  </tbody>\n",
       "</table>\n",
       "<p>1560 rows × 27 columns</p>\n",
       "</div>"
      ],
      "text/plain": [
       "                        funding_round_uuid                company_name  \\\n",
       "4     1006ef75-d2f2-bac4-5737-dae2075cf616                       Lot18   \n",
       "9     d17e816a-f9d4-8dde-270f-71d46a10f28e                     Xcovery   \n",
       "13    a9a651a1-7849-9329-e97a-8ce957637b71  CardiAQ Valve Technologies   \n",
       "20    951e44e7-27c6-b933-eb05-160c03705497             CellBiosciences   \n",
       "30    fb9fe2de-8074-a467-9ed3-1bd9b2f5c66b                   Verdezyne   \n",
       "...                                    ...                         ...   \n",
       "7549  32ea83d9-9fe1-c480-c503-25eece562607          Aster Data Systems   \n",
       "7551  4072b2cf-cbba-d9cc-ec51-3f2c1340b13f                   RGM Group   \n",
       "7558  f46a723f-9820-3fbe-e97f-f5919b2f4a7f                       Fisoc   \n",
       "7563  602347ee-2d81-7ad3-7f85-d68ea1fb8967                   ZS Pharma   \n",
       "7565  7792bf54-78d8-7159-329b-41e71e1c8f6b       Powermat Technologies   \n",
       "\n",
       "                              company_uuid investment_type announced_on  \\\n",
       "4     003d89d4-47dc-e35a-ddf6-eda9940f3ba7        series_c   2011-11-04   \n",
       "9     0041fccf-ebbb-48ad-3091-b94350ef4d7c  private_equity   2014-10-29   \n",
       "13    009e8957-d102-c674-6c9c-98eb11ac8e32        series_b   2012-11-29   \n",
       "20    00e12273-bfa7-d0ac-25e2-c870ab22c474        series_f   2010-10-14   \n",
       "30    0133e167-b2b5-b665-c76c-e2a65203263d  series_unknown   2014-03-28   \n",
       "...                                    ...             ...          ...   \n",
       "7549  ff65b5a2-e2f4-1557-b091-e93dfe88873e        series_c   2010-09-22   \n",
       "7551  ff78c74d-d49c-6818-efc0-55c369535526  series_unknown   2012-09-19   \n",
       "7558  ff7cac81-4ec2-eace-bcb4-faea16a8cf84  series_unknown   2014-04-01   \n",
       "7563  ffd3e2ec-f764-6135-4b41-9a861965223d        series_d   2014-03-05   \n",
       "7565  fff473e3-0f7d-b475-1da2-c9496721f49f        series_c   2011-10-06   \n",
       "\n",
       "      raised_amount_usd  post_money_valuation_usd   exit_date exit_type  \\\n",
       "4            30000000.0                       0.0         NaN      dead   \n",
       "9            20000000.0                       0.0         NaN      dead   \n",
       "13           37300000.0                       0.0  2015-07-10      sold   \n",
       "20           20000000.0                       0.0  2014-06-17      sold   \n",
       "30           48000000.0                       0.0         NaN      dead   \n",
       "...                 ...                       ...         ...       ...   \n",
       "7549         30000000.0                       0.0  2011-03-03      sold   \n",
       "7551         21000000.0                       0.0         NaN      dead   \n",
       "7558         19000000.0                       0.0         NaN      dead   \n",
       "7563         55000000.0                       0.0  2014-06-19       ipo   \n",
       "7565         80000000.0                       0.0         NaN      dead   \n",
       "\n",
       "        price_usd  money_raised_usd  time_from_start  time_from_previous  \\\n",
       "4             NaN               NaN            672.0                72.0   \n",
       "9             NaN               NaN           1094.0               194.0   \n",
       "13    350000000.0               NaN           1296.0              1052.0   \n",
       "20    300000000.0               NaN           1747.0               297.0   \n",
       "30            NaN               NaN           3200.0              1053.0   \n",
       "...           ...               ...              ...                 ...   \n",
       "7549  263000000.0               NaN           1786.0               574.0   \n",
       "7551          NaN               NaN              0.0                 0.0   \n",
       "7558          NaN               NaN           1391.0               186.0   \n",
       "7563  300000000.0       112000000.0           1177.0               498.0   \n",
       "7565          NaN               NaN              0.0                 0.0   \n",
       "\n",
       "      category_tag  top_investor  other_investor  top_investor_count  \\\n",
       "4              1.0           1.0             0.0                 3.0   \n",
       "9              2.0           0.0             1.0                 0.0   \n",
       "13             2.0           1.0             0.0                 2.0   \n",
       "20             2.0           1.0             1.0                 7.0   \n",
       "30             3.0           0.0             1.0                 0.0   \n",
       "...            ...           ...             ...                 ...   \n",
       "7549           1.0           1.0             1.0                 5.0   \n",
       "7551           1.0           0.0             1.0                 0.0   \n",
       "7558           4.0           1.0             1.0                 2.0   \n",
       "7563           2.0           1.0             1.0                 5.0   \n",
       "7565           1.0           0.0             1.0                 0.0   \n",
       "\n",
       "      other_investor_count  top_investor_sum  other_investor_sum  \\\n",
       "4                      2.0               6.0                 2.0   \n",
       "9                      1.0               0.0                 1.0   \n",
       "13                     1.0               2.0                 1.0   \n",
       "20                     4.0              16.0                 8.0   \n",
       "30                    10.0               0.0                25.0   \n",
       "...                    ...               ...                 ...   \n",
       "7549                   4.0              11.0                 7.0   \n",
       "7551                   1.0               0.0                 1.0   \n",
       "7558                   2.0               6.0                 5.0   \n",
       "7563                   5.0               6.0                10.0   \n",
       "7565                   2.0               0.0                 2.0   \n",
       "\n",
       "      top_investor_rounds  other_investor_rounds  \\\n",
       "4                     3.0                    1.0   \n",
       "9                     0.0                    1.0   \n",
       "13                    1.0                    1.0   \n",
       "20                    4.0                    3.0   \n",
       "30                    0.0                    7.0   \n",
       "...                   ...                    ...   \n",
       "7549                  4.0                    4.0   \n",
       "7551                  0.0                    1.0   \n",
       "7558                  4.0                    4.0   \n",
       "7563                  2.0                    3.0   \n",
       "7565                  0.0                    1.0   \n",
       "\n",
       "      interpolated_money_valuation_usd  total_sum_raised  \\\n",
       "4                          232000000.0        44500000.0   \n",
       "9                          147000000.0        30796170.0   \n",
       "13                         295000000.0        44550000.0   \n",
       "20                         147000000.0        85249999.0   \n",
       "30                         392000000.0        69853000.0   \n",
       "...                                ...               ...   \n",
       "7549                       232000000.0        53000000.0   \n",
       "7551                       155000000.0        21000000.0   \n",
       "7558                       139000000.0        50178429.0   \n",
       "7563                       456000000.0       102987972.0   \n",
       "7565                       694000000.0        80000000.0   \n",
       "\n",
       "      total_sum_raised_before    valuation  not_dead  \n",
       "4                  14500000.0  232000000.0       0.0  \n",
       "9                  10796170.0  147000000.0       0.0  \n",
       "13                  7250000.0  295000000.0       1.0  \n",
       "20                 65249999.0  147000000.0       1.0  \n",
       "30                 21853000.0  392000000.0       0.0  \n",
       "...                       ...          ...       ...  \n",
       "7549               23000000.0  232000000.0       1.0  \n",
       "7551                      0.0  155000000.0       0.0  \n",
       "7558               31178429.0  139000000.0       0.0  \n",
       "7563               47987972.0  456000000.0       1.0  \n",
       "7565                      0.0  694000000.0       0.0  \n",
       "\n",
       "[1560 rows x 27 columns]"
      ]
     },
     "execution_count": 7,
     "metadata": {},
     "output_type": "execute_result"
    }
   ],
   "source": [
    "dataset = dataset.loc[dataset['company_uuid'].isin(y['company_uuid'].values)]\n",
    "# dataset.loc[dataset.groupby('company_uuid')['val_rate'].shift(-1) <= -4.689308, 'class'] = 'narwhal'\n",
    "# dataset.loc[dataset.groupby('company_uuid')['val_rate'].shift(-1) > -4.689308, 'class'] = 'rhino'\n",
    "\n",
    "additional = dataset.set_index('funding_round_uuid').groupby('company_uuid')['announced_on'].nlargest(2).reset_index()\n",
    "dataset = dataset.loc[dataset['funding_round_uuid'].isin(additional['funding_round_uuid'].values)]\n",
    "# exits = dataset.copy()\n",
    "dataset = dataset.loc[~dataset['investment_type'].isin(['ipo', 'sold', 'death'])] #преэкзиты\n",
    "dataset"
   ]
  },
  {
   "cell_type": "code",
   "execution_count": 8,
   "metadata": {},
   "outputs": [],
   "source": [
    "# exits = exits.loc[(exits['investment_type'].isin(['ipo', 'sold', 'death'])) & (exits['company_uuid'].isin(dataset['company_uuid']))] #экзиты\n",
    "# exits.loc[exits['val_rate'] <= -4.689308, 'class'] = 'narwhal'\n",
    "# exits.loc[exits['val_rate'] > -4.689308, 'class'] = 'rhino'\n",
    "# exits"
   ]
  },
  {
   "cell_type": "code",
   "execution_count": 9,
   "metadata": {},
   "outputs": [],
   "source": [
    "# dataset.groupby('class').size()"
   ]
  },
  {
   "cell_type": "markdown",
   "metadata": {},
   "source": [
    "Выравниваем количество сэмплов в классах"
   ]
  },
  {
   "cell_type": "code",
   "execution_count": 10,
   "metadata": {},
   "outputs": [],
   "source": [
    "#np.random.seed(10)\n",
    "#remove_n = 63\n",
    "#\n",
    "#df = dataset.loc[dataset['class'] == 'rhino']\n",
    "#drop_indices = np.random.choice(df.index, remove_n, replace=False)\n",
    "#dataset = dataset.drop(drop_indices)\n",
    "#dataset.groupby('class').size()"
   ]
  },
  {
   "cell_type": "markdown",
   "metadata": {},
   "source": [
    "### Матрица корреляций и графики взаимной зависимости между признаками"
   ]
  },
  {
   "cell_type": "code",
   "execution_count": 11,
   "metadata": {},
   "outputs": [],
   "source": [
    "# test_tab = dataset.drop(columns=['funding_round_uuid', 'company_name', 'company_uuid', 'announced_on', 'raised_amount_usd', 'post_money_valuation_usd', 'interpolated_money_valuation_usd', 'exit_date', 'price_usd', 'money_raised_usd', 'total_sum_raised', 'lnP', 'log_delta', 'investment_type']) #'exit_type', 'not_dead', 'class'\n",
    "# test_tab.loc[test_tab['exit_type'] == 'sold', 'exit_type'] = -1\n",
    "# test_tab.loc[test_tab['exit_type'] == 'dead', 'exit_type'] = 0\n",
    "# test_tab.loc[test_tab['exit_type'] == 'ipo', 'exit_type'] = 1\n",
    "# test_tab.loc[test_tab['class'] == 'narwhal', 'class'] = 0\n",
    "# test_tab.loc[test_tab['class'] == 'rhino', 'class'] = 1\n",
    "# test_tab = test_tab.astype('float')\n",
    "# test_tab.corr()"
   ]
  },
  {
   "cell_type": "code",
   "execution_count": 12,
   "metadata": {},
   "outputs": [],
   "source": [
    "# plt.figure(figsize=(30, 30))\n",
    "# sns.heatmap(test_tab.corr(), annot=True, cmap='RdYlBu_r', vmin=-1, vmax=1)\n",
    "# plt.savefig(\"heatmap.png\")"
   ]
  },
  {
   "cell_type": "code",
   "execution_count": 13,
   "metadata": {},
   "outputs": [],
   "source": [
    "# dates = dataset['announced_on'].dt.strftime('%Y-%m-%d')\n",
    "# dates = dates.str[:4]\n",
    "# dates = dates.values.astype(int)\n",
    "# dates = dates.ravel()\n",
    "# dates"
   ]
  },
  {
   "cell_type": "code",
   "execution_count": 14,
   "metadata": {},
   "outputs": [],
   "source": [
    "# import itertools\n",
    "# pair_ids = list(itertools.combinations(range(len(test_tab.columns)), 2))\n",
    "# for pair in pair_ids:\n",
    "#     plt.figure(figsize=(10, 10))\n",
    "#     plt.scatter(test_tab.iloc[:, pair[0]], test_tab.iloc[:, pair[1]], c=dates, cmap='RdYlBu_r')\n",
    "#     plt.xlabel(test_tab.iloc[:, pair[0]].name)\n",
    "#     plt.ylabel(test_tab.iloc[:, pair[1]].name)\n",
    "#     plt.grid()\n",
    "#     plt.savefig(\"Plots/\" + test_tab.iloc[:, pair[0]].name + \" VS \" + test_tab.iloc[:, pair[1]].name + \".png\")"
   ]
  },
  {
   "cell_type": "code",
   "execution_count": 15,
   "metadata": {},
   "outputs": [],
   "source": [
    "# classes = dataset.copy()\n",
    "# classes.loc[classes['class'] == 'narwhal', 'class'] = 0\n",
    "# classes.loc[classes['class'] == 'rhino', 'class'] = 1\n",
    "# classes = classes['class'].values\n",
    "# classes"
   ]
  },
  {
   "cell_type": "code",
   "execution_count": 16,
   "metadata": {},
   "outputs": [],
   "source": [
    "# plt.figure(figsize=(10, 10))\n",
    "# scatter = plt.scatter(dataset['time_from_previous'], dataset['log_delta'], c=classes, cmap='RdYlBu_r')\n",
    "# plt.xlabel('time_from_previous')\n",
    "# plt.ylabel('log_delta')\n",
    "# plt.grid()\n",
    "# plt.legend(handles=scatter.legend_elements()[0], labels=['narwhal', 'rhino'])\n",
    "# plt.savefig(\"pre_exit_time_from_previous VS log_delta.png\")"
   ]
  },
  {
   "cell_type": "code",
   "execution_count": 17,
   "metadata": {},
   "outputs": [],
   "source": [
    "# plt.figure(figsize=(10, 10))\n",
    "# scatter = plt.scatter(exits['time_from_previous'], exits['log_delta'], c=classes, cmap='RdYlBu_r')\n",
    "# plt.xlabel('time_from_previous')\n",
    "# plt.ylabel('log_delta')\n",
    "# plt.grid()\n",
    "# plt.legend(handles=scatter.legend_elements()[0], labels=['narwhal', 'rhino'])\n",
    "# plt.savefig(\"exit_time_from_previous VS log_delta.png\")"
   ]
  },
  {
   "cell_type": "markdown",
   "metadata": {},
   "source": [
    "### Preprocessing"
   ]
  },
  {
   "cell_type": "markdown",
   "metadata": {},
   "source": [
    "Создаем выборки"
   ]
  },
  {
   "cell_type": "code",
   "execution_count": 8,
   "metadata": {},
   "outputs": [],
   "source": [
    "y = dataset[['not_dead']] # 'class' 'exit_type'\n",
    "X = dataset.drop(columns=['not_dead', 'exit_type', 'funding_round_uuid', 'company_name', 'company_uuid', 'investment_type', 'announced_on', 'raised_amount_usd', 'post_money_valuation_usd', 'exit_date', 'price_usd', 'money_raised_usd', 'interpolated_money_valuation_usd', 'total_sum_raised', 'top_investor', 'other_investor'])\n",
    "\n",
    "X = X[['valuation',\n",
    "        'total_sum_raised_before',\n",
    "        'category_tag',\n",
    "#        'val_rate',\n",
    "        'time_from_previous',\n",
    "        'time_from_start',\n",
    "        'top_investor_rounds',\n",
    "        'other_investor_rounds'\n",
    "        ]]"
   ]
  },
  {
   "cell_type": "code",
   "execution_count": 9,
   "metadata": {},
   "outputs": [],
   "source": [
    "# X_send = X.copy()\n",
    "# X_send.columns = ['col1', 'col2', 'col3', 'col4', 'col5', 'col6', 'col7']\n",
    "# X_send.to_csv('X_send_w2.csv', encoding = 'utf-8-sig')\n",
    "# X_send"
   ]
  },
  {
   "cell_type": "code",
   "execution_count": 10,
   "metadata": {},
   "outputs": [],
   "source": [
    "# y_send = y.copy()\n",
    "# y_send.columns = ['answer']\n",
    "# y_send.to_csv('y_send_w2.csv', encoding = 'utf-8-sig')\n",
    "# y_send"
   ]
  },
  {
   "cell_type": "code",
   "execution_count": 11,
   "metadata": {},
   "outputs": [
    {
     "data": {
      "text/plain": [
       "Index(['valuation', 'total_sum_raised_before', 'category_tag',\n",
       "       'time_from_previous', 'time_from_start', 'top_investor_rounds',\n",
       "       'other_investor_rounds'],\n",
       "      dtype='object')"
      ]
     },
     "execution_count": 11,
     "metadata": {},
     "output_type": "execute_result"
    }
   ],
   "source": [
    "features = X.columns\n",
    "features"
   ]
  },
  {
   "cell_type": "code",
   "execution_count": 12,
   "metadata": {},
   "outputs": [
    {
     "name": "stdout",
     "output_type": "stream",
     "text": [
      "(1560, 7)\n"
     ]
    }
   ],
   "source": [
    "X = X.values.astype(np.float) #X = X.to_numpy(dtype=np.float)\n",
    "print(X.shape)"
   ]
  },
  {
   "cell_type": "code",
   "execution_count": 13,
   "metadata": {},
   "outputs": [
    {
     "name": "stdout",
     "output_type": "stream",
     "text": [
      "(1560,)\n"
     ]
    }
   ],
   "source": [
    "y = y.values.ravel() #y = y.to_numpy()\n",
    "print(y.shape)"
   ]
  },
  {
   "cell_type": "code",
   "execution_count": 14,
   "metadata": {},
   "outputs": [],
   "source": [
    "X_train, X_test, y_train, y_test = train_test_split(X, y, test_size=0.2, stratify=y, random_state=42)\n",
    "\n",
    "skaler = StandardScaler()\n",
    "X_train_t = skaler.fit_transform(X_train)\n",
    "X_test_t = skaler.transform(X_test)"
   ]
  },
  {
   "cell_type": "code",
   "execution_count": 15,
   "metadata": {},
   "outputs": [
    {
     "data": {
      "image/png": "[encoded data removed]",
      "text/plain": [
       "<Figure size 432x288 with 1 Axes>"
      ]
     },
     "metadata": {
      "needs_background": "light"
     },
     "output_type": "display_data"
    }
   ],
   "source": [
    "selector = SelectKBest(f_classif, k='all')\n",
    "selector.fit(X_train_t, y_train)\n",
    "\n",
    "#самый большой результат соответствует самому малому значению p-значения(вероятность ошибки)\n",
    "#поэтому \"переворачиваем\", чтоб самые ценные признаки на графике были максимальными\n",
    "scores = -np.log10(selector.pvalues_)\n",
    "\n",
    "plt.bar(range(len(features)), scores)\n",
    "plt.xticks(range(len(features)), features, rotation='vertical')\n",
    "plt.show()"
   ]
  },
  {
   "cell_type": "code",
   "execution_count": 16,
   "metadata": {},
   "outputs": [],
   "source": [
    "wave1_acc = []\n",
    "wave1_PR = []\n",
    "wave1_RC = []\n",
    "wave1_features = []"
   ]
  },
  {
   "cell_type": "markdown",
   "metadata": {},
   "source": [
    "### Sklearn Random Forest"
   ]
  },
  {
   "cell_type": "code",
   "execution_count": 17,
   "metadata": {},
   "outputs": [
    {
     "name": "stdout",
     "output_type": "stream",
     "text": [
      "Fitting 5 folds for each of 990 candidates, totalling 4950 fits\n"
     ]
    },
    {
     "data": {
      "text/plain": [
       "{'bootstrap': True,\n",
       " 'max_depth': 25,\n",
       " 'min_samples_leaf': 3,\n",
       " 'min_samples_split': 5,\n",
       " 'n_estimators': 80}"
      ]
     },
     "execution_count": 17,
     "metadata": {},
     "output_type": "execute_result"
    }
   ],
   "source": [
    "param_grid = {\n",
    "    'bootstrap': [True, False],\n",
    "    'max_depth': [None, 25, 50, 75, 100],\n",
    "    'min_samples_leaf': [1, 2, 3],\n",
    "    'min_samples_split': [2, 5, 10],\n",
    "    'n_estimators': [10, 20, 30, 40, 50, 60, 70, 80, 90, 100, 110]\n",
    "}\n",
    "\n",
    "estimator = RandomForestClassifier()\n",
    "grid_search = GridSearchCV(estimator = estimator, param_grid = param_grid, cv = 5, n_jobs = -1, verbose = 2, scoring='accuracy')\n",
    "grid_search.fit(X_train_t, y_train)\n",
    "grid_search.best_params_"
   ]
  },
  {
   "cell_type": "code",
   "execution_count": 18,
   "metadata": {},
   "outputs": [
    {
     "name": "stdout",
     "output_type": "stream",
     "text": [
      "acc = 0.6657051282051282\n",
      "PR = 0.6525966699627413\n",
      "RC = 0.6459578804347826\n",
      "f1 = 0.647663409638611\n"
     ]
    }
   ],
   "source": [
    "acc_array = []\n",
    "f1_array = []\n",
    "PR_array = []\n",
    "RC_array = []\n",
    "feature_array = []\n",
    "best_grid1 = grid_search.best_estimator_\n",
    "for j in range(10):\n",
    "    best_grid1.fit(X_train_t, y_train)\n",
    "    predicted_labels = best_grid1.predict(X_test_t)\n",
    "    acc = accuracy_score(y_test, predicted_labels)\n",
    "    f1 = f1_score(y_test, predicted_labels, average = 'macro')\n",
    "    PR = precision_score(y_test, predicted_labels, average = 'macro')\n",
    "    RC = recall_score(y_test, predicted_labels, average = 'macro')\n",
    "    acc_array.append(acc)\n",
    "    PR_array.append(PR)\n",
    "    RC_array.append(RC)\n",
    "    f1_array.append(f1)\n",
    "    feature_array.append(best_grid1.feature_importances_)\n",
    "print(f'acc = {np.mean(acc_array)}')\n",
    "print(f'PR = {np.mean(PR_array)}')\n",
    "print(f'RC = {np.mean(RC_array)}')\n",
    "print(f'f1 = {np.mean(f1_array)}')"
   ]
  },
  {
   "cell_type": "code",
   "execution_count": 19,
   "metadata": {},
   "outputs": [
    {
     "data": {
      "image/png": "[encoded data removed]",
      "text/plain": [
       "<Figure size 432x288 with 1 Axes>"
      ]
     },
     "metadata": {
      "needs_background": "light"
     },
     "output_type": "display_data"
    }
   ],
   "source": [
    "plt.bar(range(len(features)), best_grid1.feature_importances_)\n",
    "plt.xticks(range(len(features)), features, rotation='vertical')\n",
    "plt.show()"
   ]
  },
  {
   "cell_type": "code",
   "execution_count": 20,
   "metadata": {},
   "outputs": [],
   "source": [
    "wave1_acc.append(np.mean(acc_array))\n",
    "wave1_PR.append(np.mean(PR_array))\n",
    "wave1_RC.append(np.mean(RC_array))\n",
    "wave1_features.append(np.average(feature_array, axis=0))"
   ]
  },
  {
   "cell_type": "markdown",
   "metadata": {},
   "source": [
    "### Sklearn Gradient Boosting"
   ]
  },
  {
   "cell_type": "code",
   "execution_count": 21,
   "metadata": {},
   "outputs": [
    {
     "name": "stdout",
     "output_type": "stream",
     "text": [
      "Fitting 5 folds for each of 1440 candidates, totalling 7200 fits\n"
     ]
    },
    {
     "data": {
      "text/plain": [
       "{'learning_rate': 0.01,\n",
       " 'max_depth': 25,\n",
       " 'min_samples_leaf': 3,\n",
       " 'min_samples_split': 10,\n",
       " 'n_estimators': 50}"
      ]
     },
     "execution_count": 21,
     "metadata": {},
     "output_type": "execute_result"
    }
   ],
   "source": [
    "param_grid = {\n",
    "    'learning_rate': [0.01, 0.05, 0.1, 0.3],\n",
    "    'max_depth': [None, 25, 50, 75, 100],\n",
    "    'min_samples_leaf': [1, 2, 3],\n",
    "    'min_samples_split': [2, 5, 10],\n",
    "    'n_estimators': [20, 50, 60, 70, 80, 90, 100, 110]\n",
    "}\n",
    "\n",
    "estimator = GradientBoostingClassifier()\n",
    "grid_search = GridSearchCV(estimator = estimator, param_grid = param_grid, cv = 5, n_jobs = -1, verbose = 2, scoring='accuracy')\n",
    "grid_search.fit(X_train_t, y_train)\n",
    "grid_search.best_params_"
   ]
  },
  {
   "cell_type": "code",
   "execution_count": 22,
   "metadata": {},
   "outputs": [
    {
     "name": "stdout",
     "output_type": "stream",
     "text": [
      "acc = 0.6407051282051283\n",
      "PR = 0.6257257288333744\n",
      "RC = 0.6041949728260869\n",
      "f1 = 0.601961520307394\n"
     ]
    }
   ],
   "source": [
    "acc_array = []\n",
    "f1_array = []\n",
    "PR_array = []\n",
    "RC_array = []\n",
    "feature_array = []\n",
    "best_grid2 = grid_search.best_estimator_\n",
    "for j in range(10):\n",
    "    best_grid2.fit(X_train_t, y_train)\n",
    "    predicted_labels = best_grid2.predict(X_test_t)\n",
    "    acc = accuracy_score(y_test, predicted_labels)\n",
    "    f1 = f1_score(y_test, predicted_labels, average = 'macro')\n",
    "    PR = precision_score(y_test, predicted_labels, average = 'macro')\n",
    "    RC = recall_score(y_test, predicted_labels, average = 'macro')\n",
    "    acc_array.append(acc)\n",
    "    PR_array.append(PR)\n",
    "    RC_array.append(RC)\n",
    "    f1_array.append(f1)\n",
    "    feature_array.append(best_grid2.feature_importances_)\n",
    "print(f'acc = {np.mean(acc_array)}')\n",
    "print(f'PR = {np.mean(PR_array)}')\n",
    "print(f'RC = {np.mean(RC_array)}')\n",
    "print(f'f1 = {np.mean(f1_array)}')"
   ]
  },
  {
   "cell_type": "code",
   "execution_count": 23,
   "metadata": {},
   "outputs": [
    {
     "data": {
      "image/png": "[encoded data removed]",
      "text/plain": [
       "<Figure size 432x288 with 1 Axes>"
      ]
     },
     "metadata": {
      "needs_background": "light"
     },
     "output_type": "display_data"
    }
   ],
   "source": [
    "plt.bar(range(len(features)), best_grid2.feature_importances_)\n",
    "plt.xticks(range(len(features)), features, rotation='vertical')\n",
    "plt.show()"
   ]
  },
  {
   "cell_type": "code",
   "execution_count": 24,
   "metadata": {},
   "outputs": [],
   "source": [
    "wave1_acc.append(np.mean(acc_array))\n",
    "wave1_PR.append(np.mean(PR_array))\n",
    "wave1_RC.append(np.mean(RC_array))\n",
    "wave1_features.append(np.average(feature_array, axis=0))"
   ]
  },
  {
   "cell_type": "markdown",
   "metadata": {},
   "source": [
    "### XGBoost"
   ]
  },
  {
   "cell_type": "code",
   "execution_count": 25,
   "metadata": {},
   "outputs": [
    {
     "name": "stderr",
     "output_type": "stream",
     "text": [
      "C:\\Users\\Barca\\anaconda3\\lib\\site-packages\\xgboost\\sklearn.py:1146: UserWarning: The use of label encoder in XGBClassifier is deprecated and will be removed in a future release. To remove this warning, do the following: 1) Pass option use_label_encoder=False when constructing XGBClassifier object; and 2) Encode your labels (y) as integers starting with 0, i.e. 0, 1, 2, ..., [num_class - 1].\n",
      "  warnings.warn(label_encoder_deprecation_msg, UserWarning)\n"
     ]
    },
    {
     "name": "stdout",
     "output_type": "stream",
     "text": [
      "[02:44:31] WARNING: C:/Users/Administrator/workspace/xgboost-win64_release_1.4.0/src/learner.cc:1095: Starting in XGBoost 1.3.0, the default evaluation metric used with the objective 'binary:logistic' was changed from 'error' to 'logloss'. Explicitly set eval_metric if you'd like to restore the old behavior.\n"
     ]
    },
    {
     "data": {
      "text/plain": [
       "{'colsample_bytree': 0.5,\n",
       " 'gamma': 1,\n",
       " 'learning_rate': 0.01,\n",
       " 'max_depth': 4,\n",
       " 'reg_lambda': 10,\n",
       " 'scale_pos_weight': 1,\n",
       " 'subsample': 0.8}"
      ]
     },
     "execution_count": 25,
     "metadata": {},
     "output_type": "execute_result"
    }
   ],
   "source": [
    "param_grid = {\n",
    "    \"max_depth\": [3, 4, 5, 7],\n",
    "    \"learning_rate\": [0.1, 0.01, 0.05],\n",
    "    \"gamma\": [0, 0.25, 1],\n",
    "    \"reg_lambda\": [0, 1, 10],\n",
    "    \"scale_pos_weight\": [1, 3, 5],\n",
    "    \"subsample\": [0.8],\n",
    "    \"colsample_bytree\": [0.5],\n",
    "}\n",
    "\n",
    "estimator = XGBClassifier(objective=\"binary:logistic\")\n",
    "grid_search = GridSearchCV(estimator, param_grid, n_jobs=-1, cv=3, scoring=\"accuracy\") #verbose = 2, scoring='accuracy' roc_auc\n",
    "grid_search.fit(X_train_t, y_train)\n",
    "grid_search.best_params_"
   ]
  },
  {
   "cell_type": "code",
   "execution_count": 26,
   "metadata": {},
   "outputs": [
    {
     "data": {
      "text/plain": [
       "0.6810897435897436"
      ]
     },
     "execution_count": 26,
     "metadata": {},
     "output_type": "execute_result"
    }
   ],
   "source": [
    "grid_search.best_score_"
   ]
  },
  {
   "cell_type": "code",
   "execution_count": 27,
   "metadata": {},
   "outputs": [
    {
     "name": "stdout",
     "output_type": "stream",
     "text": [
      "[02:44:32] WARNING: C:/Users/Administrator/workspace/xgboost-win64_release_1.4.0/src/learner.cc:1095: Starting in XGBoost 1.3.0, the default evaluation metric used with the objective 'binary:logistic' was changed from 'error' to 'logloss'. Explicitly set eval_metric if you'd like to restore the old behavior.\n"
     ]
    },
    {
     "data": {
      "text/plain": [
       "XGBClassifier(base_score=0.5, booster='gbtree', colsample_bylevel=1,\n",
       "              colsample_bynode=1, colsample_bytree=0.5, gamma=1, gpu_id=-1,\n",
       "              importance_type='gain', interaction_constraints='',\n",
       "              learning_rate=0.01, max_delta_step=0, max_depth=4,\n",
       "              min_child_weight=1, missing=nan, monotone_constraints='()',\n",
       "              n_estimators=100, n_jobs=12, num_parallel_tree=1, random_state=0,\n",
       "              reg_alpha=0, reg_lambda=10, scale_pos_weight=1, subsample=0.8,\n",
       "              tree_method='exact', validate_parameters=1, verbosity=None)"
      ]
     },
     "execution_count": 27,
     "metadata": {},
     "output_type": "execute_result"
    }
   ],
   "source": [
    "# best_grid3 = grid_search.best_estimator_\n",
    "best_grid3 = XGBClassifier(objective=\"binary:logistic\", **grid_search.best_params_)\n",
    "best_grid3.fit(X_train_t, y_train)"
   ]
  },
  {
   "cell_type": "code",
   "execution_count": 28,
   "metadata": {},
   "outputs": [
    {
     "name": "stdout",
     "output_type": "stream",
     "text": [
      "acc = 0.6730769230769231\n",
      "PR = 0.6616981132075472\n",
      "RC = 0.6455502717391304\n",
      "f1 = 0.6475279106858054\n"
     ]
    }
   ],
   "source": [
    "predicted_labels = best_grid3.predict(X_test_t)\n",
    "\n",
    "roc_auc = roc_auc_score(y_test, predicted_labels)\n",
    "acc = accuracy_score(y_test, predicted_labels)\n",
    "f1 = f1_score(y_test, predicted_labels, average = 'macro')\n",
    "PR = precision_score(y_test, predicted_labels, average = 'macro')\n",
    "RC = recall_score(y_test, predicted_labels, average = 'macro')\n",
    "\n",
    "print(f'acc = {acc}')\n",
    "print(f'PR = {PR}')\n",
    "print(f'RC = {RC}')\n",
    "print(f'f1 = {f1}')"
   ]
  },
  {
   "cell_type": "code",
   "execution_count": 29,
   "metadata": {},
   "outputs": [
    {
     "data": {
      "image/png": "[encoded data removed]",
      "text/plain": [
       "<Figure size 432x288 with 1 Axes>"
      ]
     },
     "metadata": {
      "needs_background": "light"
     },
     "output_type": "display_data"
    }
   ],
   "source": [
    "plt.bar(range(len(features)), best_grid3.feature_importances_)\n",
    "plt.xticks(range(len(features)), features, rotation='vertical')\n",
    "plt.show()"
   ]
  },
  {
   "cell_type": "code",
   "execution_count": 30,
   "metadata": {},
   "outputs": [],
   "source": [
    "wave1_acc.append(acc)\n",
    "wave1_PR.append(PR)\n",
    "wave1_RC.append(RC)\n",
    "wave1_features.append(best_grid3.feature_importances_)"
   ]
  },
  {
   "cell_type": "code",
   "execution_count": 31,
   "metadata": {},
   "outputs": [
    {
     "data": {
      "text/plain": [
       "[0.6657051282051282, 0.6407051282051283, 0.6730769230769231]"
      ]
     },
     "execution_count": 31,
     "metadata": {},
     "output_type": "execute_result"
    }
   ],
   "source": [
    "wave1_acc"
   ]
  },
  {
   "cell_type": "code",
   "execution_count": 32,
   "metadata": {},
   "outputs": [
    {
     "data": {
      "text/plain": [
       "[0.6525966699627413, 0.6257257288333744, 0.6616981132075472]"
      ]
     },
     "execution_count": 32,
     "metadata": {},
     "output_type": "execute_result"
    }
   ],
   "source": [
    "wave1_PR"
   ]
  },
  {
   "cell_type": "code",
   "execution_count": 33,
   "metadata": {},
   "outputs": [
    {
     "data": {
      "text/plain": [
       "[0.6459578804347826, 0.6041949728260869, 0.6455502717391304]"
      ]
     },
     "execution_count": 33,
     "metadata": {},
     "output_type": "execute_result"
    }
   ],
   "source": [
    "wave1_RC"
   ]
  },
  {
   "cell_type": "code",
   "execution_count": 34,
   "metadata": {},
   "outputs": [
    {
     "data": {
      "text/plain": [
       "[array([0.19446625, 0.20918746, 0.06271396, 0.1653113 , 0.16718435,\n",
       "        0.12330295, 0.07783373]),\n",
       " array([0.20380755, 0.20496742, 0.07123761, 0.15665347, 0.13691789,\n",
       "        0.17682544, 0.04959061]),\n",
       " array([0.05619225, 0.21819995, 0.08774293, 0.07440254, 0.06572489,\n",
       "        0.3847743 , 0.11296314], dtype=float32)]"
      ]
     },
     "execution_count": 34,
     "metadata": {},
     "output_type": "execute_result"
    }
   ],
   "source": [
    "wave1_features"
   ]
  },
  {
   "cell_type": "code",
   "execution_count": 35,
   "metadata": {},
   "outputs": [
    {
     "data": {
      "text/html": [
       "<div>\n",
       "<style scoped>\n",
       "    .dataframe tbody tr th:only-of-type {\n",
       "        vertical-align: middle;\n",
       "    }\n",
       "\n",
       "    .dataframe tbody tr th {\n",
       "        vertical-align: top;\n",
       "    }\n",
       "\n",
       "    .dataframe thead th {\n",
       "        text-align: right;\n",
       "    }\n",
       "</style>\n",
       "<table border=\"1\" class=\"dataframe\">\n",
       "  <thead>\n",
       "    <tr style=\"text-align: right;\">\n",
       "      <th></th>\n",
       "      <th>Parameter</th>\n",
       "      <th>Random Forest</th>\n",
       "      <th>Gradient Boosting</th>\n",
       "      <th>XGBoost Classifier</th>\n",
       "    </tr>\n",
       "  </thead>\n",
       "  <tbody>\n",
       "    <tr>\n",
       "      <th>0</th>\n",
       "      <td>ACCURACY</td>\n",
       "      <td>0.665705</td>\n",
       "      <td>0.640705</td>\n",
       "      <td>0.673077</td>\n",
       "    </tr>\n",
       "    <tr>\n",
       "      <th>1</th>\n",
       "      <td>valuation</td>\n",
       "      <td>0.194466</td>\n",
       "      <td>0.203808</td>\n",
       "      <td>0.056192</td>\n",
       "    </tr>\n",
       "    <tr>\n",
       "      <th>2</th>\n",
       "      <td>total_sum_raised_before</td>\n",
       "      <td>0.209187</td>\n",
       "      <td>0.204967</td>\n",
       "      <td>0.218200</td>\n",
       "    </tr>\n",
       "    <tr>\n",
       "      <th>3</th>\n",
       "      <td>category_tag</td>\n",
       "      <td>0.062714</td>\n",
       "      <td>0.071238</td>\n",
       "      <td>0.087743</td>\n",
       "    </tr>\n",
       "    <tr>\n",
       "      <th>4</th>\n",
       "      <td>time_from_previous</td>\n",
       "      <td>0.165311</td>\n",
       "      <td>0.156653</td>\n",
       "      <td>0.074403</td>\n",
       "    </tr>\n",
       "    <tr>\n",
       "      <th>5</th>\n",
       "      <td>time_from_start</td>\n",
       "      <td>0.167184</td>\n",
       "      <td>0.136918</td>\n",
       "      <td>0.065725</td>\n",
       "    </tr>\n",
       "    <tr>\n",
       "      <th>6</th>\n",
       "      <td>top_investor_rounds</td>\n",
       "      <td>0.123303</td>\n",
       "      <td>0.176825</td>\n",
       "      <td>0.384774</td>\n",
       "    </tr>\n",
       "    <tr>\n",
       "      <th>7</th>\n",
       "      <td>other_investor_rounds</td>\n",
       "      <td>0.077834</td>\n",
       "      <td>0.049591</td>\n",
       "      <td>0.112963</td>\n",
       "    </tr>\n",
       "  </tbody>\n",
       "</table>\n",
       "</div>"
      ],
      "text/plain": [
       "                 Parameter  Random Forest  Gradient Boosting  \\\n",
       "0                 ACCURACY       0.665705           0.640705   \n",
       "1                valuation       0.194466           0.203808   \n",
       "2  total_sum_raised_before       0.209187           0.204967   \n",
       "3             category_tag       0.062714           0.071238   \n",
       "4       time_from_previous       0.165311           0.156653   \n",
       "5          time_from_start       0.167184           0.136918   \n",
       "6      top_investor_rounds       0.123303           0.176825   \n",
       "7    other_investor_rounds       0.077834           0.049591   \n",
       "\n",
       "   XGBoost Classifier  \n",
       "0            0.673077  \n",
       "1            0.056192  \n",
       "2            0.218200  \n",
       "3            0.087743  \n",
       "4            0.074403  \n",
       "5            0.065725  \n",
       "6            0.384774  \n",
       "7            0.112963  "
      ]
     },
     "execution_count": 35,
     "metadata": {},
     "output_type": "execute_result"
    }
   ],
   "source": [
    "wave1real_df = pd.DataFrame(list(zip([wave1_acc[0]], [wave1_acc[1]], [wave1_acc[2]])), \n",
    "               columns =['Random Forest', 'Gradient Boosting', 'XGBoost Classifier'])\n",
    "wave1realf_df = pd.DataFrame(list(zip(wave1_features[0], wave1_features[1], wave1_features[2])), \n",
    "               columns =['Random Forest', 'Gradient Boosting', 'XGBoost Classifier'])\n",
    "features = features.insert(0, 'ACCURACY')\n",
    "parameters = pd.DataFrame(list(features), columns =['Parameter'])\n",
    "wave1real_df = wave1real_df.append(wave1realf_df).reset_index(drop=True)\n",
    "wave1real_df = pd.concat([parameters, wave1real_df], axis=1)\n",
    "wave1real_df.to_csv('wave2_no_val_results.csv', encoding = 'utf-8-sig')\n",
    "wave1real_df"
   ]
  },
  {
   "cell_type": "markdown",
   "metadata": {},
   "source": [
    "### На единичных признаках"
   ]
  },
  {
   "cell_type": "code",
   "execution_count": 33,
   "metadata": {},
   "outputs": [
    {
     "data": {
      "text/plain": [
       "Index(['time_from_2009', 'time_from_start', 'time_from_previous',\n",
       "       'top_investor_count', 'other_investor_count', 'top_investor_sum',\n",
       "       'other_investor_sum', 'top_investor_rounds', 'other_investor_rounds',\n",
       "       'total_sum_raised_before', 'valuation', 'log_rate'],\n",
       "      dtype='object')"
      ]
     },
     "execution_count": 33,
     "metadata": {},
     "output_type": "execute_result"
    }
   ],
   "source": [
    "y = dataset[['not_dead']]\n",
    "y = y.values.ravel()\n",
    "X_general = dataset.drop(columns=['class', 'not_dead', 'exit_type', 'funding_round_uuid', 'company_name', 'company_uuid', 'investment_type', 'announced_on', 'raised_amount_usd', 'post_money_valuation_usd', 'exit_date', 'price_usd', 'money_raised_usd', 'interpolated_money_valuation_usd', 'total_sum_raised', 'lnP', 'log_delta', 'top_investor', 'other_investor'])\n",
    "\n",
    "skaler = StandardScaler()\n",
    "param_grid = {\n",
    "    'bootstrap': [True, False], #rf only\n",
    "#    'learning_rate': [0.1, 0.2, 0.3, 0.4, 0.5, 0.6, 0.7, 0.8, 0.9, 1.0], #boosting only\n",
    "    'max_depth': [None, 25, 50, 75, 100],\n",
    "    'min_samples_leaf': [1, 2, 3],\n",
    "    'min_samples_split': [2, 5, 10],\n",
    "    'n_estimators': [10, 20, 30, 40, 50, 60, 70, 80, 90, 100, 110]\n",
    "}\n",
    "estimator = RandomForestClassifier() #0.65-0.71\n",
    "#estimator = GradientBoostingClassifier() #0.6-0.66\n",
    "grid_search = GridSearchCV(estimator = estimator, param_grid = param_grid, cv = 5, n_jobs = -1, verbose = 2, scoring='accuracy')\n",
    "\n",
    "X_general.columns"
   ]
  },
  {
   "cell_type": "code",
   "execution_count": 34,
   "metadata": {},
   "outputs": [
    {
     "name": "stdout",
     "output_type": "stream",
     "text": [
      "Fitting 5 folds for each of 990 candidates, totalling 4950 fits\n"
     ]
    },
    {
     "name": "stderr",
     "output_type": "stream",
     "text": [
      "[Parallel(n_jobs=-1)]: Using backend LokyBackend with 12 concurrent workers.\n",
      "[Parallel(n_jobs=-1)]: Done  17 tasks      | elapsed:    1.8s\n",
      "[Parallel(n_jobs=-1)]: Done 216 tasks      | elapsed:    3.9s\n",
      "[Parallel(n_jobs=-1)]: Done 1028 tasks      | elapsed:   12.0s\n",
      "[Parallel(n_jobs=-1)]: Done 2160 tasks      | elapsed:   23.0s\n",
      "[Parallel(n_jobs=-1)]: Done 3620 tasks      | elapsed:   37.1s\n",
      "[Parallel(n_jobs=-1)]: Done 4950 out of 4950 | elapsed:   50.3s finished\n",
      "[Parallel(n_jobs=-1)]: Using backend LokyBackend with 12 concurrent workers.\n"
     ]
    },
    {
     "name": "stdout",
     "output_type": "stream",
     "text": [
      "Fitting 5 folds for each of 990 candidates, totalling 4950 fits\n"
     ]
    },
    {
     "name": "stderr",
     "output_type": "stream",
     "text": [
      "[Parallel(n_jobs=-1)]: Done  17 tasks      | elapsed:    0.0s\n",
      "[Parallel(n_jobs=-1)]: Done 252 tasks      | elapsed:    2.5s\n",
      "[Parallel(n_jobs=-1)]: Done 658 tasks      | elapsed:    6.6s\n",
      "[Parallel(n_jobs=-1)]: Done 1224 tasks      | elapsed:   12.6s\n",
      "[Parallel(n_jobs=-1)]: Done 1954 tasks      | elapsed:   20.0s\n",
      "[Parallel(n_jobs=-1)]: Done 2844 tasks      | elapsed:   29.0s\n",
      "[Parallel(n_jobs=-1)]: Done 3898 tasks      | elapsed:   39.6s\n",
      "[Parallel(n_jobs=-1)]: Done 4950 out of 4950 | elapsed:   50.3s finished\n"
     ]
    },
    {
     "name": "stdout",
     "output_type": "stream",
     "text": [
      "Fitting 5 folds for each of 990 candidates, totalling 4950 fits\n"
     ]
    },
    {
     "name": "stderr",
     "output_type": "stream",
     "text": [
      "[Parallel(n_jobs=-1)]: Using backend LokyBackend with 12 concurrent workers.\n",
      "[Parallel(n_jobs=-1)]: Done  17 tasks      | elapsed:    0.0s\n",
      "[Parallel(n_jobs=-1)]: Done 252 tasks      | elapsed:    2.5s\n",
      "[Parallel(n_jobs=-1)]: Done 658 tasks      | elapsed:    6.5s\n",
      "[Parallel(n_jobs=-1)]: Done 1224 tasks      | elapsed:   12.2s\n",
      "[Parallel(n_jobs=-1)]: Done 1954 tasks      | elapsed:   19.4s\n",
      "[Parallel(n_jobs=-1)]: Done 2844 tasks      | elapsed:   28.5s\n",
      "[Parallel(n_jobs=-1)]: Done 3898 tasks      | elapsed:   38.6s\n",
      "[Parallel(n_jobs=-1)]: Done 4950 out of 4950 | elapsed:   48.9s finished\n",
      "[Parallel(n_jobs=-1)]: Using backend LokyBackend with 12 concurrent workers.\n"
     ]
    },
    {
     "name": "stdout",
     "output_type": "stream",
     "text": [
      "Fitting 5 folds for each of 990 candidates, totalling 4950 fits\n"
     ]
    },
    {
     "name": "stderr",
     "output_type": "stream",
     "text": [
      "[Parallel(n_jobs=-1)]: Done  17 tasks      | elapsed:    0.0s\n",
      "[Parallel(n_jobs=-1)]: Done 252 tasks      | elapsed:    2.0s\n",
      "[Parallel(n_jobs=-1)]: Done 658 tasks      | elapsed:    5.3s\n",
      "[Parallel(n_jobs=-1)]: Done 1224 tasks      | elapsed:    9.9s\n",
      "[Parallel(n_jobs=-1)]: Done 1954 tasks      | elapsed:   15.9s\n",
      "[Parallel(n_jobs=-1)]: Done 2844 tasks      | elapsed:   22.4s\n",
      "[Parallel(n_jobs=-1)]: Done 3898 tasks      | elapsed:   28.8s\n",
      "[Parallel(n_jobs=-1)]: Done 4950 out of 4950 | elapsed:   35.3s finished\n"
     ]
    },
    {
     "name": "stdout",
     "output_type": "stream",
     "text": [
      "Fitting 5 folds for each of 990 candidates, totalling 4950 fits\n"
     ]
    },
    {
     "name": "stderr",
     "output_type": "stream",
     "text": [
      "[Parallel(n_jobs=-1)]: Using backend LokyBackend with 12 concurrent workers.\n",
      "[Parallel(n_jobs=-1)]: Done  17 tasks      | elapsed:    0.0s\n",
      "[Parallel(n_jobs=-1)]: Done 252 tasks      | elapsed:    2.0s\n",
      "[Parallel(n_jobs=-1)]: Done 658 tasks      | elapsed:    5.5s\n",
      "[Parallel(n_jobs=-1)]: Done 1224 tasks      | elapsed:   10.2s\n",
      "[Parallel(n_jobs=-1)]: Done 1954 tasks      | elapsed:   16.2s\n",
      "[Parallel(n_jobs=-1)]: Done 2844 tasks      | elapsed:   22.9s\n",
      "[Parallel(n_jobs=-1)]: Done 3898 tasks      | elapsed:   29.5s\n",
      "[Parallel(n_jobs=-1)]: Done 4950 out of 4950 | elapsed:   36.5s finished\n"
     ]
    },
    {
     "name": "stdout",
     "output_type": "stream",
     "text": [
      "Fitting 5 folds for each of 990 candidates, totalling 4950 fits\n"
     ]
    },
    {
     "name": "stderr",
     "output_type": "stream",
     "text": [
      "[Parallel(n_jobs=-1)]: Using backend LokyBackend with 12 concurrent workers.\n",
      "[Parallel(n_jobs=-1)]: Done  17 tasks      | elapsed:    0.0s\n",
      "[Parallel(n_jobs=-1)]: Done 252 tasks      | elapsed:    2.1s\n",
      "[Parallel(n_jobs=-1)]: Done 658 tasks      | elapsed:    5.5s\n",
      "[Parallel(n_jobs=-1)]: Done 1224 tasks      | elapsed:   10.1s\n",
      "[Parallel(n_jobs=-1)]: Done 1954 tasks      | elapsed:   16.3s\n",
      "[Parallel(n_jobs=-1)]: Done 2844 tasks      | elapsed:   23.1s\n",
      "[Parallel(n_jobs=-1)]: Done 3898 tasks      | elapsed:   29.9s\n",
      "[Parallel(n_jobs=-1)]: Done 4950 out of 4950 | elapsed:   36.7s finished\n"
     ]
    },
    {
     "name": "stdout",
     "output_type": "stream",
     "text": [
      "Fitting 5 folds for each of 990 candidates, totalling 4950 fits\n"
     ]
    },
    {
     "name": "stderr",
     "output_type": "stream",
     "text": [
      "[Parallel(n_jobs=-1)]: Using backend LokyBackend with 12 concurrent workers.\n",
      "[Parallel(n_jobs=-1)]: Done  17 tasks      | elapsed:    0.0s\n",
      "[Parallel(n_jobs=-1)]: Done 252 tasks      | elapsed:    2.1s\n",
      "[Parallel(n_jobs=-1)]: Done 658 tasks      | elapsed:    5.7s\n",
      "[Parallel(n_jobs=-1)]: Done 1224 tasks      | elapsed:   10.5s\n",
      "[Parallel(n_jobs=-1)]: Done 1954 tasks      | elapsed:   16.6s\n",
      "[Parallel(n_jobs=-1)]: Done 2844 tasks      | elapsed:   23.3s\n",
      "[Parallel(n_jobs=-1)]: Done 3898 tasks      | elapsed:   30.1s\n",
      "[Parallel(n_jobs=-1)]: Done 4950 out of 4950 | elapsed:   36.8s finished\n",
      "[Parallel(n_jobs=-1)]: Using backend LokyBackend with 12 concurrent workers.\n"
     ]
    },
    {
     "name": "stdout",
     "output_type": "stream",
     "text": [
      "Fitting 5 folds for each of 990 candidates, totalling 4950 fits\n"
     ]
    },
    {
     "name": "stderr",
     "output_type": "stream",
     "text": [
      "[Parallel(n_jobs=-1)]: Done  17 tasks      | elapsed:    0.0s\n",
      "[Parallel(n_jobs=-1)]: Done 252 tasks      | elapsed:    2.0s\n",
      "[Parallel(n_jobs=-1)]: Done 658 tasks      | elapsed:    5.3s\n",
      "[Parallel(n_jobs=-1)]: Done 1224 tasks      | elapsed:    9.8s\n",
      "[Parallel(n_jobs=-1)]: Done 1954 tasks      | elapsed:   15.8s\n",
      "[Parallel(n_jobs=-1)]: Done 2844 tasks      | elapsed:   22.3s\n",
      "[Parallel(n_jobs=-1)]: Done 3898 tasks      | elapsed:   28.8s\n",
      "[Parallel(n_jobs=-1)]: Done 4950 out of 4950 | elapsed:   35.3s finished\n"
     ]
    },
    {
     "name": "stdout",
     "output_type": "stream",
     "text": [
      "Fitting 5 folds for each of 990 candidates, totalling 4950 fits\n"
     ]
    },
    {
     "name": "stderr",
     "output_type": "stream",
     "text": [
      "[Parallel(n_jobs=-1)]: Using backend LokyBackend with 12 concurrent workers.\n",
      "[Parallel(n_jobs=-1)]: Done  17 tasks      | elapsed:    0.0s\n",
      "[Parallel(n_jobs=-1)]: Done 252 tasks      | elapsed:    2.0s\n",
      "[Parallel(n_jobs=-1)]: Done 658 tasks      | elapsed:    5.2s\n",
      "[Parallel(n_jobs=-1)]: Done 1224 tasks      | elapsed:    9.8s\n",
      "[Parallel(n_jobs=-1)]: Done 1954 tasks      | elapsed:   15.7s\n",
      "[Parallel(n_jobs=-1)]: Done 2844 tasks      | elapsed:   22.4s\n",
      "[Parallel(n_jobs=-1)]: Done 3898 tasks      | elapsed:   28.8s\n",
      "[Parallel(n_jobs=-1)]: Done 4950 out of 4950 | elapsed:   35.4s finished\n",
      "[Parallel(n_jobs=-1)]: Using backend LokyBackend with 12 concurrent workers.\n"
     ]
    },
    {
     "name": "stdout",
     "output_type": "stream",
     "text": [
      "Fitting 5 folds for each of 990 candidates, totalling 4950 fits\n"
     ]
    },
    {
     "name": "stderr",
     "output_type": "stream",
     "text": [
      "[Parallel(n_jobs=-1)]: Done  17 tasks      | elapsed:    0.0s\n",
      "[Parallel(n_jobs=-1)]: Done 252 tasks      | elapsed:    2.3s\n",
      "[Parallel(n_jobs=-1)]: Done 658 tasks      | elapsed:    6.2s\n",
      "[Parallel(n_jobs=-1)]: Done 1224 tasks      | elapsed:   11.7s\n",
      "[Parallel(n_jobs=-1)]: Done 1954 tasks      | elapsed:   18.8s\n",
      "[Parallel(n_jobs=-1)]: Done 2844 tasks      | elapsed:   27.0s\n",
      "[Parallel(n_jobs=-1)]: Done 3898 tasks      | elapsed:   36.1s\n",
      "[Parallel(n_jobs=-1)]: Done 4950 out of 4950 | elapsed:   45.2s finished\n"
     ]
    },
    {
     "name": "stdout",
     "output_type": "stream",
     "text": [
      "Fitting 5 folds for each of 990 candidates, totalling 4950 fits\n"
     ]
    },
    {
     "name": "stderr",
     "output_type": "stream",
     "text": [
      "[Parallel(n_jobs=-1)]: Using backend LokyBackend with 12 concurrent workers.\n",
      "[Parallel(n_jobs=-1)]: Done  17 tasks      | elapsed:    0.0s\n",
      "[Parallel(n_jobs=-1)]: Done 252 tasks      | elapsed:    2.2s\n",
      "[Parallel(n_jobs=-1)]: Done 658 tasks      | elapsed:    5.8s\n",
      "[Parallel(n_jobs=-1)]: Done 1224 tasks      | elapsed:   11.0s\n",
      "[Parallel(n_jobs=-1)]: Done 1954 tasks      | elapsed:   17.6s\n",
      "[Parallel(n_jobs=-1)]: Done 2844 tasks      | elapsed:   25.4s\n",
      "[Parallel(n_jobs=-1)]: Done 3898 tasks      | elapsed:   33.6s\n",
      "[Parallel(n_jobs=-1)]: Done 4950 out of 4950 | elapsed:   41.8s finished\n"
     ]
    },
    {
     "name": "stdout",
     "output_type": "stream",
     "text": [
      "Fitting 5 folds for each of 990 candidates, totalling 4950 fits\n"
     ]
    },
    {
     "name": "stderr",
     "output_type": "stream",
     "text": [
      "[Parallel(n_jobs=-1)]: Using backend LokyBackend with 12 concurrent workers.\n",
      "[Parallel(n_jobs=-1)]: Done  17 tasks      | elapsed:    0.0s\n",
      "[Parallel(n_jobs=-1)]: Done 252 tasks      | elapsed:    2.6s\n",
      "[Parallel(n_jobs=-1)]: Done 658 tasks      | elapsed:    6.6s\n",
      "[Parallel(n_jobs=-1)]: Done 1224 tasks      | elapsed:   12.4s\n",
      "[Parallel(n_jobs=-1)]: Done 1954 tasks      | elapsed:   19.9s\n",
      "[Parallel(n_jobs=-1)]: Done 2844 tasks      | elapsed:   29.6s\n",
      "[Parallel(n_jobs=-1)]: Done 3898 tasks      | elapsed:   41.2s\n",
      "[Parallel(n_jobs=-1)]: Done 4950 out of 4950 | elapsed:   52.9s finished\n"
     ]
    },
    {
     "name": "stdout",
     "output_type": "stream",
     "text": [
      "                         Accuracy   F-Score\n",
      "time_from_2009           0.561538  0.557030\n",
      "time_from_start          0.503077  0.496843\n",
      "time_from_previous       0.518462  0.507093\n",
      "top_investor_count       0.620513  0.615159\n",
      "other_investor_count     0.584103  0.549638\n",
      "top_investor_sum         0.548718  0.546877\n",
      "other_investor_sum       0.527692  0.507549\n",
      "top_investor_rounds      0.579487  0.526923\n",
      "other_investor_rounds    0.602051  0.559214\n",
      "total_sum_raised_before  0.567179  0.540938\n",
      "valuation                0.601538  0.590419\n",
      "log_rate                 0.480000  0.463055\n"
     ]
    }
   ],
   "source": [
    "mean_acc = []\n",
    "mean_f1 = []\n",
    "features = ['time_from_2009', 'time_from_start', 'time_from_previous',\n",
    "       'top_investor_count', 'other_investor_count', 'top_investor_sum',\n",
    "       'other_investor_sum', 'top_investor_rounds', 'other_investor_rounds',\n",
    "       'total_sum_raised_before', 'valuation', 'val_rate']\n",
    "for i in features:\n",
    "    X = X_general[[i]]\n",
    "    X = X.values.astype(np.float)\n",
    "    X_train, X_test, y_train, y_test = train_test_split(X, y, test_size=0.2)\n",
    "    X_train_t = skaler.fit_transform(X_train)\n",
    "    X_test_t = skaler.transform(X_test)\n",
    "    grid_search.fit(X_train_t, y_train)\n",
    "    best_grid = grid_search.best_estimator_\n",
    "    \n",
    "    acc_array = []\n",
    "    f1_array = []\n",
    "    PR_array = []\n",
    "    RC_array = []\n",
    "    for j in range(10):\n",
    "        best_grid.fit(X_train_t, y_train)\n",
    "        predicted_labels = best_grid.predict(X_test_t)\n",
    "        acc = accuracy_score(y_test, predicted_labels)\n",
    "        f1 = f1_score(y_test, predicted_labels, average = 'macro')\n",
    "        PR = precision_score(y_test, predicted_labels, average = 'macro')\n",
    "        RC = recall_score(y_test, predicted_labels, average = 'macro')\n",
    "        acc_array.append(acc)\n",
    "        PR_array.append(PR)\n",
    "        RC_array.append(RC)\n",
    "        f1_array.append(f1)\n",
    "    mean_acc.append(np.mean(acc_array))\n",
    "    mean_f1.append(np.mean(f1_array))\n",
    "    #print(f'acc on {i} = {np.mean(acc_array)}')\n",
    "    #print(f'f1 on {i} = {np.mean(f1_array)}')\n",
    "mean_acc_f1_df = pd.DataFrame(list(zip(mean_acc, mean_f1)), \n",
    "               columns =['Accuracy', 'F-Score']).set_index([features])\n",
    "print(mean_acc_f1_df)"
   ]
  },
  {
   "cell_type": "code",
   "execution_count": 35,
   "metadata": {},
   "outputs": [
    {
     "data": {
      "text/html": [
       "<div>\n",
       "<style scoped>\n",
       "    .dataframe tbody tr th:only-of-type {\n",
       "        vertical-align: middle;\n",
       "    }\n",
       "\n",
       "    .dataframe tbody tr th {\n",
       "        vertical-align: top;\n",
       "    }\n",
       "\n",
       "    .dataframe thead th {\n",
       "        text-align: right;\n",
       "    }\n",
       "</style>\n",
       "<table border=\"1\" class=\"dataframe\">\n",
       "  <thead>\n",
       "    <tr style=\"text-align: right;\">\n",
       "      <th></th>\n",
       "      <th>Accuracy</th>\n",
       "      <th>F-Score</th>\n",
       "    </tr>\n",
       "  </thead>\n",
       "  <tbody>\n",
       "    <tr>\n",
       "      <th>time_from_2009</th>\n",
       "      <td>0.561538</td>\n",
       "      <td>0.557030</td>\n",
       "    </tr>\n",
       "    <tr>\n",
       "      <th>time_from_start</th>\n",
       "      <td>0.503077</td>\n",
       "      <td>0.496843</td>\n",
       "    </tr>\n",
       "    <tr>\n",
       "      <th>time_from_previous</th>\n",
       "      <td>0.518462</td>\n",
       "      <td>0.507093</td>\n",
       "    </tr>\n",
       "    <tr>\n",
       "      <th>top_investor_count</th>\n",
       "      <td>0.620513</td>\n",
       "      <td>0.615159</td>\n",
       "    </tr>\n",
       "    <tr>\n",
       "      <th>other_investor_count</th>\n",
       "      <td>0.584103</td>\n",
       "      <td>0.549638</td>\n",
       "    </tr>\n",
       "    <tr>\n",
       "      <th>top_investor_sum</th>\n",
       "      <td>0.548718</td>\n",
       "      <td>0.546877</td>\n",
       "    </tr>\n",
       "    <tr>\n",
       "      <th>other_investor_sum</th>\n",
       "      <td>0.527692</td>\n",
       "      <td>0.507549</td>\n",
       "    </tr>\n",
       "    <tr>\n",
       "      <th>top_investor_rounds</th>\n",
       "      <td>0.579487</td>\n",
       "      <td>0.526923</td>\n",
       "    </tr>\n",
       "    <tr>\n",
       "      <th>other_investor_rounds</th>\n",
       "      <td>0.602051</td>\n",
       "      <td>0.559214</td>\n",
       "    </tr>\n",
       "    <tr>\n",
       "      <th>total_sum_raised_before</th>\n",
       "      <td>0.567179</td>\n",
       "      <td>0.540938</td>\n",
       "    </tr>\n",
       "    <tr>\n",
       "      <th>valuation</th>\n",
       "      <td>0.601538</td>\n",
       "      <td>0.590419</td>\n",
       "    </tr>\n",
       "    <tr>\n",
       "      <th>log_rate</th>\n",
       "      <td>0.480000</td>\n",
       "      <td>0.463055</td>\n",
       "    </tr>\n",
       "  </tbody>\n",
       "</table>\n",
       "</div>"
      ],
      "text/plain": [
       "                         Accuracy   F-Score\n",
       "time_from_2009           0.561538  0.557030\n",
       "time_from_start          0.503077  0.496843\n",
       "time_from_previous       0.518462  0.507093\n",
       "top_investor_count       0.620513  0.615159\n",
       "other_investor_count     0.584103  0.549638\n",
       "top_investor_sum         0.548718  0.546877\n",
       "other_investor_sum       0.527692  0.507549\n",
       "top_investor_rounds      0.579487  0.526923\n",
       "other_investor_rounds    0.602051  0.559214\n",
       "total_sum_raised_before  0.567179  0.540938\n",
       "valuation                0.601538  0.590419\n",
       "log_rate                 0.480000  0.463055"
      ]
     },
     "execution_count": 35,
     "metadata": {},
     "output_type": "execute_result"
    }
   ],
   "source": [
    "mean_acc_f1_df"
   ]
  },
  {
   "cell_type": "code",
   "execution_count": 76,
   "metadata": {
    "scrolled": false
   },
   "outputs": [],
   "source": [
    "# acc_train = []\n",
    "# acc_test = []\n",
    "# f1_train = []\n",
    "# f1_test = []\n",
    "# for i in range(1, 101):\n",
    "#     #classifier = LogisticRegression(solver='saga', multi_class='multinomial', max_iter=100, C=0.12, penalty='l1', n_jobs=-1) #меньше 0.6\n",
    "#     #classifier = KNeighborsClassifier(n_neighbors=20, weights='distance', n_jobs =-1) #отвратительное качество\n",
    "#     classifier = DecisionTreeClassifier(max_depth=100) #качество на уровне 0.65-0.7\n",
    "    \n",
    "#     #ensemble_classifier = BaggingClassifier(base_estimator=classifier, n_estimators=i, bootstrap=True, n_jobs=-1)\n",
    "#     ensemble_classifier = RandomForestClassifier(n_estimators=i, n_jobs=-1) #качество на уровне 0.65-0.7\n",
    "#     #ensemble_classifier = GradientBoostingClassifier(n_estimators=i, learning_rate=0.2, max_depth=10) #качество на уровне 0.6-0.7\n",
    "    \n",
    "#     ensemble_classifier.fit(X_train_t, y_train)\n",
    "#     class_names = ensemble_classifier.classes_\n",
    "#     y_train_b = label_binarize(y_train, class_names)\n",
    "#     y_test_b = label_binarize(y_test, class_names)\n",
    "#     y_predict_train_b = label_binarize(ensemble_classifier.predict(X_train_t), class_names)\n",
    "#     y_predict_test_b = label_binarize(ensemble_classifier.predict(X_test_t), class_names)\n",
    "#     acc_train.append(accuracy_score(y_train_b, y_predict_train_b))\n",
    "#     f1_train.append(f1_score(y_train_b, y_predict_train_b, average='weighted'))\n",
    "#     acc_test.append(accuracy_score(y_test_b, y_predict_test_b))\n",
    "#     f1_test.append(f1_score(y_test_b, y_predict_test_b, average='weighted'))\n",
    "\n",
    "# plt.figure(figsize=(7, 7))\n",
    "# plt.plot(np.arange(1, 101), acc_train, label='accuracy train')\n",
    "# plt.plot(np.arange(1, 101), f1_train, label='f1_score train')\n",
    "# plt.plot(np.arange(1, 101), acc_test, label='accuracy test')\n",
    "# plt.plot(np.arange(1, 101), f1_test, label='f1_score test')\n",
    "# plt.xlabel('n_estimators')\n",
    "# plt.ylabel('score')\n",
    "# plt.legend()\n",
    "# plt.grid()\n",
    "# plt.show()"
   ]
  },
  {
   "cell_type": "markdown",
   "metadata": {},
   "source": [
    "### LogReg, kNN, Decision Tree"
   ]
  },
  {
   "cell_type": "code",
   "execution_count": 17,
   "metadata": {},
   "outputs": [],
   "source": [
    "#pg = {'C': np.linspace(0.01, 1, 10), 'penalty': ['l1', 'l2']}\n",
    "#pg = {'n_neighbors': range(1, 21)}\n",
    "#pg = {'max_depth': np.linspace(1, 100, 5)}\n",
    "\n",
    "#classifier = LogisticRegression(solver='saga', multi_class='multinomial', max_iter=1000, n_jobs =-1) #lbfgs\n",
    "#classifier = KNeighborsClassifier(weights='distance')\n",
    "#classifier = DecisionTreeClassifier()\n",
    "\n",
    "#grid_search = GridSearchCV(estimator=classifier, n_jobs = -1, param_grid=pg, cv=5, scoring='accuracy')\n",
    "#grid_search.fit(X_train_t, y_train)\n",
    "\n",
    "#grid_search.best_params_"
   ]
  },
  {
   "cell_type": "code",
   "execution_count": 18,
   "metadata": {},
   "outputs": [],
   "source": [
    "#best_classifier = grid_search.best_estimator_\n",
    "#best_classifier.fit(X_train_t, y_train)"
   ]
  },
  {
   "cell_type": "code",
   "execution_count": 19,
   "metadata": {},
   "outputs": [],
   "source": [
    "#predicted_labels = best_classifier.predict(X_test_t)\n",
    "\n",
    "#acc = accuracy_score(y_test, predicted_labels)\n",
    "#print(f'acc = {acc}')\n",
    "#f1 = f1_score(y_test, predicted_labels, average = 'macro')\n",
    "#print(f'f1 = {f1}')"
   ]
  },
  {
   "cell_type": "code",
   "execution_count": 20,
   "metadata": {},
   "outputs": [],
   "source": [
    "#predict_proba = grid_search.predict_proba(X_test_t)\n",
    "#for i in predict_proba:\n",
    "#    print(i)"
   ]
  },
  {
   "cell_type": "code",
   "execution_count": 21,
   "metadata": {},
   "outputs": [],
   "source": [
    "#class_names = grid_search.best_estimator_.classes_\n",
    "#y_predict = grid_search.predict_proba(X_test_t)\n",
    "\n",
    "##y_test_b = label_binarize(y_test, class_names)\n",
    "#lb = LabelBinarizer()\n",
    "#y_test_b = lb.fit_transform(y_test)\n",
    "#y_test_b = np.hstack((1 - y_test_b, y_test_b))\n",
    "\n",
    "#fpr = dict()\n",
    "#tpr = dict()\n",
    "#roc_auc = dict()\n",
    "#for i in range(len(class_names)):\n",
    "#    fpr[i], tpr[i], _ = roc_curve(y_test_b[:, i], y_predict[:, i])\n",
    "#    roc_auc[i] = auc(fpr[i], tpr[i])\n",
    "    \n",
    "##для микро\n",
    "#fpr['micro'], tpr['micro'], _ = roc_curve(y_test_b.ravel(), y_predict.ravel())\n",
    "#roc_auc['micro'] = auc(fpr['micro'], tpr['micro'])\n",
    "\n",
    "##макро\n",
    "#all_fpr = np.unique(np.concatenate([fpr[i] for i in range(len(class_names))]))\n",
    "#mean_tpr = np.zeros_like(all_fpr)\n",
    "#for i in range(len(class_names)):\n",
    "#    mean_tpr += interp(all_fpr, fpr[i], tpr[i]) \n",
    "#mean_tpr /= len(class_names)\n",
    "#fpr['macro'] = all_fpr\n",
    "#tpr['macro'] = mean_tpr\n",
    "#roc_auc['macro'] = auc(fpr['macro'], tpr['macro'])\n",
    "\n",
    "##графики\n",
    "#plt.figure(figsize=(6,6))\n",
    "#plt.plot(fpr['micro'], tpr['micro'], label='micro, auc = %.3f'%(roc_auc['micro']), linestyle='--')\n",
    "#plt.plot(fpr['macro'], tpr['macro'], label='macro, auc = %.3f'%(roc_auc['macro']), linestyle='--')\n",
    "#for i in range(len(class_names)):\n",
    "#    plt.plot(fpr[i], tpr[i], label='class = %s, auc = %.3f'%(class_names[i], auc(fpr[i], tpr[i])))\n",
    "\n",
    "#plt.title('ROC-Кривая')\n",
    "#plt.xlabel('False Positive Rate')\n",
    "#plt.ylabel('True Positive Rate')\n",
    "#plt.legend()\n",
    "#plt.show()"
   ]
  },
  {
   "cell_type": "markdown",
   "metadata": {},
   "source": [
    "### Сокращение размерности"
   ]
  },
  {
   "cell_type": "code",
   "execution_count": 34,
   "metadata": {},
   "outputs": [],
   "source": [
    "#pca = PCA()\n",
    "#pca.fit(X_train_t)\n",
    "\n",
    "#variance = np.cumsum(pca.explained_variance_ratio_)\n",
    "\n",
    "#plt.figure(figsize=(5,5))\n",
    "#plt.plot(variance)\n",
    "#plt.xlabel('Components')\n",
    "#plt.ylabel('EVR')\n",
    "#plt.plot([0,46],[0.95,0.95])\n",
    "#plt.show()"
   ]
  },
  {
   "cell_type": "code",
   "execution_count": 35,
   "metadata": {},
   "outputs": [],
   "source": [
    "#pca = PCA(n_components=39)\n",
    "\n",
    "#X_train_pca = pca.fit_transform(X_train_t)\n",
    "#X_test_pca = pca.transform(X_test_t)"
   ]
  },
  {
   "cell_type": "code",
   "execution_count": 36,
   "metadata": {},
   "outputs": [],
   "source": [
    "#pg = {'C': np.linspace(0.01, 1, 10), 'penalty': ['l1', 'l2']}\n",
    "#pg = {'n_neighbors': range(1, 31)}\n",
    "#pg = {'max_depth': np.linspace(1, 100, 5)}"
   ]
  },
  {
   "cell_type": "code",
   "execution_count": 37,
   "metadata": {},
   "outputs": [],
   "source": [
    "#classifier = LogisticRegression(solver='saga', multi_class='multinomial', max_iter=100, n_jobs =-1) #lbfgs\n",
    "#classifier = KNeighborsClassifier(weights='distance')\n",
    "#classifier = DecisionTreeClassifier()\n",
    "\n",
    "#grid_search = GridSearchCV(estimator=classifier, n_jobs = -1, param_grid=pg, cv=5, scoring='accuracy')\n",
    "#grid_search.fit(X_train_pca, y_train)\n",
    "\n",
    "#grid_search.best_params_"
   ]
  },
  {
   "cell_type": "code",
   "execution_count": 38,
   "metadata": {},
   "outputs": [],
   "source": [
    "#predicted_labels = grid_search.predict(X_test_pca)\n",
    "\n",
    "#acc = accuracy_score(y_test, predicted_labels)\n",
    "#f1 = f1_score(y_test, predicted_labels, average='weighted')\n",
    "#print('acc = ', acc)\n",
    "#print('f1 = ', f1)"
   ]
  },
  {
   "cell_type": "markdown",
   "metadata": {},
   "source": [
    "### Catboost"
   ]
  },
  {
   "cell_type": "code",
   "execution_count": 63,
   "metadata": {},
   "outputs": [],
   "source": [
    "y = dataset[['not_dead']] #'not_dead' 'exit_type' 'class'\n",
    "X = dataset.drop(columns=['class', 'not_dead', 'exit_type', 'top_investor', 'other_investor', 'total_sum_raised', 'first_last_dif', 'stadia', 'investment_type', 'log_delta', 'price_usd', 'money_raised_usd', 'exp_months_std', 'funding_round_uuid', 'company_name', 'company_uuid', 'announced_on', 'exit_date', 'total_count', 'count_per_round', 'raised_amount_usd', 'post_money_valuation_usd', 'interpolated_money_valuation_usd', 'lnP'])\n",
    "\n",
    "#только признаки команды (образование + опыт)\n",
    "#X = X.drop(columns=['time_from_2009', 'time_from_previous', 'time_from_start', 'top_investor_sum', 'other_investor_sum', 'total_sum_raised_before', 'valuation', 'val_rate'])\n",
    "\n",
    "#только инвестора и раунды\n",
    "X = X[['valuation', 'val_rate', 'total_sum_raised_before', 'time_from_2009', 'time_from_previous', 'time_from_start', 'top_investor_sum', 'other_investor_sum']]\n",
    "\n",
    "X_train, X_test, y_train, y_test = train_test_split(X, y, test_size=0.2, random_state=42)\n",
    "X_train, X_eval, y_train, y_eval = train_test_split(X_train, y_train, test_size=0.2, random_state=42)\n",
    "\n",
    "skaler = StandardScaler()\n",
    "X_train_t = skaler.fit_transform(X_train)\n",
    "X_eval_t = skaler.fit_transform(X_eval)\n",
    "X_test_t = skaler.transform(X_test)"
   ]
  },
  {
   "cell_type": "code",
   "execution_count": 64,
   "metadata": {},
   "outputs": [
    {
     "name": "stdout",
     "output_type": "stream",
     "text": [
      "0:\tlearn: 0.6514671\ttest: 0.6741755\tbest: 0.6741755 (0)\ttotal: 155ms\tremaining: 2m 34s\n",
      "100:\tlearn: 0.0489779\ttest: 0.6215706\tbest: 0.5913487 (16)\ttotal: 1.58s\tremaining: 14.1s\n",
      "200:\tlearn: 0.0177040\ttest: 0.6744059\tbest: 0.5913487 (16)\ttotal: 2.9s\tremaining: 11.6s\n",
      "300:\tlearn: 0.0101371\ttest: 0.7124593\tbest: 0.5913487 (16)\ttotal: 4.2s\tremaining: 9.76s\n",
      "400:\tlearn: 0.0069237\ttest: 0.7399347\tbest: 0.5913487 (16)\ttotal: 5.55s\tremaining: 8.29s\n",
      "500:\tlearn: 0.0053840\ttest: 0.7578491\tbest: 0.5913487 (16)\ttotal: 6.87s\tremaining: 6.84s\n",
      "600:\tlearn: 0.0044076\ttest: 0.7763442\tbest: 0.5913487 (16)\ttotal: 8.21s\tremaining: 5.45s\n",
      "700:\tlearn: 0.0038291\ttest: 0.7896251\tbest: 0.5913487 (16)\ttotal: 9.62s\tremaining: 4.1s\n",
      "800:\tlearn: 0.0033698\ttest: 0.7988073\tbest: 0.5913487 (16)\ttotal: 10.9s\tremaining: 2.72s\n",
      "900:\tlearn: 0.0030590\ttest: 0.8067507\tbest: 0.5913487 (16)\ttotal: 12.3s\tremaining: 1.35s\n",
      "999:\tlearn: 0.0028825\ttest: 0.8127623\tbest: 0.5913487 (16)\ttotal: 13.7s\tremaining: 0us\n",
      "\n",
      "bestTest = 0.5913486676\n",
      "bestIteration = 16\n",
      "\n",
      "Shrink model to first 17 iterations.\n",
      "CatBoost: prediction of not_dead: RMSLE on test = 0.8127623261614878\n"
     ]
    }
   ],
   "source": [
    "model = CatBoostClassifier(has_time=True, iterations=1000, depth=10, learning_rate=0.1, loss_function='CrossEntropy')\n",
    "model.fit(X_train_t, y_train, eval_set=(X_eval_t, y_eval), verbose=100)\n",
    "\n",
    "print ('CatBoost: prediction of %s: RMSLE on test = %s' % ('not_dead', model.evals_result_['validation']['CrossEntropy'][-1]))"
   ]
  },
  {
   "cell_type": "code",
   "execution_count": 65,
   "metadata": {},
   "outputs": [
    {
     "data": {
      "text/plain": [
       "array([1, 1, 0, 0, 1, 0, 0, 1, 1, 1, 0, 1, 1, 1, 0, 1, 0, 1, 0, 0, 1, 1,\n",
       "       1, 1, 1, 0, 1, 1, 0, 1, 0, 1, 1, 1, 1, 0, 1, 1, 0, 1, 1, 0, 1, 1,\n",
       "       1, 1, 1, 1, 1, 1, 1, 0, 1, 0, 0, 1, 0, 1, 1, 0, 1, 1, 0, 1, 1, 0,\n",
       "       1, 0, 1, 1, 1, 1, 1, 1, 1, 1, 0, 1, 0, 0, 0, 1, 0, 1, 1, 1, 0, 1,\n",
       "       1, 1, 1, 0, 1, 0, 0, 0, 0, 0, 0, 1, 0, 0, 1, 1, 1, 1, 1, 1, 1, 1,\n",
       "       1, 0, 1, 0, 1, 1, 0, 1, 0, 0, 1, 1, 1, 1, 0, 0, 0, 0, 1, 0, 0],\n",
       "      dtype=int64)"
      ]
     },
     "execution_count": 65,
     "metadata": {},
     "output_type": "execute_result"
    }
   ],
   "source": [
    "y_pred = model.predict(X_test_t)\n",
    "y_pred"
   ]
  },
  {
   "cell_type": "code",
   "execution_count": 66,
   "metadata": {},
   "outputs": [
    {
     "data": {
      "text/plain": [
       "array([1., 1., 1., 0., 0., 0., 0., 0., 0., 1., 1., 0., 0., 0., 1., 1., 1.,\n",
       "       1., 1., 0., 1., 1., 1., 0., 0., 0., 0., 1., 0., 1., 0., 1., 1., 1.,\n",
       "       0., 0., 0., 1., 1., 0., 1., 1., 1., 1., 0., 1., 0., 1., 1., 1., 1.,\n",
       "       1., 1., 0., 1., 1., 0., 1., 0., 1., 1., 1., 1., 1., 0., 0., 1., 1.,\n",
       "       0., 1., 1., 1., 1., 1., 1., 1., 0., 1., 0., 0., 0., 0., 0., 1., 1.,\n",
       "       1., 0., 1., 1., 1., 0., 0., 1., 1., 0., 0., 1., 0., 0., 1., 1., 0.,\n",
       "       1., 1., 0., 1., 0., 1., 1., 1., 1., 1., 0., 0., 0., 1., 1., 1., 1.,\n",
       "       0., 1., 1., 1., 0., 0., 1., 1., 0., 1., 0., 1.])"
      ]
     },
     "execution_count": 66,
     "metadata": {},
     "output_type": "execute_result"
    }
   ],
   "source": [
    "y_test = y_test.values.ravel()\n",
    "y_test"
   ]
  },
  {
   "cell_type": "code",
   "execution_count": 67,
   "metadata": {},
   "outputs": [
    {
     "name": "stdout",
     "output_type": "stream",
     "text": [
      "\n",
      "CatBoost: prediction of log_delta. Feature importance. Type=PredictionValuesChange\n",
      "  Feature Id  Importances\n",
      "0          6    19.197516\n",
      "1          3    18.696240\n",
      "2          0    17.847655\n",
      "3          7    12.064020\n",
      "4          2     9.962412\n",
      "5          4     8.120351\n",
      "6          5     7.730078\n",
      "7          1     6.381729\n"
     ]
    }
   ],
   "source": [
    "print ('\\nCatBoost: prediction of %s. Feature importance. Type=PredictionValuesChange' % 'log_delta')\n",
    "print (model.get_feature_importance(type=cb.EFstrType.PredictionValuesChange, prettified=True).head(25).to_string())"
   ]
  },
  {
   "cell_type": "code",
   "execution_count": 68,
   "metadata": {},
   "outputs": [
    {
     "data": {
      "text/plain": [
       "0.6564885496183206"
      ]
     },
     "execution_count": 68,
     "metadata": {},
     "output_type": "execute_result"
    }
   ],
   "source": [
    "model.score(X_test_t, y_test)"
   ]
  }
 ],
 "metadata": {
  "kernelspec": {
   "display_name": "Python 3 (ipykernel)",
   "language": "python",
   "name": "python3"
  },
  "language_info": {
   "codemirror_mode": {
    "name": "ipython",
    "version": 3
   },
   "file_extension": ".py",
   "mimetype": "text/x-python",
   "name": "python",
   "nbconvert_exporter": "python",
   "pygments_lexer": "ipython3",
   "version": "3.9.13"
  }
 },
 "nbformat": 4,
 "nbformat_minor": 4
}
