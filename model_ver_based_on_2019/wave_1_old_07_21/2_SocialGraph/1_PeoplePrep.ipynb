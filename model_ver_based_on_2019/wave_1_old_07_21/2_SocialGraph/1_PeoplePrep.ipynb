{
 "cells": [
  {
   "cell_type": "code",
   "execution_count": 1,
   "metadata": {},
   "outputs": [],
   "source": [
    "import pandas as pd\n",
    "import numpy as np\n",
    "from numpy import diff\n",
    "import matplotlib.pyplot as plt\n",
    "import re\n",
    "\n",
    "%matplotlib inline\n",
    "pd.set_option('display.max_columns', None)\n",
    "pd.set_option('display.max_colwidth', None)\n",
    "pd.options.mode.chained_assignment = None #отключить варнинги на изменение оригинального датафрейма"
   ]
  },
  {
   "cell_type": "markdown",
   "metadata": {},
   "source": [
    "### Здесь находятся все изменяемые глобальные переменные и гиперпараметры"
   ]
  },
  {
   "cell_type": "markdown",
   "metadata": {},
   "source": [
    "Здесь можно изменить директорию с исходными датасетами"
   ]
  },
  {
   "cell_type": "code",
   "execution_count": 2,
   "metadata": {},
   "outputs": [],
   "source": [
    "source_dir = 'F:/Project/csv/'"
   ]
  },
  {
   "cell_type": "markdown",
   "metadata": {},
   "source": [
    "### Считываем все необходимые исходные csv"
   ]
  },
  {
   "cell_type": "code",
   "execution_count": 3,
   "metadata": {},
   "outputs": [
    {
     "data": {
      "text/html": [
       "<div>\n",
       "<style scoped>\n",
       "    .dataframe tbody tr th:only-of-type {\n",
       "        vertical-align: middle;\n",
       "    }\n",
       "\n",
       "    .dataframe tbody tr th {\n",
       "        vertical-align: top;\n",
       "    }\n",
       "\n",
       "    .dataframe thead th {\n",
       "        text-align: right;\n",
       "    }\n",
       "</style>\n",
       "<table border=\"1\" class=\"dataframe\">\n",
       "  <thead>\n",
       "    <tr style=\"text-align: right;\">\n",
       "      <th></th>\n",
       "      <th>first_name</th>\n",
       "      <th>last_name</th>\n",
       "      <th>country_code</th>\n",
       "      <th>state_code</th>\n",
       "      <th>city</th>\n",
       "      <th>cb_url</th>\n",
       "      <th>logo_url</th>\n",
       "      <th>twitter_url</th>\n",
       "      <th>facebook_url</th>\n",
       "      <th>linkedin_url</th>\n",
       "      <th>primary_affiliation_organization</th>\n",
       "      <th>primary_affiliation_title</th>\n",
       "      <th>primary_organization_uuid</th>\n",
       "      <th>gender</th>\n",
       "      <th>uuid</th>\n",
       "      <th>created_at</th>\n",
       "      <th>updated_at</th>\n",
       "    </tr>\n",
       "  </thead>\n",
       "  <tbody>\n",
       "    <tr>\n",
       "      <th>0</th>\n",
       "      <td>Jessica</td>\n",
       "      <td>Tippens</td>\n",
       "      <td>NaN</td>\n",
       "      <td>NaN</td>\n",
       "      <td>NaN</td>\n",
       "      <td>https://www.crunchbase.com/person/jessica-tippens</td>\n",
       "      <td>https://crunchbase-production-res.cloudinary.com/image/upload/c_lpad,h_120,w_120,f_jpg/kakjvh2s1rbfowbyxq7p</td>\n",
       "      <td>NaN</td>\n",
       "      <td>https://www.facebook.com/jessica.tippens.16</td>\n",
       "      <td>https://www.linkedin.com/in/jessica-tippens</td>\n",
       "      <td>NaN</td>\n",
       "      <td>NaN</td>\n",
       "      <td>NaN</td>\n",
       "      <td>female</td>\n",
       "      <td>db1cfe21-623f-4949-bc96-43ede90fc7d1</td>\n",
       "      <td>2018-04-23 08:56:51</td>\n",
       "      <td>2018-04-23 08:56:51</td>\n",
       "    </tr>\n",
       "    <tr>\n",
       "      <th>1</th>\n",
       "      <td>Matthew</td>\n",
       "      <td>Schwade</td>\n",
       "      <td>NaN</td>\n",
       "      <td>NaN</td>\n",
       "      <td>NaN</td>\n",
       "      <td>https://www.crunchbase.com/person/matthew-schwade</td>\n",
       "      <td>https://crunchbase-production-res.cloudinary.com/image/upload/h_120,w_120,f_jpg/v1507847753/placeholder_zgpxrr.png</td>\n",
       "      <td>NaN</td>\n",
       "      <td>NaN</td>\n",
       "      <td>NaN</td>\n",
       "      <td>NaN</td>\n",
       "      <td>NaN</td>\n",
       "      <td>NaN</td>\n",
       "      <td>male</td>\n",
       "      <td>4dbc1b77-8387-160a-60dd-3ae516cb51ae</td>\n",
       "      <td>2013-08-15 14:13:59</td>\n",
       "      <td>2018-02-12 23:35:45</td>\n",
       "    </tr>\n",
       "    <tr>\n",
       "      <th>2</th>\n",
       "      <td>Canli Bahis</td>\n",
       "      <td>Siteleri</td>\n",
       "      <td>NaN</td>\n",
       "      <td>NaN</td>\n",
       "      <td>NaN</td>\n",
       "      <td>https://www.crunchbase.com/person/canli-bahis-siteleri</td>\n",
       "      <td>https://crunchbase-production-res.cloudinary.com/image/upload/c_lpad,h_120,w_120,f_jpg/odqzuofciw9inopdfedv</td>\n",
       "      <td>NaN</td>\n",
       "      <td>NaN</td>\n",
       "      <td>NaN</td>\n",
       "      <td>NaN</td>\n",
       "      <td>NaN</td>\n",
       "      <td>NaN</td>\n",
       "      <td>male</td>\n",
       "      <td>db50c705-576a-4e79-b7b3-6c2bb675ad27</td>\n",
       "      <td>2018-05-07 09:57:23</td>\n",
       "      <td>2018-05-11 05:49:30</td>\n",
       "    </tr>\n",
       "  </tbody>\n",
       "</table>\n",
       "</div>"
      ],
      "text/plain": [
       "     first_name last_name country_code state_code city  \\\n",
       "0      Jessica    Tippens          NaN        NaN  NaN   \n",
       "1       Matthew   Schwade          NaN        NaN  NaN   \n",
       "2  Canli Bahis   Siteleri          NaN        NaN  NaN   \n",
       "\n",
       "                                                   cb_url  \\\n",
       "0       https://www.crunchbase.com/person/jessica-tippens   \n",
       "1       https://www.crunchbase.com/person/matthew-schwade   \n",
       "2  https://www.crunchbase.com/person/canli-bahis-siteleri   \n",
       "\n",
       "                                                                                                             logo_url  \\\n",
       "0         https://crunchbase-production-res.cloudinary.com/image/upload/c_lpad,h_120,w_120,f_jpg/kakjvh2s1rbfowbyxq7p   \n",
       "1  https://crunchbase-production-res.cloudinary.com/image/upload/h_120,w_120,f_jpg/v1507847753/placeholder_zgpxrr.png   \n",
       "2         https://crunchbase-production-res.cloudinary.com/image/upload/c_lpad,h_120,w_120,f_jpg/odqzuofciw9inopdfedv   \n",
       "\n",
       "  twitter_url                                 facebook_url  \\\n",
       "0         NaN  https://www.facebook.com/jessica.tippens.16   \n",
       "1         NaN                                          NaN   \n",
       "2         NaN                                          NaN   \n",
       "\n",
       "                                  linkedin_url  \\\n",
       "0  https://www.linkedin.com/in/jessica-tippens   \n",
       "1                                          NaN   \n",
       "2                                          NaN   \n",
       "\n",
       "  primary_affiliation_organization primary_affiliation_title  \\\n",
       "0                              NaN                       NaN   \n",
       "1                              NaN                       NaN   \n",
       "2                              NaN                       NaN   \n",
       "\n",
       "  primary_organization_uuid  gender                                  uuid  \\\n",
       "0                       NaN  female  db1cfe21-623f-4949-bc96-43ede90fc7d1   \n",
       "1                       NaN    male  4dbc1b77-8387-160a-60dd-3ae516cb51ae   \n",
       "2                       NaN    male  db50c705-576a-4e79-b7b3-6c2bb675ad27   \n",
       "\n",
       "            created_at           updated_at  \n",
       "0  2018-04-23 08:56:51  2018-04-23 08:56:51  \n",
       "1  2013-08-15 14:13:59  2018-02-12 23:35:45  \n",
       "2  2018-05-07 09:57:23  2018-05-11 05:49:30  "
      ]
     },
     "execution_count": 3,
     "metadata": {},
     "output_type": "execute_result"
    }
   ],
   "source": [
    "people = pd.read_csv(source_dir + 'people.csv')\n",
    "people.head(3)"
   ]
  },
  {
   "cell_type": "code",
   "execution_count": 4,
   "metadata": {},
   "outputs": [
    {
     "data": {
      "text/html": [
       "<div>\n",
       "<style scoped>\n",
       "    .dataframe tbody tr th:only-of-type {\n",
       "        vertical-align: middle;\n",
       "    }\n",
       "\n",
       "    .dataframe tbody tr th {\n",
       "        vertical-align: top;\n",
       "    }\n",
       "\n",
       "    .dataframe thead th {\n",
       "        text-align: right;\n",
       "    }\n",
       "</style>\n",
       "<table border=\"1\" class=\"dataframe\">\n",
       "  <thead>\n",
       "    <tr style=\"text-align: right;\">\n",
       "      <th></th>\n",
       "      <th>uuid</th>\n",
       "      <th>description</th>\n",
       "    </tr>\n",
       "  </thead>\n",
       "  <tbody>\n",
       "    <tr>\n",
       "      <th>0</th>\n",
       "      <td>5d276890-6624-2eea-39bb-b6973cfa805d</td>\n",
       "      <td>Postgraduate Student, System Librarian, Entrepreneur and eager to learn new things.</td>\n",
       "    </tr>\n",
       "    <tr>\n",
       "      <th>1</th>\n",
       "      <td>f08e5e83-9053-e2b6-fb21-49e11a97e2ff</td>\n",
       "      <td>Full Body to Body Massage in Lajpat Nagar Delhi, It is a body massage, made with warm sesame oil and aromatherapy, has rebalancing effects of energy, detoxifying, draining, debugging and relaxing body and mind.</td>\n",
       "    </tr>\n",
       "    <tr>\n",
       "      <th>2</th>\n",
       "      <td>037b0919-132d-af3d-3884-642cfbfc19c7</td>\n",
       "      <td>Executive Search Services for Renewable Energy and Software Technology companies.\\n\\r\\nWe handle each role on a very focused basis, each role is specified carefully, we then identify a number of potential candidates and then approach them to prepare a short list that you can interview. If growth is important we can really help.\\r\\n\\r\\nReal Track record: \\r\\n\\r\\nOracle Germany recruited Country Manager who grew the company from $250k to $800m in 8 Years; Sybase Software recruited 70 people from Day one and zero revenues in Europe, they grew to $400m in 6 years. \\r\\n\\r\\nEuropean founded Companies: Recruiting Investing Chairman and NEDs from Silicon Valley, Boston and Europe who add significant contacts, opportunities and funding to each client. A number of companies achieved significant funding and exits due to these placements.\\r\\n\\r\\nWe will exchange some of the fee for equity.\\r\\n\\r\\nRenewable Energy clients\\r\\n\\r\\nWe are interested in growth companies such as: EPCs, ICPs, IPP, DNO, Developers, Investors. \\r\\nIn Technology we are interested in assisting: Manufacturers, Software Developers, Resellers, Distributors, Systems Integrator Groups.\\r\\n\\r\\nSummary of my career to date\\r\\n\\r\\nA career of 26 years in the recruitment industry from 1983 to 2009 working mainly on a retained search assignment basis handling assignments in the technology and engineering sectors : UK, Germany, France, Benelux, Sweden, Denmark, Spain, Italy and the USA.\\r\\n\\r\\nI speak fluent French after being brought up there for 9 years.\\r\\n\\r\\nOver the past five years I founded two start ups in the UK in the renewable energy sector, revenues generated in both companies from a zero start.\\r\\n\\r\\nFrelish Energy and Green Power Ventures.</td>\n",
       "    </tr>\n",
       "  </tbody>\n",
       "</table>\n",
       "</div>"
      ],
      "text/plain": [
       "                                   uuid  \\\n",
       "0  5d276890-6624-2eea-39bb-b6973cfa805d   \n",
       "1  f08e5e83-9053-e2b6-fb21-49e11a97e2ff   \n",
       "2  037b0919-132d-af3d-3884-642cfbfc19c7   \n",
       "\n",
       "                                                                                                                                                                                                                                                                                                                                                                                                                                                                                                                                                                                                                                                                                                                                                                                                                                                                                                                                                                                                                                                                                                                                                                                                                                                                                                                                                                                                                                                                                                                                                                                                                                                                                                                                                                                             description  \n",
       "0                                                                                                                                                                                                                                                                                                                                                                                                                                                                                                                                                                                                                                                                                                                                                                                                                                                                                                                                                                                                                                                                                                                                                                                                                                                                                                                                                                                                                                                                                                                                                                                                                                                                                                                 Postgraduate Student, System Librarian, Entrepreneur and eager to learn new things.     \n",
       "1                                                                                                                                                                                                                                                                                                                                                                                                                                                                                                                                                                                                                                                                                                                                                                                                                                                                                                                                                                                                                                                                                                                                                                                                                                                                                                                                                                                                                                                                                                                                                                                     Full Body to Body Massage in Lajpat Nagar Delhi, It is a body massage, made with warm sesame oil and aromatherapy, has rebalancing effects of energy, detoxifying, draining, debugging and relaxing body and mind.  \n",
       "2  Executive Search Services for Renewable Energy and Software Technology companies.\\n\\r\\nWe handle each role on a very focused basis, each role is specified carefully, we then identify a number of potential candidates and then approach them to prepare a short list that you can interview. If growth is important we can really help.\\r\\n\\r\\nReal Track record: \\r\\n\\r\\nOracle Germany recruited Country Manager who grew the company from $250k to $800m in 8 Years; Sybase Software recruited 70 people from Day one and zero revenues in Europe, they grew to $400m in 6 years. \\r\\n\\r\\nEuropean founded Companies: Recruiting Investing Chairman and NEDs from Silicon Valley, Boston and Europe who add significant contacts, opportunities and funding to each client. A number of companies achieved significant funding and exits due to these placements.\\r\\n\\r\\nWe will exchange some of the fee for equity.\\r\\n\\r\\nRenewable Energy clients\\r\\n\\r\\nWe are interested in growth companies such as: EPCs, ICPs, IPP, DNO, Developers, Investors. \\r\\nIn Technology we are interested in assisting: Manufacturers, Software Developers, Resellers, Distributors, Systems Integrator Groups.\\r\\n\\r\\nSummary of my career to date\\r\\n\\r\\nA career of 26 years in the recruitment industry from 1983 to 2009 working mainly on a retained search assignment basis handling assignments in the technology and engineering sectors : UK, Germany, France, Benelux, Sweden, Denmark, Spain, Italy and the USA.\\r\\n\\r\\nI speak fluent French after being brought up there for 9 years.\\r\\n\\r\\nOver the past five years I founded two start ups in the UK in the renewable energy sector, revenues generated in both companies from a zero start.\\r\\n\\r\\nFrelish Energy and Green Power Ventures.  "
      ]
     },
     "execution_count": 4,
     "metadata": {},
     "output_type": "execute_result"
    }
   ],
   "source": [
    "people_descriptions = pd.read_csv(source_dir + 'people_descriptions.csv')\n",
    "people_descriptions.head(3)"
   ]
  },
  {
   "cell_type": "code",
   "execution_count": 5,
   "metadata": {},
   "outputs": [
    {
     "data": {
      "text/html": [
       "<div>\n",
       "<style scoped>\n",
       "    .dataframe tbody tr th:only-of-type {\n",
       "        vertical-align: middle;\n",
       "    }\n",
       "\n",
       "    .dataframe tbody tr th {\n",
       "        vertical-align: top;\n",
       "    }\n",
       "\n",
       "    .dataframe thead th {\n",
       "        text-align: right;\n",
       "    }\n",
       "</style>\n",
       "<table border=\"1\" class=\"dataframe\">\n",
       "  <thead>\n",
       "    <tr style=\"text-align: right;\">\n",
       "      <th></th>\n",
       "      <th>degree_uuid</th>\n",
       "      <th>institution_uuid</th>\n",
       "      <th>person_uuid</th>\n",
       "      <th>degree_type</th>\n",
       "      <th>subject</th>\n",
       "      <th>started_on</th>\n",
       "      <th>completed_on</th>\n",
       "      <th>is_completed</th>\n",
       "      <th>created_at</th>\n",
       "      <th>updated_at</th>\n",
       "    </tr>\n",
       "  </thead>\n",
       "  <tbody>\n",
       "    <tr>\n",
       "      <th>0</th>\n",
       "      <td>00004d72-af3d-4c0a-451b-b0a235938e60</td>\n",
       "      <td>efef5d98-4f0a-149c-11a7-d5fd866648b0</td>\n",
       "      <td>921a5938-45de-de57-3ed8-33fcfbde9f30</td>\n",
       "      <td>BS</td>\n",
       "      <td>Computer Science</td>\n",
       "      <td>NaN</td>\n",
       "      <td>NaN</td>\n",
       "      <td>f</td>\n",
       "      <td>2013-02-08 03:04:19</td>\n",
       "      <td>2018-02-13 01:39:29</td>\n",
       "    </tr>\n",
       "    <tr>\n",
       "      <th>1</th>\n",
       "      <td>00007557-f8ec-66d3-8833-76172b03cbc3</td>\n",
       "      <td>ef989047-b04e-78e7-7d6d-a9281c0e0278</td>\n",
       "      <td>73da25af-a0d2-23e7-a111-3a03e2669189</td>\n",
       "      <td>BBA</td>\n",
       "      <td>Finance</td>\n",
       "      <td>1992-01-01</td>\n",
       "      <td>1996-01-01</td>\n",
       "      <td>t</td>\n",
       "      <td>2016-08-12 04:05:48</td>\n",
       "      <td>2018-02-13 01:39:29</td>\n",
       "    </tr>\n",
       "    <tr>\n",
       "      <th>2</th>\n",
       "      <td>0000cf53-4c72-4832-bbf8-4fb1da36b2cf</td>\n",
       "      <td>4463c2d7-3901-347d-7fe8-4ddd2d55f5be</td>\n",
       "      <td>eff3916d-2a77-4034-bb6a-d383aef0c370</td>\n",
       "      <td>Bachelor's degree</td>\n",
       "      <td>NaN</td>\n",
       "      <td>NaN</td>\n",
       "      <td>NaN</td>\n",
       "      <td>f</td>\n",
       "      <td>2018-05-01 07:50:14</td>\n",
       "      <td>2018-05-01 07:50:14</td>\n",
       "    </tr>\n",
       "  </tbody>\n",
       "</table>\n",
       "</div>"
      ],
      "text/plain": [
       "                            degree_uuid                      institution_uuid  \\\n",
       "0  00004d72-af3d-4c0a-451b-b0a235938e60  efef5d98-4f0a-149c-11a7-d5fd866648b0   \n",
       "1  00007557-f8ec-66d3-8833-76172b03cbc3  ef989047-b04e-78e7-7d6d-a9281c0e0278   \n",
       "2  0000cf53-4c72-4832-bbf8-4fb1da36b2cf  4463c2d7-3901-347d-7fe8-4ddd2d55f5be   \n",
       "\n",
       "                            person_uuid        degree_type           subject  \\\n",
       "0  921a5938-45de-de57-3ed8-33fcfbde9f30                 BS  Computer Science   \n",
       "1  73da25af-a0d2-23e7-a111-3a03e2669189                BBA           Finance   \n",
       "2  eff3916d-2a77-4034-bb6a-d383aef0c370  Bachelor's degree               NaN   \n",
       "\n",
       "   started_on completed_on is_completed           created_at  \\\n",
       "0         NaN          NaN            f  2013-02-08 03:04:19   \n",
       "1  1992-01-01   1996-01-01            t  2016-08-12 04:05:48   \n",
       "2         NaN          NaN            f  2018-05-01 07:50:14   \n",
       "\n",
       "            updated_at  \n",
       "0  2018-02-13 01:39:29  \n",
       "1  2018-02-13 01:39:29  \n",
       "2  2018-05-01 07:50:14  "
      ]
     },
     "execution_count": 5,
     "metadata": {},
     "output_type": "execute_result"
    }
   ],
   "source": [
    "degrees = pd.read_csv(source_dir + 'degrees.csv')\n",
    "degrees.head(3)"
   ]
  },
  {
   "cell_type": "code",
   "execution_count": 6,
   "metadata": {},
   "outputs": [
    {
     "data": {
      "text/html": [
       "<div>\n",
       "<style scoped>\n",
       "    .dataframe tbody tr th:only-of-type {\n",
       "        vertical-align: middle;\n",
       "    }\n",
       "\n",
       "    .dataframe tbody tr th {\n",
       "        vertical-align: top;\n",
       "    }\n",
       "\n",
       "    .dataframe thead th {\n",
       "        text-align: right;\n",
       "    }\n",
       "</style>\n",
       "<table border=\"1\" class=\"dataframe\">\n",
       "  <thead>\n",
       "    <tr style=\"text-align: right;\">\n",
       "      <th></th>\n",
       "      <th>person_uuid</th>\n",
       "      <th>org_uuid</th>\n",
       "      <th>job_uuid</th>\n",
       "      <th>started_on</th>\n",
       "      <th>ended_on</th>\n",
       "      <th>is_current</th>\n",
       "      <th>title</th>\n",
       "      <th>job_type</th>\n",
       "    </tr>\n",
       "  </thead>\n",
       "  <tbody>\n",
       "    <tr>\n",
       "      <th>0</th>\n",
       "      <td>a3fa579c-edf6-6a43-3632-2836d2e1dc72</td>\n",
       "      <td>02448d46-658f-692d-b506-67b1730e59a3</td>\n",
       "      <td>d9585acc-78b1-e921-00da-447cda676a2a</td>\n",
       "      <td>2014-03-01</td>\n",
       "      <td>NaN</td>\n",
       "      <td>t</td>\n",
       "      <td>Managing Director &amp; Legal</td>\n",
       "      <td>executive</td>\n",
       "    </tr>\n",
       "    <tr>\n",
       "      <th>1</th>\n",
       "      <td>7c2d9b4e-6759-ce5f-c9a3-68da221e1f9a</td>\n",
       "      <td>02448d46-658f-692d-b506-67b1730e59a3</td>\n",
       "      <td>4cf73cce-b3f8-b60b-6a91-35c89f637399</td>\n",
       "      <td>2014-01-01</td>\n",
       "      <td>NaN</td>\n",
       "      <td>t</td>\n",
       "      <td>Managing Director</td>\n",
       "      <td>executive</td>\n",
       "    </tr>\n",
       "    <tr>\n",
       "      <th>2</th>\n",
       "      <td>949f42bd-d728-4ced-a40b-d39e980a6ca0</td>\n",
       "      <td>13dc9ece-f5dd-46f6-8804-f956bbb29b1d</td>\n",
       "      <td>d1d5deb6-be43-44e5-8a12-b8552c0a92f8</td>\n",
       "      <td>2009-07-01</td>\n",
       "      <td>2011-03-01</td>\n",
       "      <td>f</td>\n",
       "      <td>Vice President, Strategic Client Program Management</td>\n",
       "      <td>executive</td>\n",
       "    </tr>\n",
       "  </tbody>\n",
       "</table>\n",
       "</div>"
      ],
      "text/plain": [
       "                            person_uuid                              org_uuid  \\\n",
       "0  a3fa579c-edf6-6a43-3632-2836d2e1dc72  02448d46-658f-692d-b506-67b1730e59a3   \n",
       "1  7c2d9b4e-6759-ce5f-c9a3-68da221e1f9a  02448d46-658f-692d-b506-67b1730e59a3   \n",
       "2  949f42bd-d728-4ced-a40b-d39e980a6ca0  13dc9ece-f5dd-46f6-8804-f956bbb29b1d   \n",
       "\n",
       "                               job_uuid  started_on    ended_on is_current  \\\n",
       "0  d9585acc-78b1-e921-00da-447cda676a2a  2014-03-01         NaN          t   \n",
       "1  4cf73cce-b3f8-b60b-6a91-35c89f637399  2014-01-01         NaN          t   \n",
       "2  d1d5deb6-be43-44e5-8a12-b8552c0a92f8  2009-07-01  2011-03-01          f   \n",
       "\n",
       "                                                  title   job_type  \n",
       "0                             Managing Director & Legal  executive  \n",
       "1                                     Managing Director  executive  \n",
       "2  Vice President, Strategic Client Program Management   executive  "
      ]
     },
     "execution_count": 6,
     "metadata": {},
     "output_type": "execute_result"
    }
   ],
   "source": [
    "jobs = pd.read_csv(source_dir + 'jobs.csv')\n",
    "jobs.head(3)"
   ]
  },
  {
   "cell_type": "code",
   "execution_count": 7,
   "metadata": {
    "scrolled": true
   },
   "outputs": [
    {
     "data": {
      "text/html": [
       "<div>\n",
       "<style scoped>\n",
       "    .dataframe tbody tr th:only-of-type {\n",
       "        vertical-align: middle;\n",
       "    }\n",
       "\n",
       "    .dataframe tbody tr th {\n",
       "        vertical-align: top;\n",
       "    }\n",
       "\n",
       "    .dataframe thead th {\n",
       "        text-align: right;\n",
       "    }\n",
       "</style>\n",
       "<table border=\"1\" class=\"dataframe\">\n",
       "  <thead>\n",
       "    <tr style=\"text-align: right;\">\n",
       "      <th></th>\n",
       "      <th>company_name</th>\n",
       "      <th>roles</th>\n",
       "      <th>permalink</th>\n",
       "      <th>domain</th>\n",
       "      <th>homepage_url</th>\n",
       "      <th>country_code</th>\n",
       "      <th>state_code</th>\n",
       "      <th>region</th>\n",
       "      <th>city</th>\n",
       "      <th>address</th>\n",
       "      <th>status</th>\n",
       "      <th>short_description</th>\n",
       "      <th>category_list</th>\n",
       "      <th>category_group_list</th>\n",
       "      <th>funding_rounds</th>\n",
       "      <th>funding_total_usd</th>\n",
       "      <th>founded_on</th>\n",
       "      <th>last_funding_on</th>\n",
       "      <th>closed_on</th>\n",
       "      <th>employee_count</th>\n",
       "      <th>email</th>\n",
       "      <th>phone</th>\n",
       "      <th>facebook_url</th>\n",
       "      <th>linkedin_url</th>\n",
       "      <th>cb_url</th>\n",
       "      <th>logo_url</th>\n",
       "      <th>twitter_url</th>\n",
       "      <th>aliases</th>\n",
       "      <th>uuid</th>\n",
       "      <th>created_at</th>\n",
       "      <th>updated_at</th>\n",
       "      <th>primary_role</th>\n",
       "      <th>type</th>\n",
       "    </tr>\n",
       "  </thead>\n",
       "  <tbody>\n",
       "    <tr>\n",
       "      <th>0</th>\n",
       "      <td>Intel</td>\n",
       "      <td>company,investor</td>\n",
       "      <td>/organization/intel</td>\n",
       "      <td>intel.com</td>\n",
       "      <td>http://www.intel.com/</td>\n",
       "      <td>USA</td>\n",
       "      <td>CA</td>\n",
       "      <td>SF Bay Area</td>\n",
       "      <td>Santa Clara</td>\n",
       "      <td>2200 Mission College Blvd</td>\n",
       "      <td>ipo</td>\n",
       "      <td>Intel designs, manufactures, and sells integrated digital technology platforms worldwide.</td>\n",
       "      <td>Hardware,Manufacturing,Product Design,Semiconductor</td>\n",
       "      <td>Design,Hardware,Manufacturing,Science and Engineering</td>\n",
       "      <td>1</td>\n",
       "      <td>2510000.0</td>\n",
       "      <td>1968-07-18</td>\n",
       "      <td>1968-07-31</td>\n",
       "      <td>NaN</td>\n",
       "      <td>10000+</td>\n",
       "      <td>NaN</td>\n",
       "      <td>NaN</td>\n",
       "      <td>https://www.facebook.com/Intel</td>\n",
       "      <td>https://www.linkedin.com/company/intel-corporation</td>\n",
       "      <td>https://www.crunchbase.com/organization/intel</td>\n",
       "      <td>https://crunchbase-production-res.cloudinary.com/image/upload/c_lpad,h_120,w_120,f_jpg/v1505768454/wrhwa2ogipbd1o6tgggi.png</td>\n",
       "      <td>http://twitter.com/intel</td>\n",
       "      <td>N M Electronics</td>\n",
       "      <td>1e4f199c-363b-451b-a164-f94571075ee5</td>\n",
       "      <td>2008-02-06 06:28:14</td>\n",
       "      <td>2018-04-17 08:02:15</td>\n",
       "      <td>company</td>\n",
       "      <td>organization</td>\n",
       "    </tr>\n",
       "    <tr>\n",
       "      <th>1</th>\n",
       "      <td>Intercomp</td>\n",
       "      <td>company</td>\n",
       "      <td>/organization/intercomp</td>\n",
       "      <td>intercompcompany.com</td>\n",
       "      <td>http://www.intercompcompany.com/</td>\n",
       "      <td>USA</td>\n",
       "      <td>OH</td>\n",
       "      <td>Cleveland</td>\n",
       "      <td>Medina</td>\n",
       "      <td>3839 County Road 116</td>\n",
       "      <td>operating</td>\n",
       "      <td>Intercomp designs and manufactures weighing and measurement solutions.</td>\n",
       "      <td>Hardware,Software</td>\n",
       "      <td>Hardware,Software</td>\n",
       "      <td>1</td>\n",
       "      <td>549000.0</td>\n",
       "      <td>1968-01-01</td>\n",
       "      <td>1970-12-31</td>\n",
       "      <td>NaN</td>\n",
       "      <td>101-250</td>\n",
       "      <td>NaN</td>\n",
       "      <td>800-328-3336</td>\n",
       "      <td>NaN</td>\n",
       "      <td>https://www.linkedin.com/company/906845</td>\n",
       "      <td>https://www.crunchbase.com/organization/intercomp</td>\n",
       "      <td>https://crunchbase-production-res.cloudinary.com/image/upload/c_lpad,h_120,w_120,f_jpg/v1503063825/nlf2m2lysiyenn7te9rs.png</td>\n",
       "      <td>NaN</td>\n",
       "      <td>NaN</td>\n",
       "      <td>6681b1b0-0cea-6a4a-820d-60b15793fa66</td>\n",
       "      <td>2015-07-26 19:09:56</td>\n",
       "      <td>2018-04-17 12:08:01</td>\n",
       "      <td>company</td>\n",
       "      <td>organization</td>\n",
       "    </tr>\n",
       "    <tr>\n",
       "      <th>2</th>\n",
       "      <td>Gruppo Editoriale L'Espresso Spa</td>\n",
       "      <td>company</td>\n",
       "      <td>/organization/gruppo-editoriale-lespresso-spa</td>\n",
       "      <td>gruppoespresso.it</td>\n",
       "      <td>http://www.gruppoespresso.it/en/nc.html</td>\n",
       "      <td>ITA</td>\n",
       "      <td>NaN</td>\n",
       "      <td>Rome</td>\n",
       "      <td>Rome</td>\n",
       "      <td>Gruppo Editoriale L’Espresso Spa, Via Cristoforo Colombo n. 149</td>\n",
       "      <td>ipo</td>\n",
       "      <td>Gruppo Editoriale L’Espresso is one of Italy’s leading publishing groups.</td>\n",
       "      <td>News,Publishing</td>\n",
       "      <td>Content and Publishing,Media and Entertainment</td>\n",
       "      <td>1</td>\n",
       "      <td>NaN</td>\n",
       "      <td>1955-01-01</td>\n",
       "      <td>1976-01-01</td>\n",
       "      <td>NaN</td>\n",
       "      <td>1001-5000</td>\n",
       "      <td>NaN</td>\n",
       "      <td>(390)684-781</td>\n",
       "      <td>NaN</td>\n",
       "      <td>https://www.linkedin.com/company/952199</td>\n",
       "      <td>https://www.crunchbase.com/organization/gruppo-editoriale-lespresso-spa</td>\n",
       "      <td>https://crunchbase-production-res.cloudinary.com/image/upload/c_lpad,h_120,w_120,f_jpg/v1455562308/ktp1kegwgi0poljoracz.png</td>\n",
       "      <td>NaN</td>\n",
       "      <td>NaN</td>\n",
       "      <td>e74463f7-94a8-ab7b-ba31-f4cd57a16570</td>\n",
       "      <td>2012-04-24 19:27:30</td>\n",
       "      <td>2018-04-17 12:27:30</td>\n",
       "      <td>company</td>\n",
       "      <td>organization</td>\n",
       "    </tr>\n",
       "  </tbody>\n",
       "</table>\n",
       "</div>"
      ],
      "text/plain": [
       "                       company_name             roles  \\\n",
       "0                             Intel  company,investor   \n",
       "1                         Intercomp           company   \n",
       "2  Gruppo Editoriale L'Espresso Spa           company   \n",
       "\n",
       "                                       permalink                domain  \\\n",
       "0                            /organization/intel             intel.com   \n",
       "1                        /organization/intercomp  intercompcompany.com   \n",
       "2  /organization/gruppo-editoriale-lespresso-spa     gruppoespresso.it   \n",
       "\n",
       "                              homepage_url country_code state_code  \\\n",
       "0                    http://www.intel.com/          USA         CA   \n",
       "1         http://www.intercompcompany.com/          USA         OH   \n",
       "2  http://www.gruppoespresso.it/en/nc.html          ITA        NaN   \n",
       "\n",
       "        region         city  \\\n",
       "0  SF Bay Area  Santa Clara   \n",
       "1    Cleveland       Medina   \n",
       "2         Rome         Rome   \n",
       "\n",
       "                                                           address     status  \\\n",
       "0                                        2200 Mission College Blvd        ipo   \n",
       "1                                            3839 County Road 116   operating   \n",
       "2  Gruppo Editoriale L’Espresso Spa, Via Cristoforo Colombo n. 149        ipo   \n",
       "\n",
       "                                                                           short_description  \\\n",
       "0  Intel designs, manufactures, and sells integrated digital technology platforms worldwide.   \n",
       "1                     Intercomp designs and manufactures weighing and measurement solutions.   \n",
       "2                  Gruppo Editoriale L’Espresso is one of Italy’s leading publishing groups.   \n",
       "\n",
       "                                         category_list  \\\n",
       "0  Hardware,Manufacturing,Product Design,Semiconductor   \n",
       "1                                    Hardware,Software   \n",
       "2                                      News,Publishing   \n",
       "\n",
       "                                     category_group_list  funding_rounds  \\\n",
       "0  Design,Hardware,Manufacturing,Science and Engineering               1   \n",
       "1                                      Hardware,Software               1   \n",
       "2         Content and Publishing,Media and Entertainment               1   \n",
       "\n",
       "   funding_total_usd  founded_on last_funding_on closed_on employee_count  \\\n",
       "0          2510000.0  1968-07-18      1968-07-31       NaN         10000+   \n",
       "1           549000.0  1968-01-01      1970-12-31       NaN        101-250   \n",
       "2                NaN  1955-01-01      1976-01-01       NaN      1001-5000   \n",
       "\n",
       "  email         phone                    facebook_url  \\\n",
       "0   NaN           NaN  https://www.facebook.com/Intel   \n",
       "1   NaN  800-328-3336                             NaN   \n",
       "2   NaN  (390)684-781                             NaN   \n",
       "\n",
       "                                         linkedin_url  \\\n",
       "0  https://www.linkedin.com/company/intel-corporation   \n",
       "1             https://www.linkedin.com/company/906845   \n",
       "2             https://www.linkedin.com/company/952199   \n",
       "\n",
       "                                                                    cb_url  \\\n",
       "0                            https://www.crunchbase.com/organization/intel   \n",
       "1                        https://www.crunchbase.com/organization/intercomp   \n",
       "2  https://www.crunchbase.com/organization/gruppo-editoriale-lespresso-spa   \n",
       "\n",
       "                                                                                                                      logo_url  \\\n",
       "0  https://crunchbase-production-res.cloudinary.com/image/upload/c_lpad,h_120,w_120,f_jpg/v1505768454/wrhwa2ogipbd1o6tgggi.png   \n",
       "1  https://crunchbase-production-res.cloudinary.com/image/upload/c_lpad,h_120,w_120,f_jpg/v1503063825/nlf2m2lysiyenn7te9rs.png   \n",
       "2  https://crunchbase-production-res.cloudinary.com/image/upload/c_lpad,h_120,w_120,f_jpg/v1455562308/ktp1kegwgi0poljoracz.png   \n",
       "\n",
       "                twitter_url          aliases  \\\n",
       "0  http://twitter.com/intel  N M Electronics   \n",
       "1                       NaN              NaN   \n",
       "2                       NaN              NaN   \n",
       "\n",
       "                                   uuid           created_at  \\\n",
       "0  1e4f199c-363b-451b-a164-f94571075ee5  2008-02-06 06:28:14   \n",
       "1  6681b1b0-0cea-6a4a-820d-60b15793fa66  2015-07-26 19:09:56   \n",
       "2  e74463f7-94a8-ab7b-ba31-f4cd57a16570  2012-04-24 19:27:30   \n",
       "\n",
       "            updated_at primary_role          type  \n",
       "0  2018-04-17 08:02:15      company  organization  \n",
       "1  2018-04-17 12:08:01      company  organization  \n",
       "2  2018-04-17 12:27:30      company  organization  "
      ]
     },
     "execution_count": 7,
     "metadata": {},
     "output_type": "execute_result"
    }
   ],
   "source": [
    "organizations = pd.read_csv(source_dir + 'organizations.csv', dtype={'founded_on': object, 'last_funding_on': object})\n",
    "organizations.head(3)"
   ]
  },
  {
   "cell_type": "markdown",
   "metadata": {},
   "source": [
    "### Создание списков людей для выгрузки с LinkedIn"
   ]
  },
  {
   "cell_type": "code",
   "execution_count": 8,
   "metadata": {},
   "outputs": [],
   "source": [
    "investor_list = pd.read_csv('C:/Users/Barca/Desktop/GitHub/IPO_Analysis/model_ver_based_on_2019/wave_1/1_DataPreparation/investor_list.csv')\n",
    "company_list = pd.read_csv('C:/Users/Barca/Desktop/GitHub/IPO_Analysis/model_ver_based_on_2019/wave_1/1_DataPreparation/company_list.csv')"
   ]
  },
  {
   "cell_type": "markdown",
   "metadata": {},
   "source": [
    "Из этих 228 фондов выберем всех людей"
   ]
  },
  {
   "cell_type": "code",
   "execution_count": 9,
   "metadata": {},
   "outputs": [
    {
     "data": {
      "text/plain": [
       "10355"
      ]
     },
     "execution_count": 9,
     "metadata": {},
     "output_type": "execute_result"
    }
   ],
   "source": [
    "fund_jobs = jobs.loc[jobs['org_uuid'].isin(investor_list['investor_uuid'])]\n",
    "fund_employee = set(fund_jobs['person_uuid'].values)\n",
    "len(fund_employee)"
   ]
  },
  {
   "cell_type": "markdown",
   "metadata": {},
   "source": [
    "Столько людей там работают"
   ]
  },
  {
   "cell_type": "code",
   "execution_count": 10,
   "metadata": {},
   "outputs": [
    {
     "data": {
      "text/plain": [
       "12005"
      ]
     },
     "execution_count": 10,
     "metadata": {},
     "output_type": "execute_result"
    }
   ],
   "source": [
    "len(fund_jobs)"
   ]
  },
  {
   "cell_type": "markdown",
   "metadata": {},
   "source": [
    "И столько должностей"
   ]
  },
  {
   "cell_type": "code",
   "execution_count": 11,
   "metadata": {},
   "outputs": [
    {
     "data": {
      "text/html": [
       "<div>\n",
       "<style scoped>\n",
       "    .dataframe tbody tr th:only-of-type {\n",
       "        vertical-align: middle;\n",
       "    }\n",
       "\n",
       "    .dataframe tbody tr th {\n",
       "        vertical-align: top;\n",
       "    }\n",
       "\n",
       "    .dataframe thead th {\n",
       "        text-align: right;\n",
       "    }\n",
       "</style>\n",
       "<table border=\"1\" class=\"dataframe\">\n",
       "  <thead>\n",
       "    <tr style=\"text-align: right;\">\n",
       "      <th></th>\n",
       "      <th>title</th>\n",
       "      <th>count</th>\n",
       "    </tr>\n",
       "  </thead>\n",
       "  <tbody>\n",
       "    <tr>\n",
       "      <th>2142</th>\n",
       "      <td>Partner</td>\n",
       "      <td>927</td>\n",
       "    </tr>\n",
       "    <tr>\n",
       "      <th>117</th>\n",
       "      <td>Associate</td>\n",
       "      <td>549</td>\n",
       "    </tr>\n",
       "    <tr>\n",
       "      <th>3532</th>\n",
       "      <td>Venture Partner</td>\n",
       "      <td>495</td>\n",
       "    </tr>\n",
       "    <tr>\n",
       "      <th>1316</th>\n",
       "      <td>General Partner</td>\n",
       "      <td>478</td>\n",
       "    </tr>\n",
       "    <tr>\n",
       "      <th>1863</th>\n",
       "      <td>Managing Director</td>\n",
       "      <td>444</td>\n",
       "    </tr>\n",
       "    <tr>\n",
       "      <th>...</th>\n",
       "      <td>...</td>\n",
       "      <td>...</td>\n",
       "    </tr>\n",
       "    <tr>\n",
       "      <th>1431</th>\n",
       "      <td>Head Finance for operations at Amazon India</td>\n",
       "      <td>1</td>\n",
       "    </tr>\n",
       "    <tr>\n",
       "      <th>1432</th>\n",
       "      <td>Head IoT Venture Investments</td>\n",
       "      <td>1</td>\n",
       "    </tr>\n",
       "    <tr>\n",
       "      <th>1433</th>\n",
       "      <td>Head Of Business Development, Alexa Hospitality</td>\n",
       "      <td>1</td>\n",
       "    </tr>\n",
       "    <tr>\n",
       "      <th>1434</th>\n",
       "      <td>Head Of Talent</td>\n",
       "      <td>1</td>\n",
       "    </tr>\n",
       "    <tr>\n",
       "      <th>3851</th>\n",
       "      <td>vice president of worldwide operations</td>\n",
       "      <td>1</td>\n",
       "    </tr>\n",
       "  </tbody>\n",
       "</table>\n",
       "<p>3852 rows × 2 columns</p>\n",
       "</div>"
      ],
      "text/plain": [
       "                                                title  count\n",
       "2142                                          Partner    927\n",
       "117                                         Associate    549\n",
       "3532                                  Venture Partner    495\n",
       "1316                                  General Partner    478\n",
       "1863                                Managing Director    444\n",
       "...                                               ...    ...\n",
       "1431      Head Finance for operations at Amazon India      1\n",
       "1432                     Head IoT Venture Investments      1\n",
       "1433  Head Of Business Development, Alexa Hospitality      1\n",
       "1434                                   Head Of Talent      1\n",
       "3851           vice president of worldwide operations      1\n",
       "\n",
       "[3852 rows x 2 columns]"
      ]
     },
     "execution_count": 11,
     "metadata": {},
     "output_type": "execute_result"
    }
   ],
   "source": [
    "fund_jobs_distrib = fund_jobs.groupby(['title']).size().reset_index(name = 'count')\n",
    "fund_jobs_distrib.to_csv('fund_jobs_distrib.csv')\n",
    "fund_jobs_distrib.sort_values(by = ['count'], ascending = False)"
   ]
  },
  {
   "cell_type": "markdown",
   "metadata": {},
   "source": [
    "Это все возможные должности в этих 228 фондах"
   ]
  },
  {
   "cell_type": "markdown",
   "metadata": {},
   "source": [
    "После ручной проверки выбрали нужные должности:"
   ]
  },
  {
   "cell_type": "code",
   "execution_count": 12,
   "metadata": {},
   "outputs": [
    {
     "data": {
      "text/html": [
       "<div>\n",
       "<style scoped>\n",
       "    .dataframe tbody tr th:only-of-type {\n",
       "        vertical-align: middle;\n",
       "    }\n",
       "\n",
       "    .dataframe tbody tr th {\n",
       "        vertical-align: top;\n",
       "    }\n",
       "\n",
       "    .dataframe thead th {\n",
       "        text-align: right;\n",
       "    }\n",
       "</style>\n",
       "<table border=\"1\" class=\"dataframe\">\n",
       "  <thead>\n",
       "    <tr style=\"text-align: right;\">\n",
       "      <th></th>\n",
       "      <th>selected_titles</th>\n",
       "    </tr>\n",
       "  </thead>\n",
       "  <tbody>\n",
       "    <tr>\n",
       "      <th>0</th>\n",
       "      <td>Partner</td>\n",
       "    </tr>\n",
       "    <tr>\n",
       "      <th>1</th>\n",
       "      <td>Associate</td>\n",
       "    </tr>\n",
       "    <tr>\n",
       "      <th>2</th>\n",
       "      <td>Venture Partner</td>\n",
       "    </tr>\n",
       "    <tr>\n",
       "      <th>3</th>\n",
       "      <td>General Partner</td>\n",
       "    </tr>\n",
       "    <tr>\n",
       "      <th>4</th>\n",
       "      <td>Managing Director</td>\n",
       "    </tr>\n",
       "    <tr>\n",
       "      <th>...</th>\n",
       "      <td>...</td>\n",
       "    </tr>\n",
       "    <tr>\n",
       "      <th>655</th>\n",
       "      <td>managing director</td>\n",
       "    </tr>\n",
       "    <tr>\n",
       "      <th>656</th>\n",
       "      <td>managing partner</td>\n",
       "    </tr>\n",
       "    <tr>\n",
       "      <th>657</th>\n",
       "      <td>principal and a partner</td>\n",
       "    </tr>\n",
       "    <tr>\n",
       "      <th>658</th>\n",
       "      <td>retired Partner</td>\n",
       "    </tr>\n",
       "    <tr>\n",
       "      <th>659</th>\n",
       "      <td>veterinarian and managing director</td>\n",
       "    </tr>\n",
       "  </tbody>\n",
       "</table>\n",
       "<p>660 rows × 1 columns</p>\n",
       "</div>"
      ],
      "text/plain": [
       "                        selected_titles\n",
       "0                               Partner\n",
       "1                             Associate\n",
       "2                       Venture Partner\n",
       "3                       General Partner\n",
       "4                     Managing Director\n",
       "..                                  ...\n",
       "655                   managing director\n",
       "656                    managing partner\n",
       "657             principal and a partner\n",
       "658                     retired Partner\n",
       "659  veterinarian and managing director\n",
       "\n",
       "[660 rows x 1 columns]"
      ]
     },
     "execution_count": 12,
     "metadata": {},
     "output_type": "execute_result"
    }
   ],
   "source": [
    "selected_fund_jobs = pd.read_excel('./manually_selected_data/selected_fund_jobs.xlsx')\n",
    "selected_fund_jobs"
   ]
  },
  {
   "cell_type": "markdown",
   "metadata": {},
   "source": [
    "Возьмем всех когда-либо работавших в 228 избранных фондах на избранных должностях людей. Далее создадим из них список тех, для кого есть ссылка на LinkedIn. Для остальных посмотрим все места работы в истории и выберем наиболее актуальное для каждого человека"
   ]
  },
  {
   "cell_type": "code",
   "execution_count": 13,
   "metadata": {},
   "outputs": [
    {
     "data": {
      "text/html": [
       "<div>\n",
       "<style scoped>\n",
       "    .dataframe tbody tr th:only-of-type {\n",
       "        vertical-align: middle;\n",
       "    }\n",
       "\n",
       "    .dataframe tbody tr th {\n",
       "        vertical-align: top;\n",
       "    }\n",
       "\n",
       "    .dataframe thead th {\n",
       "        text-align: right;\n",
       "    }\n",
       "</style>\n",
       "<table border=\"1\" class=\"dataframe\">\n",
       "  <thead>\n",
       "    <tr style=\"text-align: right;\">\n",
       "      <th></th>\n",
       "      <th>person_uuid</th>\n",
       "      <th>first_name</th>\n",
       "      <th>last_name</th>\n",
       "      <th>linkedin_url</th>\n",
       "    </tr>\n",
       "  </thead>\n",
       "  <tbody>\n",
       "    <tr>\n",
       "      <th>1</th>\n",
       "      <td>0004aea3-ee6f-5531-558d-c8b50c3afb21</td>\n",
       "      <td>Katherine</td>\n",
       "      <td>Wanner</td>\n",
       "      <td>http://www.linkedin.com/pub/wanner-katherine/4/a18/b87</td>\n",
       "    </tr>\n",
       "    <tr>\n",
       "      <th>2</th>\n",
       "      <td>000b0575-8e34-adf7-3d72-ec4fbd324a85</td>\n",
       "      <td>Kenichiro</td>\n",
       "      <td>Hara</td>\n",
       "      <td>https://www.linkedin.com/profile/view?id=59608450</td>\n",
       "    </tr>\n",
       "    <tr>\n",
       "      <th>3</th>\n",
       "      <td>00122598-4cf3-0a67-a91e-b1df72d8ee46</td>\n",
       "      <td>Tom</td>\n",
       "      <td>Cole</td>\n",
       "      <td>https://www.linkedin.com/in/tomcole</td>\n",
       "    </tr>\n",
       "    <tr>\n",
       "      <th>4</th>\n",
       "      <td>0014409b-f138-ecd1-31ad-6096989254c3</td>\n",
       "      <td>Raphael</td>\n",
       "      <td>Strauch</td>\n",
       "      <td>http://www.linkedin.com/pub/raphael-strauch/11/729/185/en</td>\n",
       "    </tr>\n",
       "    <tr>\n",
       "      <th>5</th>\n",
       "      <td>001f81b5-a191-03e5-e0a7-44731a87047f</td>\n",
       "      <td>Michael</td>\n",
       "      <td>Ricks</td>\n",
       "      <td>https://cn.linkedin.com/pub/michael-ricks/0/b4/385</td>\n",
       "    </tr>\n",
       "    <tr>\n",
       "      <th>...</th>\n",
       "      <td>...</td>\n",
       "      <td>...</td>\n",
       "      <td>...</td>\n",
       "      <td>...</td>\n",
       "    </tr>\n",
       "    <tr>\n",
       "      <th>6383</th>\n",
       "      <td>ffd054d9-4345-3f3e-fcee-a832fed7588b</td>\n",
       "      <td>Gerry</td>\n",
       "      <td>Libertelli</td>\n",
       "      <td>http://www.linkedin.com/in/ethigent</td>\n",
       "    </tr>\n",
       "    <tr>\n",
       "      <th>6385</th>\n",
       "      <td>ffd6e81f-0932-4672-d9f7-173426107952</td>\n",
       "      <td>Mounir</td>\n",
       "      <td>Gad</td>\n",
       "      <td>http://www.linkedin.com/in/mounirgad</td>\n",
       "    </tr>\n",
       "    <tr>\n",
       "      <th>6386</th>\n",
       "      <td>ffdae148-10a4-226c-8e67-1be6f9a5a496</td>\n",
       "      <td>Vicky</td>\n",
       "      <td>Guo</td>\n",
       "      <td>http://www.linkedin.com/in/vickyguo</td>\n",
       "    </tr>\n",
       "    <tr>\n",
       "      <th>6388</th>\n",
       "      <td>fffc4b17-9391-837e-d6f4-7fac3162db06</td>\n",
       "      <td>Carolyn</td>\n",
       "      <td>Flanagan</td>\n",
       "      <td>http://www.linkedin.com/pub/carolyn-flanagan/6/8b/b8</td>\n",
       "    </tr>\n",
       "    <tr>\n",
       "      <th>6389</th>\n",
       "      <td>fffd397c-279a-4c9e-a819-225726513784</td>\n",
       "      <td>Siri</td>\n",
       "      <td>Srinivas</td>\n",
       "      <td>http://linkedin.com/in/sirisrinivas</td>\n",
       "    </tr>\n",
       "  </tbody>\n",
       "</table>\n",
       "<p>5319 rows × 4 columns</p>\n",
       "</div>"
      ],
      "text/plain": [
       "                               person_uuid first_name   last_name  \\\n",
       "1     0004aea3-ee6f-5531-558d-c8b50c3afb21  Katherine      Wanner   \n",
       "2     000b0575-8e34-adf7-3d72-ec4fbd324a85  Kenichiro        Hara   \n",
       "3     00122598-4cf3-0a67-a91e-b1df72d8ee46        Tom        Cole   \n",
       "4     0014409b-f138-ecd1-31ad-6096989254c3    Raphael     Strauch   \n",
       "5     001f81b5-a191-03e5-e0a7-44731a87047f    Michael       Ricks   \n",
       "...                                    ...        ...         ...   \n",
       "6383  ffd054d9-4345-3f3e-fcee-a832fed7588b      Gerry  Libertelli   \n",
       "6385  ffd6e81f-0932-4672-d9f7-173426107952     Mounir         Gad   \n",
       "6386  ffdae148-10a4-226c-8e67-1be6f9a5a496      Vicky         Guo   \n",
       "6388  fffc4b17-9391-837e-d6f4-7fac3162db06    Carolyn    Flanagan   \n",
       "6389  fffd397c-279a-4c9e-a819-225726513784       Siri    Srinivas   \n",
       "\n",
       "                                                   linkedin_url  \n",
       "1        http://www.linkedin.com/pub/wanner-katherine/4/a18/b87  \n",
       "2             https://www.linkedin.com/profile/view?id=59608450  \n",
       "3                           https://www.linkedin.com/in/tomcole  \n",
       "4     http://www.linkedin.com/pub/raphael-strauch/11/729/185/en  \n",
       "5            https://cn.linkedin.com/pub/michael-ricks/0/b4/385  \n",
       "...                                                         ...  \n",
       "6383                        http://www.linkedin.com/in/ethigent  \n",
       "6385                       http://www.linkedin.com/in/mounirgad  \n",
       "6386                        http://www.linkedin.com/in/vickyguo  \n",
       "6388       http://www.linkedin.com/pub/carolyn-flanagan/6/8b/b8  \n",
       "6389                        http://linkedin.com/in/sirisrinivas  \n",
       "\n",
       "[5319 rows x 4 columns]"
      ]
     },
     "execution_count": 13,
     "metadata": {},
     "output_type": "execute_result"
    }
   ],
   "source": [
    "fund_jobs = jobs.loc[jobs['org_uuid'].isin(investor_list['investor_uuid'])]\n",
    "fund_jobs = fund_jobs.loc[fund_jobs['title'].isin(selected_fund_jobs['selected_titles'])]\n",
    "fund_jobs = fund_jobs.merge(people, how = 'left', left_on = 'person_uuid', right_on = 'uuid')\n",
    "fund_jobs['linkedin_url'] = fund_jobs['linkedin_url'].replace(np.nan, '-')\n",
    "fund_jobs = fund_jobs.groupby(['person_uuid', 'first_name', 'last_name', 'linkedin_url']).size().reset_index(name = 'count')\n",
    "fund_jobs = fund_jobs[['person_uuid', 'first_name', 'last_name', 'linkedin_url']]\n",
    "linkedin_fund_jobs = fund_jobs.loc[fund_jobs['linkedin_url'] != '-']\n",
    "linkedin_fund_jobs"
   ]
  },
  {
   "cell_type": "code",
   "execution_count": 14,
   "metadata": {},
   "outputs": [
    {
     "data": {
      "text/html": [
       "<div>\n",
       "<style scoped>\n",
       "    .dataframe tbody tr th:only-of-type {\n",
       "        vertical-align: middle;\n",
       "    }\n",
       "\n",
       "    .dataframe tbody tr th {\n",
       "        vertical-align: top;\n",
       "    }\n",
       "\n",
       "    .dataframe thead th {\n",
       "        text-align: right;\n",
       "    }\n",
       "</style>\n",
       "<table border=\"1\" class=\"dataframe\">\n",
       "  <thead>\n",
       "    <tr style=\"text-align: right;\">\n",
       "      <th></th>\n",
       "      <th>person_uuid</th>\n",
       "      <th>first_name</th>\n",
       "      <th>last_name</th>\n",
       "      <th>org_uuid</th>\n",
       "      <th>company_name</th>\n",
       "      <th>started_on</th>\n",
       "      <th>ended_on</th>\n",
       "      <th>is_current</th>\n",
       "      <th>title</th>\n",
       "      <th>primary_affiliation_organization</th>\n",
       "      <th>job_uuid</th>\n",
       "    </tr>\n",
       "  </thead>\n",
       "  <tbody>\n",
       "    <tr>\n",
       "      <th>1923</th>\n",
       "      <td>ffd054d9-4345-3f3e-fcee-a832fed7588b</td>\n",
       "      <td>Gerry</td>\n",
       "      <td>Libertelli</td>\n",
       "      <td>34a9bb66-0984-8de0-e7fb-13e976b4a135</td>\n",
       "      <td>General Catalyst</td>\n",
       "      <td>2001-08-22</td>\n",
       "      <td>2002-07-03</td>\n",
       "      <td>0</td>\n",
       "      <td>Team Member</td>\n",
       "      <td>Solid Innovations</td>\n",
       "      <td>2905a8a8-64f1-afef-d43f-52632f7b2e02</td>\n",
       "    </tr>\n",
       "    <tr>\n",
       "      <th>1922</th>\n",
       "      <td>ffd054d9-4345-3f3e-fcee-a832fed7588b</td>\n",
       "      <td>Gerry</td>\n",
       "      <td>Libertelli</td>\n",
       "      <td>f96580b4-7310-ed80-bca7-b5b7fa7dfe92</td>\n",
       "      <td>Solid Innovations</td>\n",
       "      <td>2015-01-15</td>\n",
       "      <td>NaN</td>\n",
       "      <td>1</td>\n",
       "      <td>CEO</td>\n",
       "      <td>Solid Innovations</td>\n",
       "      <td>7cc25c98-4d9c-b708-8ad9-49a03a6ccd39</td>\n",
       "    </tr>\n",
       "    <tr>\n",
       "      <th>1921</th>\n",
       "      <td>ff66fce4-f0ab-4cbf-9d55-a707e5a73506</td>\n",
       "      <td>Aman</td>\n",
       "      <td>Kandola</td>\n",
       "      <td>beadb218-e5fa-2686-bc95-4dfaa9acc2e8</td>\n",
       "      <td>Bessemer Venture Partners</td>\n",
       "      <td>NaN</td>\n",
       "      <td>NaN</td>\n",
       "      <td>1</td>\n",
       "      <td>Investor</td>\n",
       "      <td>NaN</td>\n",
       "      <td>77462bed-ed25-4818-b24b-5fa8d5468330</td>\n",
       "    </tr>\n",
       "    <tr>\n",
       "      <th>1914</th>\n",
       "      <td>ff0bee2f-2676-561c-23db-3692892a4bbc</td>\n",
       "      <td>Jishnu</td>\n",
       "      <td>Bhattacharjee</td>\n",
       "      <td>1ae4f427-6424-2f63-cdd3-a8c7af4f8729</td>\n",
       "      <td>Mezi</td>\n",
       "      <td>2015-06-01</td>\n",
       "      <td>NaN</td>\n",
       "      <td>1</td>\n",
       "      <td>Board Memeber</td>\n",
       "      <td>Nexus Venture Partners</td>\n",
       "      <td>7e9b20de-ce12-7035-3ef3-f4f50e088904</td>\n",
       "    </tr>\n",
       "    <tr>\n",
       "      <th>1909</th>\n",
       "      <td>ff0bee2f-2676-561c-23db-3692892a4bbc</td>\n",
       "      <td>Jishnu</td>\n",
       "      <td>Bhattacharjee</td>\n",
       "      <td>f727a12c-3306-09b9-0099-363a08603e76</td>\n",
       "      <td>H2O.ai</td>\n",
       "      <td>NaN</td>\n",
       "      <td>NaN</td>\n",
       "      <td>1</td>\n",
       "      <td>Board Member</td>\n",
       "      <td>Nexus Venture Partners</td>\n",
       "      <td>e04c6270-66de-4fe6-9e2e-577b5b690b3a</td>\n",
       "    </tr>\n",
       "    <tr>\n",
       "      <th>...</th>\n",
       "      <td>...</td>\n",
       "      <td>...</td>\n",
       "      <td>...</td>\n",
       "      <td>...</td>\n",
       "      <td>...</td>\n",
       "      <td>...</td>\n",
       "      <td>...</td>\n",
       "      <td>...</td>\n",
       "      <td>...</td>\n",
       "      <td>...</td>\n",
       "      <td>...</td>\n",
       "    </tr>\n",
       "    <tr>\n",
       "      <th>1</th>\n",
       "      <td>03a7f927-159c-9293-5bbd-a1f4cccde419</td>\n",
       "      <td>Paul</td>\n",
       "      <td>Lowell</td>\n",
       "      <td>de06942e-c1ce-a728-af1f-7342e1254009</td>\n",
       "      <td>Amplicon Liveline</td>\n",
       "      <td>NaN</td>\n",
       "      <td>NaN</td>\n",
       "      <td>0</td>\n",
       "      <td>President and CEO</td>\n",
       "      <td>Topsin Partners, LP</td>\n",
       "      <td>31930a1f-bb5b-44e8-82cd-70ad3260a720</td>\n",
       "    </tr>\n",
       "    <tr>\n",
       "      <th>6</th>\n",
       "      <td>03a7f927-159c-9293-5bbd-a1f4cccde419</td>\n",
       "      <td>Paul</td>\n",
       "      <td>Lowell</td>\n",
       "      <td>9dfcc77e-d29e-3518-af25-2c060a199049</td>\n",
       "      <td>FatWire Software</td>\n",
       "      <td>2008-01-01</td>\n",
       "      <td>2010-09-01</td>\n",
       "      <td>0</td>\n",
       "      <td>Director</td>\n",
       "      <td>Topsin Partners, LP</td>\n",
       "      <td>719d8e2d-1409-4fbd-2396-c0b2abdd278d</td>\n",
       "    </tr>\n",
       "    <tr>\n",
       "      <th>7</th>\n",
       "      <td>03a7f927-159c-9293-5bbd-a1f4cccde419</td>\n",
       "      <td>Paul</td>\n",
       "      <td>Lowell</td>\n",
       "      <td>664fc37e-9ce2-0c09-3f04-5c1273257d75</td>\n",
       "      <td>CosmoCom, Inc.</td>\n",
       "      <td>1996-01-01</td>\n",
       "      <td>2010-01-01</td>\n",
       "      <td>0</td>\n",
       "      <td>Chairman</td>\n",
       "      <td>Topsin Partners, LP</td>\n",
       "      <td>54293ab0-35f9-2e90-4d21-73e9e6ac8685</td>\n",
       "    </tr>\n",
       "    <tr>\n",
       "      <th>8</th>\n",
       "      <td>03a7f927-159c-9293-5bbd-a1f4cccde419</td>\n",
       "      <td>Paul</td>\n",
       "      <td>Lowell</td>\n",
       "      <td>0fb367a3-3d1e-7306-d199-993199f08ad5</td>\n",
       "      <td>Lehman Brothers</td>\n",
       "      <td>1983-01-01</td>\n",
       "      <td>1994-01-01</td>\n",
       "      <td>0</td>\n",
       "      <td>Senior Vice President</td>\n",
       "      <td>Topsin Partners, LP</td>\n",
       "      <td>2024b763-9cb2-387c-0c43-f9d7a4ff9b19</td>\n",
       "    </tr>\n",
       "    <tr>\n",
       "      <th>0</th>\n",
       "      <td>0004aea3-ee6f-5531-558d-c8b50c3afb21</td>\n",
       "      <td>Katherine</td>\n",
       "      <td>Wanner</td>\n",
       "      <td>a371f950-8ed4-0b82-e42c-503a780fc67e</td>\n",
       "      <td>Adams Street Partners</td>\n",
       "      <td>1993-01-01</td>\n",
       "      <td>NaN</td>\n",
       "      <td>1</td>\n",
       "      <td>Partner</td>\n",
       "      <td>Adams Street Partners</td>\n",
       "      <td>ae201bce-28e1-2b8a-72e1-7f6b333e1215</td>\n",
       "    </tr>\n",
       "  </tbody>\n",
       "</table>\n",
       "<p>1924 rows × 11 columns</p>\n",
       "</div>"
      ],
      "text/plain": [
       "                               person_uuid first_name      last_name  \\\n",
       "1923  ffd054d9-4345-3f3e-fcee-a832fed7588b      Gerry     Libertelli   \n",
       "1922  ffd054d9-4345-3f3e-fcee-a832fed7588b      Gerry     Libertelli   \n",
       "1921  ff66fce4-f0ab-4cbf-9d55-a707e5a73506      Aman         Kandola   \n",
       "1914  ff0bee2f-2676-561c-23db-3692892a4bbc     Jishnu  Bhattacharjee   \n",
       "1909  ff0bee2f-2676-561c-23db-3692892a4bbc     Jishnu  Bhattacharjee   \n",
       "...                                    ...        ...            ...   \n",
       "1     03a7f927-159c-9293-5bbd-a1f4cccde419       Paul         Lowell   \n",
       "6     03a7f927-159c-9293-5bbd-a1f4cccde419       Paul         Lowell   \n",
       "7     03a7f927-159c-9293-5bbd-a1f4cccde419       Paul         Lowell   \n",
       "8     03a7f927-159c-9293-5bbd-a1f4cccde419       Paul         Lowell   \n",
       "0     0004aea3-ee6f-5531-558d-c8b50c3afb21  Katherine         Wanner   \n",
       "\n",
       "                                  org_uuid               company_name  \\\n",
       "1923  34a9bb66-0984-8de0-e7fb-13e976b4a135           General Catalyst   \n",
       "1922  f96580b4-7310-ed80-bca7-b5b7fa7dfe92          Solid Innovations   \n",
       "1921  beadb218-e5fa-2686-bc95-4dfaa9acc2e8  Bessemer Venture Partners   \n",
       "1914  1ae4f427-6424-2f63-cdd3-a8c7af4f8729                       Mezi   \n",
       "1909  f727a12c-3306-09b9-0099-363a08603e76                     H2O.ai   \n",
       "...                                    ...                        ...   \n",
       "1     de06942e-c1ce-a728-af1f-7342e1254009          Amplicon Liveline   \n",
       "6     9dfcc77e-d29e-3518-af25-2c060a199049           FatWire Software   \n",
       "7     664fc37e-9ce2-0c09-3f04-5c1273257d75             CosmoCom, Inc.   \n",
       "8     0fb367a3-3d1e-7306-d199-993199f08ad5            Lehman Brothers   \n",
       "0     a371f950-8ed4-0b82-e42c-503a780fc67e      Adams Street Partners   \n",
       "\n",
       "      started_on    ended_on is_current                  title  \\\n",
       "1923  2001-08-22  2002-07-03          0            Team Member   \n",
       "1922  2015-01-15         NaN          1                    CEO   \n",
       "1921         NaN         NaN          1               Investor   \n",
       "1914  2015-06-01         NaN          1          Board Memeber   \n",
       "1909         NaN         NaN          1           Board Member   \n",
       "...          ...         ...        ...                    ...   \n",
       "1            NaN         NaN          0      President and CEO   \n",
       "6     2008-01-01  2010-09-01          0               Director   \n",
       "7     1996-01-01  2010-01-01          0               Chairman   \n",
       "8     1983-01-01  1994-01-01          0  Senior Vice President   \n",
       "0     1993-01-01         NaN          1                Partner   \n",
       "\n",
       "     primary_affiliation_organization                              job_uuid  \n",
       "1923                Solid Innovations  2905a8a8-64f1-afef-d43f-52632f7b2e02  \n",
       "1922                Solid Innovations  7cc25c98-4d9c-b708-8ad9-49a03a6ccd39  \n",
       "1921                              NaN  77462bed-ed25-4818-b24b-5fa8d5468330  \n",
       "1914           Nexus Venture Partners  7e9b20de-ce12-7035-3ef3-f4f50e088904  \n",
       "1909           Nexus Venture Partners  e04c6270-66de-4fe6-9e2e-577b5b690b3a  \n",
       "...                               ...                                   ...  \n",
       "1                 Topsin Partners, LP  31930a1f-bb5b-44e8-82cd-70ad3260a720  \n",
       "6                 Topsin Partners, LP  719d8e2d-1409-4fbd-2396-c0b2abdd278d  \n",
       "7                 Topsin Partners, LP  54293ab0-35f9-2e90-4d21-73e9e6ac8685  \n",
       "8                 Topsin Partners, LP  2024b763-9cb2-387c-0c43-f9d7a4ff9b19  \n",
       "0               Adams Street Partners  ae201bce-28e1-2b8a-72e1-7f6b333e1215  \n",
       "\n",
       "[1924 rows x 11 columns]"
      ]
     },
     "execution_count": 14,
     "metadata": {},
     "output_type": "execute_result"
    }
   ],
   "source": [
    "###Сломанные###\n",
    "broken = pd.read_excel('./manually_selected_data/broken_links.xlsx')\n",
    "broken_jobs = fund_jobs.loc[fund_jobs['person_uuid'].isin(broken['person_uuid'].values)]\n",
    "broken_jobs = broken_jobs.merge(jobs, how = 'left', on = 'person_uuid')\n",
    "broken_jobs = broken_jobs.merge(people[['uuid', 'primary_affiliation_organization']], how = 'left', left_on = 'person_uuid', right_on = 'uuid')\n",
    "broken_jobs = broken_jobs.merge(organizations[['company_name', 'uuid']], how = 'left', left_on = 'org_uuid', right_on = 'uuid')\n",
    "broken_jobs = broken_jobs[['person_uuid', 'first_name', 'last_name', 'org_uuid', 'company_name', 'started_on', 'ended_on', 'is_current', 'title', 'primary_affiliation_organization', 'job_uuid']]\n",
    "broken_jobs = broken_jobs.drop_duplicates().reset_index(drop=True)\n",
    "broken_jobs.loc[broken_jobs['is_current'] == 'f', 'is_current'] = 0\n",
    "broken_jobs.loc[broken_jobs['is_current'] == 't', 'is_current'] = 1\n",
    "broken_jobs = broken_jobs.sort_values(by = ['person_uuid'], ascending = False)\n",
    "broken_jobs\n",
    "###Сломанные###"
   ]
  },
  {
   "cell_type": "markdown",
   "metadata": {},
   "source": [
    "Это список всех сломанных"
   ]
  },
  {
   "cell_type": "code",
   "execution_count": 15,
   "metadata": {},
   "outputs": [
    {
     "data": {
      "text/plain": [
       "43"
      ]
     },
     "execution_count": 15,
     "metadata": {},
     "output_type": "execute_result"
    }
   ],
   "source": [
    "a = broken_jobs.groupby(['person_uuid']).size().reset_index(name = 'number_of_jobs')\n",
    "b = a.loc[a['number_of_jobs'] == 1]\n",
    "broken_jobs_1 = broken_jobs.loc[broken_jobs['person_uuid'].isin(b['person_uuid'])]\n",
    "len(broken_jobs_1)"
   ]
  },
  {
   "cell_type": "code",
   "execution_count": 16,
   "metadata": {},
   "outputs": [
    {
     "data": {
      "text/plain": [
       "{0, 1, 2, 3, 4, 5, 6, 7, 8, 9, 10, 11, 12, 13, 14, 15, 16, 17, 18, 19, 20, 24}"
      ]
     },
     "execution_count": 16,
     "metadata": {},
     "output_type": "execute_result"
    }
   ],
   "source": [
    "b = a.loc[a['number_of_jobs'] > 1]\n",
    "c = broken_jobs.loc[broken_jobs['person_uuid'].isin(b['person_uuid'])].sort_values(by = ['person_uuid'], ascending = False)\n",
    "c = c.groupby(['person_uuid'])['is_current'].agg(['sum']).reset_index()\n",
    "set(c['sum'].values)"
   ]
  },
  {
   "cell_type": "code",
   "execution_count": 17,
   "metadata": {},
   "outputs": [
    {
     "data": {
      "text/plain": [
       "91"
      ]
     },
     "execution_count": 17,
     "metadata": {},
     "output_type": "execute_result"
    }
   ],
   "source": [
    "d = c.loc[c['sum'] == 1]\n",
    "broken_jobs_2 = broken_jobs.loc[(broken_jobs['person_uuid'].isin(d['person_uuid'])) & (broken_jobs['is_current'] == 1)]\n",
    "broken_jobs_2 = broken_jobs_2.sort_values(by = ['person_uuid'], ascending = False)\n",
    "len(broken_jobs_2)"
   ]
  },
  {
   "cell_type": "code",
   "execution_count": 18,
   "metadata": {},
   "outputs": [
    {
     "data": {
      "text/plain": [
       "17"
      ]
     },
     "execution_count": 18,
     "metadata": {},
     "output_type": "execute_result"
    }
   ],
   "source": [
    "d = c.loc[c['sum'] == 0]\n",
    "broken_jobs_3 = broken_jobs.loc[broken_jobs['person_uuid'].isin(d['person_uuid'])]\n",
    "broken_jobs_3 = broken_jobs_3.sort_values(by = ['person_uuid'], ascending = False)\n",
    "w = [np.nan]\n",
    "broken_jobs_3_1 = broken_jobs_3.loc[~broken_jobs_3['started_on'].isin(w)]\n",
    "e = set(broken_jobs_3_1['person_uuid'].values)\n",
    "broken_jobs_3_1['started_on'] = pd.to_datetime(broken_jobs_3_1['started_on'])\n",
    "broken_jobs_3_1 = broken_jobs_3_1.loc[broken_jobs_3_1.groupby(['person_uuid'])['started_on'].idxmax()]\n",
    "len(broken_jobs_3_1)"
   ]
  },
  {
   "cell_type": "code",
   "execution_count": 19,
   "metadata": {},
   "outputs": [
    {
     "data": {
      "text/plain": [
       "0"
      ]
     },
     "execution_count": 19,
     "metadata": {},
     "output_type": "execute_result"
    }
   ],
   "source": [
    "broken_jobs_3_2 = broken_jobs_3.loc[~broken_jobs_3['person_uuid'].isin(e)]\n",
    "broken_jobs_3_2_1 = broken_jobs_3_2.loc[broken_jobs_3_2['company_name'] == broken_jobs_3_2['primary_affiliation_organization']]\n",
    "q = broken_jobs_3_2_1.groupby(['person_uuid']).size().reset_index(name = 'count')\n",
    "w = q.loc[q['count'] == 1]\n",
    "w = set(w['person_uuid'].values)\n",
    "broken_jobs_3_2_1 = broken_jobs_3_2_1.loc[broken_jobs_3_2_1['person_uuid'].isin(w)]\n",
    "len(broken_jobs_3_2_1)"
   ]
  },
  {
   "cell_type": "code",
   "execution_count": 20,
   "metadata": {},
   "outputs": [],
   "source": [
    "broken_jobs_3_2_2 = broken_jobs_3_2.loc[~broken_jobs_3_2['person_uuid'].isin(w)]\n",
    "#broken_jobs_3_2_2.to_csv('broken_jobs_3_2_2.csv')"
   ]
  },
  {
   "cell_type": "code",
   "execution_count": 21,
   "metadata": {},
   "outputs": [
    {
     "data": {
      "text/plain": [
       "3"
      ]
     },
     "execution_count": 21,
     "metadata": {},
     "output_type": "execute_result"
    }
   ],
   "source": [
    "q = pd.read_csv('./manually_selected_data/manual5.csv')\n",
    "broken_jobs_3_2_2 = broken_jobs_3_2_2[broken_jobs_3_2_2['job_uuid'].isin(q['job_uuid'])]\n",
    "len(broken_jobs_3_2_2)"
   ]
  },
  {
   "cell_type": "code",
   "execution_count": 22,
   "metadata": {},
   "outputs": [
    {
     "data": {
      "text/plain": [
       "108"
      ]
     },
     "execution_count": 22,
     "metadata": {},
     "output_type": "execute_result"
    }
   ],
   "source": [
    "d = c.loc[c['sum'] > 1]\n",
    "broken_jobs_4 = broken_jobs.loc[(broken_jobs['person_uuid'].isin(d['person_uuid'])) & (broken_jobs['is_current'] == 1)]\n",
    "broken_jobs_4 = broken_jobs_4.sort_values(by = ['person_uuid'], ascending = False)\n",
    "w = [np.nan]\n",
    "broken_jobs_4_1 = broken_jobs_4.loc[~broken_jobs_4['started_on'].isin(w)]\n",
    "e = set(broken_jobs_4_1['person_uuid'].values)\n",
    "broken_jobs_4_1['started_on'] = pd.to_datetime(broken_jobs_4_1['started_on'])\n",
    "broken_jobs_4_1 = broken_jobs_4_1.loc[broken_jobs_4_1.groupby(['person_uuid'])['started_on'].idxmax()]\n",
    "len(broken_jobs_4_1)"
   ]
  },
  {
   "cell_type": "code",
   "execution_count": 23,
   "metadata": {},
   "outputs": [
    {
     "data": {
      "text/plain": [
       "32"
      ]
     },
     "execution_count": 23,
     "metadata": {},
     "output_type": "execute_result"
    }
   ],
   "source": [
    "broken_jobs_4_2 = broken_jobs_4.loc[~broken_jobs_4['person_uuid'].isin(e)]\n",
    "broken_jobs_4_2_1 = broken_jobs_4_2.loc[broken_jobs_4_2['company_name'] == broken_jobs_4_2['primary_affiliation_organization']]\n",
    "q = broken_jobs_4_2_1.groupby(['person_uuid']).size().reset_index(name = 'count')\n",
    "w = q.loc[q['count'] == 1]\n",
    "w = set(w['person_uuid'].values)\n",
    "broken_jobs_4_2_1 = broken_jobs_4_2_1.loc[broken_jobs_4_2_1['person_uuid'].isin(w)]\n",
    "len(broken_jobs_4_2_1)"
   ]
  },
  {
   "cell_type": "code",
   "execution_count": 24,
   "metadata": {},
   "outputs": [],
   "source": [
    "broken_jobs_4_2_2 = broken_jobs_4_2.loc[~broken_jobs_4_2['person_uuid'].isin(w)]\n",
    "#broken_jobs_4_2_2.to_csv('broken_jobs_4_2_2.csv')"
   ]
  },
  {
   "cell_type": "code",
   "execution_count": 25,
   "metadata": {},
   "outputs": [
    {
     "data": {
      "text/plain": [
       "3"
      ]
     },
     "execution_count": 25,
     "metadata": {},
     "output_type": "execute_result"
    }
   ],
   "source": [
    "q = pd.read_csv('./manually_selected_data/manual6.csv')\n",
    "broken_jobs_4_2_2 = broken_jobs_4_2_2[broken_jobs_4_2_2['job_uuid'].isin(q['job_uuid'])]\n",
    "len(broken_jobs_4_2_2)"
   ]
  },
  {
   "cell_type": "code",
   "execution_count": 26,
   "metadata": {},
   "outputs": [
    {
     "data": {
      "text/html": [
       "<div>\n",
       "<style scoped>\n",
       "    .dataframe tbody tr th:only-of-type {\n",
       "        vertical-align: middle;\n",
       "    }\n",
       "\n",
       "    .dataframe tbody tr th {\n",
       "        vertical-align: top;\n",
       "    }\n",
       "\n",
       "    .dataframe thead th {\n",
       "        text-align: right;\n",
       "    }\n",
       "</style>\n",
       "<table border=\"1\" class=\"dataframe\">\n",
       "  <thead>\n",
       "    <tr style=\"text-align: right;\">\n",
       "      <th></th>\n",
       "      <th>person_uuid</th>\n",
       "      <th>first_name</th>\n",
       "      <th>last_name</th>\n",
       "      <th>org_uuid</th>\n",
       "      <th>company_name</th>\n",
       "      <th>started_on</th>\n",
       "      <th>ended_on</th>\n",
       "      <th>is_current</th>\n",
       "      <th>title</th>\n",
       "      <th>primary_affiliation_organization</th>\n",
       "      <th>job_uuid</th>\n",
       "    </tr>\n",
       "  </thead>\n",
       "  <tbody>\n",
       "    <tr>\n",
       "      <th>0</th>\n",
       "      <td>ff66fce4-f0ab-4cbf-9d55-a707e5a73506</td>\n",
       "      <td>Aman</td>\n",
       "      <td>Kandola</td>\n",
       "      <td>beadb218-e5fa-2686-bc95-4dfaa9acc2e8</td>\n",
       "      <td>Bessemer Venture Partners</td>\n",
       "      <td>NaN</td>\n",
       "      <td>NaN</td>\n",
       "      <td>1</td>\n",
       "      <td>Investor</td>\n",
       "      <td>NaN</td>\n",
       "      <td>77462bed-ed25-4818-b24b-5fa8d5468330</td>\n",
       "    </tr>\n",
       "    <tr>\n",
       "      <th>1</th>\n",
       "      <td>f56d30f2-4411-b6d7-a0b8-f0d5f4938c40</td>\n",
       "      <td>Travis</td>\n",
       "      <td>Murdoch</td>\n",
       "      <td>4ca6cfbe-0eba-2bb5-88a7-d4c00235bd7d</td>\n",
       "      <td>Third Rock Ventures</td>\n",
       "      <td>NaN</td>\n",
       "      <td>NaN</td>\n",
       "      <td>1</td>\n",
       "      <td>Principal</td>\n",
       "      <td>Third Rock Ventures</td>\n",
       "      <td>c67c40be-8334-c6c8-f06a-4c624381d79c</td>\n",
       "    </tr>\n",
       "    <tr>\n",
       "      <th>2</th>\n",
       "      <td>f1fd4d43-ff9f-b0d6-b483-4613d6f0b8ab</td>\n",
       "      <td>Ekta</td>\n",
       "      <td>Dang</td>\n",
       "      <td>f3716725-552d-b9b5-59ad-de4ec64b1751</td>\n",
       "      <td>Intel Capital</td>\n",
       "      <td>NaN</td>\n",
       "      <td>NaN</td>\n",
       "      <td>1</td>\n",
       "      <td>Venture Capitalist</td>\n",
       "      <td>Intel Capital</td>\n",
       "      <td>cd80e7d9-1f5c-8703-82a6-24453d87149f</td>\n",
       "    </tr>\n",
       "    <tr>\n",
       "      <th>3</th>\n",
       "      <td>ee0009ab-b1de-4c81-a7d6-7f76fed7484f</td>\n",
       "      <td>Samuel Christopher</td>\n",
       "      <td>Wallace</td>\n",
       "      <td>9dd7066b-069a-9dd9-c211-06db31253bd0</td>\n",
       "      <td>Greycroft</td>\n",
       "      <td>2017-01-01</td>\n",
       "      <td>NaN</td>\n",
       "      <td>1</td>\n",
       "      <td>Associate</td>\n",
       "      <td>Greycroft</td>\n",
       "      <td>8f25eacd-e735-40ac-8e37-5825ed919e36</td>\n",
       "    </tr>\n",
       "    <tr>\n",
       "      <th>4</th>\n",
       "      <td>ea3e38e9-402e-2200-3bad-d93e0dec353f</td>\n",
       "      <td>Joel</td>\n",
       "      <td>Monegro</td>\n",
       "      <td>b5d0d7dd-cfc2-4c56-9ed4-847db73f8cee</td>\n",
       "      <td>Union Square Ventures</td>\n",
       "      <td>NaN</td>\n",
       "      <td>NaN</td>\n",
       "      <td>1</td>\n",
       "      <td>Member of Investment Team</td>\n",
       "      <td>Union Square Ventures</td>\n",
       "      <td>64efa7e6-ae16-e879-1eaf-d4146fb11793</td>\n",
       "    </tr>\n",
       "    <tr>\n",
       "      <th>...</th>\n",
       "      <td>...</td>\n",
       "      <td>...</td>\n",
       "      <td>...</td>\n",
       "      <td>...</td>\n",
       "      <td>...</td>\n",
       "      <td>...</td>\n",
       "      <td>...</td>\n",
       "      <td>...</td>\n",
       "      <td>...</td>\n",
       "      <td>...</td>\n",
       "      <td>...</td>\n",
       "    </tr>\n",
       "    <tr>\n",
       "      <th>292</th>\n",
       "      <td>1da5538b-21c0-5208-1f38-cea145c38571</td>\n",
       "      <td>Nicolas</td>\n",
       "      <td>Wittenborn</td>\n",
       "      <td>6efb9171-a87b-212d-f399-b0613da7b1c9</td>\n",
       "      <td>Insight Venture Partners</td>\n",
       "      <td>NaN</td>\n",
       "      <td>NaN</td>\n",
       "      <td>1</td>\n",
       "      <td>Vice President</td>\n",
       "      <td>Insight Venture Partners</td>\n",
       "      <td>de69a0c6-5786-eaa2-e318-9f39dc33839a</td>\n",
       "    </tr>\n",
       "    <tr>\n",
       "      <th>293</th>\n",
       "      <td>1a2630ba-e395-2b50-c4e0-69b6d0c9c955</td>\n",
       "      <td>Fay</td>\n",
       "      <td>Hazaveh</td>\n",
       "      <td>49239096-521d-73d3-932f-1c5ccb4e766f</td>\n",
       "      <td>Hewlett Packard Pathfinder</td>\n",
       "      <td>NaN</td>\n",
       "      <td>NaN</td>\n",
       "      <td>1</td>\n",
       "      <td>Investment Professional</td>\n",
       "      <td>Hewlett Packard Pathfinder</td>\n",
       "      <td>bca411af-6dc8-9082-bc16-7022cd2040ac</td>\n",
       "    </tr>\n",
       "    <tr>\n",
       "      <th>294</th>\n",
       "      <td>b9a1fda2-e280-f667-447e-4f134e815912</td>\n",
       "      <td>Mark</td>\n",
       "      <td>Pruzanski</td>\n",
       "      <td>da13137c-f19c-b368-8bdf-1e295532bae7</td>\n",
       "      <td>Intercept Pharmaceuticals</td>\n",
       "      <td>NaN</td>\n",
       "      <td>NaN</td>\n",
       "      <td>1</td>\n",
       "      <td>Founder &amp; CEO</td>\n",
       "      <td>Intercept Pharmaceuticals</td>\n",
       "      <td>4819a9c4-4cc1-4275-cea7-1dbbd8d303a1</td>\n",
       "    </tr>\n",
       "    <tr>\n",
       "      <th>295</th>\n",
       "      <td>a3435119-890a-8104-3c23-ccb9ac5b6ff6</td>\n",
       "      <td>Wei-Wu</td>\n",
       "      <td>He</td>\n",
       "      <td>da3f4e76-678e-d998-afdb-cafeb01741f7</td>\n",
       "      <td>Origene Technologies</td>\n",
       "      <td>NaN</td>\n",
       "      <td>NaN</td>\n",
       "      <td>1</td>\n",
       "      <td>Founder &amp; CEO</td>\n",
       "      <td>Origene Technologies</td>\n",
       "      <td>c37b1c16-36bf-17ec-ec82-8ff5a65c6d2e</td>\n",
       "    </tr>\n",
       "    <tr>\n",
       "      <th>296</th>\n",
       "      <td>13317740-fba8-ed9c-6dea-b9782bebcb1d</td>\n",
       "      <td>Tony</td>\n",
       "      <td>Evnin</td>\n",
       "      <td>baa8938c-bd03-3a6d-cc9c-0f3de60eb892</td>\n",
       "      <td>Memorial Sloan - Kettering Cancer Center</td>\n",
       "      <td>NaN</td>\n",
       "      <td>NaN</td>\n",
       "      <td>1</td>\n",
       "      <td>Member of Boards of Overseers</td>\n",
       "      <td>Memorial Sloan - Kettering Cancer Center</td>\n",
       "      <td>11d72be9-da21-9caf-438c-d3202cffbf64</td>\n",
       "    </tr>\n",
       "  </tbody>\n",
       "</table>\n",
       "<p>297 rows × 11 columns</p>\n",
       "</div>"
      ],
      "text/plain": [
       "                              person_uuid          first_name   last_name  \\\n",
       "0    ff66fce4-f0ab-4cbf-9d55-a707e5a73506               Aman      Kandola   \n",
       "1    f56d30f2-4411-b6d7-a0b8-f0d5f4938c40              Travis     Murdoch   \n",
       "2    f1fd4d43-ff9f-b0d6-b483-4613d6f0b8ab                Ekta        Dang   \n",
       "3    ee0009ab-b1de-4c81-a7d6-7f76fed7484f  Samuel Christopher     Wallace   \n",
       "4    ea3e38e9-402e-2200-3bad-d93e0dec353f                Joel     Monegro   \n",
       "..                                    ...                 ...         ...   \n",
       "292  1da5538b-21c0-5208-1f38-cea145c38571             Nicolas  Wittenborn   \n",
       "293  1a2630ba-e395-2b50-c4e0-69b6d0c9c955                 Fay     Hazaveh   \n",
       "294  b9a1fda2-e280-f667-447e-4f134e815912                Mark   Pruzanski   \n",
       "295  a3435119-890a-8104-3c23-ccb9ac5b6ff6              Wei-Wu          He   \n",
       "296  13317740-fba8-ed9c-6dea-b9782bebcb1d                Tony       Evnin   \n",
       "\n",
       "                                 org_uuid  \\\n",
       "0    beadb218-e5fa-2686-bc95-4dfaa9acc2e8   \n",
       "1    4ca6cfbe-0eba-2bb5-88a7-d4c00235bd7d   \n",
       "2    f3716725-552d-b9b5-59ad-de4ec64b1751   \n",
       "3    9dd7066b-069a-9dd9-c211-06db31253bd0   \n",
       "4    b5d0d7dd-cfc2-4c56-9ed4-847db73f8cee   \n",
       "..                                    ...   \n",
       "292  6efb9171-a87b-212d-f399-b0613da7b1c9   \n",
       "293  49239096-521d-73d3-932f-1c5ccb4e766f   \n",
       "294  da13137c-f19c-b368-8bdf-1e295532bae7   \n",
       "295  da3f4e76-678e-d998-afdb-cafeb01741f7   \n",
       "296  baa8938c-bd03-3a6d-cc9c-0f3de60eb892   \n",
       "\n",
       "                                 company_name  started_on ended_on is_current  \\\n",
       "0                   Bessemer Venture Partners         NaN      NaN          1   \n",
       "1                         Third Rock Ventures         NaN      NaN          1   \n",
       "2                               Intel Capital         NaN      NaN          1   \n",
       "3                                   Greycroft  2017-01-01      NaN          1   \n",
       "4                       Union Square Ventures         NaN      NaN          1   \n",
       "..                                        ...         ...      ...        ...   \n",
       "292                  Insight Venture Partners         NaN      NaN          1   \n",
       "293                Hewlett Packard Pathfinder         NaN      NaN          1   \n",
       "294                 Intercept Pharmaceuticals         NaN      NaN          1   \n",
       "295                      Origene Technologies         NaN      NaN          1   \n",
       "296  Memorial Sloan - Kettering Cancer Center         NaN      NaN          1   \n",
       "\n",
       "                             title          primary_affiliation_organization  \\\n",
       "0                         Investor                                       NaN   \n",
       "1                        Principal                       Third Rock Ventures   \n",
       "2               Venture Capitalist                             Intel Capital   \n",
       "3                        Associate                                 Greycroft   \n",
       "4        Member of Investment Team                     Union Square Ventures   \n",
       "..                             ...                                       ...   \n",
       "292                 Vice President                  Insight Venture Partners   \n",
       "293        Investment Professional                Hewlett Packard Pathfinder   \n",
       "294                  Founder & CEO                 Intercept Pharmaceuticals   \n",
       "295                  Founder & CEO                      Origene Technologies   \n",
       "296  Member of Boards of Overseers  Memorial Sloan - Kettering Cancer Center   \n",
       "\n",
       "                                 job_uuid  \n",
       "0    77462bed-ed25-4818-b24b-5fa8d5468330  \n",
       "1    c67c40be-8334-c6c8-f06a-4c624381d79c  \n",
       "2    cd80e7d9-1f5c-8703-82a6-24453d87149f  \n",
       "3    8f25eacd-e735-40ac-8e37-5825ed919e36  \n",
       "4    64efa7e6-ae16-e879-1eaf-d4146fb11793  \n",
       "..                                    ...  \n",
       "292  de69a0c6-5786-eaa2-e318-9f39dc33839a  \n",
       "293  bca411af-6dc8-9082-bc16-7022cd2040ac  \n",
       "294  4819a9c4-4cc1-4275-cea7-1dbbd8d303a1  \n",
       "295  c37b1c16-36bf-17ec-ec82-8ff5a65c6d2e  \n",
       "296  11d72be9-da21-9caf-438c-d3202cffbf64  \n",
       "\n",
       "[297 rows x 11 columns]"
      ]
     },
     "execution_count": 26,
     "metadata": {},
     "output_type": "execute_result"
    }
   ],
   "source": [
    "broken_fund_jobs = pd.concat([broken_jobs_1, broken_jobs_2, broken_jobs_3_1, broken_jobs_3_2_1, broken_jobs_3_2_2, broken_jobs_4_1, broken_jobs_4_2_1, broken_jobs_4_2_2]).drop_duplicates().reset_index(drop=True)\n",
    "broken_fund_jobs"
   ]
  },
  {
   "cell_type": "markdown",
   "metadata": {},
   "source": [
    "Далее те, что без ссылок"
   ]
  },
  {
   "cell_type": "code",
   "execution_count": 27,
   "metadata": {},
   "outputs": [
    {
     "data": {
      "text/html": [
       "<div>\n",
       "<style scoped>\n",
       "    .dataframe tbody tr th:only-of-type {\n",
       "        vertical-align: middle;\n",
       "    }\n",
       "\n",
       "    .dataframe tbody tr th {\n",
       "        vertical-align: top;\n",
       "    }\n",
       "\n",
       "    .dataframe thead th {\n",
       "        text-align: right;\n",
       "    }\n",
       "</style>\n",
       "<table border=\"1\" class=\"dataframe\">\n",
       "  <thead>\n",
       "    <tr style=\"text-align: right;\">\n",
       "      <th></th>\n",
       "      <th>person_uuid</th>\n",
       "      <th>first_name</th>\n",
       "      <th>last_name</th>\n",
       "      <th>org_uuid</th>\n",
       "      <th>company_name</th>\n",
       "      <th>started_on</th>\n",
       "      <th>ended_on</th>\n",
       "      <th>is_current</th>\n",
       "      <th>title</th>\n",
       "      <th>primary_affiliation_organization</th>\n",
       "      <th>job_uuid</th>\n",
       "    </tr>\n",
       "  </thead>\n",
       "  <tbody>\n",
       "    <tr>\n",
       "      <th>4708</th>\n",
       "      <td>ffdc517c-ca48-4674-9b8b-4635a36b72af</td>\n",
       "      <td>Bobby</td>\n",
       "      <td>Vedral</td>\n",
       "      <td>30b3efdf-6024-804d-ea55-c4d1a8dfc86c</td>\n",
       "      <td>Goldman Sachs</td>\n",
       "      <td>NaN</td>\n",
       "      <td>NaN</td>\n",
       "      <td>1</td>\n",
       "      <td>Partner</td>\n",
       "      <td>NaN</td>\n",
       "      <td>d5e6bc0b-d991-4ecb-8036-f2133927bd19</td>\n",
       "    </tr>\n",
       "    <tr>\n",
       "      <th>4707</th>\n",
       "      <td>ffd575b0-4b1a-ebff-73ba-5dc7c2e9743f</td>\n",
       "      <td>Niki</td>\n",
       "      <td>Pezeshki</td>\n",
       "      <td>735a53c6-a7ba-2434-d97d-b788536da89d</td>\n",
       "      <td>Felicis Ventures</td>\n",
       "      <td>2017-12-01</td>\n",
       "      <td>NaN</td>\n",
       "      <td>1</td>\n",
       "      <td>VP, Investment Team</td>\n",
       "      <td>Felicis Ventures</td>\n",
       "      <td>13273f91-8d67-413b-891d-6960fc6ae1bb</td>\n",
       "    </tr>\n",
       "    <tr>\n",
       "      <th>4706</th>\n",
       "      <td>ffd575b0-4b1a-ebff-73ba-5dc7c2e9743f</td>\n",
       "      <td>Niki</td>\n",
       "      <td>Pezeshki</td>\n",
       "      <td>735a53c6-a7ba-2434-d97d-b788536da89d</td>\n",
       "      <td>Felicis Ventures</td>\n",
       "      <td>NaN</td>\n",
       "      <td>NaN</td>\n",
       "      <td>0</td>\n",
       "      <td>Senior Associate</td>\n",
       "      <td>Felicis Ventures</td>\n",
       "      <td>637a94f2-ef76-fc9d-3863-61a23d56958a</td>\n",
       "    </tr>\n",
       "    <tr>\n",
       "      <th>4705</th>\n",
       "      <td>ff4724a6-1dfc-ca67-52fa-683df09386ce</td>\n",
       "      <td>Rajeev</td>\n",
       "      <td>Gupta</td>\n",
       "      <td>866e4026-e0e4-21e2-e94a-35054a794cab</td>\n",
       "      <td>GeckoLife</td>\n",
       "      <td>2011-06-01</td>\n",
       "      <td>NaN</td>\n",
       "      <td>0</td>\n",
       "      <td>Founder &amp; Co-CEO</td>\n",
       "      <td>Alium Capital</td>\n",
       "      <td>7798a476-37be-d37a-8c5e-7bd8c4f95484</td>\n",
       "    </tr>\n",
       "    <tr>\n",
       "      <th>4704</th>\n",
       "      <td>ff4724a6-1dfc-ca67-52fa-683df09386ce</td>\n",
       "      <td>Rajeev</td>\n",
       "      <td>Gupta</td>\n",
       "      <td>faabd181-1a2e-8494-5454-0d2e066638c7</td>\n",
       "      <td>Tribeca Global Investments</td>\n",
       "      <td>2004-01-01</td>\n",
       "      <td>2010-01-01</td>\n",
       "      <td>0</td>\n",
       "      <td>Director</td>\n",
       "      <td>Alium Capital</td>\n",
       "      <td>950537e0-7a7b-6661-60a2-f095833a42a6</td>\n",
       "    </tr>\n",
       "    <tr>\n",
       "      <th>...</th>\n",
       "      <td>...</td>\n",
       "      <td>...</td>\n",
       "      <td>...</td>\n",
       "      <td>...</td>\n",
       "      <td>...</td>\n",
       "      <td>...</td>\n",
       "      <td>...</td>\n",
       "      <td>...</td>\n",
       "      <td>...</td>\n",
       "      <td>...</td>\n",
       "      <td>...</td>\n",
       "    </tr>\n",
       "    <tr>\n",
       "      <th>1</th>\n",
       "      <td>00c10651-6e26-4d0b-3ec8-6e43c8a7ca9b</td>\n",
       "      <td>Chris</td>\n",
       "      <td>Steiner</td>\n",
       "      <td>4791bb73-2eff-bd6f-bdcd-232f7d2ed445</td>\n",
       "      <td>KPMG</td>\n",
       "      <td>NaN</td>\n",
       "      <td>NaN</td>\n",
       "      <td>0</td>\n",
       "      <td>Auditor</td>\n",
       "      <td>Bypass Mobile</td>\n",
       "      <td>f636e345-614c-cec1-3039-5ae9a044e444</td>\n",
       "    </tr>\n",
       "    <tr>\n",
       "      <th>6</th>\n",
       "      <td>00c10651-6e26-4d0b-3ec8-6e43c8a7ca9b</td>\n",
       "      <td>Chris</td>\n",
       "      <td>Steiner</td>\n",
       "      <td>a8913c96-af74-d845-0fd4-de742f725a4c</td>\n",
       "      <td>Lion Street</td>\n",
       "      <td>2012-10-01</td>\n",
       "      <td>NaN</td>\n",
       "      <td>1</td>\n",
       "      <td>Board of Directors</td>\n",
       "      <td>Bypass Mobile</td>\n",
       "      <td>5b1b2fd0-3ac3-f74c-69fa-8f68cc624bcd</td>\n",
       "    </tr>\n",
       "    <tr>\n",
       "      <th>7</th>\n",
       "      <td>00c10651-6e26-4d0b-3ec8-6e43c8a7ca9b</td>\n",
       "      <td>Chris</td>\n",
       "      <td>Steiner</td>\n",
       "      <td>fe9364b2-e716-74e6-ebc8-4f91cfe6b9f3</td>\n",
       "      <td>Flow Ventures</td>\n",
       "      <td>2009-03-01</td>\n",
       "      <td>NaN</td>\n",
       "      <td>1</td>\n",
       "      <td>Board of Advisors</td>\n",
       "      <td>Bypass Mobile</td>\n",
       "      <td>3ab60ed8-e290-1472-b61a-d5768e9f97f8</td>\n",
       "    </tr>\n",
       "    <tr>\n",
       "      <th>8</th>\n",
       "      <td>00c10651-6e26-4d0b-3ec8-6e43c8a7ca9b</td>\n",
       "      <td>Chris</td>\n",
       "      <td>Steiner</td>\n",
       "      <td>28671c31-7d1e-f758-3ff9-a4bd1e6a19b9</td>\n",
       "      <td>Wind Point Partners</td>\n",
       "      <td>NaN</td>\n",
       "      <td>NaN</td>\n",
       "      <td>0</td>\n",
       "      <td>Summer Associate</td>\n",
       "      <td>Bypass Mobile</td>\n",
       "      <td>0e799088-2043-5e59-881c-5621d2c5cc45</td>\n",
       "    </tr>\n",
       "    <tr>\n",
       "      <th>0</th>\n",
       "      <td>000344fb-6e07-d88b-1608-593f005d38f3</td>\n",
       "      <td>Kevin</td>\n",
       "      <td>Clancy</td>\n",
       "      <td>6f2acf2a-5cbf-adb1-cbb4-5829ab0b08cd</td>\n",
       "      <td>Atlas Venture</td>\n",
       "      <td>NaN</td>\n",
       "      <td>NaN</td>\n",
       "      <td>0</td>\n",
       "      <td>Analyst</td>\n",
       "      <td>NaN</td>\n",
       "      <td>65a5824e-bef8-c98b-c392-733f95089d7a</td>\n",
       "    </tr>\n",
       "  </tbody>\n",
       "</table>\n",
       "<p>4709 rows × 11 columns</p>\n",
       "</div>"
      ],
      "text/plain": [
       "                               person_uuid first_name last_name  \\\n",
       "4708  ffdc517c-ca48-4674-9b8b-4635a36b72af     Bobby     Vedral   \n",
       "4707  ffd575b0-4b1a-ebff-73ba-5dc7c2e9743f       Niki  Pezeshki   \n",
       "4706  ffd575b0-4b1a-ebff-73ba-5dc7c2e9743f       Niki  Pezeshki   \n",
       "4705  ff4724a6-1dfc-ca67-52fa-683df09386ce     Rajeev     Gupta   \n",
       "4704  ff4724a6-1dfc-ca67-52fa-683df09386ce     Rajeev     Gupta   \n",
       "...                                    ...        ...       ...   \n",
       "1     00c10651-6e26-4d0b-3ec8-6e43c8a7ca9b      Chris   Steiner   \n",
       "6     00c10651-6e26-4d0b-3ec8-6e43c8a7ca9b      Chris   Steiner   \n",
       "7     00c10651-6e26-4d0b-3ec8-6e43c8a7ca9b      Chris   Steiner   \n",
       "8     00c10651-6e26-4d0b-3ec8-6e43c8a7ca9b      Chris   Steiner   \n",
       "0     000344fb-6e07-d88b-1608-593f005d38f3      Kevin    Clancy   \n",
       "\n",
       "                                  org_uuid                company_name  \\\n",
       "4708  30b3efdf-6024-804d-ea55-c4d1a8dfc86c               Goldman Sachs   \n",
       "4707  735a53c6-a7ba-2434-d97d-b788536da89d            Felicis Ventures   \n",
       "4706  735a53c6-a7ba-2434-d97d-b788536da89d            Felicis Ventures   \n",
       "4705  866e4026-e0e4-21e2-e94a-35054a794cab                   GeckoLife   \n",
       "4704  faabd181-1a2e-8494-5454-0d2e066638c7  Tribeca Global Investments   \n",
       "...                                    ...                         ...   \n",
       "1     4791bb73-2eff-bd6f-bdcd-232f7d2ed445                        KPMG   \n",
       "6     a8913c96-af74-d845-0fd4-de742f725a4c                 Lion Street   \n",
       "7     fe9364b2-e716-74e6-ebc8-4f91cfe6b9f3               Flow Ventures   \n",
       "8     28671c31-7d1e-f758-3ff9-a4bd1e6a19b9         Wind Point Partners   \n",
       "0     6f2acf2a-5cbf-adb1-cbb4-5829ab0b08cd               Atlas Venture   \n",
       "\n",
       "      started_on    ended_on is_current                title  \\\n",
       "4708         NaN         NaN          1             Partner    \n",
       "4707  2017-12-01         NaN          1  VP, Investment Team   \n",
       "4706         NaN         NaN          0     Senior Associate   \n",
       "4705  2011-06-01         NaN          0     Founder & Co-CEO   \n",
       "4704  2004-01-01  2010-01-01          0             Director   \n",
       "...          ...         ...        ...                  ...   \n",
       "1            NaN         NaN          0              Auditor   \n",
       "6     2012-10-01         NaN          1   Board of Directors   \n",
       "7     2009-03-01         NaN          1    Board of Advisors   \n",
       "8            NaN         NaN          0     Summer Associate   \n",
       "0            NaN         NaN          0              Analyst   \n",
       "\n",
       "     primary_affiliation_organization                              job_uuid  \n",
       "4708                              NaN  d5e6bc0b-d991-4ecb-8036-f2133927bd19  \n",
       "4707                 Felicis Ventures  13273f91-8d67-413b-891d-6960fc6ae1bb  \n",
       "4706                 Felicis Ventures  637a94f2-ef76-fc9d-3863-61a23d56958a  \n",
       "4705                    Alium Capital  7798a476-37be-d37a-8c5e-7bd8c4f95484  \n",
       "4704                    Alium Capital  950537e0-7a7b-6661-60a2-f095833a42a6  \n",
       "...                               ...                                   ...  \n",
       "1                       Bypass Mobile  f636e345-614c-cec1-3039-5ae9a044e444  \n",
       "6                       Bypass Mobile  5b1b2fd0-3ac3-f74c-69fa-8f68cc624bcd  \n",
       "7                       Bypass Mobile  3ab60ed8-e290-1472-b61a-d5768e9f97f8  \n",
       "8                       Bypass Mobile  0e799088-2043-5e59-881c-5621d2c5cc45  \n",
       "0                                 NaN  65a5824e-bef8-c98b-c392-733f95089d7a  \n",
       "\n",
       "[4709 rows x 11 columns]"
      ]
     },
     "execution_count": 27,
     "metadata": {},
     "output_type": "execute_result"
    }
   ],
   "source": [
    "fund_jobs = fund_jobs.loc[fund_jobs['linkedin_url'] == '-']\n",
    "fund_jobs = fund_jobs.merge(jobs, how = 'left', on = 'person_uuid')\n",
    "fund_jobs = fund_jobs.merge(people[['uuid', 'primary_affiliation_organization']], how = 'left', left_on = 'person_uuid', right_on = 'uuid')\n",
    "fund_jobs = fund_jobs.merge(organizations[['company_name', 'uuid']], how = 'left', left_on = 'org_uuid', right_on = 'uuid')\n",
    "fund_jobs = fund_jobs[['person_uuid', 'first_name', 'last_name', 'org_uuid', 'company_name', 'started_on', 'ended_on', 'is_current', 'title', 'primary_affiliation_organization', 'job_uuid']]\n",
    "fund_jobs = fund_jobs.drop_duplicates().reset_index(drop=True)\n",
    "fund_jobs.loc[fund_jobs['is_current'] == 'f', 'is_current'] = 0\n",
    "fund_jobs.loc[fund_jobs['is_current'] == 't', 'is_current'] = 1\n",
    "fund_jobs = fund_jobs.sort_values(by = ['person_uuid'], ascending = False)\n",
    "fund_jobs"
   ]
  },
  {
   "cell_type": "markdown",
   "metadata": {},
   "source": [
    "Итак, это список всех работ людей, для которых нет ссылки на LinkedIn"
   ]
  },
  {
   "cell_type": "markdown",
   "metadata": {},
   "source": [
    "Шаг 1: берем все чистые, с 1 местом работы"
   ]
  },
  {
   "cell_type": "code",
   "execution_count": 28,
   "metadata": {},
   "outputs": [
    {
     "data": {
      "text/plain": [
       "383"
      ]
     },
     "execution_count": 28,
     "metadata": {},
     "output_type": "execute_result"
    }
   ],
   "source": [
    "a = fund_jobs.groupby(['person_uuid']).size().reset_index(name = 'number_of_jobs')\n",
    "b = a.loc[a['number_of_jobs'] == 1]\n",
    "fund_jobs_1 = fund_jobs.loc[fund_jobs['person_uuid'].isin(b['person_uuid'])]\n",
    "len(fund_jobs_1)"
   ]
  },
  {
   "cell_type": "markdown",
   "metadata": {},
   "source": [
    "Шаг 2: смотрим всех остальных. Из них смотрим на актуальность работы (поле is_current)"
   ]
  },
  {
   "cell_type": "code",
   "execution_count": 29,
   "metadata": {},
   "outputs": [
    {
     "data": {
      "text/plain": [
       "{0, 1, 2, 3, 4, 5, 6, 7, 8, 9, 10, 11, 12, 13, 14, 15, 16, 17, 18, 19, 22}"
      ]
     },
     "execution_count": 29,
     "metadata": {},
     "output_type": "execute_result"
    }
   ],
   "source": [
    "b = a.loc[a['number_of_jobs'] > 1]\n",
    "c = fund_jobs.loc[fund_jobs['person_uuid'].isin(b['person_uuid'])].sort_values(by = ['person_uuid'], ascending = False)\n",
    "c = c.groupby(['person_uuid'])['is_current'].agg(['sum']).reset_index()\n",
    "set(c['sum'].values)"
   ]
  },
  {
   "cell_type": "markdown",
   "metadata": {},
   "source": [
    "То есть существует три варианта:  \n",
    "1 - люди с одной и только одной актуальной работой (берем сразу эти айдишники с условием is_current==1)  \n",
    "0 - все должности неактуальны, надо смотреть вручную по годам и по смыслу  \n",
    "более 1 - актуальны несколько должностей, надо смотреть по логике вручную"
   ]
  },
  {
   "cell_type": "markdown",
   "metadata": {},
   "source": [
    "Это строчки с 1 актуальной работой"
   ]
  },
  {
   "cell_type": "code",
   "execution_count": 30,
   "metadata": {},
   "outputs": [
    {
     "data": {
      "text/plain": [
       "208"
      ]
     },
     "execution_count": 30,
     "metadata": {},
     "output_type": "execute_result"
    }
   ],
   "source": [
    "d = c.loc[c['sum'] == 1]\n",
    "fund_jobs_2 = fund_jobs.loc[(fund_jobs['person_uuid'].isin(d['person_uuid'])) & (fund_jobs['is_current'] == 1)]\n",
    "fund_jobs_2 = fund_jobs_2.sort_values(by = ['person_uuid'], ascending = False)\n",
    "len(fund_jobs_2)"
   ]
  },
  {
   "cell_type": "markdown",
   "metadata": {},
   "source": [
    "Теперь строчки с 0 актуальных работ у людей, у которых есть четкие даты начала"
   ]
  },
  {
   "cell_type": "code",
   "execution_count": 31,
   "metadata": {},
   "outputs": [
    {
     "data": {
      "text/plain": [
       "14"
      ]
     },
     "execution_count": 31,
     "metadata": {},
     "output_type": "execute_result"
    }
   ],
   "source": [
    "d = c.loc[c['sum'] == 0]\n",
    "fund_jobs_3 = fund_jobs.loc[fund_jobs['person_uuid'].isin(d['person_uuid'])]\n",
    "fund_jobs_3 = fund_jobs_3.sort_values(by = ['person_uuid'], ascending = False)\n",
    "w = [np.nan]\n",
    "fund_jobs_3_1 = fund_jobs_3.loc[~fund_jobs_3['started_on'].isin(w)]\n",
    "e = set(fund_jobs_3_1['person_uuid'].values)\n",
    "fund_jobs_3_1['started_on'] = pd.to_datetime(fund_jobs_3_1['started_on'])\n",
    "fund_jobs_3_1 = fund_jobs_3_1.loc[fund_jobs_3_1.groupby(['person_uuid'])['started_on'].idxmax()]\n",
    "len(fund_jobs_3_1)"
   ]
  },
  {
   "cell_type": "code",
   "execution_count": 32,
   "metadata": {},
   "outputs": [
    {
     "data": {
      "text/plain": [
       "0"
      ]
     },
     "execution_count": 32,
     "metadata": {},
     "output_type": "execute_result"
    }
   ],
   "source": [
    "fund_jobs_3_2 = fund_jobs_3.loc[~fund_jobs_3['person_uuid'].isin(e)]\n",
    "fund_jobs_3_2_1 = fund_jobs_3_2.loc[fund_jobs_3_2['company_name'] == fund_jobs_3_2['primary_affiliation_organization']]\n",
    "q = fund_jobs_3_2_1.groupby(['person_uuid']).size().reset_index(name = 'count')\n",
    "w = q.loc[q['count'] == 1]\n",
    "w = set(w['person_uuid'].values)\n",
    "fund_jobs_3_2_1 = fund_jobs_3_2_1.loc[fund_jobs_3_2_1['person_uuid'].isin(w)]\n",
    "len(fund_jobs_3_2_1)"
   ]
  },
  {
   "cell_type": "markdown",
   "metadata": {},
   "source": [
    "Теперь остальные неактуальные должности, но с пропусками в датах. Выбраны вручную:"
   ]
  },
  {
   "cell_type": "code",
   "execution_count": 33,
   "metadata": {},
   "outputs": [],
   "source": [
    "fund_jobs_3_2_2 = fund_jobs_3_2.loc[~fund_jobs_3_2['person_uuid'].isin(w)]\n",
    "#fund_jobs_3_2_2.to_csv('fund_jobs_3_2_2.csv')"
   ]
  },
  {
   "cell_type": "code",
   "execution_count": 34,
   "metadata": {},
   "outputs": [
    {
     "data": {
      "text/plain": [
       "17"
      ]
     },
     "execution_count": 34,
     "metadata": {},
     "output_type": "execute_result"
    }
   ],
   "source": [
    "q = pd.read_csv('./manually_selected_data/manual3.csv')\n",
    "fund_jobs_3_2_2 = fund_jobs_3_2_2[fund_jobs_3_2_2['job_uuid'].isin(q['job_uuid'])]\n",
    "len(fund_jobs_3_2_2)"
   ]
  },
  {
   "cell_type": "markdown",
   "metadata": {},
   "source": [
    "Теперь те, у кого несколько активных должностей. Сначала - с четкими датами, то есть по старшинству старта должности:"
   ]
  },
  {
   "cell_type": "code",
   "execution_count": 35,
   "metadata": {},
   "outputs": [
    {
     "data": {
      "text/plain": [
       "257"
      ]
     },
     "execution_count": 35,
     "metadata": {},
     "output_type": "execute_result"
    }
   ],
   "source": [
    "d = c.loc[c['sum'] > 1]\n",
    "fund_jobs_4 = fund_jobs.loc[(fund_jobs['person_uuid'].isin(d['person_uuid'])) & (fund_jobs['is_current'] == 1)]\n",
    "fund_jobs_4 = fund_jobs_4.sort_values(by = ['person_uuid'], ascending = False)\n",
    "w = [np.nan]\n",
    "fund_jobs_4_1 = fund_jobs_4.loc[~fund_jobs_4['started_on'].isin(w)]\n",
    "e = set(fund_jobs_4_1['person_uuid'].values)\n",
    "fund_jobs_4_1['started_on'] = pd.to_datetime(fund_jobs_4_1['started_on'])\n",
    "fund_jobs_4_1 = fund_jobs_4_1.loc[fund_jobs_4_1.groupby(['person_uuid'])['started_on'].idxmax()]\n",
    "len(fund_jobs_4_1)"
   ]
  },
  {
   "cell_type": "markdown",
   "metadata": {},
   "source": [
    "Остальных выбрали вручную:"
   ]
  },
  {
   "cell_type": "code",
   "execution_count": 36,
   "metadata": {},
   "outputs": [
    {
     "data": {
      "text/plain": [
       "178"
      ]
     },
     "execution_count": 36,
     "metadata": {},
     "output_type": "execute_result"
    }
   ],
   "source": [
    "fund_jobs_4_2 = fund_jobs_4.loc[~fund_jobs_4['person_uuid'].isin(e)]\n",
    "fund_jobs_4_2_1 = fund_jobs_4_2.loc[fund_jobs_4_2['company_name'] == fund_jobs_4_2['primary_affiliation_organization']]\n",
    "q = fund_jobs_4_2_1.groupby(['person_uuid']).size().reset_index(name = 'count')\n",
    "w = q.loc[q['count'] == 1]\n",
    "w = set(w['person_uuid'].values)\n",
    "fund_jobs_4_2_1 = fund_jobs_4_2_1.loc[fund_jobs_4_2_1['person_uuid'].isin(w)]\n",
    "len(fund_jobs_4_2_1)"
   ]
  },
  {
   "cell_type": "code",
   "execution_count": 37,
   "metadata": {},
   "outputs": [],
   "source": [
    "fund_jobs_4_2_2 = fund_jobs_4_2.loc[~fund_jobs_4_2['person_uuid'].isin(w)]\n",
    "#fund_jobs_4_2_2.to_csv('fund_jobs_4_2_2.csv')"
   ]
  },
  {
   "cell_type": "code",
   "execution_count": 38,
   "metadata": {},
   "outputs": [
    {
     "data": {
      "text/plain": [
       "14"
      ]
     },
     "execution_count": 38,
     "metadata": {},
     "output_type": "execute_result"
    }
   ],
   "source": [
    "q = pd.read_csv('./manually_selected_data/manual4.csv')\n",
    "fund_jobs_4_2_2 = fund_jobs_4_2_2[fund_jobs_4_2_2['job_uuid'].isin(q['job_uuid'])]\n",
    "len(fund_jobs_4_2_2)"
   ]
  },
  {
   "cell_type": "markdown",
   "metadata": {},
   "source": [
    "Сконкатенируем все датасеты для получения общего с уникальными людьми и наиболее актуальными местами работы:"
   ]
  },
  {
   "cell_type": "code",
   "execution_count": 39,
   "metadata": {},
   "outputs": [
    {
     "data": {
      "text/html": [
       "<div>\n",
       "<style scoped>\n",
       "    .dataframe tbody tr th:only-of-type {\n",
       "        vertical-align: middle;\n",
       "    }\n",
       "\n",
       "    .dataframe tbody tr th {\n",
       "        vertical-align: top;\n",
       "    }\n",
       "\n",
       "    .dataframe thead th {\n",
       "        text-align: right;\n",
       "    }\n",
       "</style>\n",
       "<table border=\"1\" class=\"dataframe\">\n",
       "  <thead>\n",
       "    <tr style=\"text-align: right;\">\n",
       "      <th></th>\n",
       "      <th>person_uuid</th>\n",
       "      <th>first_name</th>\n",
       "      <th>last_name</th>\n",
       "      <th>org_uuid</th>\n",
       "      <th>company_name</th>\n",
       "      <th>started_on</th>\n",
       "      <th>ended_on</th>\n",
       "      <th>is_current</th>\n",
       "      <th>title</th>\n",
       "      <th>primary_affiliation_organization</th>\n",
       "      <th>job_uuid</th>\n",
       "    </tr>\n",
       "  </thead>\n",
       "  <tbody>\n",
       "    <tr>\n",
       "      <th>0</th>\n",
       "      <td>ffdc517c-ca48-4674-9b8b-4635a36b72af</td>\n",
       "      <td>Bobby</td>\n",
       "      <td>Vedral</td>\n",
       "      <td>30b3efdf-6024-804d-ea55-c4d1a8dfc86c</td>\n",
       "      <td>Goldman Sachs</td>\n",
       "      <td>NaN</td>\n",
       "      <td>NaN</td>\n",
       "      <td>1</td>\n",
       "      <td>Partner</td>\n",
       "      <td>NaN</td>\n",
       "      <td>d5e6bc0b-d991-4ecb-8036-f2133927bd19</td>\n",
       "    </tr>\n",
       "    <tr>\n",
       "      <th>1</th>\n",
       "      <td>fee6ccf9-a7fa-86ce-31c8-829e60515601</td>\n",
       "      <td>Eric</td>\n",
       "      <td>Soller</td>\n",
       "      <td>5a79290b-01b0-156d-8a54-214a9706b818</td>\n",
       "      <td>Versant Ventures</td>\n",
       "      <td>2016-08-01</td>\n",
       "      <td>NaN</td>\n",
       "      <td>1</td>\n",
       "      <td>Entrepreneur in Residence</td>\n",
       "      <td>Versant Ventures</td>\n",
       "      <td>cc1b5446-8f34-4bfc-c364-6b079eae6f90</td>\n",
       "    </tr>\n",
       "    <tr>\n",
       "      <th>2</th>\n",
       "      <td>fec2a847-aff7-491f-adad-c9a03d13c20e</td>\n",
       "      <td>Kamil</td>\n",
       "      <td>Choudhury</td>\n",
       "      <td>30b3efdf-6024-804d-ea55-c4d1a8dfc86c</td>\n",
       "      <td>Goldman Sachs</td>\n",
       "      <td>NaN</td>\n",
       "      <td>NaN</td>\n",
       "      <td>0</td>\n",
       "      <td>Vice President</td>\n",
       "      <td>NaN</td>\n",
       "      <td>418e2e87-0ddc-4281-8092-58835cb39b66</td>\n",
       "    </tr>\n",
       "    <tr>\n",
       "      <th>3</th>\n",
       "      <td>fd6f387b-6cc3-2c06-989f-0be297256835</td>\n",
       "      <td>Philip</td>\n",
       "      <td>Austin</td>\n",
       "      <td>6f2acf2a-5cbf-adb1-cbb4-5829ab0b08cd</td>\n",
       "      <td>Atlas Venture</td>\n",
       "      <td>NaN</td>\n",
       "      <td>NaN</td>\n",
       "      <td>0</td>\n",
       "      <td>Analyst</td>\n",
       "      <td>NaN</td>\n",
       "      <td>0432e6ea-c120-a309-cf41-b00bad643f02</td>\n",
       "    </tr>\n",
       "    <tr>\n",
       "      <th>4</th>\n",
       "      <td>fd2dde28-6658-6471-2b69-aec37dbe0d14</td>\n",
       "      <td>Jeff</td>\n",
       "      <td>Hennion</td>\n",
       "      <td>63c7df51-628a-6068-ad71-a96bf4993707</td>\n",
       "      <td>Compound</td>\n",
       "      <td>NaN</td>\n",
       "      <td>NaN</td>\n",
       "      <td>1</td>\n",
       "      <td>Advisor</td>\n",
       "      <td>Compound</td>\n",
       "      <td>deb8f97b-1668-39a9-2e97-f60773468806</td>\n",
       "    </tr>\n",
       "    <tr>\n",
       "      <th>...</th>\n",
       "      <td>...</td>\n",
       "      <td>...</td>\n",
       "      <td>...</td>\n",
       "      <td>...</td>\n",
       "      <td>...</td>\n",
       "      <td>...</td>\n",
       "      <td>...</td>\n",
       "      <td>...</td>\n",
       "      <td>...</td>\n",
       "      <td>...</td>\n",
       "      <td>...</td>\n",
       "    </tr>\n",
       "    <tr>\n",
       "      <th>1066</th>\n",
       "      <td>59288a1d-f3c4-7fd6-93b9-d8a15163ab41</td>\n",
       "      <td>Gary</td>\n",
       "      <td>Cohn</td>\n",
       "      <td>30b3efdf-6024-804d-ea55-c4d1a8dfc86c</td>\n",
       "      <td>Goldman Sachs</td>\n",
       "      <td>NaN</td>\n",
       "      <td>NaN</td>\n",
       "      <td>1</td>\n",
       "      <td>President, Chief Operating Officer</td>\n",
       "      <td>Goldman Sachs</td>\n",
       "      <td>aa055517-02c7-2397-1a14-b949bd3adf4d</td>\n",
       "    </tr>\n",
       "    <tr>\n",
       "      <th>1067</th>\n",
       "      <td>58474799-9045-a421-4ae6-258733c74f5a</td>\n",
       "      <td>Jeffrey</td>\n",
       "      <td>Miller</td>\n",
       "      <td>f6deb5eb-2db4-f2c6-8c70-e59642653d90</td>\n",
       "      <td>Movaris</td>\n",
       "      <td>NaN</td>\n",
       "      <td>NaN</td>\n",
       "      <td>1</td>\n",
       "      <td>Board Memner</td>\n",
       "      <td>Movaris</td>\n",
       "      <td>3f20ccff-d518-6664-b2e3-af0d4b5b2a7b</td>\n",
       "    </tr>\n",
       "    <tr>\n",
       "      <th>1068</th>\n",
       "      <td>32050356-f4e1-431b-bf84-55e011d58df3</td>\n",
       "      <td>Bill</td>\n",
       "      <td>Coughran</td>\n",
       "      <td>0c867fde-2b9a-df10-fdb9-66b74f355f91</td>\n",
       "      <td>Sequoia Capital</td>\n",
       "      <td>NaN</td>\n",
       "      <td>NaN</td>\n",
       "      <td>1</td>\n",
       "      <td>Partner</td>\n",
       "      <td>NaN</td>\n",
       "      <td>e718d15d-c025-4a91-8a5c-0a1da728b574</td>\n",
       "    </tr>\n",
       "    <tr>\n",
       "      <th>1069</th>\n",
       "      <td>2ca6ff7d-006c-fdb8-ab41-9d4e21fe62d4</td>\n",
       "      <td>Arnold</td>\n",
       "      <td>Levine</td>\n",
       "      <td>77fafa9b-faec-1193-4f12-a1ae67319f8a</td>\n",
       "      <td>PMV Pharmaceutcals</td>\n",
       "      <td>NaN</td>\n",
       "      <td>NaN</td>\n",
       "      <td>1</td>\n",
       "      <td>Co-Founder</td>\n",
       "      <td>PMV Pharmaceutcals</td>\n",
       "      <td>0ff60a19-edee-6dc9-04c2-2ddfa972105d</td>\n",
       "    </tr>\n",
       "    <tr>\n",
       "      <th>1070</th>\n",
       "      <td>197a318d-bb10-0d08-5b31-e99e6ee62909</td>\n",
       "      <td>Edward</td>\n",
       "      <td>Bernard</td>\n",
       "      <td>6d0363b8-edcf-07d2-dc50-cc15adda3ede</td>\n",
       "      <td>T. Rowe Price</td>\n",
       "      <td>NaN</td>\n",
       "      <td>NaN</td>\n",
       "      <td>1</td>\n",
       "      <td>Board of Directors</td>\n",
       "      <td>T. Rowe Price</td>\n",
       "      <td>eba2340f-ed62-a171-7c16-fd5a5bec00bc</td>\n",
       "    </tr>\n",
       "  </tbody>\n",
       "</table>\n",
       "<p>1071 rows × 11 columns</p>\n",
       "</div>"
      ],
      "text/plain": [
       "                               person_uuid first_name  last_name  \\\n",
       "0     ffdc517c-ca48-4674-9b8b-4635a36b72af     Bobby      Vedral   \n",
       "1     fee6ccf9-a7fa-86ce-31c8-829e60515601       Eric     Soller   \n",
       "2     fec2a847-aff7-491f-adad-c9a03d13c20e      Kamil  Choudhury   \n",
       "3     fd6f387b-6cc3-2c06-989f-0be297256835     Philip     Austin   \n",
       "4     fd2dde28-6658-6471-2b69-aec37dbe0d14       Jeff    Hennion   \n",
       "...                                    ...        ...        ...   \n",
       "1066  59288a1d-f3c4-7fd6-93b9-d8a15163ab41       Gary       Cohn   \n",
       "1067  58474799-9045-a421-4ae6-258733c74f5a    Jeffrey     Miller   \n",
       "1068  32050356-f4e1-431b-bf84-55e011d58df3     Bill     Coughran   \n",
       "1069  2ca6ff7d-006c-fdb8-ab41-9d4e21fe62d4     Arnold     Levine   \n",
       "1070  197a318d-bb10-0d08-5b31-e99e6ee62909     Edward    Bernard   \n",
       "\n",
       "                                  org_uuid        company_name  started_on  \\\n",
       "0     30b3efdf-6024-804d-ea55-c4d1a8dfc86c       Goldman Sachs         NaN   \n",
       "1     5a79290b-01b0-156d-8a54-214a9706b818    Versant Ventures  2016-08-01   \n",
       "2     30b3efdf-6024-804d-ea55-c4d1a8dfc86c       Goldman Sachs         NaN   \n",
       "3     6f2acf2a-5cbf-adb1-cbb4-5829ab0b08cd       Atlas Venture         NaN   \n",
       "4     63c7df51-628a-6068-ad71-a96bf4993707            Compound         NaN   \n",
       "...                                    ...                 ...         ...   \n",
       "1066  30b3efdf-6024-804d-ea55-c4d1a8dfc86c       Goldman Sachs         NaN   \n",
       "1067  f6deb5eb-2db4-f2c6-8c70-e59642653d90             Movaris         NaN   \n",
       "1068  0c867fde-2b9a-df10-fdb9-66b74f355f91     Sequoia Capital         NaN   \n",
       "1069  77fafa9b-faec-1193-4f12-a1ae67319f8a  PMV Pharmaceutcals         NaN   \n",
       "1070  6d0363b8-edcf-07d2-dc50-cc15adda3ede       T. Rowe Price         NaN   \n",
       "\n",
       "     ended_on is_current                               title  \\\n",
       "0         NaN          1                            Partner    \n",
       "1         NaN          1           Entrepreneur in Residence   \n",
       "2         NaN          0                      Vice President   \n",
       "3         NaN          0                             Analyst   \n",
       "4         NaN          1                             Advisor   \n",
       "...       ...        ...                                 ...   \n",
       "1066      NaN          1  President, Chief Operating Officer   \n",
       "1067      NaN          1                        Board Memner   \n",
       "1068      NaN          1                             Partner   \n",
       "1069      NaN          1                          Co-Founder   \n",
       "1070      NaN          1                  Board of Directors   \n",
       "\n",
       "     primary_affiliation_organization                              job_uuid  \n",
       "0                                 NaN  d5e6bc0b-d991-4ecb-8036-f2133927bd19  \n",
       "1                    Versant Ventures  cc1b5446-8f34-4bfc-c364-6b079eae6f90  \n",
       "2                                 NaN  418e2e87-0ddc-4281-8092-58835cb39b66  \n",
       "3                                 NaN  0432e6ea-c120-a309-cf41-b00bad643f02  \n",
       "4                            Compound  deb8f97b-1668-39a9-2e97-f60773468806  \n",
       "...                               ...                                   ...  \n",
       "1066                    Goldman Sachs  aa055517-02c7-2397-1a14-b949bd3adf4d  \n",
       "1067                          Movaris  3f20ccff-d518-6664-b2e3-af0d4b5b2a7b  \n",
       "1068                              NaN  e718d15d-c025-4a91-8a5c-0a1da728b574  \n",
       "1069               PMV Pharmaceutcals  0ff60a19-edee-6dc9-04c2-2ddfa972105d  \n",
       "1070                    T. Rowe Price  eba2340f-ed62-a171-7c16-fd5a5bec00bc  \n",
       "\n",
       "[1071 rows x 11 columns]"
      ]
     },
     "execution_count": 39,
     "metadata": {},
     "output_type": "execute_result"
    }
   ],
   "source": [
    "nonli_fund_jobs = pd.concat([fund_jobs_1, fund_jobs_2, fund_jobs_3_1, fund_jobs_3_2_1, fund_jobs_3_2_2, fund_jobs_4_1, fund_jobs_4_2_1, fund_jobs_4_2_2]).drop_duplicates().reset_index(drop=True)\n",
    "nonli_fund_jobs"
   ]
  },
  {
   "cell_type": "code",
   "execution_count": 40,
   "metadata": {},
   "outputs": [
    {
     "data": {
      "text/html": [
       "<div>\n",
       "<style scoped>\n",
       "    .dataframe tbody tr th:only-of-type {\n",
       "        vertical-align: middle;\n",
       "    }\n",
       "\n",
       "    .dataframe tbody tr th {\n",
       "        vertical-align: top;\n",
       "    }\n",
       "\n",
       "    .dataframe thead th {\n",
       "        text-align: right;\n",
       "    }\n",
       "</style>\n",
       "<table border=\"1\" class=\"dataframe\">\n",
       "  <thead>\n",
       "    <tr style=\"text-align: right;\">\n",
       "      <th></th>\n",
       "      <th>person_uuid</th>\n",
       "      <th>number_of_people</th>\n",
       "    </tr>\n",
       "  </thead>\n",
       "  <tbody>\n",
       "    <tr>\n",
       "      <th>0</th>\n",
       "      <td>000344fb-6e07-d88b-1608-593f005d38f3</td>\n",
       "      <td>1</td>\n",
       "    </tr>\n",
       "    <tr>\n",
       "      <th>1</th>\n",
       "      <td>00c10651-6e26-4d0b-3ec8-6e43c8a7ca9b</td>\n",
       "      <td>8</td>\n",
       "    </tr>\n",
       "    <tr>\n",
       "      <th>2</th>\n",
       "      <td>01405a61-2856-e72b-fc0c-3e7ffbe0eaa1</td>\n",
       "      <td>14</td>\n",
       "    </tr>\n",
       "    <tr>\n",
       "      <th>3</th>\n",
       "      <td>01632a94-81a1-9ea5-94ae-d1d94450063a</td>\n",
       "      <td>2</td>\n",
       "    </tr>\n",
       "    <tr>\n",
       "      <th>4</th>\n",
       "      <td>018a7ff6-ab10-8e97-5740-a2e5b86a4bbf</td>\n",
       "      <td>1</td>\n",
       "    </tr>\n",
       "    <tr>\n",
       "      <th>...</th>\n",
       "      <td>...</td>\n",
       "      <td>...</td>\n",
       "    </tr>\n",
       "    <tr>\n",
       "      <th>1066</th>\n",
       "      <td>fee6ccf9-a7fa-86ce-31c8-829e60515601</td>\n",
       "      <td>1</td>\n",
       "    </tr>\n",
       "    <tr>\n",
       "      <th>1067</th>\n",
       "      <td>fef530ad-6928-b802-4f0d-327212dac743</td>\n",
       "      <td>8</td>\n",
       "    </tr>\n",
       "    <tr>\n",
       "      <th>1068</th>\n",
       "      <td>ff4724a6-1dfc-ca67-52fa-683df09386ce</td>\n",
       "      <td>6</td>\n",
       "    </tr>\n",
       "    <tr>\n",
       "      <th>1069</th>\n",
       "      <td>ffd575b0-4b1a-ebff-73ba-5dc7c2e9743f</td>\n",
       "      <td>2</td>\n",
       "    </tr>\n",
       "    <tr>\n",
       "      <th>1070</th>\n",
       "      <td>ffdc517c-ca48-4674-9b8b-4635a36b72af</td>\n",
       "      <td>1</td>\n",
       "    </tr>\n",
       "  </tbody>\n",
       "</table>\n",
       "<p>1071 rows × 2 columns</p>\n",
       "</div>"
      ],
      "text/plain": [
       "                               person_uuid  number_of_people\n",
       "0     000344fb-6e07-d88b-1608-593f005d38f3                 1\n",
       "1     00c10651-6e26-4d0b-3ec8-6e43c8a7ca9b                 8\n",
       "2     01405a61-2856-e72b-fc0c-3e7ffbe0eaa1                14\n",
       "3     01632a94-81a1-9ea5-94ae-d1d94450063a                 2\n",
       "4     018a7ff6-ab10-8e97-5740-a2e5b86a4bbf                 1\n",
       "...                                    ...               ...\n",
       "1066  fee6ccf9-a7fa-86ce-31c8-829e60515601                 1\n",
       "1067  fef530ad-6928-b802-4f0d-327212dac743                 8\n",
       "1068  ff4724a6-1dfc-ca67-52fa-683df09386ce                 6\n",
       "1069  ffd575b0-4b1a-ebff-73ba-5dc7c2e9743f                 2\n",
       "1070  ffdc517c-ca48-4674-9b8b-4635a36b72af                 1\n",
       "\n",
       "[1071 rows x 2 columns]"
      ]
     },
     "execution_count": 40,
     "metadata": {},
     "output_type": "execute_result"
    }
   ],
   "source": [
    "fund_jobs.groupby(['person_uuid']).size().reset_index(name = 'number_of_people')"
   ]
  },
  {
   "cell_type": "markdown",
   "metadata": {},
   "source": [
    "Количество уникальных людей сошлось!"
   ]
  },
  {
   "cell_type": "markdown",
   "metadata": {},
   "source": [
    "### Посмотрим списки CEO и прочих"
   ]
  },
  {
   "cell_type": "code",
   "execution_count": 41,
   "metadata": {},
   "outputs": [
    {
     "data": {
      "text/plain": [
       "12627"
      ]
     },
     "execution_count": 41,
     "metadata": {},
     "output_type": "execute_result"
    }
   ],
   "source": [
    "startup_jobs = jobs.loc[jobs['org_uuid'].isin(company_list['company_uuid'])]\n",
    "startup_employee = set(startup_jobs['person_uuid'].values)\n",
    "len(startup_employee)"
   ]
  },
  {
   "cell_type": "markdown",
   "metadata": {},
   "source": [
    "Это все люди, относящиеся к выбранным стартапам. "
   ]
  },
  {
   "cell_type": "code",
   "execution_count": 42,
   "metadata": {},
   "outputs": [
    {
     "data": {
      "text/plain": [
       "14615"
      ]
     },
     "execution_count": 42,
     "metadata": {},
     "output_type": "execute_result"
    }
   ],
   "source": [
    "len(startup_jobs)"
   ]
  },
  {
   "cell_type": "markdown",
   "metadata": {},
   "source": [
    "Столько всего позиций/должности, относящиеся к выбранным стартапам"
   ]
  },
  {
   "cell_type": "code",
   "execution_count": 43,
   "metadata": {},
   "outputs": [
    {
     "data": {
      "text/plain": [
       "5764"
      ]
     },
     "execution_count": 43,
     "metadata": {},
     "output_type": "execute_result"
    }
   ],
   "source": [
    "len(set(startup_jobs['title'].values))"
   ]
  },
  {
   "cell_type": "markdown",
   "metadata": {},
   "source": [
    "Всего у нас 11649 (было 5785) уникальных должностей. Выберем из них самые важные, относящиеся к руководству компании"
   ]
  },
  {
   "cell_type": "code",
   "execution_count": 44,
   "metadata": {},
   "outputs": [
    {
     "data": {
      "text/html": [
       "<div>\n",
       "<style scoped>\n",
       "    .dataframe tbody tr th:only-of-type {\n",
       "        vertical-align: middle;\n",
       "    }\n",
       "\n",
       "    .dataframe tbody tr th {\n",
       "        vertical-align: top;\n",
       "    }\n",
       "\n",
       "    .dataframe thead th {\n",
       "        text-align: right;\n",
       "    }\n",
       "</style>\n",
       "<table border=\"1\" class=\"dataframe\">\n",
       "  <thead>\n",
       "    <tr style=\"text-align: right;\">\n",
       "      <th></th>\n",
       "      <th>selected_titles</th>\n",
       "    </tr>\n",
       "  </thead>\n",
       "  <tbody>\n",
       "    <tr>\n",
       "      <th>0</th>\n",
       "      <td>Co-Led Syndicated Investments</td>\n",
       "    </tr>\n",
       "    <tr>\n",
       "      <th>1</th>\n",
       "      <td>Chief Science and Technology Officer</td>\n",
       "    </tr>\n",
       "    <tr>\n",
       "      <th>2</th>\n",
       "      <td>Director of Engineering</td>\n",
       "    </tr>\n",
       "    <tr>\n",
       "      <th>3</th>\n",
       "      <td>Chief Product and Technology Officer</td>\n",
       "    </tr>\n",
       "    <tr>\n",
       "      <th>4</th>\n",
       "      <td>Director of Finance</td>\n",
       "    </tr>\n",
       "    <tr>\n",
       "      <th>...</th>\n",
       "      <td>...</td>\n",
       "    </tr>\n",
       "    <tr>\n",
       "      <th>1100</th>\n",
       "      <td>VP, Finance / CFO</td>\n",
       "    </tr>\n",
       "    <tr>\n",
       "      <th>1101</th>\n",
       "      <td>VP, Product Management and Co-founder</td>\n",
       "    </tr>\n",
       "    <tr>\n",
       "      <th>1102</th>\n",
       "      <td>VP, R&amp;D &amp; Co - Founder</td>\n",
       "    </tr>\n",
       "    <tr>\n",
       "      <th>1103</th>\n",
       "      <td>VP, Technology</td>\n",
       "    </tr>\n",
       "    <tr>\n",
       "      <th>1104</th>\n",
       "      <td>VP,Engineering</td>\n",
       "    </tr>\n",
       "  </tbody>\n",
       "</table>\n",
       "<p>1105 rows × 1 columns</p>\n",
       "</div>"
      ],
      "text/plain": [
       "                            selected_titles\n",
       "0             Co-Led Syndicated Investments\n",
       "1      Chief Science and Technology Officer\n",
       "2                   Director of Engineering\n",
       "3      Chief Product and Technology Officer\n",
       "4                       Director of Finance\n",
       "...                                     ...\n",
       "1100                      VP, Finance / CFO\n",
       "1101  VP, Product Management and Co-founder\n",
       "1102                 VP, R&D & Co - Founder\n",
       "1103                         VP, Technology\n",
       "1104                         VP,Engineering\n",
       "\n",
       "[1105 rows x 1 columns]"
      ]
     },
     "execution_count": 44,
     "metadata": {},
     "output_type": "execute_result"
    }
   ],
   "source": [
    "selected_startup_jobs = pd.read_excel('./manually_selected_data/selected_startup_jobs.xlsx')\n",
    "selected_startup_jobs"
   ]
  },
  {
   "cell_type": "code",
   "execution_count": 45,
   "metadata": {
    "scrolled": false
   },
   "outputs": [
    {
     "data": {
      "text/html": [
       "<div>\n",
       "<style scoped>\n",
       "    .dataframe tbody tr th:only-of-type {\n",
       "        vertical-align: middle;\n",
       "    }\n",
       "\n",
       "    .dataframe tbody tr th {\n",
       "        vertical-align: top;\n",
       "    }\n",
       "\n",
       "    .dataframe thead th {\n",
       "        text-align: right;\n",
       "    }\n",
       "</style>\n",
       "<table border=\"1\" class=\"dataframe\">\n",
       "  <thead>\n",
       "    <tr style=\"text-align: right;\">\n",
       "      <th></th>\n",
       "      <th>person_uuid</th>\n",
       "      <th>first_name</th>\n",
       "      <th>last_name</th>\n",
       "      <th>linkedin_url</th>\n",
       "    </tr>\n",
       "  </thead>\n",
       "  <tbody>\n",
       "    <tr>\n",
       "      <th>0</th>\n",
       "      <td>001b4805-f0a4-04f9-a4bd-3dd85f37d551</td>\n",
       "      <td>Sudhir</td>\n",
       "      <td>Krishnaswamy</td>\n",
       "      <td>http://www.linkedin.com/profile/view?id=987051</td>\n",
       "    </tr>\n",
       "    <tr>\n",
       "      <th>1</th>\n",
       "      <td>001e860c-6579-9835-b294-af1a65842ca9</td>\n",
       "      <td>Evan</td>\n",
       "      <td>Rifkin</td>\n",
       "      <td>http://www.linkedin.com/in/evanrifkin</td>\n",
       "    </tr>\n",
       "    <tr>\n",
       "      <th>2</th>\n",
       "      <td>0023bf7f-5417-04f4-85cf-5bb078576a57</td>\n",
       "      <td>Jaynie</td>\n",
       "      <td>Studenmund</td>\n",
       "      <td>https://www.linkedin.com/in/jaynie-miller-studenmund-680a4523</td>\n",
       "    </tr>\n",
       "    <tr>\n",
       "      <th>3</th>\n",
       "      <td>0026bf40-8f42-87e2-b371-978055165959</td>\n",
       "      <td>Josh</td>\n",
       "      <td>Elman</td>\n",
       "      <td>http://www.linkedin.com/in/joshe</td>\n",
       "    </tr>\n",
       "    <tr>\n",
       "      <th>4</th>\n",
       "      <td>0029836e-5dec-d285-c440-00d33464ede2</td>\n",
       "      <td>Vipul Ved</td>\n",
       "      <td>Prakash</td>\n",
       "      <td>http://www.linkedin.com/in/vipulved</td>\n",
       "    </tr>\n",
       "    <tr>\n",
       "      <th>...</th>\n",
       "      <td>...</td>\n",
       "      <td>...</td>\n",
       "      <td>...</td>\n",
       "      <td>...</td>\n",
       "    </tr>\n",
       "    <tr>\n",
       "      <th>5222</th>\n",
       "      <td>ffbde8a6-d828-b2fb-c285-729ad1733c15</td>\n",
       "      <td>Richard</td>\n",
       "      <td>Schooler</td>\n",
       "      <td>http://www.linkedin.com/in/richardschooler</td>\n",
       "    </tr>\n",
       "    <tr>\n",
       "      <th>5223</th>\n",
       "      <td>ffc0cf5d-5faa-70b7-858a-582c3291ff45</td>\n",
       "      <td>Mark</td>\n",
       "      <td>Findeis</td>\n",
       "      <td>http://www.linkedin.com/company/connaxis</td>\n",
       "    </tr>\n",
       "    <tr>\n",
       "      <th>5224</th>\n",
       "      <td>ffd2285d-cda7-30de-2ae2-c37b7956ecd4</td>\n",
       "      <td>Christopher</td>\n",
       "      <td>Ryan</td>\n",
       "      <td>https://www.linkedin.com/in/cmryan</td>\n",
       "    </tr>\n",
       "    <tr>\n",
       "      <th>5225</th>\n",
       "      <td>ffdfc425-c8da-8a83-32d5-e64d18166bd1</td>\n",
       "      <td>Shlomo</td>\n",
       "      <td>Kramer</td>\n",
       "      <td>http://www.linkedin.com/in/shlomokramer</td>\n",
       "    </tr>\n",
       "    <tr>\n",
       "      <th>5226</th>\n",
       "      <td>fff3412c-3646-5d39-1ac7-b5aa6a5e6008</td>\n",
       "      <td>Neal</td>\n",
       "      <td>East</td>\n",
       "      <td>http://www.linkedin.com/in/nealeast</td>\n",
       "    </tr>\n",
       "  </tbody>\n",
       "</table>\n",
       "<p>4054 rows × 4 columns</p>\n",
       "</div>"
      ],
      "text/plain": [
       "                               person_uuid   first_name     last_name  \\\n",
       "0     001b4805-f0a4-04f9-a4bd-3dd85f37d551       Sudhir  Krishnaswamy   \n",
       "1     001e860c-6579-9835-b294-af1a65842ca9         Evan        Rifkin   \n",
       "2     0023bf7f-5417-04f4-85cf-5bb078576a57       Jaynie    Studenmund   \n",
       "3     0026bf40-8f42-87e2-b371-978055165959         Josh         Elman   \n",
       "4     0029836e-5dec-d285-c440-00d33464ede2    Vipul Ved       Prakash   \n",
       "...                                    ...          ...           ...   \n",
       "5222  ffbde8a6-d828-b2fb-c285-729ad1733c15      Richard      Schooler   \n",
       "5223  ffc0cf5d-5faa-70b7-858a-582c3291ff45         Mark       Findeis   \n",
       "5224  ffd2285d-cda7-30de-2ae2-c37b7956ecd4  Christopher          Ryan   \n",
       "5225  ffdfc425-c8da-8a83-32d5-e64d18166bd1       Shlomo        Kramer   \n",
       "5226  fff3412c-3646-5d39-1ac7-b5aa6a5e6008         Neal          East   \n",
       "\n",
       "                                                       linkedin_url  \n",
       "0                    http://www.linkedin.com/profile/view?id=987051  \n",
       "1                             http://www.linkedin.com/in/evanrifkin  \n",
       "2     https://www.linkedin.com/in/jaynie-miller-studenmund-680a4523  \n",
       "3                                  http://www.linkedin.com/in/joshe  \n",
       "4                               http://www.linkedin.com/in/vipulved  \n",
       "...                                                             ...  \n",
       "5222                     http://www.linkedin.com/in/richardschooler  \n",
       "5223                       http://www.linkedin.com/company/connaxis  \n",
       "5224                             https://www.linkedin.com/in/cmryan  \n",
       "5225                        http://www.linkedin.com/in/shlomokramer  \n",
       "5226                            http://www.linkedin.com/in/nealeast  \n",
       "\n",
       "[4054 rows x 4 columns]"
      ]
     },
     "execution_count": 45,
     "metadata": {},
     "output_type": "execute_result"
    }
   ],
   "source": [
    "startup_jobs = jobs.loc[jobs['org_uuid'].isin(company_list['company_uuid'])]\n",
    "startup_jobs = startup_jobs.loc[startup_jobs['title'].isin(selected_startup_jobs['selected_titles'])]\n",
    "startup_jobs = startup_jobs.merge(people, how = 'left', left_on = 'person_uuid', right_on = 'uuid')\n",
    "startup_jobs['linkedin_url'] = startup_jobs['linkedin_url'].replace(np.nan, '-')\n",
    "startup_jobs = startup_jobs.groupby(['person_uuid', 'first_name', 'last_name', 'linkedin_url']).size().reset_index(name = 'count')\n",
    "startup_jobs = startup_jobs[['person_uuid', 'first_name', 'last_name', 'linkedin_url']]\n",
    "linkedin_startup_jobs = startup_jobs.loc[startup_jobs['linkedin_url'] != '-']\n",
    "linkedin_startup_jobs"
   ]
  },
  {
   "cell_type": "code",
   "execution_count": 46,
   "metadata": {},
   "outputs": [
    {
     "data": {
      "text/html": [
       "<div>\n",
       "<style scoped>\n",
       "    .dataframe tbody tr th:only-of-type {\n",
       "        vertical-align: middle;\n",
       "    }\n",
       "\n",
       "    .dataframe tbody tr th {\n",
       "        vertical-align: top;\n",
       "    }\n",
       "\n",
       "    .dataframe thead th {\n",
       "        text-align: right;\n",
       "    }\n",
       "</style>\n",
       "<table border=\"1\" class=\"dataframe\">\n",
       "  <thead>\n",
       "    <tr style=\"text-align: right;\">\n",
       "      <th></th>\n",
       "      <th>person_uuid</th>\n",
       "      <th>first_name</th>\n",
       "      <th>last_name</th>\n",
       "      <th>org_uuid</th>\n",
       "      <th>company_name</th>\n",
       "      <th>started_on</th>\n",
       "      <th>ended_on</th>\n",
       "      <th>is_current</th>\n",
       "      <th>title</th>\n",
       "      <th>primary_affiliation_organization</th>\n",
       "      <th>job_uuid</th>\n",
       "    </tr>\n",
       "  </thead>\n",
       "  <tbody>\n",
       "    <tr>\n",
       "      <th>1716</th>\n",
       "      <td>fecaa111-ae68-960b-48b8-282be2a34cee</td>\n",
       "      <td>Matt</td>\n",
       "      <td>Sonsini</td>\n",
       "      <td>c51db1ce-47f5-5263-38e3-35e2de55b002</td>\n",
       "      <td>American Bar Association</td>\n",
       "      <td>NaN</td>\n",
       "      <td>NaN</td>\n",
       "      <td>0</td>\n",
       "      <td>Chairman of the Board of Directors</td>\n",
       "      <td>The Sobrato Organization</td>\n",
       "      <td>1ed45862-5594-dc97-438e-58e76567558d</td>\n",
       "    </tr>\n",
       "    <tr>\n",
       "      <th>1715</th>\n",
       "      <td>fecaa111-ae68-960b-48b8-282be2a34cee</td>\n",
       "      <td>Matt</td>\n",
       "      <td>Sonsini</td>\n",
       "      <td>fe9cf712-d3d4-7c73-9ed6-e09bdb148b63</td>\n",
       "      <td>The Sobrato Organization</td>\n",
       "      <td>NaN</td>\n",
       "      <td>NaN</td>\n",
       "      <td>0</td>\n",
       "      <td>Chief Operating Officer</td>\n",
       "      <td>The Sobrato Organization</td>\n",
       "      <td>2a6553c4-8022-425f-7410-36d6c9520861</td>\n",
       "    </tr>\n",
       "    <tr>\n",
       "      <th>1714</th>\n",
       "      <td>fecaa111-ae68-960b-48b8-282be2a34cee</td>\n",
       "      <td>Matt</td>\n",
       "      <td>Sonsini</td>\n",
       "      <td>fe9cf712-d3d4-7c73-9ed6-e09bdb148b63</td>\n",
       "      <td>The Sobrato Organization</td>\n",
       "      <td>NaN</td>\n",
       "      <td>NaN</td>\n",
       "      <td>1</td>\n",
       "      <td>Chief Investment Officer</td>\n",
       "      <td>The Sobrato Organization</td>\n",
       "      <td>3f75f33d-5ed3-bc51-3702-d720edcae0a8</td>\n",
       "    </tr>\n",
       "    <tr>\n",
       "      <th>1713</th>\n",
       "      <td>fecaa111-ae68-960b-48b8-282be2a34cee</td>\n",
       "      <td>Matt</td>\n",
       "      <td>Sonsini</td>\n",
       "      <td>82d99bb9-1178-9c64-b2a4-d0403104c80b</td>\n",
       "      <td>SecondMarket</td>\n",
       "      <td>NaN</td>\n",
       "      <td>NaN</td>\n",
       "      <td>0</td>\n",
       "      <td>Member of the Board of Advisors</td>\n",
       "      <td>The Sobrato Organization</td>\n",
       "      <td>4a674cdd-a599-e549-cd55-f3720911bc4e</td>\n",
       "    </tr>\n",
       "    <tr>\n",
       "      <th>1712</th>\n",
       "      <td>fecaa111-ae68-960b-48b8-282be2a34cee</td>\n",
       "      <td>Matt</td>\n",
       "      <td>Sonsini</td>\n",
       "      <td>897604ea-925e-41c6-a0a1-aeaca56b160f</td>\n",
       "      <td>Latham &amp; Watkins</td>\n",
       "      <td>NaN</td>\n",
       "      <td>NaN</td>\n",
       "      <td>0</td>\n",
       "      <td>Team Member</td>\n",
       "      <td>The Sobrato Organization</td>\n",
       "      <td>8273ae36-66e7-585f-02f2-746a1c78cad6</td>\n",
       "    </tr>\n",
       "    <tr>\n",
       "      <th>...</th>\n",
       "      <td>...</td>\n",
       "      <td>...</td>\n",
       "      <td>...</td>\n",
       "      <td>...</td>\n",
       "      <td>...</td>\n",
       "      <td>...</td>\n",
       "      <td>...</td>\n",
       "      <td>...</td>\n",
       "      <td>...</td>\n",
       "      <td>...</td>\n",
       "      <td>...</td>\n",
       "    </tr>\n",
       "    <tr>\n",
       "      <th>13</th>\n",
       "      <td>03153e2f-22ee-f1fb-afaa-b9cc2a1f388c</td>\n",
       "      <td>Matthew</td>\n",
       "      <td>King</td>\n",
       "      <td>6714bea5-ca3a-812f-69e5-0f81713a3515</td>\n",
       "      <td>NuScriptRx</td>\n",
       "      <td>NaN</td>\n",
       "      <td>NaN</td>\n",
       "      <td>1</td>\n",
       "      <td>Board Member</td>\n",
       "      <td>Clayton Associates</td>\n",
       "      <td>4027f7fe-2cc2-0839-9f34-3e50e6e35d04</td>\n",
       "    </tr>\n",
       "    <tr>\n",
       "      <th>14</th>\n",
       "      <td>03153e2f-22ee-f1fb-afaa-b9cc2a1f388c</td>\n",
       "      <td>Matthew</td>\n",
       "      <td>King</td>\n",
       "      <td>75f7c49e-8575-bd7c-8b5a-0ea5783e5d2d</td>\n",
       "      <td>Clayton Associates</td>\n",
       "      <td>NaN</td>\n",
       "      <td>NaN</td>\n",
       "      <td>1</td>\n",
       "      <td>Managing Partner</td>\n",
       "      <td>Clayton Associates</td>\n",
       "      <td>252055ed-e601-6de6-1f48-1dbe2b36ccfa</td>\n",
       "    </tr>\n",
       "    <tr>\n",
       "      <th>15</th>\n",
       "      <td>03153e2f-22ee-f1fb-afaa-b9cc2a1f388c</td>\n",
       "      <td>Matthew</td>\n",
       "      <td>King</td>\n",
       "      <td>76f74f35-c5bd-0a43-ef50-708d009b6a9e</td>\n",
       "      <td>Silvercare Solutions</td>\n",
       "      <td>NaN</td>\n",
       "      <td>NaN</td>\n",
       "      <td>1</td>\n",
       "      <td>Board Member</td>\n",
       "      <td>Clayton Associates</td>\n",
       "      <td>0bcb0121-2b72-93cc-5bc5-7901b743c160</td>\n",
       "    </tr>\n",
       "    <tr>\n",
       "      <th>16</th>\n",
       "      <td>03153e2f-22ee-f1fb-afaa-b9cc2a1f388c</td>\n",
       "      <td>Matthew</td>\n",
       "      <td>King</td>\n",
       "      <td>3c2612f3-b932-e2d8-b5bf-7962503dd468</td>\n",
       "      <td>FCA Venture Partners</td>\n",
       "      <td>NaN</td>\n",
       "      <td>NaN</td>\n",
       "      <td>1</td>\n",
       "      <td>Managing Partner</td>\n",
       "      <td>Clayton Associates</td>\n",
       "      <td>07879900-fbb2-3424-a453-38b0c3aefee5</td>\n",
       "    </tr>\n",
       "    <tr>\n",
       "      <th>0</th>\n",
       "      <td>03153e2f-22ee-f1fb-afaa-b9cc2a1f388c</td>\n",
       "      <td>Matthew</td>\n",
       "      <td>King</td>\n",
       "      <td>e149072d-5eea-f563-610a-836773ca6681</td>\n",
       "      <td>HCCA International</td>\n",
       "      <td>NaN</td>\n",
       "      <td>NaN</td>\n",
       "      <td>1</td>\n",
       "      <td>Board Observer</td>\n",
       "      <td>Clayton Associates</td>\n",
       "      <td>f511a934-3110-6bbe-0545-41706a641953</td>\n",
       "    </tr>\n",
       "  </tbody>\n",
       "</table>\n",
       "<p>1717 rows × 11 columns</p>\n",
       "</div>"
      ],
      "text/plain": [
       "                               person_uuid first_name last_name  \\\n",
       "1716  fecaa111-ae68-960b-48b8-282be2a34cee       Matt   Sonsini   \n",
       "1715  fecaa111-ae68-960b-48b8-282be2a34cee       Matt   Sonsini   \n",
       "1714  fecaa111-ae68-960b-48b8-282be2a34cee       Matt   Sonsini   \n",
       "1713  fecaa111-ae68-960b-48b8-282be2a34cee       Matt   Sonsini   \n",
       "1712  fecaa111-ae68-960b-48b8-282be2a34cee       Matt   Sonsini   \n",
       "...                                    ...        ...       ...   \n",
       "13    03153e2f-22ee-f1fb-afaa-b9cc2a1f388c    Matthew      King   \n",
       "14    03153e2f-22ee-f1fb-afaa-b9cc2a1f388c    Matthew      King   \n",
       "15    03153e2f-22ee-f1fb-afaa-b9cc2a1f388c    Matthew      King   \n",
       "16    03153e2f-22ee-f1fb-afaa-b9cc2a1f388c    Matthew      King   \n",
       "0     03153e2f-22ee-f1fb-afaa-b9cc2a1f388c    Matthew      King   \n",
       "\n",
       "                                  org_uuid              company_name  \\\n",
       "1716  c51db1ce-47f5-5263-38e3-35e2de55b002  American Bar Association   \n",
       "1715  fe9cf712-d3d4-7c73-9ed6-e09bdb148b63  The Sobrato Organization   \n",
       "1714  fe9cf712-d3d4-7c73-9ed6-e09bdb148b63  The Sobrato Organization   \n",
       "1713  82d99bb9-1178-9c64-b2a4-d0403104c80b              SecondMarket   \n",
       "1712  897604ea-925e-41c6-a0a1-aeaca56b160f          Latham & Watkins   \n",
       "...                                    ...                       ...   \n",
       "13    6714bea5-ca3a-812f-69e5-0f81713a3515                NuScriptRx   \n",
       "14    75f7c49e-8575-bd7c-8b5a-0ea5783e5d2d        Clayton Associates   \n",
       "15    76f74f35-c5bd-0a43-ef50-708d009b6a9e      Silvercare Solutions   \n",
       "16    3c2612f3-b932-e2d8-b5bf-7962503dd468      FCA Venture Partners   \n",
       "0     e149072d-5eea-f563-610a-836773ca6681        HCCA International   \n",
       "\n",
       "     started_on ended_on is_current                               title  \\\n",
       "1716        NaN      NaN          0  Chairman of the Board of Directors   \n",
       "1715        NaN      NaN          0             Chief Operating Officer   \n",
       "1714        NaN      NaN          1            Chief Investment Officer   \n",
       "1713        NaN      NaN          0     Member of the Board of Advisors   \n",
       "1712        NaN      NaN          0                         Team Member   \n",
       "...         ...      ...        ...                                 ...   \n",
       "13          NaN      NaN          1                        Board Member   \n",
       "14          NaN      NaN          1                    Managing Partner   \n",
       "15          NaN      NaN          1                        Board Member   \n",
       "16          NaN      NaN          1                    Managing Partner   \n",
       "0           NaN      NaN          1                      Board Observer   \n",
       "\n",
       "     primary_affiliation_organization                              job_uuid  \n",
       "1716         The Sobrato Organization  1ed45862-5594-dc97-438e-58e76567558d  \n",
       "1715         The Sobrato Organization  2a6553c4-8022-425f-7410-36d6c9520861  \n",
       "1714         The Sobrato Organization  3f75f33d-5ed3-bc51-3702-d720edcae0a8  \n",
       "1713         The Sobrato Organization  4a674cdd-a599-e549-cd55-f3720911bc4e  \n",
       "1712         The Sobrato Organization  8273ae36-66e7-585f-02f2-746a1c78cad6  \n",
       "...                               ...                                   ...  \n",
       "13                 Clayton Associates  4027f7fe-2cc2-0839-9f34-3e50e6e35d04  \n",
       "14                 Clayton Associates  252055ed-e601-6de6-1f48-1dbe2b36ccfa  \n",
       "15                 Clayton Associates  0bcb0121-2b72-93cc-5bc5-7901b743c160  \n",
       "16                 Clayton Associates  07879900-fbb2-3424-a453-38b0c3aefee5  \n",
       "0                  Clayton Associates  f511a934-3110-6bbe-0545-41706a641953  \n",
       "\n",
       "[1717 rows x 11 columns]"
      ]
     },
     "execution_count": 46,
     "metadata": {},
     "output_type": "execute_result"
    }
   ],
   "source": [
    "###Сломанные###\n",
    "broken = pd.read_excel('./manually_selected_data/broken_links.xlsx')\n",
    "bbroken_jobs = startup_jobs.loc[startup_jobs['person_uuid'].isin(broken['person_uuid'].values)]\n",
    "bbroken_jobs = bbroken_jobs.merge(jobs, how = 'left', on = 'person_uuid')\n",
    "bbroken_jobs = bbroken_jobs.merge(people[['uuid', 'primary_affiliation_organization']], how = 'left', left_on = 'person_uuid', right_on = 'uuid')\n",
    "bbroken_jobs = bbroken_jobs.merge(organizations[['company_name', 'uuid']], how = 'left', left_on = 'org_uuid', right_on = 'uuid')\n",
    "bbroken_jobs = bbroken_jobs[['person_uuid', 'first_name', 'last_name', 'org_uuid', 'company_name', 'started_on', 'ended_on', 'is_current', 'title', 'primary_affiliation_organization', 'job_uuid']]\n",
    "bbroken_jobs = bbroken_jobs.drop_duplicates().reset_index(drop=True)\n",
    "bbroken_jobs.loc[bbroken_jobs['is_current'] == 'f', 'is_current'] = 0\n",
    "bbroken_jobs.loc[bbroken_jobs['is_current'] == 't', 'is_current'] = 1\n",
    "bbroken_jobs = bbroken_jobs.sort_values(by = ['person_uuid'], ascending = False)\n",
    "bbroken_jobs\n",
    "###Сломанные###"
   ]
  },
  {
   "cell_type": "code",
   "execution_count": 47,
   "metadata": {},
   "outputs": [
    {
     "data": {
      "text/plain": [
       "27"
      ]
     },
     "execution_count": 47,
     "metadata": {},
     "output_type": "execute_result"
    }
   ],
   "source": [
    "a = bbroken_jobs.groupby(['person_uuid']).size().reset_index(name = 'number_of_jobs')\n",
    "b = a.loc[a['number_of_jobs'] == 1]\n",
    "bbroken_jobs_1 = bbroken_jobs.loc[bbroken_jobs['person_uuid'].isin(b['person_uuid'])]\n",
    "len(bbroken_jobs_1)"
   ]
  },
  {
   "cell_type": "code",
   "execution_count": 48,
   "metadata": {},
   "outputs": [
    {
     "data": {
      "text/plain": [
       "{0, 1, 2, 3, 4, 5, 6, 7, 8, 9, 10, 11, 12, 13, 14, 15, 16, 17, 18, 20, 24}"
      ]
     },
     "execution_count": 48,
     "metadata": {},
     "output_type": "execute_result"
    }
   ],
   "source": [
    "b = a.loc[a['number_of_jobs'] > 1]\n",
    "c = bbroken_jobs.loc[bbroken_jobs['person_uuid'].isin(b['person_uuid'])].sort_values(by = ['person_uuid'], ascending = False)\n",
    "c = c.groupby(['person_uuid'])['is_current'].agg(['sum']).reset_index()\n",
    "set(c['sum'].values)"
   ]
  },
  {
   "cell_type": "code",
   "execution_count": 49,
   "metadata": {},
   "outputs": [
    {
     "data": {
      "text/plain": [
       "45"
      ]
     },
     "execution_count": 49,
     "metadata": {},
     "output_type": "execute_result"
    }
   ],
   "source": [
    "d = c.loc[c['sum'] == 1]\n",
    "bbroken_jobs_2 = bbroken_jobs.loc[(bbroken_jobs['person_uuid'].isin(d['person_uuid'])) & (bbroken_jobs['is_current'] == 1)]\n",
    "bbroken_jobs_2 = bbroken_jobs_2.sort_values(by = ['person_uuid'], ascending = False)\n",
    "len(bbroken_jobs_2)"
   ]
  },
  {
   "cell_type": "code",
   "execution_count": 50,
   "metadata": {},
   "outputs": [
    {
     "data": {
      "text/plain": [
       "5"
      ]
     },
     "execution_count": 50,
     "metadata": {},
     "output_type": "execute_result"
    }
   ],
   "source": [
    "d = c.loc[c['sum'] == 0]\n",
    "bbroken_jobs_3 = bbroken_jobs.loc[bbroken_jobs['person_uuid'].isin(d['person_uuid'])]\n",
    "bbroken_jobs_3 = bbroken_jobs_3.sort_values(by = ['person_uuid'], ascending = False)\n",
    "w = [np.nan]\n",
    "bbroken_jobs_3_1 = bbroken_jobs_3.loc[~bbroken_jobs_3['started_on'].isin(w)]\n",
    "e = set(bbroken_jobs_3_1['person_uuid'].values)\n",
    "bbroken_jobs_3_1['started_on'] = pd.to_datetime(bbroken_jobs_3_1['started_on'])\n",
    "bbroken_jobs_3_1 = bbroken_jobs_3_1.loc[bbroken_jobs_3_1.groupby(['person_uuid'])['started_on'].idxmax()]\n",
    "len(bbroken_jobs_3_1)"
   ]
  },
  {
   "cell_type": "code",
   "execution_count": 51,
   "metadata": {},
   "outputs": [
    {
     "data": {
      "text/plain": [
       "0"
      ]
     },
     "execution_count": 51,
     "metadata": {},
     "output_type": "execute_result"
    }
   ],
   "source": [
    "bbroken_jobs_3_2 = bbroken_jobs_3.loc[~bbroken_jobs_3['person_uuid'].isin(e)]\n",
    "bbroken_jobs_3_2_1 = bbroken_jobs_3_2.loc[bbroken_jobs_3_2['company_name'] == bbroken_jobs_3_2['primary_affiliation_organization']]\n",
    "q = bbroken_jobs_3_2_1.groupby(['person_uuid']).size().reset_index(name = 'count')\n",
    "w = q.loc[q['count'] == 1]\n",
    "w = set(w['person_uuid'].values)\n",
    "bbroken_jobs_3_2_1 = bbroken_jobs_3_2_1.loc[bbroken_jobs_3_2_1['person_uuid'].isin(w)]\n",
    "len(bbroken_jobs_3_2_1)"
   ]
  },
  {
   "cell_type": "code",
   "execution_count": 52,
   "metadata": {},
   "outputs": [],
   "source": [
    "bbroken_jobs_3_2_2 = bbroken_jobs_3_2.loc[~bbroken_jobs_3_2['person_uuid'].isin(w)]\n",
    "#bbroken_jobs_3_2_2.to_csv('bbroken_jobs_3_2_2.csv')"
   ]
  },
  {
   "cell_type": "code",
   "execution_count": 53,
   "metadata": {},
   "outputs": [
    {
     "data": {
      "text/plain": [
       "2"
      ]
     },
     "execution_count": 53,
     "metadata": {},
     "output_type": "execute_result"
    }
   ],
   "source": [
    "q = pd.read_csv('./manually_selected_data/manual5s.csv')\n",
    "bbroken_jobs_3_2_2 = bbroken_jobs_3_2_2[bbroken_jobs_3_2_2['job_uuid'].isin(q['job_uuid'])]\n",
    "len(bbroken_jobs_3_2_2)"
   ]
  },
  {
   "cell_type": "code",
   "execution_count": 54,
   "metadata": {},
   "outputs": [
    {
     "data": {
      "text/plain": [
       "104"
      ]
     },
     "execution_count": 54,
     "metadata": {},
     "output_type": "execute_result"
    }
   ],
   "source": [
    "d = c.loc[c['sum'] > 1]\n",
    "bbroken_jobs_4 = bbroken_jobs.loc[(bbroken_jobs['person_uuid'].isin(d['person_uuid'])) & (bbroken_jobs['is_current'] == 1)]\n",
    "bbroken_jobs_4 = bbroken_jobs_4.sort_values(by = ['person_uuid'], ascending = False)\n",
    "w = [np.nan]\n",
    "bbroken_jobs_4_1 = bbroken_jobs_4.loc[~bbroken_jobs_4['started_on'].isin(w)]\n",
    "e = set(bbroken_jobs_4_1['person_uuid'].values)\n",
    "bbroken_jobs_4_1['started_on'] = pd.to_datetime(bbroken_jobs_4_1['started_on'])\n",
    "bbroken_jobs_4_1 = bbroken_jobs_4_1.loc[bbroken_jobs_4_1.groupby(['person_uuid'])['started_on'].idxmax()]\n",
    "len(bbroken_jobs_4_1)"
   ]
  },
  {
   "cell_type": "code",
   "execution_count": 55,
   "metadata": {},
   "outputs": [
    {
     "data": {
      "text/plain": [
       "34"
      ]
     },
     "execution_count": 55,
     "metadata": {},
     "output_type": "execute_result"
    }
   ],
   "source": [
    "bbroken_jobs_4_2 = bbroken_jobs_4.loc[~bbroken_jobs_4['person_uuid'].isin(e)]\n",
    "bbroken_jobs_4_2_1 = bbroken_jobs_4_2.loc[bbroken_jobs_4_2['company_name'] == bbroken_jobs_4_2['primary_affiliation_organization']]\n",
    "q = bbroken_jobs_4_2_1.groupby(['person_uuid']).size().reset_index(name = 'count')\n",
    "w = q.loc[q['count'] == 1]\n",
    "w = set(w['person_uuid'].values)\n",
    "bbroken_jobs_4_2_1 = bbroken_jobs_4_2_1.loc[bbroken_jobs_4_2_1['person_uuid'].isin(w)]\n",
    "len(bbroken_jobs_4_2_1)"
   ]
  },
  {
   "cell_type": "code",
   "execution_count": 56,
   "metadata": {},
   "outputs": [],
   "source": [
    "bbroken_jobs_4_2_2 = bbroken_jobs_4_2.loc[~bbroken_jobs_4_2['person_uuid'].isin(w)]\n",
    "#bbroken_jobs_4_2_2.to_csv('bbroken_jobs_4_2_2.csv')"
   ]
  },
  {
   "cell_type": "code",
   "execution_count": 57,
   "metadata": {},
   "outputs": [
    {
     "data": {
      "text/plain": [
       "10"
      ]
     },
     "execution_count": 57,
     "metadata": {},
     "output_type": "execute_result"
    }
   ],
   "source": [
    "q = pd.read_csv('./manually_selected_data/manual6s.csv')\n",
    "bbroken_jobs_4_2_2 = bbroken_jobs_4_2_2[bbroken_jobs_4_2_2['job_uuid'].isin(q['job_uuid'])]\n",
    "len(bbroken_jobs_4_2_2)"
   ]
  },
  {
   "cell_type": "code",
   "execution_count": 58,
   "metadata": {},
   "outputs": [
    {
     "data": {
      "text/html": [
       "<div>\n",
       "<style scoped>\n",
       "    .dataframe tbody tr th:only-of-type {\n",
       "        vertical-align: middle;\n",
       "    }\n",
       "\n",
       "    .dataframe tbody tr th {\n",
       "        vertical-align: top;\n",
       "    }\n",
       "\n",
       "    .dataframe thead th {\n",
       "        text-align: right;\n",
       "    }\n",
       "</style>\n",
       "<table border=\"1\" class=\"dataframe\">\n",
       "  <thead>\n",
       "    <tr style=\"text-align: right;\">\n",
       "      <th></th>\n",
       "      <th>person_uuid</th>\n",
       "      <th>first_name</th>\n",
       "      <th>last_name</th>\n",
       "      <th>org_uuid</th>\n",
       "      <th>company_name</th>\n",
       "      <th>started_on</th>\n",
       "      <th>ended_on</th>\n",
       "      <th>is_current</th>\n",
       "      <th>title</th>\n",
       "      <th>primary_affiliation_organization</th>\n",
       "      <th>job_uuid</th>\n",
       "    </tr>\n",
       "  </thead>\n",
       "  <tbody>\n",
       "    <tr>\n",
       "      <th>0</th>\n",
       "      <td>f5685ba8-ab57-25ed-78e3-92fc348fa9f6</td>\n",
       "      <td>Glen</td>\n",
       "      <td>Margolis</td>\n",
       "      <td>28e6fc23-0881-492c-1c53-2c303ce82137</td>\n",
       "      <td>Steelwedge Software</td>\n",
       "      <td>NaN</td>\n",
       "      <td>NaN</td>\n",
       "      <td>1</td>\n",
       "      <td>Founder and Executive Chairman</td>\n",
       "      <td>Steelwedge Software</td>\n",
       "      <td>125feab0-ab0e-3443-d605-68b143ce500e</td>\n",
       "    </tr>\n",
       "    <tr>\n",
       "      <th>1</th>\n",
       "      <td>f43a88ff-6195-0783-1966-c42a5c86e347</td>\n",
       "      <td>Henry</td>\n",
       "      <td>H. Hsu</td>\n",
       "      <td>cedb849f-7d11-a2d0-d795-f07864d97739</td>\n",
       "      <td>Altheos</td>\n",
       "      <td>NaN</td>\n",
       "      <td>NaN</td>\n",
       "      <td>0</td>\n",
       "      <td>Co-Founder, CEO &amp; Director</td>\n",
       "      <td>NaN</td>\n",
       "      <td>19202466-64b4-1f66-3aca-ca6bebbe5db8</td>\n",
       "    </tr>\n",
       "    <tr>\n",
       "      <th>2</th>\n",
       "      <td>ed2bb9a5-699c-abc7-1c7e-19ac0306ba76</td>\n",
       "      <td>Victor</td>\n",
       "      <td>Shtrom</td>\n",
       "      <td>a4032bb5-baca-d5ca-cc23-145255e7c6ba</td>\n",
       "      <td>Ruckus Wireless</td>\n",
       "      <td>2002-01-01</td>\n",
       "      <td>2015-01-01</td>\n",
       "      <td>0</td>\n",
       "      <td>Co-Founder, Chief Wireless Architect</td>\n",
       "      <td>NaN</td>\n",
       "      <td>c468b473-daf9-b4a8-e4df-01f00315a41a</td>\n",
       "    </tr>\n",
       "    <tr>\n",
       "      <th>3</th>\n",
       "      <td>e25f1e72-a0b5-1572-e86a-a52fa5c8ae9f</td>\n",
       "      <td>Tom</td>\n",
       "      <td>Steinke</td>\n",
       "      <td>bb5aa001-34a9-9543-61d0-38644bbeb065</td>\n",
       "      <td>Vessix Vascular</td>\n",
       "      <td>NaN</td>\n",
       "      <td>NaN</td>\n",
       "      <td>1</td>\n",
       "      <td>Founder</td>\n",
       "      <td>Vessix Vascular</td>\n",
       "      <td>f9a11635-0c4d-b8eb-8a2f-b309eca75d94</td>\n",
       "    </tr>\n",
       "    <tr>\n",
       "      <th>4</th>\n",
       "      <td>debeee79-4693-5382-6f0f-8d85687df87c</td>\n",
       "      <td>Konrad</td>\n",
       "      <td>Feldman</td>\n",
       "      <td>8754aa07-6a53-aea5-fd0a-6f82c9191d1d</td>\n",
       "      <td>Quantcast</td>\n",
       "      <td>NaN</td>\n",
       "      <td>NaN</td>\n",
       "      <td>1</td>\n",
       "      <td>Co-Founder &amp; CEO</td>\n",
       "      <td>Quantcast</td>\n",
       "      <td>5c1f7baa-6517-7c76-76be-2d0cf1b31708</td>\n",
       "    </tr>\n",
       "    <tr>\n",
       "      <th>...</th>\n",
       "      <td>...</td>\n",
       "      <td>...</td>\n",
       "      <td>...</td>\n",
       "      <td>...</td>\n",
       "      <td>...</td>\n",
       "      <td>...</td>\n",
       "      <td>...</td>\n",
       "      <td>...</td>\n",
       "      <td>...</td>\n",
       "      <td>...</td>\n",
       "      <td>...</td>\n",
       "    </tr>\n",
       "    <tr>\n",
       "      <th>222</th>\n",
       "      <td>ab6e59e9-163d-5a50-a0a3-b30e7d822d72</td>\n",
       "      <td>Hans</td>\n",
       "      <td>Bishop</td>\n",
       "      <td>ff429091-2166-c3b5-409d-6e779fee09f5</td>\n",
       "      <td>Juno Therapeutics</td>\n",
       "      <td>NaN</td>\n",
       "      <td>NaN</td>\n",
       "      <td>1</td>\n",
       "      <td>CEO</td>\n",
       "      <td>Juno Therapeutics</td>\n",
       "      <td>3fdfd776-b8a4-b6a5-abd6-a74dc3dc2311</td>\n",
       "    </tr>\n",
       "    <tr>\n",
       "      <th>223</th>\n",
       "      <td>767846ae-f695-72b5-ba65-f9e50cebf800</td>\n",
       "      <td>Dave</td>\n",
       "      <td>Duffield</td>\n",
       "      <td>b9d62289-d55f-2692-f290-1433172f8289</td>\n",
       "      <td>Workday</td>\n",
       "      <td>NaN</td>\n",
       "      <td>NaN</td>\n",
       "      <td>1</td>\n",
       "      <td>Co-founder, co-CEO and Chief Customer Advocate</td>\n",
       "      <td>Workday</td>\n",
       "      <td>a3dc4afa-a1cd-4e66-c65c-005e5728f791</td>\n",
       "    </tr>\n",
       "    <tr>\n",
       "      <th>224</th>\n",
       "      <td>5ccfa9c5-3c80-596f-9e4a-f76b1a12047e</td>\n",
       "      <td>Cindy</td>\n",
       "      <td>Whitehead</td>\n",
       "      <td>854cab53-9557-5930-7888-a977dcb4fd2e</td>\n",
       "      <td>Sprout Pharmaceuticals</td>\n",
       "      <td>NaN</td>\n",
       "      <td>NaN</td>\n",
       "      <td>1</td>\n",
       "      <td>Co-Founder &amp; Chief Executive Officer</td>\n",
       "      <td>Sprout Pharmaceuticals</td>\n",
       "      <td>96bbf484-d4b6-1c79-cdc6-dfc430eb9bd1</td>\n",
       "    </tr>\n",
       "    <tr>\n",
       "      <th>225</th>\n",
       "      <td>4756138c-09a0-b438-ea64-a1842373d33e</td>\n",
       "      <td>Jeffrey</td>\n",
       "      <td>Harris</td>\n",
       "      <td>d964e925-a212-7649-cec9-9b19642e399e</td>\n",
       "      <td>Otonomy</td>\n",
       "      <td>NaN</td>\n",
       "      <td>NaN</td>\n",
       "      <td>1</td>\n",
       "      <td>Co-Founder</td>\n",
       "      <td>Otonomy</td>\n",
       "      <td>32ca8641-38cf-cb3d-c091-a88b1e99184c</td>\n",
       "    </tr>\n",
       "    <tr>\n",
       "      <th>226</th>\n",
       "      <td>13317740-fba8-ed9c-6dea-b9782bebcb1d</td>\n",
       "      <td>Tony</td>\n",
       "      <td>Evnin</td>\n",
       "      <td>baa8938c-bd03-3a6d-cc9c-0f3de60eb892</td>\n",
       "      <td>Memorial Sloan - Kettering Cancer Center</td>\n",
       "      <td>NaN</td>\n",
       "      <td>NaN</td>\n",
       "      <td>1</td>\n",
       "      <td>Member of Boards of Overseers</td>\n",
       "      <td>Memorial Sloan - Kettering Cancer Center</td>\n",
       "      <td>11d72be9-da21-9caf-438c-d3202cffbf64</td>\n",
       "    </tr>\n",
       "  </tbody>\n",
       "</table>\n",
       "<p>227 rows × 11 columns</p>\n",
       "</div>"
      ],
      "text/plain": [
       "                              person_uuid first_name  last_name  \\\n",
       "0    f5685ba8-ab57-25ed-78e3-92fc348fa9f6       Glen   Margolis   \n",
       "1    f43a88ff-6195-0783-1966-c42a5c86e347      Henry     H. Hsu   \n",
       "2    ed2bb9a5-699c-abc7-1c7e-19ac0306ba76     Victor     Shtrom   \n",
       "3    e25f1e72-a0b5-1572-e86a-a52fa5c8ae9f        Tom    Steinke   \n",
       "4    debeee79-4693-5382-6f0f-8d85687df87c     Konrad    Feldman   \n",
       "..                                    ...        ...        ...   \n",
       "222  ab6e59e9-163d-5a50-a0a3-b30e7d822d72       Hans     Bishop   \n",
       "223  767846ae-f695-72b5-ba65-f9e50cebf800       Dave   Duffield   \n",
       "224  5ccfa9c5-3c80-596f-9e4a-f76b1a12047e      Cindy  Whitehead   \n",
       "225  4756138c-09a0-b438-ea64-a1842373d33e    Jeffrey     Harris   \n",
       "226  13317740-fba8-ed9c-6dea-b9782bebcb1d       Tony      Evnin   \n",
       "\n",
       "                                 org_uuid  \\\n",
       "0    28e6fc23-0881-492c-1c53-2c303ce82137   \n",
       "1    cedb849f-7d11-a2d0-d795-f07864d97739   \n",
       "2    a4032bb5-baca-d5ca-cc23-145255e7c6ba   \n",
       "3    bb5aa001-34a9-9543-61d0-38644bbeb065   \n",
       "4    8754aa07-6a53-aea5-fd0a-6f82c9191d1d   \n",
       "..                                    ...   \n",
       "222  ff429091-2166-c3b5-409d-6e779fee09f5   \n",
       "223  b9d62289-d55f-2692-f290-1433172f8289   \n",
       "224  854cab53-9557-5930-7888-a977dcb4fd2e   \n",
       "225  d964e925-a212-7649-cec9-9b19642e399e   \n",
       "226  baa8938c-bd03-3a6d-cc9c-0f3de60eb892   \n",
       "\n",
       "                                 company_name  started_on    ended_on  \\\n",
       "0                         Steelwedge Software         NaN         NaN   \n",
       "1                                     Altheos         NaN         NaN   \n",
       "2                             Ruckus Wireless  2002-01-01  2015-01-01   \n",
       "3                             Vessix Vascular         NaN         NaN   \n",
       "4                                   Quantcast         NaN         NaN   \n",
       "..                                        ...         ...         ...   \n",
       "222                         Juno Therapeutics         NaN         NaN   \n",
       "223                                   Workday         NaN         NaN   \n",
       "224                    Sprout Pharmaceuticals         NaN         NaN   \n",
       "225                                   Otonomy         NaN         NaN   \n",
       "226  Memorial Sloan - Kettering Cancer Center         NaN         NaN   \n",
       "\n",
       "    is_current                                           title  \\\n",
       "0            1                  Founder and Executive Chairman   \n",
       "1            0                      Co-Founder, CEO & Director   \n",
       "2            0            Co-Founder, Chief Wireless Architect   \n",
       "3            1                                         Founder   \n",
       "4            1                                Co-Founder & CEO   \n",
       "..         ...                                             ...   \n",
       "222          1                                             CEO   \n",
       "223          1  Co-founder, co-CEO and Chief Customer Advocate   \n",
       "224          1            Co-Founder & Chief Executive Officer   \n",
       "225          1                                      Co-Founder   \n",
       "226          1                   Member of Boards of Overseers   \n",
       "\n",
       "             primary_affiliation_organization  \\\n",
       "0                         Steelwedge Software   \n",
       "1                                         NaN   \n",
       "2                                         NaN   \n",
       "3                             Vessix Vascular   \n",
       "4                                   Quantcast   \n",
       "..                                        ...   \n",
       "222                         Juno Therapeutics   \n",
       "223                                   Workday   \n",
       "224                    Sprout Pharmaceuticals   \n",
       "225                                   Otonomy   \n",
       "226  Memorial Sloan - Kettering Cancer Center   \n",
       "\n",
       "                                 job_uuid  \n",
       "0    125feab0-ab0e-3443-d605-68b143ce500e  \n",
       "1    19202466-64b4-1f66-3aca-ca6bebbe5db8  \n",
       "2    c468b473-daf9-b4a8-e4df-01f00315a41a  \n",
       "3    f9a11635-0c4d-b8eb-8a2f-b309eca75d94  \n",
       "4    5c1f7baa-6517-7c76-76be-2d0cf1b31708  \n",
       "..                                    ...  \n",
       "222  3fdfd776-b8a4-b6a5-abd6-a74dc3dc2311  \n",
       "223  a3dc4afa-a1cd-4e66-c65c-005e5728f791  \n",
       "224  96bbf484-d4b6-1c79-cdc6-dfc430eb9bd1  \n",
       "225  32ca8641-38cf-cb3d-c091-a88b1e99184c  \n",
       "226  11d72be9-da21-9caf-438c-d3202cffbf64  \n",
       "\n",
       "[227 rows x 11 columns]"
      ]
     },
     "execution_count": 58,
     "metadata": {},
     "output_type": "execute_result"
    }
   ],
   "source": [
    "bbroken_jobs = pd.concat([bbroken_jobs_1, bbroken_jobs_2, bbroken_jobs_3_1, bbroken_jobs_3_2_1, bbroken_jobs_3_2_2, bbroken_jobs_4_1, bbroken_jobs_4_2_1, bbroken_jobs_4_2_2]).drop_duplicates().reset_index(drop=True)\n",
    "bbroken_jobs"
   ]
  },
  {
   "cell_type": "markdown",
   "metadata": {},
   "source": [
    "И далее"
   ]
  },
  {
   "cell_type": "code",
   "execution_count": 59,
   "metadata": {},
   "outputs": [
    {
     "data": {
      "text/html": [
       "<div>\n",
       "<style scoped>\n",
       "    .dataframe tbody tr th:only-of-type {\n",
       "        vertical-align: middle;\n",
       "    }\n",
       "\n",
       "    .dataframe tbody tr th {\n",
       "        vertical-align: top;\n",
       "    }\n",
       "\n",
       "    .dataframe thead th {\n",
       "        text-align: right;\n",
       "    }\n",
       "</style>\n",
       "<table border=\"1\" class=\"dataframe\">\n",
       "  <thead>\n",
       "    <tr style=\"text-align: right;\">\n",
       "      <th></th>\n",
       "      <th>person_uuid</th>\n",
       "      <th>first_name</th>\n",
       "      <th>last_name</th>\n",
       "      <th>org_uuid</th>\n",
       "      <th>company_name</th>\n",
       "      <th>started_on</th>\n",
       "      <th>ended_on</th>\n",
       "      <th>is_current</th>\n",
       "      <th>title</th>\n",
       "      <th>primary_affiliation_organization</th>\n",
       "      <th>job_uuid</th>\n",
       "    </tr>\n",
       "  </thead>\n",
       "  <tbody>\n",
       "    <tr>\n",
       "      <th>4949</th>\n",
       "      <td>ff6a5f52-63b1-0d87-4898-3b0bc4742d25</td>\n",
       "      <td>Joe</td>\n",
       "      <td>Rizzi</td>\n",
       "      <td>5fefd737-2239-a8ad-e13a-87b977613fdd</td>\n",
       "      <td>Jupiter Research Foundation</td>\n",
       "      <td>2003-01-01</td>\n",
       "      <td>NaN</td>\n",
       "      <td>1</td>\n",
       "      <td>President</td>\n",
       "      <td>Jupiter Research Foundation</td>\n",
       "      <td>05f6ce37-0d33-ea86-c26e-9bccde85a4b1</td>\n",
       "    </tr>\n",
       "    <tr>\n",
       "      <th>4948</th>\n",
       "      <td>ff6a5f52-63b1-0d87-4898-3b0bc4742d25</td>\n",
       "      <td>Joe</td>\n",
       "      <td>Rizzi</td>\n",
       "      <td>4b3ee496-9fd7-229a-80a5-588e7e0dd620</td>\n",
       "      <td>Liquid Robotics</td>\n",
       "      <td>2007-01-01</td>\n",
       "      <td>NaN</td>\n",
       "      <td>1</td>\n",
       "      <td>Chairman</td>\n",
       "      <td>Jupiter Research Foundation</td>\n",
       "      <td>919c4172-414b-e368-b128-910e77ccaa5a</td>\n",
       "    </tr>\n",
       "    <tr>\n",
       "      <th>4947</th>\n",
       "      <td>ff6a5f52-63b1-0d87-4898-3b0bc4742d25</td>\n",
       "      <td>Joe</td>\n",
       "      <td>Rizzi</td>\n",
       "      <td>5fefd737-2239-a8ad-e13a-87b977613fdd</td>\n",
       "      <td>Jupiter Research Foundation</td>\n",
       "      <td>2003-01-01</td>\n",
       "      <td>NaN</td>\n",
       "      <td>1</td>\n",
       "      <td>Chairman/President</td>\n",
       "      <td>Jupiter Research Foundation</td>\n",
       "      <td>a1d8fa71-8cde-8939-58b7-abaf370681c0</td>\n",
       "    </tr>\n",
       "    <tr>\n",
       "      <th>4946</th>\n",
       "      <td>ff6a5f52-63b1-0d87-4898-3b0bc4742d25</td>\n",
       "      <td>Joe</td>\n",
       "      <td>Rizzi</td>\n",
       "      <td>5fefd737-2239-a8ad-e13a-87b977613fdd</td>\n",
       "      <td>Jupiter Research Foundation</td>\n",
       "      <td>2003-01-01</td>\n",
       "      <td>NaN</td>\n",
       "      <td>1</td>\n",
       "      <td>Chairman</td>\n",
       "      <td>Jupiter Research Foundation</td>\n",
       "      <td>e3e4f4de-fdbf-7d14-a9f6-6496eb5f942c</td>\n",
       "    </tr>\n",
       "    <tr>\n",
       "      <th>4945</th>\n",
       "      <td>ff54a439-e016-240d-1e50-941af24c7d56</td>\n",
       "      <td>Steve</td>\n",
       "      <td>Raymond</td>\n",
       "      <td>75e76c56-3026-404d-079d-be335a63d9ff</td>\n",
       "      <td>Popcap Games</td>\n",
       "      <td>2010-05-25</td>\n",
       "      <td>NaN</td>\n",
       "      <td>1</td>\n",
       "      <td>Director</td>\n",
       "      <td>Popcap Games</td>\n",
       "      <td>ce9982be-310c-8c4a-75b2-e08532b4633d</td>\n",
       "    </tr>\n",
       "    <tr>\n",
       "      <th>...</th>\n",
       "      <td>...</td>\n",
       "      <td>...</td>\n",
       "      <td>...</td>\n",
       "      <td>...</td>\n",
       "      <td>...</td>\n",
       "      <td>...</td>\n",
       "      <td>...</td>\n",
       "      <td>...</td>\n",
       "      <td>...</td>\n",
       "      <td>...</td>\n",
       "      <td>...</td>\n",
       "    </tr>\n",
       "    <tr>\n",
       "      <th>3</th>\n",
       "      <td>0069e8ef-54f7-1788-4d6a-0ce75ae2bbfc</td>\n",
       "      <td>Lawrence</td>\n",
       "      <td>Blatt</td>\n",
       "      <td>003db359-568d-3a2e-e5ce-f12bd4f95e9b</td>\n",
       "      <td>SIRNA</td>\n",
       "      <td>1998-01-01</td>\n",
       "      <td>2002-01-01</td>\n",
       "      <td>0</td>\n",
       "      <td>Vice President of Research</td>\n",
       "      <td>Alios BioPharma</td>\n",
       "      <td>d940be40-6ebf-106c-745e-9b46efb1e5ba</td>\n",
       "    </tr>\n",
       "    <tr>\n",
       "      <th>1</th>\n",
       "      <td>0069e8ef-54f7-1788-4d6a-0ce75ae2bbfc</td>\n",
       "      <td>Lawrence</td>\n",
       "      <td>Blatt</td>\n",
       "      <td>1a4eb896-e26b-d203-81a6-7b80dd2d3b21</td>\n",
       "      <td>National Genetics Institute</td>\n",
       "      <td>1996-01-01</td>\n",
       "      <td>1998-01-01</td>\n",
       "      <td>0</td>\n",
       "      <td>Vice President, Product Development</td>\n",
       "      <td>Alios BioPharma</td>\n",
       "      <td>fae50f74-6f30-b169-8661-b7a799c26958</td>\n",
       "    </tr>\n",
       "    <tr>\n",
       "      <th>5</th>\n",
       "      <td>0069e8ef-54f7-1788-4d6a-0ce75ae2bbfc</td>\n",
       "      <td>Lawrence</td>\n",
       "      <td>Blatt</td>\n",
       "      <td>16455c65-7da9-85b1-7c2b-92c4ed4e2a0c</td>\n",
       "      <td>Amgen Ventures</td>\n",
       "      <td>NaN</td>\n",
       "      <td>NaN</td>\n",
       "      <td>0</td>\n",
       "      <td>Head of Interferon Research, Development Team Leader</td>\n",
       "      <td>Alios BioPharma</td>\n",
       "      <td>54d67945-bfd0-5a92-d05c-518b5d2fcb38</td>\n",
       "    </tr>\n",
       "    <tr>\n",
       "      <th>6</th>\n",
       "      <td>0069e8ef-54f7-1788-4d6a-0ce75ae2bbfc</td>\n",
       "      <td>Lawrence</td>\n",
       "      <td>Blatt</td>\n",
       "      <td>98717655-0a4f-4528-b553-623e32f9954e</td>\n",
       "      <td>Alveo Technologies</td>\n",
       "      <td>NaN</td>\n",
       "      <td>NaN</td>\n",
       "      <td>1</td>\n",
       "      <td>Chairman of the Board of Directors</td>\n",
       "      <td>Alios BioPharma</td>\n",
       "      <td>4828b43a-8e46-4b09-90d7-a4b7edd88eab</td>\n",
       "    </tr>\n",
       "    <tr>\n",
       "      <th>0</th>\n",
       "      <td>002f79b2-baf6-d512-ef43-4f3dfc020510</td>\n",
       "      <td>Marie-Anne</td>\n",
       "      <td>Neimat</td>\n",
       "      <td>8a588135-3d5b-ced3-bcb6-73107c87dfa8</td>\n",
       "      <td>Aerospike</td>\n",
       "      <td>NaN</td>\n",
       "      <td>NaN</td>\n",
       "      <td>1</td>\n",
       "      <td>Advisor</td>\n",
       "      <td>Aerospike</td>\n",
       "      <td>163cfa84-90fe-4591-84a7-064154da67ed</td>\n",
       "    </tr>\n",
       "  </tbody>\n",
       "</table>\n",
       "<p>4950 rows × 11 columns</p>\n",
       "</div>"
      ],
      "text/plain": [
       "                               person_uuid  first_name last_name  \\\n",
       "4949  ff6a5f52-63b1-0d87-4898-3b0bc4742d25         Joe     Rizzi   \n",
       "4948  ff6a5f52-63b1-0d87-4898-3b0bc4742d25         Joe     Rizzi   \n",
       "4947  ff6a5f52-63b1-0d87-4898-3b0bc4742d25         Joe     Rizzi   \n",
       "4946  ff6a5f52-63b1-0d87-4898-3b0bc4742d25         Joe     Rizzi   \n",
       "4945  ff54a439-e016-240d-1e50-941af24c7d56       Steve   Raymond   \n",
       "...                                    ...         ...       ...   \n",
       "3     0069e8ef-54f7-1788-4d6a-0ce75ae2bbfc    Lawrence     Blatt   \n",
       "1     0069e8ef-54f7-1788-4d6a-0ce75ae2bbfc    Lawrence     Blatt   \n",
       "5     0069e8ef-54f7-1788-4d6a-0ce75ae2bbfc    Lawrence     Blatt   \n",
       "6     0069e8ef-54f7-1788-4d6a-0ce75ae2bbfc    Lawrence     Blatt   \n",
       "0     002f79b2-baf6-d512-ef43-4f3dfc020510  Marie-Anne    Neimat   \n",
       "\n",
       "                                  org_uuid                 company_name  \\\n",
       "4949  5fefd737-2239-a8ad-e13a-87b977613fdd  Jupiter Research Foundation   \n",
       "4948  4b3ee496-9fd7-229a-80a5-588e7e0dd620              Liquid Robotics   \n",
       "4947  5fefd737-2239-a8ad-e13a-87b977613fdd  Jupiter Research Foundation   \n",
       "4946  5fefd737-2239-a8ad-e13a-87b977613fdd  Jupiter Research Foundation   \n",
       "4945  75e76c56-3026-404d-079d-be335a63d9ff                 Popcap Games   \n",
       "...                                    ...                          ...   \n",
       "3     003db359-568d-3a2e-e5ce-f12bd4f95e9b                        SIRNA   \n",
       "1     1a4eb896-e26b-d203-81a6-7b80dd2d3b21  National Genetics Institute   \n",
       "5     16455c65-7da9-85b1-7c2b-92c4ed4e2a0c               Amgen Ventures   \n",
       "6     98717655-0a4f-4528-b553-623e32f9954e           Alveo Technologies   \n",
       "0     8a588135-3d5b-ced3-bcb6-73107c87dfa8                    Aerospike   \n",
       "\n",
       "      started_on    ended_on is_current  \\\n",
       "4949  2003-01-01         NaN          1   \n",
       "4948  2007-01-01         NaN          1   \n",
       "4947  2003-01-01         NaN          1   \n",
       "4946  2003-01-01         NaN          1   \n",
       "4945  2010-05-25         NaN          1   \n",
       "...          ...         ...        ...   \n",
       "3     1998-01-01  2002-01-01          0   \n",
       "1     1996-01-01  1998-01-01          0   \n",
       "5            NaN         NaN          0   \n",
       "6            NaN         NaN          1   \n",
       "0            NaN         NaN          1   \n",
       "\n",
       "                                                     title  \\\n",
       "4949                                             President   \n",
       "4948                                              Chairman   \n",
       "4947                                    Chairman/President   \n",
       "4946                                              Chairman   \n",
       "4945                                              Director   \n",
       "...                                                    ...   \n",
       "3                               Vice President of Research   \n",
       "1                      Vice President, Product Development   \n",
       "5     Head of Interferon Research, Development Team Leader   \n",
       "6                       Chairman of the Board of Directors   \n",
       "0                                                  Advisor   \n",
       "\n",
       "     primary_affiliation_organization                              job_uuid  \n",
       "4949      Jupiter Research Foundation  05f6ce37-0d33-ea86-c26e-9bccde85a4b1  \n",
       "4948      Jupiter Research Foundation  919c4172-414b-e368-b128-910e77ccaa5a  \n",
       "4947      Jupiter Research Foundation  a1d8fa71-8cde-8939-58b7-abaf370681c0  \n",
       "4946      Jupiter Research Foundation  e3e4f4de-fdbf-7d14-a9f6-6496eb5f942c  \n",
       "4945                     Popcap Games  ce9982be-310c-8c4a-75b2-e08532b4633d  \n",
       "...                               ...                                   ...  \n",
       "3                     Alios BioPharma  d940be40-6ebf-106c-745e-9b46efb1e5ba  \n",
       "1                     Alios BioPharma  fae50f74-6f30-b169-8661-b7a799c26958  \n",
       "5                     Alios BioPharma  54d67945-bfd0-5a92-d05c-518b5d2fcb38  \n",
       "6                     Alios BioPharma  4828b43a-8e46-4b09-90d7-a4b7edd88eab  \n",
       "0                           Aerospike  163cfa84-90fe-4591-84a7-064154da67ed  \n",
       "\n",
       "[4950 rows x 11 columns]"
      ]
     },
     "execution_count": 59,
     "metadata": {},
     "output_type": "execute_result"
    }
   ],
   "source": [
    "startup_jobs = startup_jobs.loc[startup_jobs['linkedin_url'] == '-']\n",
    "startup_jobs = startup_jobs.merge(jobs, how = 'left', on = 'person_uuid')\n",
    "startup_jobs = startup_jobs.merge(people[['uuid', 'primary_affiliation_organization']], how = 'left', left_on = 'person_uuid', right_on = 'uuid')\n",
    "startup_jobs = startup_jobs.merge(organizations[['company_name', 'uuid']], how = 'left', left_on = 'org_uuid', right_on = 'uuid')\n",
    "startup_jobs = startup_jobs[['person_uuid', 'first_name', 'last_name', 'org_uuid', 'company_name', 'started_on', 'ended_on', 'is_current', 'title', 'primary_affiliation_organization', 'job_uuid']]\n",
    "startup_jobs = startup_jobs.drop_duplicates().reset_index(drop=True)\n",
    "startup_jobs.loc[startup_jobs['is_current'] == 'f', 'is_current'] = 0\n",
    "startup_jobs.loc[startup_jobs['is_current'] == 't', 'is_current'] = 1\n",
    "startup_jobs = startup_jobs.sort_values(by = ['person_uuid'], ascending = False)\n",
    "startup_jobs"
   ]
  },
  {
   "cell_type": "code",
   "execution_count": 60,
   "metadata": {},
   "outputs": [
    {
     "data": {
      "text/plain": [
       "483"
      ]
     },
     "execution_count": 60,
     "metadata": {},
     "output_type": "execute_result"
    }
   ],
   "source": [
    "a = startup_jobs.groupby(['person_uuid']).size().reset_index(name = 'number_of_jobs')\n",
    "b = a.loc[a['number_of_jobs'] == 1]\n",
    "startup_jobs_1 = startup_jobs.loc[startup_jobs['person_uuid'].isin(b['person_uuid'])]\n",
    "len(startup_jobs_1)"
   ]
  },
  {
   "cell_type": "code",
   "execution_count": 61,
   "metadata": {},
   "outputs": [
    {
     "data": {
      "text/plain": [
       "{0, 1, 2, 3, 4, 5, 6, 7, 8, 9, 10, 11, 12, 13, 14, 15, 16, 17, 19, 20, 22}"
      ]
     },
     "execution_count": 61,
     "metadata": {},
     "output_type": "execute_result"
    }
   ],
   "source": [
    "b = a.loc[a['number_of_jobs'] > 1]\n",
    "c = startup_jobs.loc[startup_jobs['person_uuid'].isin(b['person_uuid'])].sort_values(by = ['person_uuid'], ascending = False)\n",
    "c = c.groupby(['person_uuid'])['is_current'].agg(['sum']).reset_index()\n",
    "set(c['sum'].values)"
   ]
  },
  {
   "cell_type": "code",
   "execution_count": 62,
   "metadata": {},
   "outputs": [
    {
     "data": {
      "text/plain": [
       "193"
      ]
     },
     "execution_count": 62,
     "metadata": {},
     "output_type": "execute_result"
    }
   ],
   "source": [
    "d = c.loc[c['sum'] == 1]\n",
    "startup_jobs_2 = startup_jobs.loc[(startup_jobs['person_uuid'].isin(d['person_uuid'])) & (startup_jobs['is_current'] == 1)]\n",
    "startup_jobs_2 = startup_jobs_2.sort_values(by = ['person_uuid'], ascending = False)\n",
    "len(startup_jobs_2)"
   ]
  },
  {
   "cell_type": "code",
   "execution_count": 63,
   "metadata": {},
   "outputs": [
    {
     "data": {
      "text/plain": [
       "24"
      ]
     },
     "execution_count": 63,
     "metadata": {},
     "output_type": "execute_result"
    }
   ],
   "source": [
    "d = c.loc[c['sum'] == 0]\n",
    "startup_jobs_3 = startup_jobs.loc[startup_jobs['person_uuid'].isin(d['person_uuid'])]\n",
    "startup_jobs_3 = startup_jobs_3.sort_values(by = ['person_uuid'], ascending = False)\n",
    "w = [np.nan]\n",
    "startup_jobs_3_1 = startup_jobs_3.loc[~startup_jobs_3['started_on'].isin(w)]\n",
    "e = set(startup_jobs_3_1['person_uuid'].values)\n",
    "startup_jobs_3_1['started_on'] = pd.to_datetime(startup_jobs_3_1['started_on'])\n",
    "startup_jobs_3_1 = startup_jobs_3_1.loc[startup_jobs_3_1.groupby(['person_uuid'])['started_on'].idxmax()]\n",
    "len(startup_jobs_3_1)"
   ]
  },
  {
   "cell_type": "code",
   "execution_count": 64,
   "metadata": {},
   "outputs": [
    {
     "data": {
      "text/plain": [
       "0"
      ]
     },
     "execution_count": 64,
     "metadata": {},
     "output_type": "execute_result"
    }
   ],
   "source": [
    "startup_jobs_3_2 = startup_jobs_3.loc[~startup_jobs_3['person_uuid'].isin(e)]\n",
    "startup_jobs_3_2_1 = startup_jobs_3_2.loc[startup_jobs_3_2['company_name'] == startup_jobs_3_2['primary_affiliation_organization']]\n",
    "q = startup_jobs_3_2_1.groupby(['person_uuid']).size().reset_index(name = 'count')\n",
    "w = q.loc[q['count'] == 1]\n",
    "w = set(w['person_uuid'].values)\n",
    "startup_jobs_3_2_1 = startup_jobs_3_2_1.loc[startup_jobs_3_2_1['person_uuid'].isin(w)]\n",
    "len(startup_jobs_3_2_1)"
   ]
  },
  {
   "cell_type": "code",
   "execution_count": 65,
   "metadata": {},
   "outputs": [],
   "source": [
    "startup_jobs_3_2_2 = startup_jobs_3_2.loc[~startup_jobs_3_2['person_uuid'].isin(w)]\n",
    "#startup_jobs_3_2_2.to_csv('startup_jobs_3_2_2.csv')"
   ]
  },
  {
   "cell_type": "code",
   "execution_count": 66,
   "metadata": {},
   "outputs": [
    {
     "data": {
      "text/plain": [
       "2"
      ]
     },
     "execution_count": 66,
     "metadata": {},
     "output_type": "execute_result"
    }
   ],
   "source": [
    "q = pd.read_csv('./manually_selected_data/manual3s.csv')\n",
    "startup_jobs_3_2_2 = startup_jobs_3_2_2[startup_jobs_3_2_2['job_uuid'].isin(q['job_uuid'])]\n",
    "len(startup_jobs_3_2_2)"
   ]
  },
  {
   "cell_type": "code",
   "execution_count": 67,
   "metadata": {},
   "outputs": [
    {
     "data": {
      "text/plain": [
       "235"
      ]
     },
     "execution_count": 67,
     "metadata": {},
     "output_type": "execute_result"
    }
   ],
   "source": [
    "d = c.loc[c['sum'] > 1]\n",
    "startup_jobs_4 = startup_jobs.loc[(startup_jobs['person_uuid'].isin(d['person_uuid'])) & (startup_jobs['is_current'] == 1)]\n",
    "startup_jobs_4 = startup_jobs_4.sort_values(by = ['person_uuid'], ascending = False)\n",
    "w = [np.nan]\n",
    "startup_jobs_4_1 = startup_jobs_4.loc[~startup_jobs_4['started_on'].isin(w)]\n",
    "e = set(startup_jobs_4_1['person_uuid'].values)\n",
    "startup_jobs_4_1['started_on'] = pd.to_datetime(startup_jobs_4_1['started_on'])\n",
    "startup_jobs_4_1 = startup_jobs_4_1.loc[startup_jobs_4_1.groupby(['person_uuid'])['started_on'].idxmax()]\n",
    "len(startup_jobs_4_1)"
   ]
  },
  {
   "cell_type": "code",
   "execution_count": 68,
   "metadata": {},
   "outputs": [
    {
     "data": {
      "text/plain": [
       "219"
      ]
     },
     "execution_count": 68,
     "metadata": {},
     "output_type": "execute_result"
    }
   ],
   "source": [
    "startup_jobs_4_2 = startup_jobs_4.loc[~startup_jobs_4['person_uuid'].isin(e)]\n",
    "startup_jobs_4_2_1 = startup_jobs_4_2.loc[startup_jobs_4_2['company_name'] == startup_jobs_4_2['primary_affiliation_organization']]\n",
    "q = startup_jobs_4_2_1.groupby(['person_uuid']).size().reset_index(name = 'count')\n",
    "w = q.loc[q['count'] == 1]\n",
    "w = set(w['person_uuid'].values)\n",
    "startup_jobs_4_2_1 = startup_jobs_4_2_1.loc[startup_jobs_4_2_1['person_uuid'].isin(w)]\n",
    "len(startup_jobs_4_2_1)"
   ]
  },
  {
   "cell_type": "code",
   "execution_count": 69,
   "metadata": {},
   "outputs": [],
   "source": [
    "startup_jobs_4_2_2 = startup_jobs_4_2.loc[~startup_jobs_4_2['person_uuid'].isin(w)]\n",
    "#startup_jobs_4_2_2.to_csv('startup_jobs_4_2_2.csv')"
   ]
  },
  {
   "cell_type": "code",
   "execution_count": 70,
   "metadata": {},
   "outputs": [
    {
     "data": {
      "text/plain": [
       "17"
      ]
     },
     "execution_count": 70,
     "metadata": {},
     "output_type": "execute_result"
    }
   ],
   "source": [
    "q = pd.read_csv('./manually_selected_data/manual4s.csv')\n",
    "startup_jobs_4_2_2 = startup_jobs_4_2_2[startup_jobs_4_2_2['job_uuid'].isin(q['job_uuid'])]\n",
    "len(startup_jobs_4_2_2)"
   ]
  },
  {
   "cell_type": "code",
   "execution_count": 71,
   "metadata": {},
   "outputs": [
    {
     "data": {
      "text/html": [
       "<div>\n",
       "<style scoped>\n",
       "    .dataframe tbody tr th:only-of-type {\n",
       "        vertical-align: middle;\n",
       "    }\n",
       "\n",
       "    .dataframe tbody tr th {\n",
       "        vertical-align: top;\n",
       "    }\n",
       "\n",
       "    .dataframe thead th {\n",
       "        text-align: right;\n",
       "    }\n",
       "</style>\n",
       "<table border=\"1\" class=\"dataframe\">\n",
       "  <thead>\n",
       "    <tr style=\"text-align: right;\">\n",
       "      <th></th>\n",
       "      <th>person_uuid</th>\n",
       "      <th>first_name</th>\n",
       "      <th>last_name</th>\n",
       "      <th>org_uuid</th>\n",
       "      <th>company_name</th>\n",
       "      <th>started_on</th>\n",
       "      <th>ended_on</th>\n",
       "      <th>is_current</th>\n",
       "      <th>title</th>\n",
       "      <th>primary_affiliation_organization</th>\n",
       "      <th>job_uuid</th>\n",
       "    </tr>\n",
       "  </thead>\n",
       "  <tbody>\n",
       "    <tr>\n",
       "      <th>0</th>\n",
       "      <td>ff54a439-e016-240d-1e50-941af24c7d56</td>\n",
       "      <td>Steve</td>\n",
       "      <td>Raymond</td>\n",
       "      <td>75e76c56-3026-404d-079d-be335a63d9ff</td>\n",
       "      <td>Popcap Games</td>\n",
       "      <td>2010-05-25</td>\n",
       "      <td>NaN</td>\n",
       "      <td>1</td>\n",
       "      <td>Director</td>\n",
       "      <td>Popcap Games</td>\n",
       "      <td>ce9982be-310c-8c4a-75b2-e08532b4633d</td>\n",
       "    </tr>\n",
       "    <tr>\n",
       "      <th>1</th>\n",
       "      <td>fe85c52f-5671-0594-8749-176c2b9a7de7</td>\n",
       "      <td>Karolyn</td>\n",
       "      <td>Baxter</td>\n",
       "      <td>5d82a211-61c0-c63b-a6a7-5649b6f5a5a8</td>\n",
       "      <td>Tilt</td>\n",
       "      <td>NaN</td>\n",
       "      <td>NaN</td>\n",
       "      <td>1</td>\n",
       "      <td>Founder &amp; CTO</td>\n",
       "      <td>Tilt</td>\n",
       "      <td>b9318cf2-17c1-ddbf-3e58-1fb1b1034785</td>\n",
       "    </tr>\n",
       "    <tr>\n",
       "      <th>2</th>\n",
       "      <td>fd83fe62-099e-1496-697a-d532cd8391a0</td>\n",
       "      <td>Stephen</td>\n",
       "      <td>Cumming</td>\n",
       "      <td>ef9427d1-e64d-b6c5-ebf7-233c6c29dc9b</td>\n",
       "      <td>Kenandy</td>\n",
       "      <td>NaN</td>\n",
       "      <td>NaN</td>\n",
       "      <td>1</td>\n",
       "      <td>Chief Financial Officer</td>\n",
       "      <td>Kenandy</td>\n",
       "      <td>248a57e9-e534-cbc8-1b7d-e133dd971148</td>\n",
       "    </tr>\n",
       "    <tr>\n",
       "      <th>3</th>\n",
       "      <td>fcb2d06d-98af-b9fd-02da-474d4dfe848e</td>\n",
       "      <td>Clay</td>\n",
       "      <td>Whitson</td>\n",
       "      <td>438c7e89-ba0c-b8cc-7ea6-1a0ac47ae40d</td>\n",
       "      <td>Edo Interactive</td>\n",
       "      <td>2010-10-27</td>\n",
       "      <td>NaN</td>\n",
       "      <td>0</td>\n",
       "      <td>Chief Financial Officer</td>\n",
       "      <td>NaN</td>\n",
       "      <td>ca249533-4533-9b01-3312-3b80e945b2d4</td>\n",
       "    </tr>\n",
       "    <tr>\n",
       "      <th>4</th>\n",
       "      <td>fc9d48bb-a85f-f0e1-1d96-22aa1c41a3cd</td>\n",
       "      <td>Paul</td>\n",
       "      <td>Garrett</td>\n",
       "      <td>46c990f6-e14d-3cfe-0bba-a95a6692cfad</td>\n",
       "      <td>InAuth</td>\n",
       "      <td>NaN</td>\n",
       "      <td>NaN</td>\n",
       "      <td>0</td>\n",
       "      <td>CFO</td>\n",
       "      <td>NaN</td>\n",
       "      <td>d3a929b8-cf25-54ba-af66-bb2b5b0b0f0b</td>\n",
       "    </tr>\n",
       "    <tr>\n",
       "      <th>...</th>\n",
       "      <td>...</td>\n",
       "      <td>...</td>\n",
       "      <td>...</td>\n",
       "      <td>...</td>\n",
       "      <td>...</td>\n",
       "      <td>...</td>\n",
       "      <td>...</td>\n",
       "      <td>...</td>\n",
       "      <td>...</td>\n",
       "      <td>...</td>\n",
       "      <td>...</td>\n",
       "    </tr>\n",
       "    <tr>\n",
       "      <th>1168</th>\n",
       "      <td>2e1a2f2f-90ef-c94b-491a-ed5a3b5ef2cf</td>\n",
       "      <td>Brian</td>\n",
       "      <td>Druker</td>\n",
       "      <td>57ad3281-6baf-c491-cead-4b7f199677ad</td>\n",
       "      <td>Oregon Health &amp; Science University</td>\n",
       "      <td>NaN</td>\n",
       "      <td>NaN</td>\n",
       "      <td>1</td>\n",
       "      <td>JELD-WEN Chairman of the Board of Directors for Leukemia Research</td>\n",
       "      <td>Oregon Health &amp; Science University</td>\n",
       "      <td>93999ae7-45f0-dcfb-f86a-fbf6d7691b57</td>\n",
       "    </tr>\n",
       "    <tr>\n",
       "      <th>1169</th>\n",
       "      <td>21344d69-2db1-e881-f738-7da72958b14a</td>\n",
       "      <td>Patrick</td>\n",
       "      <td>Mahaffy</td>\n",
       "      <td>2cc65071-ca68-6795-410f-6f1ff2c30576</td>\n",
       "      <td>Flexion Therapeutics</td>\n",
       "      <td>NaN</td>\n",
       "      <td>NaN</td>\n",
       "      <td>1</td>\n",
       "      <td>Chairman of the Board &amp; Board of Director</td>\n",
       "      <td>NaN</td>\n",
       "      <td>f944f478-e930-650e-36ce-7f6a8745de38</td>\n",
       "    </tr>\n",
       "    <tr>\n",
       "      <th>1170</th>\n",
       "      <td>1500e7b3-e648-0a1c-4dae-8a4ebca2abd8</td>\n",
       "      <td>Tim</td>\n",
       "      <td>Morse</td>\n",
       "      <td>829b8a5c-4b6e-207d-9b4c-4483f2e47de6</td>\n",
       "      <td>Ten-X</td>\n",
       "      <td>NaN</td>\n",
       "      <td>NaN</td>\n",
       "      <td>1</td>\n",
       "      <td>Chief Executive Officer and Director</td>\n",
       "      <td>Ten-X</td>\n",
       "      <td>6b21c340-59fe-094e-057e-239cff634991</td>\n",
       "    </tr>\n",
       "    <tr>\n",
       "      <th>1171</th>\n",
       "      <td>0433c14c-ab46-5ebd-9552-fe80e334a505</td>\n",
       "      <td>Charles</td>\n",
       "      <td>Cooney</td>\n",
       "      <td>6599f877-7c83-0c47-b05b-dbedd3db7b3a</td>\n",
       "      <td>Massachusetts Institute of Technology - MIT</td>\n",
       "      <td>NaN</td>\n",
       "      <td>NaN</td>\n",
       "      <td>1</td>\n",
       "      <td>MIT Faculty Director of the Consortium on Advanced Manufacturing for Pharmaceuticals</td>\n",
       "      <td>Massachusetts Institute of Technology - MIT</td>\n",
       "      <td>db78cbd0-faa9-d57a-38d1-c32608749d87</td>\n",
       "    </tr>\n",
       "    <tr>\n",
       "      <th>1172</th>\n",
       "      <td>00aa8ef1-545c-ca6f-b58b-0d3141e791a8</td>\n",
       "      <td>Yom-Tov</td>\n",
       "      <td>Samia</td>\n",
       "      <td>9121535a-ce52-1e2f-5669-afcabfe7f677</td>\n",
       "      <td>Primus Green Energy</td>\n",
       "      <td>NaN</td>\n",
       "      <td>NaN</td>\n",
       "      <td>1</td>\n",
       "      <td>Chairman of the Board</td>\n",
       "      <td>Primus Green Energy</td>\n",
       "      <td>487e56a3-071b-63fa-5e3c-8505b3d2878f</td>\n",
       "    </tr>\n",
       "  </tbody>\n",
       "</table>\n",
       "<p>1173 rows × 11 columns</p>\n",
       "</div>"
      ],
      "text/plain": [
       "                               person_uuid first_name last_name  \\\n",
       "0     ff54a439-e016-240d-1e50-941af24c7d56      Steve   Raymond   \n",
       "1     fe85c52f-5671-0594-8749-176c2b9a7de7    Karolyn    Baxter   \n",
       "2     fd83fe62-099e-1496-697a-d532cd8391a0    Stephen   Cumming   \n",
       "3     fcb2d06d-98af-b9fd-02da-474d4dfe848e       Clay   Whitson   \n",
       "4     fc9d48bb-a85f-f0e1-1d96-22aa1c41a3cd       Paul   Garrett   \n",
       "...                                    ...        ...       ...   \n",
       "1168  2e1a2f2f-90ef-c94b-491a-ed5a3b5ef2cf      Brian    Druker   \n",
       "1169  21344d69-2db1-e881-f738-7da72958b14a    Patrick   Mahaffy   \n",
       "1170  1500e7b3-e648-0a1c-4dae-8a4ebca2abd8        Tim     Morse   \n",
       "1171  0433c14c-ab46-5ebd-9552-fe80e334a505    Charles    Cooney   \n",
       "1172  00aa8ef1-545c-ca6f-b58b-0d3141e791a8    Yom-Tov     Samia   \n",
       "\n",
       "                                  org_uuid  \\\n",
       "0     75e76c56-3026-404d-079d-be335a63d9ff   \n",
       "1     5d82a211-61c0-c63b-a6a7-5649b6f5a5a8   \n",
       "2     ef9427d1-e64d-b6c5-ebf7-233c6c29dc9b   \n",
       "3     438c7e89-ba0c-b8cc-7ea6-1a0ac47ae40d   \n",
       "4     46c990f6-e14d-3cfe-0bba-a95a6692cfad   \n",
       "...                                    ...   \n",
       "1168  57ad3281-6baf-c491-cead-4b7f199677ad   \n",
       "1169  2cc65071-ca68-6795-410f-6f1ff2c30576   \n",
       "1170  829b8a5c-4b6e-207d-9b4c-4483f2e47de6   \n",
       "1171  6599f877-7c83-0c47-b05b-dbedd3db7b3a   \n",
       "1172  9121535a-ce52-1e2f-5669-afcabfe7f677   \n",
       "\n",
       "                                     company_name  started_on ended_on  \\\n",
       "0                                    Popcap Games  2010-05-25      NaN   \n",
       "1                                            Tilt         NaN      NaN   \n",
       "2                                         Kenandy         NaN      NaN   \n",
       "3                                 Edo Interactive  2010-10-27      NaN   \n",
       "4                                          InAuth         NaN      NaN   \n",
       "...                                           ...         ...      ...   \n",
       "1168           Oregon Health & Science University         NaN      NaN   \n",
       "1169                         Flexion Therapeutics         NaN      NaN   \n",
       "1170                                        Ten-X         NaN      NaN   \n",
       "1171  Massachusetts Institute of Technology - MIT         NaN      NaN   \n",
       "1172                          Primus Green Energy         NaN      NaN   \n",
       "\n",
       "     is_current  \\\n",
       "0             1   \n",
       "1             1   \n",
       "2             1   \n",
       "3             0   \n",
       "4             0   \n",
       "...         ...   \n",
       "1168          1   \n",
       "1169          1   \n",
       "1170          1   \n",
       "1171          1   \n",
       "1172          1   \n",
       "\n",
       "                                                                                     title  \\\n",
       "0                                                                                 Director   \n",
       "1                                                                            Founder & CTO   \n",
       "2                                                                  Chief Financial Officer   \n",
       "3                                                                  Chief Financial Officer   \n",
       "4                                                                                      CFO   \n",
       "...                                                                                    ...   \n",
       "1168                     JELD-WEN Chairman of the Board of Directors for Leukemia Research   \n",
       "1169                                             Chairman of the Board & Board of Director   \n",
       "1170                                                  Chief Executive Officer and Director   \n",
       "1171  MIT Faculty Director of the Consortium on Advanced Manufacturing for Pharmaceuticals   \n",
       "1172                                                                 Chairman of the Board   \n",
       "\n",
       "                 primary_affiliation_organization  \\\n",
       "0                                    Popcap Games   \n",
       "1                                            Tilt   \n",
       "2                                         Kenandy   \n",
       "3                                             NaN   \n",
       "4                                             NaN   \n",
       "...                                           ...   \n",
       "1168           Oregon Health & Science University   \n",
       "1169                                          NaN   \n",
       "1170                                        Ten-X   \n",
       "1171  Massachusetts Institute of Technology - MIT   \n",
       "1172                          Primus Green Energy   \n",
       "\n",
       "                                  job_uuid  \n",
       "0     ce9982be-310c-8c4a-75b2-e08532b4633d  \n",
       "1     b9318cf2-17c1-ddbf-3e58-1fb1b1034785  \n",
       "2     248a57e9-e534-cbc8-1b7d-e133dd971148  \n",
       "3     ca249533-4533-9b01-3312-3b80e945b2d4  \n",
       "4     d3a929b8-cf25-54ba-af66-bb2b5b0b0f0b  \n",
       "...                                    ...  \n",
       "1168  93999ae7-45f0-dcfb-f86a-fbf6d7691b57  \n",
       "1169  f944f478-e930-650e-36ce-7f6a8745de38  \n",
       "1170  6b21c340-59fe-094e-057e-239cff634991  \n",
       "1171  db78cbd0-faa9-d57a-38d1-c32608749d87  \n",
       "1172  487e56a3-071b-63fa-5e3c-8505b3d2878f  \n",
       "\n",
       "[1173 rows x 11 columns]"
      ]
     },
     "execution_count": 71,
     "metadata": {},
     "output_type": "execute_result"
    }
   ],
   "source": [
    "nonli_startup_jobs = pd.concat([startup_jobs_1, startup_jobs_2, startup_jobs_3_1, startup_jobs_3_2_1, startup_jobs_3_2_2, startup_jobs_4_1, startup_jobs_4_2_1, startup_jobs_4_2_2]).drop_duplicates().reset_index(drop=True)\n",
    "nonli_startup_jobs"
   ]
  },
  {
   "cell_type": "code",
   "execution_count": 72,
   "metadata": {},
   "outputs": [
    {
     "data": {
      "text/html": [
       "<div>\n",
       "<style scoped>\n",
       "    .dataframe tbody tr th:only-of-type {\n",
       "        vertical-align: middle;\n",
       "    }\n",
       "\n",
       "    .dataframe tbody tr th {\n",
       "        vertical-align: top;\n",
       "    }\n",
       "\n",
       "    .dataframe thead th {\n",
       "        text-align: right;\n",
       "    }\n",
       "</style>\n",
       "<table border=\"1\" class=\"dataframe\">\n",
       "  <thead>\n",
       "    <tr style=\"text-align: right;\">\n",
       "      <th></th>\n",
       "      <th>person_uuid</th>\n",
       "      <th>number_of_people</th>\n",
       "    </tr>\n",
       "  </thead>\n",
       "  <tbody>\n",
       "    <tr>\n",
       "      <th>0</th>\n",
       "      <td>002f79b2-baf6-d512-ef43-4f3dfc020510</td>\n",
       "      <td>1</td>\n",
       "    </tr>\n",
       "    <tr>\n",
       "      <th>1</th>\n",
       "      <td>0069e8ef-54f7-1788-4d6a-0ce75ae2bbfc</td>\n",
       "      <td>6</td>\n",
       "    </tr>\n",
       "    <tr>\n",
       "      <th>2</th>\n",
       "      <td>00aa8ef1-545c-ca6f-b58b-0d3141e791a8</td>\n",
       "      <td>2</td>\n",
       "    </tr>\n",
       "    <tr>\n",
       "      <th>3</th>\n",
       "      <td>0100f446-e3c5-91bc-9213-ec66ece99eb7</td>\n",
       "      <td>1</td>\n",
       "    </tr>\n",
       "    <tr>\n",
       "      <th>4</th>\n",
       "      <td>01165d06-d927-6b47-4518-d21a8c748216</td>\n",
       "      <td>10</td>\n",
       "    </tr>\n",
       "    <tr>\n",
       "      <th>...</th>\n",
       "      <td>...</td>\n",
       "      <td>...</td>\n",
       "    </tr>\n",
       "    <tr>\n",
       "      <th>1168</th>\n",
       "      <td>fe9f1ea2-f7c9-c03b-b276-92f30270cdd9</td>\n",
       "      <td>3</td>\n",
       "    </tr>\n",
       "    <tr>\n",
       "      <th>1169</th>\n",
       "      <td>febae8ac-acc0-a478-4593-9e5e1f31ddbb</td>\n",
       "      <td>7</td>\n",
       "    </tr>\n",
       "    <tr>\n",
       "      <th>1170</th>\n",
       "      <td>feded313-e3a8-9f21-7dab-fdb0c00ffc89</td>\n",
       "      <td>3</td>\n",
       "    </tr>\n",
       "    <tr>\n",
       "      <th>1171</th>\n",
       "      <td>ff54a439-e016-240d-1e50-941af24c7d56</td>\n",
       "      <td>1</td>\n",
       "    </tr>\n",
       "    <tr>\n",
       "      <th>1172</th>\n",
       "      <td>ff6a5f52-63b1-0d87-4898-3b0bc4742d25</td>\n",
       "      <td>4</td>\n",
       "    </tr>\n",
       "  </tbody>\n",
       "</table>\n",
       "<p>1173 rows × 2 columns</p>\n",
       "</div>"
      ],
      "text/plain": [
       "                               person_uuid  number_of_people\n",
       "0     002f79b2-baf6-d512-ef43-4f3dfc020510                 1\n",
       "1     0069e8ef-54f7-1788-4d6a-0ce75ae2bbfc                 6\n",
       "2     00aa8ef1-545c-ca6f-b58b-0d3141e791a8                 2\n",
       "3     0100f446-e3c5-91bc-9213-ec66ece99eb7                 1\n",
       "4     01165d06-d927-6b47-4518-d21a8c748216                10\n",
       "...                                    ...               ...\n",
       "1168  fe9f1ea2-f7c9-c03b-b276-92f30270cdd9                 3\n",
       "1169  febae8ac-acc0-a478-4593-9e5e1f31ddbb                 7\n",
       "1170  feded313-e3a8-9f21-7dab-fdb0c00ffc89                 3\n",
       "1171  ff54a439-e016-240d-1e50-941af24c7d56                 1\n",
       "1172  ff6a5f52-63b1-0d87-4898-3b0bc4742d25                 4\n",
       "\n",
       "[1173 rows x 2 columns]"
      ]
     },
     "execution_count": 72,
     "metadata": {},
     "output_type": "execute_result"
    }
   ],
   "source": [
    "startup_jobs.groupby(['person_uuid']).size().reset_index(name = 'number_of_people')"
   ]
  },
  {
   "cell_type": "markdown",
   "metadata": {},
   "source": [
    "Объединим списки людей из фондов и из стартапов"
   ]
  },
  {
   "cell_type": "code",
   "execution_count": 73,
   "metadata": {},
   "outputs": [
    {
     "data": {
      "text/plain": [
       "1071"
      ]
     },
     "execution_count": 73,
     "metadata": {},
     "output_type": "execute_result"
    }
   ],
   "source": [
    "len(nonli_fund_jobs)"
   ]
  },
  {
   "cell_type": "code",
   "execution_count": 74,
   "metadata": {},
   "outputs": [
    {
     "data": {
      "text/plain": [
       "1173"
      ]
     },
     "execution_count": 74,
     "metadata": {},
     "output_type": "execute_result"
    }
   ],
   "source": [
    "len(nonli_startup_jobs)"
   ]
  },
  {
   "cell_type": "code",
   "execution_count": 75,
   "metadata": {},
   "outputs": [
    {
     "data": {
      "text/plain": [
       "2162"
      ]
     },
     "execution_count": 75,
     "metadata": {},
     "output_type": "execute_result"
    }
   ],
   "source": [
    "nonli_jobs = pd.concat([nonli_startup_jobs, nonli_fund_jobs]).drop_duplicates(subset='person_uuid').reset_index(drop=True)\n",
    "len(nonli_jobs)"
   ]
  },
  {
   "cell_type": "code",
   "execution_count": 76,
   "metadata": {},
   "outputs": [
    {
     "data": {
      "text/plain": [
       "297"
      ]
     },
     "execution_count": 76,
     "metadata": {},
     "output_type": "execute_result"
    }
   ],
   "source": [
    "len(broken_fund_jobs)"
   ]
  },
  {
   "cell_type": "code",
   "execution_count": 77,
   "metadata": {},
   "outputs": [
    {
     "data": {
      "text/plain": [
       "227"
      ]
     },
     "execution_count": 77,
     "metadata": {},
     "output_type": "execute_result"
    }
   ],
   "source": [
    "len(bbroken_jobs)"
   ]
  },
  {
   "cell_type": "code",
   "execution_count": 78,
   "metadata": {},
   "outputs": [
    {
     "data": {
      "text/plain": [
       "488"
      ]
     },
     "execution_count": 78,
     "metadata": {},
     "output_type": "execute_result"
    }
   ],
   "source": [
    "broken_jobs = pd.concat([broken_fund_jobs, bbroken_jobs]).drop_duplicates(subset='person_uuid').reset_index(drop=True)\n",
    "len(broken_jobs)"
   ]
  },
  {
   "cell_type": "markdown",
   "metadata": {},
   "source": [
    "Список уникальных людей с наиболее актуальными местами работы, без ссылок на LI"
   ]
  },
  {
   "cell_type": "code",
   "execution_count": 79,
   "metadata": {},
   "outputs": [
    {
     "data": {
      "text/plain": [
       "5319"
      ]
     },
     "execution_count": 79,
     "metadata": {},
     "output_type": "execute_result"
    }
   ],
   "source": [
    "len(linkedin_fund_jobs)"
   ]
  },
  {
   "cell_type": "code",
   "execution_count": 80,
   "metadata": {},
   "outputs": [
    {
     "data": {
      "text/plain": [
       "4054"
      ]
     },
     "execution_count": 80,
     "metadata": {},
     "output_type": "execute_result"
    }
   ],
   "source": [
    "len(linkedin_startup_jobs)"
   ]
  },
  {
   "cell_type": "code",
   "execution_count": 81,
   "metadata": {},
   "outputs": [
    {
     "data": {
      "text/plain": [
       "8435"
      ]
     },
     "execution_count": 81,
     "metadata": {},
     "output_type": "execute_result"
    }
   ],
   "source": [
    "linkedin_jobs = pd.concat([linkedin_startup_jobs, linkedin_fund_jobs]).drop_duplicates().reset_index(drop=True)\n",
    "len(linkedin_jobs)"
   ]
  },
  {
   "cell_type": "code",
   "execution_count": 82,
   "metadata": {},
   "outputs": [
    {
     "data": {
      "text/plain": [
       "5227"
      ]
     },
     "execution_count": 82,
     "metadata": {},
     "output_type": "execute_result"
    }
   ],
   "source": [
    "list_of_entrepreneurs = pd.concat([nonli_startup_jobs, linkedin_startup_jobs]).drop_duplicates().reset_index(drop=True)\n",
    "#list_of_entrepreneurs.to_csv('list_of_entrepreneurs.csv', encoding = 'utf-8-sig')\n",
    "len(list_of_entrepreneurs)"
   ]
  },
  {
   "cell_type": "code",
   "execution_count": 83,
   "metadata": {},
   "outputs": [
    {
     "data": {
      "text/plain": [
       "6390"
      ]
     },
     "execution_count": 83,
     "metadata": {},
     "output_type": "execute_result"
    }
   ],
   "source": [
    "list_of_investors = pd.concat([nonli_fund_jobs, linkedin_fund_jobs]).drop_duplicates().reset_index(drop=True)\n",
    "#list_of_investors.to_csv('list_of_investors.csv', encoding = 'utf-8-sig')\n",
    "len(list_of_investors)"
   ]
  },
  {
   "cell_type": "markdown",
   "metadata": {},
   "source": [
    "Список уникальных людей со ссылками на LI"
   ]
  },
  {
   "cell_type": "code",
   "execution_count": 84,
   "metadata": {},
   "outputs": [],
   "source": [
    "linkedin_jobs['first_name'].replace(to_replace=' \\w+\\.', value = '', inplace = True, regex = True)\n",
    "linkedin_jobs['first_name'].replace(to_replace='\\w+\\. ', value = '', inplace = True, regex = True)\n",
    "linkedin_jobs['first_name'].replace(to_replace='\\w+\\.', value = '', inplace = True, regex = True)\n",
    "linkedin_jobs['last_name'].replace(to_replace=' \\w+\\.', value = '', inplace = True, regex = True)\n",
    "linkedin_jobs['last_name'].replace(to_replace='\\w+\\. ', value = '', inplace = True, regex = True)\n",
    "linkedin_jobs['last_name'].replace(to_replace='\\w+\\.', value = '', inplace = True, regex = True)\n",
    "\n",
    "linkedin_jobs['first_name'].replace(to_replace=' \"\\w+\"', value = '', inplace = True, regex=True)\n",
    "linkedin_jobs['first_name'].replace(to_replace='\"\\w+\" ', value = '', inplace = True, regex=True)\n",
    "linkedin_jobs['first_name'].replace(to_replace='\"\\w+\"', value = '', inplace = True, regex=True)\n",
    "linkedin_jobs['last_name'].replace(to_replace=' \"\\w+\"', value = '', inplace = True, regex=True)\n",
    "linkedin_jobs['last_name'].replace(to_replace='\"\\w+\" ', value = '', inplace = True, regex=True)\n",
    "linkedin_jobs['last_name'].replace(to_replace='\"\\w+\"', value = '', inplace = True, regex=True)\n",
    "\n",
    "linkedin_jobs['first_name'].replace(to_replace=' \\(\\w+\\)', value = '', inplace = True, regex=True)\n",
    "linkedin_jobs['first_name'].replace(to_replace='\\(\\w+\\) ', value = '', inplace = True, regex=True)\n",
    "linkedin_jobs['first_name'].replace(to_replace='\\(\\w+\\)', value = '', inplace = True, regex=True)\n",
    "linkedin_jobs['last_name'].replace(to_replace=' \\(\\w+\\)', value = '', inplace = True, regex=True)\n",
    "linkedin_jobs['last_name'].replace(to_replace='\\(\\w+\\) ', value = '', inplace = True, regex=True)\n",
    "linkedin_jobs['last_name'].replace(to_replace='\\(\\w+\\)', value = '', inplace = True, regex=True)\n",
    "\n",
    "linkedin_jobs['first_name'].replace(to_replace=' \\w$', value = '', inplace = True, regex=True)\n",
    "linkedin_jobs['last_name'].replace(to_replace=' \\w$', value = '', inplace = True, regex=True)\n",
    "\n",
    "linkedin_jobs['first_name'].replace(to_replace=',\\w+', value = '', inplace = True, regex=True)\n",
    "linkedin_jobs['last_name'].replace(to_replace=',\\w+', value = '', inplace = True, regex=True)"
   ]
  },
  {
   "cell_type": "code",
   "execution_count": 85,
   "metadata": {},
   "outputs": [],
   "source": [
    "nonli_jobs['started_on'] = pd.to_datetime(nonli_jobs['started_on']).dt.date\n",
    "\n",
    "nonli_jobs['first_name'].replace(to_replace=' \\w+\\.', value = '', inplace = True, regex = True)\n",
    "nonli_jobs['first_name'].replace(to_replace='\\w+\\. ', value = '', inplace = True, regex = True)\n",
    "nonli_jobs['first_name'].replace(to_replace='\\w+\\.', value = '', inplace = True, regex = True)\n",
    "nonli_jobs['last_name'].replace(to_replace=' \\w+\\.', value = '', inplace = True, regex = True)\n",
    "nonli_jobs['last_name'].replace(to_replace='\\w+\\. ', value = '', inplace = True, regex = True)\n",
    "nonli_jobs['last_name'].replace(to_replace='\\w+\\.', value = '', inplace = True, regex = True)\n",
    "\n",
    "nonli_jobs['first_name'].replace(to_replace=' \"\\w+\"', value = '', inplace = True, regex=True)\n",
    "nonli_jobs['first_name'].replace(to_replace='\"\\w+\" ', value = '', inplace = True, regex=True)\n",
    "nonli_jobs['first_name'].replace(to_replace='\"\\w+\"', value = '', inplace = True, regex=True)\n",
    "nonli_jobs['last_name'].replace(to_replace=' \"\\w+\"', value = '', inplace = True, regex=True)\n",
    "nonli_jobs['last_name'].replace(to_replace='\"\\w+\" ', value = '', inplace = True, regex=True)\n",
    "nonli_jobs['last_name'].replace(to_replace='\"\\w+\"', value = '', inplace = True, regex=True)\n",
    "\n",
    "nonli_jobs['first_name'].replace(to_replace=' \\(\\w+\\)', value = '', inplace = True, regex=True)\n",
    "nonli_jobs['first_name'].replace(to_replace='\\(\\w+\\) ', value = '', inplace = True, regex=True)\n",
    "nonli_jobs['first_name'].replace(to_replace='\\(\\w+\\)', value = '', inplace = True, regex=True)\n",
    "nonli_jobs['last_name'].replace(to_replace=' \\(\\w+\\)', value = '', inplace = True, regex=True)\n",
    "nonli_jobs['last_name'].replace(to_replace='\\(\\w+\\) ', value = '', inplace = True, regex=True)\n",
    "nonli_jobs['last_name'].replace(to_replace='\\(\\w+\\)', value = '', inplace = True, regex=True)\n",
    "\n",
    "nonli_jobs['first_name'].replace(to_replace=' \\w$', value = '', inplace = True, regex=True)\n",
    "nonli_jobs['last_name'].replace(to_replace=' \\w$', value = '', inplace = True, regex=True)\n",
    "\n",
    "nonli_jobs['first_name'].replace(to_replace=',\\w+', value = '', inplace = True, regex=True)\n",
    "nonli_jobs['last_name'].replace(to_replace=',\\w+', value = '', inplace = True, regex=True)"
   ]
  },
  {
   "cell_type": "code",
   "execution_count": 86,
   "metadata": {},
   "outputs": [],
   "source": [
    "broken_jobs['started_on'] = pd.to_datetime(broken_jobs['started_on']).dt.date\n",
    "\n",
    "broken_jobs['first_name'].replace(to_replace=' \\w+\\.', value = '', inplace = True, regex = True)\n",
    "broken_jobs['first_name'].replace(to_replace='\\w+\\. ', value = '', inplace = True, regex = True)\n",
    "broken_jobs['first_name'].replace(to_replace='\\w+\\.', value = '', inplace = True, regex = True)\n",
    "broken_jobs['last_name'].replace(to_replace=' \\w+\\.', value = '', inplace = True, regex = True)\n",
    "broken_jobs['last_name'].replace(to_replace='\\w+\\. ', value = '', inplace = True, regex = True)\n",
    "broken_jobs['last_name'].replace(to_replace='\\w+\\.', value = '', inplace = True, regex = True)\n",
    "\n",
    "broken_jobs['first_name'].replace(to_replace=' \"\\w+\"', value = '', inplace = True, regex=True)\n",
    "broken_jobs['first_name'].replace(to_replace='\"\\w+\" ', value = '', inplace = True, regex=True)\n",
    "broken_jobs['first_name'].replace(to_replace='\"\\w+\"', value = '', inplace = True, regex=True)\n",
    "broken_jobs['last_name'].replace(to_replace=' \"\\w+\"', value = '', inplace = True, regex=True)\n",
    "broken_jobs['last_name'].replace(to_replace='\"\\w+\" ', value = '', inplace = True, regex=True)\n",
    "broken_jobs['last_name'].replace(to_replace='\"\\w+\"', value = '', inplace = True, regex=True)\n",
    "\n",
    "broken_jobs['first_name'].replace(to_replace=' \\(\\w+\\)', value = '', inplace = True, regex=True)\n",
    "broken_jobs['first_name'].replace(to_replace='\\(\\w+\\) ', value = '', inplace = True, regex=True)\n",
    "broken_jobs['first_name'].replace(to_replace='\\(\\w+\\)', value = '', inplace = True, regex=True)\n",
    "broken_jobs['last_name'].replace(to_replace=' \\(\\w+\\)', value = '', inplace = True, regex=True)\n",
    "broken_jobs['last_name'].replace(to_replace='\\(\\w+\\) ', value = '', inplace = True, regex=True)\n",
    "broken_jobs['last_name'].replace(to_replace='\\(\\w+\\)', value = '', inplace = True, regex=True)\n",
    "\n",
    "broken_jobs['first_name'].replace(to_replace=' \\w$', value = '', inplace = True, regex=True)\n",
    "broken_jobs['last_name'].replace(to_replace=' \\w$', value = '', inplace = True, regex=True)\n",
    "\n",
    "broken_jobs['first_name'].replace(to_replace=',\\w+', value = '', inplace = True, regex=True)\n",
    "broken_jobs['last_name'].replace(to_replace=',\\w+', value = '', inplace = True, regex=True)"
   ]
  },
  {
   "cell_type": "code",
   "execution_count": 87,
   "metadata": {},
   "outputs": [],
   "source": [
    "linkedin_jobs.to_csv('linkedin_jobs.csv', encoding = 'utf-8-sig')\n",
    "nonli_jobs.to_csv('nonli_jobs.csv', encoding = 'utf-8-sig')\n",
    "broken_jobs.to_csv('broken_jobs.csv', encoding = 'utf-8-sig')"
   ]
  },
  {
   "cell_type": "markdown",
   "metadata": {},
   "source": [
    "### Исследование списка инвесторов, занимающих должности в стартапах"
   ]
  },
  {
   "cell_type": "markdown",
   "metadata": {},
   "source": [
    "Найдем пересечение работников стартапов с людьми, работающими в инвесткомпаниях и таким образом получим список важных людей-инвесторов"
   ]
  },
  {
   "cell_type": "code",
   "execution_count": 88,
   "metadata": {},
   "outputs": [
    {
     "data": {
      "text/plain": [
       "1426"
      ]
     },
     "execution_count": 88,
     "metadata": {},
     "output_type": "execute_result"
    }
   ],
   "source": [
    "startup_and_fund = startup_employee.intersection(fund_employee)\n",
    "len(startup_and_fund)"
   ]
  },
  {
   "cell_type": "markdown",
   "metadata": {},
   "source": [
    "В фондах у них следующие должности:"
   ]
  },
  {
   "cell_type": "code",
   "execution_count": 89,
   "metadata": {},
   "outputs": [
    {
     "data": {
      "text/html": [
       "<div>\n",
       "<style scoped>\n",
       "    .dataframe tbody tr th:only-of-type {\n",
       "        vertical-align: middle;\n",
       "    }\n",
       "\n",
       "    .dataframe tbody tr th {\n",
       "        vertical-align: top;\n",
       "    }\n",
       "\n",
       "    .dataframe thead th {\n",
       "        text-align: right;\n",
       "    }\n",
       "</style>\n",
       "<table border=\"1\" class=\"dataframe\">\n",
       "  <thead>\n",
       "    <tr style=\"text-align: right;\">\n",
       "      <th></th>\n",
       "      <th>title</th>\n",
       "      <th>count</th>\n",
       "    </tr>\n",
       "  </thead>\n",
       "  <tbody>\n",
       "    <tr>\n",
       "      <th>332</th>\n",
       "      <td>Partner</td>\n",
       "      <td>245</td>\n",
       "    </tr>\n",
       "    <tr>\n",
       "      <th>214</th>\n",
       "      <td>General Partner</td>\n",
       "      <td>225</td>\n",
       "    </tr>\n",
       "    <tr>\n",
       "      <th>279</th>\n",
       "      <td>Managing Director</td>\n",
       "      <td>137</td>\n",
       "    </tr>\n",
       "    <tr>\n",
       "      <th>519</th>\n",
       "      <td>Venture Partner</td>\n",
       "      <td>102</td>\n",
       "    </tr>\n",
       "    <tr>\n",
       "      <th>474</th>\n",
       "      <td>Team Member</td>\n",
       "      <td>50</td>\n",
       "    </tr>\n",
       "    <tr>\n",
       "      <th>...</th>\n",
       "      <td>...</td>\n",
       "      <td>...</td>\n",
       "    </tr>\n",
       "    <tr>\n",
       "      <th>217</th>\n",
       "      <td>General Partner &amp; MD</td>\n",
       "      <td>1</td>\n",
       "    </tr>\n",
       "    <tr>\n",
       "      <th>213</th>\n",
       "      <td>General Managing Partner</td>\n",
       "      <td>1</td>\n",
       "    </tr>\n",
       "    <tr>\n",
       "      <th>212</th>\n",
       "      <td>General Manager, Amazon Elastic MapReduce</td>\n",
       "      <td>1</td>\n",
       "    </tr>\n",
       "    <tr>\n",
       "      <th>211</th>\n",
       "      <td>General Manager of European Nephrology</td>\n",
       "      <td>1</td>\n",
       "    </tr>\n",
       "    <tr>\n",
       "      <th>567</th>\n",
       "      <td>vice president of worldwide operations</td>\n",
       "      <td>1</td>\n",
       "    </tr>\n",
       "  </tbody>\n",
       "</table>\n",
       "<p>568 rows × 2 columns</p>\n",
       "</div>"
      ],
      "text/plain": [
       "                                         title  count\n",
       "332                                    Partner    245\n",
       "214                            General Partner    225\n",
       "279                          Managing Director    137\n",
       "519                            Venture Partner    102\n",
       "474                                Team Member     50\n",
       "..                                         ...    ...\n",
       "217                       General Partner & MD      1\n",
       "213                   General Managing Partner      1\n",
       "212  General Manager, Amazon Elastic MapReduce      1\n",
       "211     General Manager of European Nephrology      1\n",
       "567     vice president of worldwide operations      1\n",
       "\n",
       "[568 rows x 2 columns]"
      ]
     },
     "execution_count": 89,
     "metadata": {},
     "output_type": "execute_result"
    }
   ],
   "source": [
    "a = jobs.loc[(jobs['org_uuid'].isin(investor_list['investor_uuid'])) & (jobs['person_uuid'].isin(startup_and_fund))]\n",
    "startuper_job_in_fund = a.groupby(['title']).size().reset_index(name = 'count')\n",
    "startuper_job_in_fund.sort_values(by = ['count'], ascending = False)"
   ]
  },
  {
   "cell_type": "code",
   "execution_count": 90,
   "metadata": {},
   "outputs": [],
   "source": [
    "#startuper_job_in_fund.to_csv('startuper_job_in_fund.csv')"
   ]
  },
  {
   "cell_type": "markdown",
   "metadata": {},
   "source": [
    "Занимают они следующие должности в стартапах:"
   ]
  },
  {
   "cell_type": "code",
   "execution_count": 91,
   "metadata": {},
   "outputs": [
    {
     "data": {
      "text/html": [
       "<div>\n",
       "<style scoped>\n",
       "    .dataframe tbody tr th:only-of-type {\n",
       "        vertical-align: middle;\n",
       "    }\n",
       "\n",
       "    .dataframe tbody tr th {\n",
       "        vertical-align: top;\n",
       "    }\n",
       "\n",
       "    .dataframe thead th {\n",
       "        text-align: right;\n",
       "    }\n",
       "</style>\n",
       "<table border=\"1\" class=\"dataframe\">\n",
       "  <thead>\n",
       "    <tr style=\"text-align: right;\">\n",
       "      <th></th>\n",
       "      <th>title</th>\n",
       "      <th>count</th>\n",
       "    </tr>\n",
       "  </thead>\n",
       "  <tbody>\n",
       "    <tr>\n",
       "      <th>189</th>\n",
       "      <td>Member of the Board of Directors</td>\n",
       "      <td>277</td>\n",
       "    </tr>\n",
       "    <tr>\n",
       "      <th>27</th>\n",
       "      <td>Board of Directors</td>\n",
       "      <td>152</td>\n",
       "    </tr>\n",
       "    <tr>\n",
       "      <th>17</th>\n",
       "      <td>Board Member</td>\n",
       "      <td>87</td>\n",
       "    </tr>\n",
       "    <tr>\n",
       "      <th>16</th>\n",
       "      <td>Board Director</td>\n",
       "      <td>41</td>\n",
       "    </tr>\n",
       "    <tr>\n",
       "      <th>62</th>\n",
       "      <td>Chairman of the Board of Directors</td>\n",
       "      <td>38</td>\n",
       "    </tr>\n",
       "    <tr>\n",
       "      <th>...</th>\n",
       "      <td>...</td>\n",
       "      <td>...</td>\n",
       "    </tr>\n",
       "    <tr>\n",
       "      <th>130</th>\n",
       "      <td>Founder and Former Chairman, President, COO and CEO</td>\n",
       "      <td>1</td>\n",
       "    </tr>\n",
       "    <tr>\n",
       "      <th>131</th>\n",
       "      <td>Founder and General Partner</td>\n",
       "      <td>1</td>\n",
       "    </tr>\n",
       "    <tr>\n",
       "      <th>132</th>\n",
       "      <td>Founder and President</td>\n",
       "      <td>1</td>\n",
       "    </tr>\n",
       "    <tr>\n",
       "      <th>133</th>\n",
       "      <td>Founder and a Managing Director</td>\n",
       "      <td>1</td>\n",
       "    </tr>\n",
       "    <tr>\n",
       "      <th>311</th>\n",
       "      <td>vice president of optical strategy and group vice president of optical networking</td>\n",
       "      <td>1</td>\n",
       "    </tr>\n",
       "  </tbody>\n",
       "</table>\n",
       "<p>312 rows × 2 columns</p>\n",
       "</div>"
      ],
      "text/plain": [
       "                                                                                 title  \\\n",
       "189                                                   Member of the Board of Directors   \n",
       "27                                                                  Board of Directors   \n",
       "17                                                                        Board Member   \n",
       "16                                                                      Board Director   \n",
       "62                                                  Chairman of the Board of Directors   \n",
       "..                                                                                 ...   \n",
       "130                                Founder and Former Chairman, President, COO and CEO   \n",
       "131                                                        Founder and General Partner   \n",
       "132                                                              Founder and President   \n",
       "133                                                    Founder and a Managing Director   \n",
       "311  vice president of optical strategy and group vice president of optical networking   \n",
       "\n",
       "     count  \n",
       "189    277  \n",
       "27     152  \n",
       "17      87  \n",
       "16      41  \n",
       "62      38  \n",
       "..     ...  \n",
       "130      1  \n",
       "131      1  \n",
       "132      1  \n",
       "133      1  \n",
       "311      1  \n",
       "\n",
       "[312 rows x 2 columns]"
      ]
     },
     "execution_count": 91,
     "metadata": {},
     "output_type": "execute_result"
    }
   ],
   "source": [
    "investor_job_in_startup = startup_jobs.loc[startup_jobs['person_uuid'].isin(startup_and_fund)]\n",
    "investor_job_in_startup = investor_job_in_startup.groupby(['title']).size().reset_index(name = 'count')\n",
    "investor_job_in_startup.sort_values(by = ['count'], ascending = False)"
   ]
  },
  {
   "cell_type": "code",
   "execution_count": 92,
   "metadata": {},
   "outputs": [],
   "source": [
    "#investor_job_in_startup.to_csv('investor_job_in_startup.csv')"
   ]
  },
  {
   "cell_type": "markdown",
   "metadata": {},
   "source": [
    "### Дальше пока не нужно"
   ]
  },
  {
   "cell_type": "markdown",
   "metadata": {},
   "source": [
    "Список ниже построен по следующему принципу: для каждого человека указаны личные данные, primary_affiliation_organization - это организация, указанная в анкете (датасет people), startup_name - один из наших 736 стартапов, title - должность человека в нем.  \n",
    "Сложность возникает далее - нет гарантий, что люди продолжают работать в инвест-фондах или не меняли его. Именно поэтому поле investor_name размножает записи. Это поле содержит компанию из списка инвесторов, в которой помимо стартапа работал/работает человек, и таких компаний для одного человека может быть несколько. Из-за этого часто будут попадться одинаковые строки, отличающиеся лишь этим полем."
   ]
  },
  {
   "cell_type": "code",
   "execution_count": 93,
   "metadata": {
    "scrolled": false
   },
   "outputs": [],
   "source": [
    "#investor_people_jobs = startup_jobs.loc[startup_jobs['person_uuid'].isin(startup_and_fund)]\n",
    "#investor_people_jobs = investor_people_jobs.merge(people, how = 'left', left_on = 'person_uuid', right_on = 'uuid')\n",
    "#investor_people_jobs = investor_people_jobs[['first_name', 'last_name', 'person_uuid', 'org_uuid', 'title', 'primary_affiliation_organization', 'cb_url', 'linkedin_url']]\n",
    "#investor_people_jobs = investor_people_jobs.merge(organizations[['company_name', 'uuid']], how = 'left', left_on = 'org_uuid', right_on = 'uuid')\n",
    "#investor_people_jobs.rename(columns = {'org_uuid' : 'startup_uuid', 'company_name': 'startup_name'}, inplace = True)\n",
    "#a = jobs.loc[jobs['org_uuid'].isin(investor_list['investor_uuid'])]\n",
    "#a = a.merge(investor_list, how = 'left', left_on = 'org_uuid', right_on = 'investor_uuid')\n",
    "#investor_people_jobs = investor_people_jobs.merge(a[['investor_name', 'person_uuid']], how = 'left', on = 'person_uuid')\n",
    "#investor_people_jobs = investor_people_jobs[['first_name', 'last_name', 'person_uuid', 'startup_name', 'startup_uuid', 'title', 'investor_name', 'primary_affiliation_organization', 'cb_url', 'linkedin_url']]\n",
    "#investor_people_jobs = investor_people_jobs.drop_duplicates().reset_index(drop=True)\n",
    "#investor_people_jobs.sort_values(by = ['person_uuid'], ascending = False)"
   ]
  },
  {
   "cell_type": "markdown",
   "metadata": {},
   "source": [
    "Отделять конкретно \"корпоративные\" должности не стал, это лучше сделать в экселе."
   ]
  },
  {
   "cell_type": "code",
   "execution_count": 94,
   "metadata": {
    "scrolled": false
   },
   "outputs": [],
   "source": [
    "#suspect_TP_FP = startup_jobs[startup_jobs['title'].str.contains(r\" Investments|Technology Officer|^Director of Engineering$|^Senior Director of Engineering$|^Snr Director of Engineering$|^Sr. Director of Engineering$|Director of Finance|^Director of Technology$|^Director of Technology & Architect$|\\bEIR\\b|Chief Technical Officer|Entrepreneur in Residence|EVP of Engineering|EVP of Finance|EVP, Engineering|First Round Investor|^Investor$|^Investors$|seed investor|Venture Investor|^General Manager$|^Head of Technology$|^Head of Engineering$|^Head of Product$|^Director, Engineering$|^Senior Director, Engineering$|^Independent Director$|^MD$|executive Director$|^Engineering Director$|^Senior Engineering Director$|^Principal$|^Finance Director$|^Professor of BA & Senior Assoc. Dean for Strategy & Innovation - Harvard Business School$|^Managing Director$|Insight Venture Partners|^Senior Director Technology Development$|^Senior Director, Finance$|SVP, Technology|SVP - Engineering|^SVP Engineering$|^SVP Engineering and Operations$|SVP of Engineering|SVP Software Engineering|^SVP, Engineering$|\\bCEO\\b|\\bCTO\\b|\\bCFO\\b|\\bBOD\\b|\\bVP\\b|Chief Executive|Executive Officer|Chief Technolog|Chief Financ|Chief Experience|Found[^r]|Advisor|Adviser|Observer|Board|Borad of|Bord of|Chair|Chariman|President|^Director$|\\bAngel\\b|\\bPartner\\b\", case=False)]\n",
    "#suspect_TP_FP = pd.DataFrame(set(suspect_TP_FP['title'].values))\n",
    "#suspect_TP_FP.to_csv('suspect_TP_FP.csv')\n",
    "#len(suspect_TP_FP)"
   ]
  },
  {
   "cell_type": "markdown",
   "metadata": {},
   "source": [
    "Таких 2649"
   ]
  },
  {
   "cell_type": "code",
   "execution_count": 95,
   "metadata": {},
   "outputs": [],
   "source": [
    "#suspect_TN_FN = startup_jobs[~startup_jobs['title'].str.contains(r\" Investments|Technology Officer|^Director of Engineering$|^Senior Director of Engineering$|^Snr Director of Engineering$|^Sr. Director of Engineering$|Director of Finance|^Director of Technology$|^Director of Technology & Architect$|\\bEIR\\b|Chief Technical Officer|Entrepreneur in Residence|EVP of Engineering|EVP of Finance|EVP, Engineering|First Round Investor|^Investor$|^Investors$|seed investor|Venture Investor|^General Manager$|^Head of Technology$|^Head of Engineering$|^Head of Product$|^Director, Engineering$|^Senior Director, Engineering$|^Independent Director$|^MD$|executive Director$|^Engineering Director$|^Senior Engineering Director$|^Principal$|^Finance Director$|^Professor of BA & Senior Assoc. Dean for Strategy & Innovation - Harvard Business School$|^Managing Director$|Insight Venture Partners|^Senior Director Technology Development$|^Senior Director, Finance$|SVP, Technology|SVP - Engineering|^SVP Engineering$|^SVP Engineering and Operations$|SVP of Engineering|SVP Software Engineering|^SVP, Engineering$|\\bCEO\\b|\\bCTO\\b|\\bCFO\\b|\\bBOD\\b|\\bVP\\b|Chief Executive|Executive Officer|Chief Technolog|Chief Financ|Chief Experience|Found[^r]|Advisor|Adviser|Observer|Board|Borad of|Bord of|Chair|Chariman|President|^Director$|\\bAngel\\b|\\bPartner\\b\", case=False)]\n",
    "#suspect_TN_FN = pd.DataFrame(set(suspect_TN_FN['title'].values))\n",
    "#suspect_TN_FN.to_csv('suspect_TN_FN.csv')\n",
    "#len(suspect_TN_FN)"
   ]
  },
  {
   "cell_type": "markdown",
   "metadata": {},
   "source": [
    "Таких 3136"
   ]
  },
  {
   "cell_type": "markdown",
   "metadata": {},
   "source": [
    " Investments|\n",
    "Technology Officer|\n",
    "^Director of Engineering$|\n",
    "^Senior Director of Engineering$|\n",
    "^Snr Director of Engineering$|\n",
    "^Sr. Director of Engineering$|\n",
    "Director of Finance|\n",
    "^Director of Technology$|\n",
    "^Director of Technology & Architect$|\n",
    "\\bEIR\\b|Chief Technical Officer|\n",
    "Entrepreneur in Residence|\n",
    "EVP of Engineering|\n",
    "EVP of Finance|\n",
    "EVP, Engineering|\n",
    "First Round Investor|\n",
    "^Investor$|\n",
    "^Investors$|\n",
    "seed investor|\n",
    "Venture Investor|\n",
    "^General Manager$|\n",
    "^Head of Technology$|\n",
    "^Head of Engineering$|\n",
    "^Head of Product$|\n",
    "^Director, Engineering$|\n",
    "^Senior Director, Engineering$|\n",
    "^Independent Director$|\n",
    "^MD$|\n",
    "executive Director$|\n",
    "^Engineering Director$|\n",
    "^Senior Engineering Director$|\n",
    "^Principal$|\n",
    "^Finance Director$|\n",
    "^Professor of BA & Senior Assoc. Dean for Strategy & Innovation - Harvard Business School$|\n",
    "^Managing Director$|\n",
    "Insight Venture Partners|\n",
    "^Senior Director Technology Development$|\n",
    "^Senior Director, Finance$|\n",
    "SVP, Technology|\n",
    "SVP - Engineering|\n",
    "^SVP Engineering$|\n",
    "^SVP Engineering and Operations$|\n",
    "SVP of Engineering|\n",
    "SVP Software Engineering|\n",
    "^SVP, Engineering$\n",
    "\n",
    "\n",
    "\n",
    "\n",
    "\n",
    "\n",
    "\n",
    "\\bCEO\\b|\n",
    "\\bCTO\\b|\n",
    "\\bCFO\\b|\n",
    "\\bBOD\\b|\n",
    "\\bVP\\b|\n",
    "Chief Executive|\n",
    "Executive Officer|\n",
    "Chief Technolog|\n",
    "Chief Financ|\n",
    "Chief Experience|\n",
    "Found[^r]|\n",
    "Advisor|\n",
    "Adviser|\n",
    "Observer|\n",
    "Board|\n",
    "Borad of|\n",
    "Bord of|\n",
    "Chair|\n",
    "Chariman|\n",
    "President|\n",
    "^Director$|\n",
    "\\bAngel\\b|\n",
    "\\bPartner\\b"
   ]
  },
  {
   "cell_type": "markdown",
   "metadata": {},
   "source": [
    "### Cоотношениt employee, executive и остальных"
   ]
  },
  {
   "cell_type": "code",
   "execution_count": 96,
   "metadata": {
    "scrolled": true
   },
   "outputs": [],
   "source": [
    "#startup_jobs.groupby(['job_type']).size().reset_index(name = 'count')"
   ]
  },
  {
   "cell_type": "code",
   "execution_count": 97,
   "metadata": {},
   "outputs": [],
   "source": [
    "#advisor_jobs = filtered_jobs.loc[filtered_jobs['job_type'] == 'advisor']\n",
    "#advisor_set = set(advisor_jobs['person_uuid'].values)\n",
    "#print('advisor_set is ', len(advisor_set))\n",
    "#board_member_jobs = filtered_jobs.loc[filtered_jobs['job_type'] == 'board_member']\n",
    "#board_member_set = set(board_member_jobs['person_uuid'].values)\n",
    "#print('board_member_set is ', len(board_member_set))\n",
    "#board_observer_jobs = filtered_jobs.loc[filtered_jobs['job_type'] == 'board_observer']\n",
    "#board_observer_set = set(board_observer_jobs['person_uuid'].values)\n",
    "#print('board_observer_set is ', len(board_observer_set))\n",
    "#employee_jobs = filtered_jobs.loc[filtered_jobs['job_type'] == 'employee']\n",
    "#employee_set = set(employee_jobs['person_uuid'].values)\n",
    "#print('employee_set is ', len(employee_set))\n",
    "#executive_jobs = filtered_jobs.loc[filtered_jobs['job_type'] == 'executive']\n",
    "#executive_set = set(executive_jobs['person_uuid'].values)\n",
    "#print('executive_set is ', len(executive_set))"
   ]
  },
  {
   "cell_type": "code",
   "execution_count": 98,
   "metadata": {},
   "outputs": [],
   "source": [
    "#def pairwise_intersection(L):\n",
    "#    for a in L:\n",
    "#        for b in L[:-1]:\n",
    "#            if b != a:\n",
    "#                print(len(a), ' intersects ', len(b), ' on ', len(a.intersection(b)), ' elements')"
   ]
  },
  {
   "cell_type": "code",
   "execution_count": 99,
   "metadata": {},
   "outputs": [],
   "source": [
    "#L = [advisor_set, board_member_set, board_observer_set, employee_set, executive_set]\n",
    "#pairwise_intersection(L)"
   ]
  },
  {
   "cell_type": "markdown",
   "metadata": {},
   "source": [
    "### Исследование компаний"
   ]
  },
  {
   "cell_type": "code",
   "execution_count": 100,
   "metadata": {},
   "outputs": [],
   "source": [
    "#w = filtered_jobs.groupby(['org_uuid']).size().reset_index(name = 'count')\n",
    "#w.sort_values(by = ['count'], ascending = False)"
   ]
  },
  {
   "cell_type": "markdown",
   "metadata": {},
   "source": [
    "Это уникальные айдишники компаний, у которых указан хотя бы один человек (из 740)"
   ]
  },
  {
   "cell_type": "code",
   "execution_count": 101,
   "metadata": {},
   "outputs": [],
   "source": [
    "#person_list = filtered_jobs.groupby(['person_uuid']).size().reset_index(name = 'count')\n",
    "#person_list.sort_values(by = ['count'], ascending = False)\n",
    "#single_list = person_list.loc[person_list['count'] == 1]\n",
    "#single_set = set(single_list['person_uuid'].values)\n",
    "#single_jobs = filtered_jobs.loc[filtered_jobs['person_uuid'].isin(single_set)]\n",
    "#a = single_jobs.groupby(['org_uuid']).size().reset_index(name = 'count')\n",
    "#a = a.merge(organizations, how = 'left', left_on = 'org_uuid', right_on = 'uuid')\n",
    "#a = a[['company_name', 'org_uuid', 'count']]\n",
    "#a.sort_values(by = ['count'], ascending = False).head(30)"
   ]
  },
  {
   "cell_type": "markdown",
   "metadata": {},
   "source": [
    "Компании и количество сотрудников с единственным местом работы"
   ]
  },
  {
   "cell_type": "markdown",
   "metadata": {},
   "source": [
    "Это уникальные люди, упоминающиеся в jobs. Выведем их"
   ]
  },
  {
   "cell_type": "code",
   "execution_count": 102,
   "metadata": {},
   "outputs": [],
   "source": [
    "#filtered_jobs['started_on'] = filtered_jobs['started_on'].replace(np.nan, 0)\n",
    "#filtered_jobs['started_on'] = pd.to_datetime(filtered_jobs['started_on'])\n",
    "#new_filtered_jobs = filtered_jobs.loc[filtered_jobs.groupby(['person_uuid'])['started_on'].idxmax()]\n",
    "#new_filtered_jobs = new_filtered_jobs[['person_uuid', 'org_uuid', 'started_on', 'ended_on', 'is_current', 'title']]\n",
    "#new_filtered_jobs"
   ]
  },
  {
   "cell_type": "code",
   "execution_count": 103,
   "metadata": {},
   "outputs": [],
   "source": [
    "#person_list = person_list.merge(people, how = 'left', left_on = 'person_uuid', right_on = 'uuid')\n",
    "#person_list = person_list[['first_name', 'last_name', 'person_uuid', 'primary_affiliation_organization', 'cb_url', 'twitter_url', 'facebook_url', 'linkedin_url']]\n",
    "#person_list"
   ]
  },
  {
   "cell_type": "code",
   "execution_count": 104,
   "metadata": {},
   "outputs": [],
   "source": [
    "#person_list = person_list.merge(new_filtered_jobs, how = 'inner', on = 'person_uuid')\n",
    "#person_list = person_list[['first_name', 'last_name', 'started_on', 'ended_on', 'is_current', 'title']]\n",
    "#person_list"
   ]
  },
  {
   "cell_type": "code",
   "execution_count": 105,
   "metadata": {},
   "outputs": [],
   "source": [
    "#person_list.loc[person_list['is_current'] != 't']"
   ]
  },
  {
   "cell_type": "markdown",
   "metadata": {},
   "source": [
    "Далее идут анкеты, они не так информативны"
   ]
  },
  {
   "cell_type": "code",
   "execution_count": 106,
   "metadata": {
    "scrolled": true
   },
   "outputs": [],
   "source": [
    "#filtered_people = filtered_people.loc[filtered_people['primary_organization_uuid'].isin(company_list['company_uuid'])]\n",
    "#filtered_people"
   ]
  },
  {
   "cell_type": "markdown",
   "metadata": {},
   "source": [
    "Посмотрим диаграмму распределения по компаниям:"
   ]
  },
  {
   "cell_type": "code",
   "execution_count": 107,
   "metadata": {},
   "outputs": [],
   "source": [
    "#company_histogram = filtered_people.groupby(['primary_affiliation_organization']).size().reset_index(name = 'count')\n",
    "#company_histogram = company_histogram[['primary_affiliation_organization', 'count']]\n",
    "#company_histogram.sort_values(by = ['count'], ascending = False)"
   ]
  },
  {
   "cell_type": "code",
   "execution_count": 108,
   "metadata": {},
   "outputs": [],
   "source": [
    "#company_histogram.loc[company_histogram['count'] > 1]"
   ]
  },
  {
   "cell_type": "code",
   "execution_count": 109,
   "metadata": {},
   "outputs": [],
   "source": [
    "#len(set(filtered_people['primary_affiliation_title'].values))"
   ]
  },
  {
   "cell_type": "markdown",
   "metadata": {},
   "source": [
    "Уникальных ролей в датасете очень много. Это не четкий словарь, а скорее вольное описание"
   ]
  },
  {
   "cell_type": "code",
   "execution_count": 110,
   "metadata": {},
   "outputs": [],
   "source": [
    "### Сразу объединим этот датафрейм с описанием у тех, у кого оно есть\n",
    "\n",
    "#filtered_people_descriptions = people_descriptions.loc[people_descriptions['uuid'].isin(filtered_people['uuid'])]\n",
    "#filtered_people_descriptions\n",
    "\n",
    "#filtered_people = filtered_people.merge(filtered_people_descriptions, how = 'left')\n",
    "#filtered_people\n",
    "\n",
    "### Теперь объединим с образованием\n",
    "\n",
    "#filtered_degrees = degrees.loc[degrees['person_uuid'].isin(filtered_people['uuid'])]\n",
    "#filtered_degrees\n",
    "\n",
    "#filtered_people = filtered_people.merge(filtered_degrees, how = 'left', left_on = 'uuid', right_on = 'person_uuid')\n",
    "#filtered_people\n",
    "\n",
    "#Лефт джойны размножили записи, так как в образовании айдишник не был ключом (у одного человека несколько образований). Но если что. потом можно будет сгруппировать\n",
    "\n",
    "#filtered_people.to_csv('people.csv')"
   ]
  },
  {
   "cell_type": "code",
   "execution_count": null,
   "metadata": {},
   "outputs": [],
   "source": []
  }
 ],
 "metadata": {
  "kernelspec": {
   "display_name": "Python 3 (ipykernel)",
   "language": "python",
   "name": "python3"
  },
  "language_info": {
   "codemirror_mode": {
    "name": "ipython",
    "version": 3
   },
   "file_extension": ".py",
   "mimetype": "text/x-python",
   "name": "python",
   "nbconvert_exporter": "python",
   "pygments_lexer": "ipython3",
   "version": "3.9.13"
  }
 },
 "nbformat": 4,
 "nbformat_minor": 4
}
