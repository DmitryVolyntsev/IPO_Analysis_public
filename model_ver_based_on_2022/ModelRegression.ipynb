{
 "cells": [
  {
   "cell_type": "code",
   "execution_count": 1,
   "metadata": {},
   "outputs": [],
   "source": [
    "import numpy as np\n",
    "import pandas as pd\n",
    "import matplotlib.pyplot as plt\n",
    "import scipy.stats as st\n",
    "from scipy import interp\n",
    "import seaborn as sns\n",
    "\n",
    "import sklearn\n",
    "from sklearn.model_selection import train_test_split, GridSearchCV\n",
    "from sklearn.feature_selection import SelectKBest, f_classif\n",
    "from sklearn.decomposition import PCA\n",
    "from sklearn.preprocessing import StandardScaler, label_binarize, LabelBinarizer\n",
    "from sklearn.metrics import r2_score, mean_squared_error, roc_auc_score, roc_curve, auc, plot_confusion_matrix\n",
    "\n",
    "from sklearn.linear_model import SGDRegressor, LinearRegression, BayesianRidge, Ridge\n",
    "from sklearn.ensemble import GradientBoostingRegressor\n",
    "from sklearn.svm import SVR\n",
    "from sklearn.kernel_ridge import KernelRidge\n",
    "\n",
    "import xgboost as xgb\n",
    "from xgboost import XGBRegressor\n",
    "\n",
    "import lightgbm\n",
    "from lightgbm import LGBMRegressor\n",
    "\n",
    "import catboost as cb\n",
    "from catboost import CatBoostRegressor\n",
    "\n",
    "import warnings\n",
    "warnings.simplefilter(action='ignore', category=FutureWarning)\n",
    "pd.set_option('display.max_columns', None)\n",
    "pd.set_option('display.max_colwidth', None)\n",
    "pd.options.mode.chained_assignment = None"
   ]
  },
  {
   "cell_type": "markdown",
   "metadata": {},
   "source": [
    "### Preprocessing"
   ]
  },
  {
   "cell_type": "markdown",
   "metadata": {},
   "source": [
    "Создаем выборки"
   ]
  },
  {
   "cell_type": "code",
   "execution_count": 35,
   "metadata": {
    "scrolled": true
   },
   "outputs": [
    {
     "name": "stdout",
     "output_type": "stream",
     "text": [
      "(33996, 10)\n",
      "(33996,)\n"
     ]
    }
   ],
   "source": [
    "X = pd.read_csv('C:/Users/Barca/Desktop/GitHub/IPO_Analysis/model_ver_based_on_2022/X.csv')\n",
    "y = pd.read_csv('C:/Users/Barca/Desktop/GitHub/IPO_Analysis/model_ver_based_on_2022/y.csv')\n",
    "\n",
    "X_demo = pd.read_csv('C:/Users/Barca/Desktop/GitHub/IPO_Analysis/model_ver_based_on_2022/X_demo.csv')\n",
    "demo_set = pd.read_csv('C:/Users/Barca/Desktop/GitHub/IPO_Analysis/model_ver_based_on_2022/demo_set.csv')\n",
    "# X_send = X.copy()\n",
    "# X_send.columns = ['col1', 'col2', 'col3', 'col4', 'col5', 'col6', 'col7', 'col8', 'col9']\n",
    "# X_send.to_csv('X_send_w2.csv', encoding = 'utf-8-sig')\n",
    "\n",
    "# y_send = y.copy()\n",
    "# y_send.columns = ['answer']\n",
    "# y_send.to_csv('y_send_w2.csv', encoding = 'utf-8-sig')\n",
    "\n",
    "features = X.columns\n",
    "features_set = []\n",
    "\n",
    "X = X.values.astype(float) #X = X.to_numpy(dtype=np.float)\n",
    "X_demo = X_demo.values.astype(float) #X = X.to_numpy(dtype=np.float)\n",
    "y = y.astype(int)\n",
    "y = y.values.ravel() #y = y.to_numpy()\n",
    "print(X.shape)\n",
    "print(y.shape)"
   ]
  },
  {
   "cell_type": "code",
   "execution_count": 36,
   "metadata": {},
   "outputs": [],
   "source": [
    "X_train, X_test, y_train, y_test = train_test_split(X, y, test_size=0.2, random_state=42) #stratify=y\n",
    "\n",
    "skaler = StandardScaler()\n",
    "X_train_t = skaler.fit_transform(X_train)\n",
    "X_test_t = skaler.transform(X_test)"
   ]
  },
  {
   "cell_type": "code",
   "execution_count": 37,
   "metadata": {},
   "outputs": [],
   "source": [
    "X_demo_t = skaler.transform(X_demo)"
   ]
  },
  {
   "cell_type": "markdown",
   "metadata": {},
   "source": [
    "### Sklearn Linear Models"
   ]
  },
  {
   "cell_type": "code",
   "execution_count": 4,
   "metadata": {},
   "outputs": [],
   "source": [
    "# param_grid = {\n",
    "#     'loss': ['squared_loss'],\n",
    "#     'penalty': ['l2', 'l1', 'elasticnet'],\n",
    "#     'learning_rate': ['constant', 'optimal', 'invscaling']\n",
    "# }\n",
    "\n",
    "# estimator = LinearRegression(positive=True)\n",
    "# estimator = SGDRegressor()\n",
    "# estimator = Ridge()\n",
    "\n",
    "# grid_search = GridSearchCV(estimator = estimator, param_grid = param_grid, n_jobs = -1)\n",
    "# grid_search.fit(X_train_t, y_train)\n",
    "# best_grid = grid_search.best_estimator_\n",
    "# grid_search.best_params_\n",
    "\n",
    "#######################################################\n",
    "\n",
    "#best_grid = LinearRegression(positive=True)\n",
    "#best_grid = SGDRegressor()\n",
    "best_grid = Ridge()"
   ]
  },
  {
   "cell_type": "code",
   "execution_count": 5,
   "metadata": {},
   "outputs": [
    {
     "data": {
      "text/plain": [
       "0.46039514723490327"
      ]
     },
     "execution_count": 5,
     "metadata": {},
     "output_type": "execute_result"
    }
   ],
   "source": [
    "best_grid.fit(X_train_t, y_train)\n",
    "predicted_labels = best_grid.predict(X_test_t)\n",
    "best_grid.score(X_test_t, y_test)"
   ]
  },
  {
   "cell_type": "code",
   "execution_count": 6,
   "metadata": {},
   "outputs": [
    {
     "name": "stdout",
     "output_type": "stream",
     "text": [
      "Coefficients: \n",
      " [-0.01014777 -0.11977193 -0.05123474  0.02745124 -0.07897944  0.48400526\n",
      "  0.355608    0.05454872  0.3336738   0.12684704]\n",
      "Mean squared error: 0.96\n",
      "Coefficient of determination: 0.46\n"
     ]
    }
   ],
   "source": [
    "print(\"Coefficients: \\n\", best_grid.coef_)\n",
    "print(\"Mean squared error: %.2f\" % mean_squared_error(y_test, predicted_labels))\n",
    "print(\"Coefficient of determination: %.2f\" % r2_score(y_test, predicted_labels))"
   ]
  },
  {
   "cell_type": "markdown",
   "metadata": {},
   "source": [
    "### Sklearn SVR"
   ]
  },
  {
   "cell_type": "code",
   "execution_count": 7,
   "metadata": {},
   "outputs": [],
   "source": [
    "# param_grid = {\n",
    "#     'loss': ['squared_loss'],\n",
    "#     'penalty': ['l2', 'l1', 'elasticnet'],\n",
    "#     'learning_rate': ['constant', 'optimal', 'invscaling']\n",
    "# }\n",
    "\n",
    "# estimator = SVR()\n",
    "\n",
    "# grid_search = GridSearchCV(estimator = estimator, param_grid = param_grid, n_jobs = -1)\n",
    "# grid_search.fit(X_train_t, y_train)\n",
    "# best_grid1 = grid_search.best_estimator_\n",
    "# grid_search.best_params_\n",
    "\n",
    "#######################################################\n",
    "\n",
    "best_grid1 = SVR()"
   ]
  },
  {
   "cell_type": "code",
   "execution_count": 8,
   "metadata": {},
   "outputs": [
    {
     "data": {
      "text/plain": [
       "0.482727024062526"
      ]
     },
     "execution_count": 8,
     "metadata": {},
     "output_type": "execute_result"
    }
   ],
   "source": [
    "best_grid1.fit(X_train_t, y_train)\n",
    "predicted_labels = best_grid1.predict(X_test_t)\n",
    "best_grid1.score(X_test_t, y_test)"
   ]
  },
  {
   "cell_type": "code",
   "execution_count": 9,
   "metadata": {},
   "outputs": [
    {
     "name": "stdout",
     "output_type": "stream",
     "text": [
      "Mean squared error: 0.92\n",
      "Coefficient of determination: 0.48\n"
     ]
    }
   ],
   "source": [
    "print(\"Mean squared error: %.2f\" % mean_squared_error(y_test, predicted_labels))\n",
    "print(\"Coefficient of determination: %.2f\" % r2_score(y_test, predicted_labels))"
   ]
  },
  {
   "cell_type": "markdown",
   "metadata": {},
   "source": [
    "### Sklearn Gradient Boosting"
   ]
  },
  {
   "cell_type": "code",
   "execution_count": 10,
   "metadata": {},
   "outputs": [
    {
     "name": "stdout",
     "output_type": "stream",
     "text": [
      "Fitting 5 folds for each of 1 candidates, totalling 5 fits\n",
      "0.49005664985037917\n",
      "{'learning_rate': 0.01, 'max_depth': 5, 'n_estimators': 1000, 'subsample': 0.5}\n"
     ]
    }
   ],
   "source": [
    "param_grid = {\n",
    "    'learning_rate': [0.01],\n",
    "    'max_depth': [5], #, 10\n",
    "    'n_estimators': [1000],\n",
    "    'subsample': [0.5] #0.1\n",
    "}\n",
    "\n",
    "estimator = GradientBoostingRegressor()\n",
    "\n",
    "grid_search = GridSearchCV(estimator = estimator, param_grid = param_grid, cv = 5, n_jobs = -1, verbose = 2)\n",
    "grid_search.fit(X_train_t, y_train)\n",
    "print(grid_search.best_score_)\n",
    "print(grid_search.best_params_)\n",
    "best_grid2 = grid_search.best_estimator_\n",
    "\n",
    "#######################################################\n",
    "\n",
    "#best_grid2 = GradientBoostingRegressor()"
   ]
  },
  {
   "cell_type": "code",
   "execution_count": 11,
   "metadata": {},
   "outputs": [
    {
     "data": {
      "text/plain": [
       "0.4920010219103682"
      ]
     },
     "execution_count": 11,
     "metadata": {},
     "output_type": "execute_result"
    }
   ],
   "source": [
    "best_grid2.fit(X_train_t, y_train)\n",
    "predicted_labels = best_grid2.predict(X_test_t)\n",
    "best_grid2.score(X_test_t, y_test)"
   ]
  },
  {
   "cell_type": "code",
   "execution_count": 12,
   "metadata": {},
   "outputs": [
    {
     "name": "stdout",
     "output_type": "stream",
     "text": [
      "Mean squared error: 0.91\n",
      "Coefficient of determination: 0.49\n"
     ]
    }
   ],
   "source": [
    "print(\"Mean squared error: %.2f\" % mean_squared_error(y_test, predicted_labels))\n",
    "print(\"Coefficient of determination: %.2f\" % r2_score(y_test, predicted_labels))"
   ]
  },
  {
   "cell_type": "code",
   "execution_count": 13,
   "metadata": {},
   "outputs": [
    {
     "data": {
      "image/png": "[encoded data removed]",
      "text/plain": [
       "<Figure size 432x288 with 1 Axes>"
      ]
     },
     "metadata": {
      "needs_background": "light"
     },
     "output_type": "display_data"
    }
   ],
   "source": [
    "plt.bar(range(len(features)), best_grid2.feature_importances_)\n",
    "plt.xticks(range(len(features)), features, rotation='vertical')\n",
    "plt.show()"
   ]
  },
  {
   "cell_type": "markdown",
   "metadata": {},
   "source": [
    "### XGBoost"
   ]
  },
  {
   "cell_type": "code",
   "execution_count": 14,
   "metadata": {},
   "outputs": [
    {
     "name": "stdout",
     "output_type": "stream",
     "text": [
      "Fitting 5 folds for each of 2 candidates, totalling 10 fits\n",
      "0.48853044910178933\n",
      "{'learning_rate': 0.01, 'max_depth': 5, 'n_estimators': 1000, 'reg_lambda': 1}\n"
     ]
    }
   ],
   "source": [
    "param_grid = {\n",
    "    \"max_depth\": [5], #, 10\n",
    "    'n_estimators': [1000],\n",
    "    \"learning_rate\": [0.01], #, 0.05\n",
    "    #\"gamma\": [0, 0.25, 1],\n",
    "    \"reg_lambda\": [0, 1] #, 10\n",
    "}\n",
    "\n",
    "estimator = XGBRegressor()\n",
    "\n",
    "grid_search = GridSearchCV(estimator, param_grid, n_jobs=-1, cv = 5, verbose = 2)\n",
    "grid_search.fit(X_train_t, y_train)\n",
    "print(grid_search.best_score_)\n",
    "print(grid_search.best_params_)\n",
    "best_grid3 = grid_search.best_estimator_\n",
    "\n",
    "#######################################################\n",
    "\n",
    "#best_grid3 = XGBRegressor()"
   ]
  },
  {
   "cell_type": "code",
   "execution_count": 15,
   "metadata": {},
   "outputs": [
    {
     "data": {
      "text/plain": [
       "0.4874900572014046"
      ]
     },
     "execution_count": 15,
     "metadata": {},
     "output_type": "execute_result"
    }
   ],
   "source": [
    "best_grid3.fit(X_train_t, y_train)\n",
    "predicted_labels = best_grid3.predict(X_test_t)\n",
    "best_grid3.score(X_test_t, y_test)"
   ]
  },
  {
   "cell_type": "code",
   "execution_count": 16,
   "metadata": {},
   "outputs": [
    {
     "name": "stdout",
     "output_type": "stream",
     "text": [
      "Mean squared error: 0.92\n",
      "Coefficient of determination: 0.49\n"
     ]
    }
   ],
   "source": [
    "print(\"Mean squared error: %.2f\" % mean_squared_error(y_test, predicted_labels))\n",
    "print(\"Coefficient of determination: %.2f\" % r2_score(y_test, predicted_labels))"
   ]
  },
  {
   "cell_type": "code",
   "execution_count": 17,
   "metadata": {},
   "outputs": [
    {
     "data": {
      "image/png": "[encoded data removed]",
      "text/plain": [
       "<Figure size 432x288 with 1 Axes>"
      ]
     },
     "metadata": {
      "needs_background": "light"
     },
     "output_type": "display_data"
    }
   ],
   "source": [
    "plt.bar(range(len(features)), best_grid3.feature_importances_)\n",
    "plt.xticks(range(len(features)), features, rotation='vertical')\n",
    "plt.show()"
   ]
  },
  {
   "cell_type": "code",
   "execution_count": 18,
   "metadata": {},
   "outputs": [],
   "source": [
    "# pd.DataFrame(grid_search.cv_results_).to_csv('cv_results.csv')\n",
    "# sklearn.metrics.plot_confusion_matrix(best_grid3, X_test_t, y_test, xticks_rotation='horizontal', cmap='viridis', colorbar=True, normalize='true')\n",
    "# sklearn.metrics.plot_confusion_matrix(best_grid3, X_train_t, y_train, xticks_rotation='horizontal', cmap='viridis', colorbar=True, normalize='true')"
   ]
  },
  {
   "cell_type": "markdown",
   "metadata": {},
   "source": [
    "### LightGBM"
   ]
  },
  {
   "cell_type": "code",
   "execution_count": 19,
   "metadata": {},
   "outputs": [
    {
     "name": "stdout",
     "output_type": "stream",
     "text": [
      "Fitting 5 folds for each of 54 candidates, totalling 270 fits\n"
     ]
    },
    {
     "name": "stderr",
     "output_type": "stream",
     "text": [
      "C:\\Users\\Barca\\anaconda3\\lib\\site-packages\\sklearn\\model_selection\\_search.py:922: UserWarning: One or more of the test scores are non-finite: [  0.3761643    0.48176202   0.48865772   0.40010547   0.48881827\n",
      "   0.48937615   0.40238004   0.48957839   0.48920088   0.48810223\n",
      "   0.48683621   0.48041966   0.48838337   0.47297832   0.45484026\n",
      "   0.48747801   0.46641221   0.44653129          nan          nan\n",
      "          nan          nan          nan          nan          nan\n",
      "          nan          nan          nan          nan          nan\n",
      "          nan          nan          nan          nan          nan\n",
      "          nan -19.69376223  -6.64801233  -2.30122451 -19.67522701\n",
      "  -6.62577441  -2.28528838 -19.67398714  -6.62398817  -2.28473803\n",
      "  -0.97479982   0.47687042   0.47717568  -0.96341921   0.47389202\n",
      "   0.47008729  -0.96306484   0.47240413   0.46705037]\n",
      "  warnings.warn(\n"
     ]
    },
    {
     "name": "stdout",
     "output_type": "stream",
     "text": [
      "0.4895783866738238\n",
      "{'boosting_type': 'gbdt', 'learning_rate': 0.01, 'max_depth': 10, 'n_estimators': 500}\n"
     ]
    }
   ],
   "source": [
    "param_grid = {\n",
    "    \"max_depth\": [3, 5, 10],\n",
    "    \"learning_rate\": [0.01, 0.1],\n",
    "    'n_estimators': [100, 500, 1000],\n",
    "    #\"reg_alpha\": [0, 0.1, 0.25],\n",
    "    #\"reg_lambda\": [0, 0.1, 0.25],\n",
    "    #\"subsample\": [0.8],\n",
    "    #\"colsample_bytree\": [0.5],\n",
    "    #\"min_child_samples\": [5, 20, 100],\n",
    "    #'num_leaves': [10, 30, 50],\n",
    "    'boosting_type': ['gbdt', 'rf', 'dart']\n",
    "}\n",
    "\n",
    "estimator = LGBMRegressor()\n",
    "\n",
    "grid_search = GridSearchCV(estimator, param_grid, n_jobs=-1, cv = 5, verbose = 2)\n",
    "grid_search.fit(X_train_t, y_train)\n",
    "print(grid_search.best_score_)\n",
    "print(grid_search.best_params_)\n",
    "best_grid4 = grid_search.best_estimator_\n",
    "\n",
    "#######################################################\n",
    "\n",
    "#best_grid4 = LGBMRegressor()\n",
    "#LGBMRanker"
   ]
  },
  {
   "cell_type": "code",
   "execution_count": 20,
   "metadata": {},
   "outputs": [
    {
     "data": {
      "text/plain": [
       "0.49190710164958673"
      ]
     },
     "execution_count": 20,
     "metadata": {},
     "output_type": "execute_result"
    }
   ],
   "source": [
    "best_grid4.fit(X_train_t, y_train)\n",
    "predicted_labels = best_grid4.predict(X_test_t)\n",
    "best_grid4.score(X_test_t, y_test)"
   ]
  },
  {
   "cell_type": "code",
   "execution_count": 21,
   "metadata": {},
   "outputs": [
    {
     "name": "stdout",
     "output_type": "stream",
     "text": [
      "Mean squared error: 0.91\n",
      "Coefficient of determination: 0.49\n"
     ]
    }
   ],
   "source": [
    "print(\"Mean squared error: %.2f\" % mean_squared_error(y_test, predicted_labels))\n",
    "print(\"Coefficient of determination: %.2f\" % r2_score(y_test, predicted_labels))"
   ]
  },
  {
   "cell_type": "code",
   "execution_count": 22,
   "metadata": {},
   "outputs": [
    {
     "data": {
      "image/png": "[encoded data removed]",
      "text/plain": [
       "<Figure size 432x288 with 1 Axes>"
      ]
     },
     "metadata": {
      "needs_background": "light"
     },
     "output_type": "display_data"
    }
   ],
   "source": [
    "plt.bar(range(len(features)), best_grid4.feature_importances_)\n",
    "plt.xticks(range(len(features)), features, rotation='vertical')\n",
    "plt.show()"
   ]
  },
  {
   "cell_type": "markdown",
   "metadata": {},
   "source": [
    "### Catboost"
   ]
  },
  {
   "cell_type": "code",
   "execution_count": 23,
   "metadata": {},
   "outputs": [],
   "source": [
    "X_train, X_test, y_train, y_test = train_test_split(X, y, test_size=0.2, random_state=42)\n",
    "X_train, X_eval, y_train, y_eval = train_test_split(X_train, y_train, test_size=0.2, random_state=42)\n",
    "\n",
    "skaler = StandardScaler()\n",
    "X_train_t = skaler.fit_transform(X_train)\n",
    "X_eval_t = skaler.fit_transform(X_eval)\n",
    "X_test_t = skaler.transform(X_test)"
   ]
  },
  {
   "cell_type": "code",
   "execution_count": 24,
   "metadata": {},
   "outputs": [
    {
     "name": "stdout",
     "output_type": "stream",
     "text": [
      "0:\tlearn: 1.2852127\ttest: 1.3015589\tbest: 1.3015589 (0)\ttotal: 226ms\tremaining: 1m 52s\n",
      "100:\tlearn: 0.8612274\ttest: 0.9807415\tbest: 0.9804388 (75)\ttotal: 6.39s\tremaining: 25.3s\n",
      "200:\tlearn: 0.7971200\ttest: 0.9857699\tbest: 0.9804388 (75)\ttotal: 12.5s\tremaining: 18.6s\n",
      "300:\tlearn: 0.7430276\ttest: 0.9905213\tbest: 0.9804388 (75)\ttotal: 18.8s\tremaining: 12.4s\n",
      "400:\tlearn: 0.6971973\ttest: 0.9964431\tbest: 0.9804388 (75)\ttotal: 25.2s\tremaining: 6.22s\n",
      "499:\tlearn: 0.6583969\ttest: 1.0001145\tbest: 0.9804388 (75)\ttotal: 31.4s\tremaining: 0us\n",
      "\n",
      "bestTest = 0.9804388301\n",
      "bestIteration = 75\n",
      "\n",
      "Shrink model to first 76 iterations.\n"
     ]
    },
    {
     "data": {
      "text/plain": [
       "<catboost.core.CatBoostRegressor at 0x20ff34a4e20>"
      ]
     },
     "execution_count": 24,
     "metadata": {},
     "output_type": "execute_result"
    }
   ],
   "source": [
    "model = CatBoostRegressor(has_time=True, iterations=500, depth=10, learning_rate=0.1, loss_function='RMSE')\n",
    "model.fit(X_train_t, y_train, eval_set=(X_eval_t, y_eval), verbose=100)\n",
    "\n",
    "#print ('CatBoost: prediction of %s: RMSLE on test = %s' % ('not_dead', model.evals_result_['validation']['CrossEntropy'][-1]))"
   ]
  },
  {
   "cell_type": "code",
   "execution_count": 25,
   "metadata": {},
   "outputs": [
    {
     "data": {
      "text/plain": [
       "array([15.152244  , 15.03945499, 15.35739727, ..., 16.05277755,\n",
       "       16.16328916, 15.51018277])"
      ]
     },
     "execution_count": 25,
     "metadata": {},
     "output_type": "execute_result"
    }
   ],
   "source": [
    "y_pred = model.predict(X_test_t)\n",
    "y_pred"
   ]
  },
  {
   "cell_type": "code",
   "execution_count": 26,
   "metadata": {},
   "outputs": [
    {
     "data": {
      "text/plain": [
       "array([15, 14, 17, ..., 15, 18, 15])"
      ]
     },
     "execution_count": 26,
     "metadata": {},
     "output_type": "execute_result"
    }
   ],
   "source": [
    "y_test"
   ]
  },
  {
   "cell_type": "code",
   "execution_count": 27,
   "metadata": {},
   "outputs": [
    {
     "name": "stdout",
     "output_type": "stream",
     "text": [
      "  Feature Id  Importances\n",
      "0          5    28.845630\n",
      "1          6    13.506736\n",
      "2          8    12.190113\n",
      "3          7    10.568931\n",
      "4          9     6.766084\n",
      "5          1     6.681492\n",
      "6          0     6.353042\n",
      "7          2     5.890788\n",
      "8          4     5.055052\n",
      "9          3     4.142131\n",
      "0.49047102505342266\n"
     ]
    }
   ],
   "source": [
    "print(model.get_feature_importance(type=cb.EFstrType.PredictionValuesChange, prettified=True).head(25).to_string())\n",
    "print(model.score(X_test_t, y_test))"
   ]
  },
  {
   "cell_type": "markdown",
   "metadata": {},
   "source": [
    "### Прогноз"
   ]
  },
  {
   "cell_type": "code",
   "execution_count": 38,
   "metadata": {},
   "outputs": [],
   "source": [
    "predicted_labels1 = best_grid1.predict(X_demo_t)\n",
    "predicted_labels2 = best_grid2.predict(X_demo_t)\n",
    "predicted_labels3 = best_grid3.predict(X_demo_t)\n",
    "predicted_labels4 = best_grid4.predict(X_demo_t)\n",
    "predicted_labels5 = model.predict(X_demo_t)"
   ]
  },
  {
   "cell_type": "code",
   "execution_count": 39,
   "metadata": {},
   "outputs": [
    {
     "data": {
      "text/html": [
       "<div>\n",
       "<style scoped>\n",
       "    .dataframe tbody tr th:only-of-type {\n",
       "        vertical-align: middle;\n",
       "    }\n",
       "\n",
       "    .dataframe tbody tr th {\n",
       "        vertical-align: top;\n",
       "    }\n",
       "\n",
       "    .dataframe thead th {\n",
       "        text-align: right;\n",
       "    }\n",
       "</style>\n",
       "<table border=\"1\" class=\"dataframe\">\n",
       "  <thead>\n",
       "    <tr style=\"text-align: right;\">\n",
       "      <th></th>\n",
       "      <th>Organization Name</th>\n",
       "      <th>SVR</th>\n",
       "      <th>Gradient_Boosting</th>\n",
       "      <th>XGBoost_Regressor</th>\n",
       "      <th>LGBM_Regressor</th>\n",
       "      <th>CatBoost_Regressor</th>\n",
       "    </tr>\n",
       "  </thead>\n",
       "  <tbody>\n",
       "    <tr>\n",
       "      <th>0</th>\n",
       "      <td>0x</td>\n",
       "      <td>17.825822</td>\n",
       "      <td>17.891954</td>\n",
       "      <td>17.794796</td>\n",
       "      <td>17.821367</td>\n",
       "      <td>17.785902</td>\n",
       "    </tr>\n",
       "    <tr>\n",
       "      <th>1</th>\n",
       "      <td>10 Federal</td>\n",
       "      <td>17.267599</td>\n",
       "      <td>17.015327</td>\n",
       "      <td>16.988573</td>\n",
       "      <td>16.741402</td>\n",
       "      <td>17.010776</td>\n",
       "    </tr>\n",
       "    <tr>\n",
       "      <th>2</th>\n",
       "      <td>Redox</td>\n",
       "      <td>17.427946</td>\n",
       "      <td>17.334937</td>\n",
       "      <td>17.242537</td>\n",
       "      <td>17.276771</td>\n",
       "      <td>17.267591</td>\n",
       "    </tr>\n",
       "    <tr>\n",
       "      <th>3</th>\n",
       "      <td>100ms</td>\n",
       "      <td>17.152966</td>\n",
       "      <td>17.016098</td>\n",
       "      <td>17.016924</td>\n",
       "      <td>16.921883</td>\n",
       "      <td>17.025309</td>\n",
       "    </tr>\n",
       "    <tr>\n",
       "      <th>4</th>\n",
       "      <td>100Plus</td>\n",
       "      <td>16.733685</td>\n",
       "      <td>16.717999</td>\n",
       "      <td>16.643480</td>\n",
       "      <td>16.611615</td>\n",
       "      <td>16.683250</td>\n",
       "    </tr>\n",
       "    <tr>\n",
       "      <th>...</th>\n",
       "      <td>...</td>\n",
       "      <td>...</td>\n",
       "      <td>...</td>\n",
       "      <td>...</td>\n",
       "      <td>...</td>\n",
       "      <td>...</td>\n",
       "    </tr>\n",
       "    <tr>\n",
       "      <th>6980</th>\n",
       "      <td>Zuum Transportation</td>\n",
       "      <td>16.272857</td>\n",
       "      <td>16.312531</td>\n",
       "      <td>16.391939</td>\n",
       "      <td>16.323936</td>\n",
       "      <td>16.364360</td>\n",
       "    </tr>\n",
       "    <tr>\n",
       "      <th>6981</th>\n",
       "      <td>Zwift</td>\n",
       "      <td>18.602491</td>\n",
       "      <td>18.818592</td>\n",
       "      <td>19.016096</td>\n",
       "      <td>18.936832</td>\n",
       "      <td>18.630381</td>\n",
       "    </tr>\n",
       "    <tr>\n",
       "      <th>6982</th>\n",
       "      <td>ZwitterCo</td>\n",
       "      <td>17.017759</td>\n",
       "      <td>16.422048</td>\n",
       "      <td>16.295721</td>\n",
       "      <td>16.354373</td>\n",
       "      <td>16.832906</td>\n",
       "    </tr>\n",
       "    <tr>\n",
       "      <th>6983</th>\n",
       "      <td>Zycada</td>\n",
       "      <td>16.508509</td>\n",
       "      <td>16.150498</td>\n",
       "      <td>16.095684</td>\n",
       "      <td>16.188159</td>\n",
       "      <td>16.214500</td>\n",
       "    </tr>\n",
       "    <tr>\n",
       "      <th>6984</th>\n",
       "      <td>Zylö Therapeutics</td>\n",
       "      <td>15.572381</td>\n",
       "      <td>15.544656</td>\n",
       "      <td>15.481009</td>\n",
       "      <td>15.473379</td>\n",
       "      <td>15.500676</td>\n",
       "    </tr>\n",
       "  </tbody>\n",
       "</table>\n",
       "<p>6985 rows × 6 columns</p>\n",
       "</div>"
      ],
      "text/plain": [
       "        Organization Name        SVR  Gradient_Boosting  XGBoost_Regressor  \\\n",
       "0                      0x  17.825822          17.891954          17.794796   \n",
       "1              10 Federal  17.267599          17.015327          16.988573   \n",
       "2                   Redox  17.427946          17.334937          17.242537   \n",
       "3                   100ms  17.152966          17.016098          17.016924   \n",
       "4                 100Plus  16.733685          16.717999          16.643480   \n",
       "...                   ...        ...                ...                ...   \n",
       "6980  Zuum Transportation  16.272857          16.312531          16.391939   \n",
       "6981                Zwift  18.602491          18.818592          19.016096   \n",
       "6982            ZwitterCo  17.017759          16.422048          16.295721   \n",
       "6983               Zycada  16.508509          16.150498          16.095684   \n",
       "6984    Zylö Therapeutics  15.572381          15.544656          15.481009   \n",
       "\n",
       "      LGBM_Regressor  CatBoost_Regressor  \n",
       "0          17.821367           17.785902  \n",
       "1          16.741402           17.010776  \n",
       "2          17.276771           17.267591  \n",
       "3          16.921883           17.025309  \n",
       "4          16.611615           16.683250  \n",
       "...              ...                 ...  \n",
       "6980       16.323936           16.364360  \n",
       "6981       18.936832           18.630381  \n",
       "6982       16.354373           16.832906  \n",
       "6983       16.188159           16.214500  \n",
       "6984       15.473379           15.500676  \n",
       "\n",
       "[6985 rows x 6 columns]"
      ]
     },
     "execution_count": 39,
     "metadata": {},
     "output_type": "execute_result"
    }
   ],
   "source": [
    "a = pd.DataFrame(list(predicted_labels1), columns =['SVR'])\n",
    "b = pd.DataFrame(list(predicted_labels2), columns =['Gradient_Boosting'])\n",
    "c = pd.DataFrame(list(predicted_labels3), columns =['XGBoost_Regressor'])\n",
    "d = pd.DataFrame(list(predicted_labels4), columns =['LGBM_Regressor'])\n",
    "e = pd.DataFrame(list(predicted_labels5), columns =['CatBoost_Regressor'])\n",
    "demo = pd.concat([demo_set[['Organization Name']].reset_index(drop=True), a, b, c, d, e], axis=1)\n",
    "demo.to_csv('forecast_20_22.csv', encoding = 'utf-8-sig')\n",
    "demo"
   ]
  },
  {
   "cell_type": "markdown",
   "metadata": {},
   "source": [
    "### Сокращение размерности"
   ]
  },
  {
   "cell_type": "code",
   "execution_count": 34,
   "metadata": {},
   "outputs": [],
   "source": [
    "#pca = PCA()\n",
    "#pca.fit(X_train_t)\n",
    "\n",
    "#variance = np.cumsum(pca.explained_variance_ratio_)\n",
    "\n",
    "#plt.figure(figsize=(5,5))\n",
    "#plt.plot(variance)\n",
    "#plt.xlabel('Components')\n",
    "#plt.ylabel('EVR')\n",
    "#plt.plot([0,46],[0.95,0.95])\n",
    "#plt.show()"
   ]
  },
  {
   "cell_type": "code",
   "execution_count": 35,
   "metadata": {},
   "outputs": [],
   "source": [
    "#pca = PCA(n_components=39)\n",
    "\n",
    "#X_train_pca = pca.fit_transform(X_train_t)\n",
    "#X_test_pca = pca.transform(X_test_t)"
   ]
  },
  {
   "cell_type": "code",
   "execution_count": 36,
   "metadata": {},
   "outputs": [],
   "source": [
    "#pg = {'C': np.linspace(0.01, 1, 10), 'penalty': ['l1', 'l2']}\n",
    "#pg = {'n_neighbors': range(1, 31)}\n",
    "#pg = {'max_depth': np.linspace(1, 100, 5)}"
   ]
  },
  {
   "cell_type": "code",
   "execution_count": 37,
   "metadata": {},
   "outputs": [],
   "source": [
    "#classifier = LogisticRegression(solver='saga', multi_class='multinomial', max_iter=100, n_jobs =-1) #lbfgs\n",
    "#classifier = KNeighborsClassifier(weights='distance')\n",
    "#classifier = DecisionTreeClassifier()\n",
    "\n",
    "#grid_search = GridSearchCV(estimator=classifier, n_jobs = -1, param_grid=pg, cv=5, scoring='accuracy')\n",
    "#grid_search.fit(X_train_pca, y_train)\n",
    "\n",
    "#grid_search.best_params_"
   ]
  },
  {
   "cell_type": "code",
   "execution_count": 38,
   "metadata": {},
   "outputs": [],
   "source": [
    "#predicted_labels = grid_search.predict(X_test_pca)\n",
    "\n",
    "#acc = accuracy_score(y_test, predicted_labels)\n",
    "#f1 = f1_score(y_test, predicted_labels, average='weighted')\n",
    "#print('acc = ', acc)\n",
    "#print('f1 = ', f1)"
   ]
  },
  {
   "cell_type": "markdown",
   "metadata": {},
   "source": [
    "### SelectKBest"
   ]
  },
  {
   "cell_type": "code",
   "execution_count": 8,
   "metadata": {},
   "outputs": [],
   "source": [
    "# selector = SelectKBest(f_classif, k='all')\n",
    "# selector.fit(X_train_t, y_train)\n",
    "\n",
    "# #самый большой результат соответствует самому малому значению p-значения(вероятность ошибки)\n",
    "# #поэтому \"переворачиваем\", чтоб самые ценные признаки на графике были максимальными\n",
    "# scores = -np.log10(selector.pvalues_)\n",
    "\n",
    "# plt.bar(range(len(features)), scores)\n",
    "# plt.xticks(range(len(features)), features, rotation='vertical')\n",
    "# plt.show()"
   ]
  }
 ],
 "metadata": {
  "kernelspec": {
   "display_name": "Python 3 (ipykernel)",
   "language": "python",
   "name": "python3"
  },
  "language_info": {
   "codemirror_mode": {
    "name": "ipython",
    "version": 3
   },
   "file_extension": ".py",
   "mimetype": "text/x-python",
   "name": "python",
   "nbconvert_exporter": "python",
   "pygments_lexer": "ipython3",
   "version": "3.9.13"
  }
 },
 "nbformat": 4,
 "nbformat_minor": 4
}
